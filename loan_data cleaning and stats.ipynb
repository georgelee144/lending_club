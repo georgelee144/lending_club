{
 "cells": [
  {
   "cell_type": "code",
   "execution_count": 1,
   "metadata": {},
   "outputs": [],
   "source": [
    "import pandas as pd,numpy as np\n",
    "from scipy import stats\n",
    "import matplotlib.pyplot as plt"
   ]
  },
  {
   "cell_type": "code",
   "execution_count": 2,
   "metadata": {},
   "outputs": [],
   "source": [
    "def percentage(df,df1,item):\n",
    "    \"\"\"Prints out number of samples and percent of total\"\"\"\n",
    "    \"\"\"df is the base and df1 is specific df we are interested in and item is the column we are trying to look at\"\"\"\n",
    "\n",
    "    all_loans = df[item].value_counts().sort_index()\n",
    "    bad_loans = pd.DataFrame(df_bad[item].value_counts().sort_index() / all_loans * 100)\n",
    "    n_percent = pd.concat([all_loans,bad_loans],axis=1)\n",
    "    n_percent.columns = ['n_samples', 'percent']\n",
    "    n_percent.fillna(0,inplace=True)\n",
    "    print(n_percent)\n",
    "    \n",
    "def ecdf(data):\n",
    "    \"\"\"Compute ECDF for a one-dimensional array of measurements.\"\"\"\n",
    "    # Number of data points: n\n",
    "    n = len(data)\n",
    "\n",
    "    # x-data for the ECDF: x\n",
    "    x = np.sort(data)\n",
    "\n",
    "    # y-data for the ECDF: y\n",
    "    y = np.arange(1, n+1) / n\n",
    "\n",
    "    return x, y    "
   ]
  },
  {
   "cell_type": "code",
   "execution_count": 3,
   "metadata": {},
   "outputs": [
    {
     "name": "stderr",
     "output_type": "stream",
     "text": [
      "C:\\Users\\leero\\Anaconda3\\lib\\site-packages\\IPython\\core\\interactiveshell.py:2785: DtypeWarning: Columns (19,59,118,129,130,131,134,135,136,139,145,146,147) have mixed types. Specify dtype option on import or set low_memory=False.\n",
      "  interactivity=interactivity, compiler=compiler, result=result)\n"
     ]
    },
    {
     "name": "stdout",
     "output_type": "stream",
     "text": [
      "<class 'pandas.core.frame.DataFrame'>\n",
      "RangeIndex: 2507640 entries, 0 to 2507639\n",
      "Columns: 151 entries, id to settlement_term\n",
      "dtypes: float64(112), int64(1), object(38)\n",
      "memory usage: 2.8+ GB\n"
     ]
    }
   ],
   "source": [
    "df = pd.read_csv('loan_data_core.csv')\n",
    "df.info()"
   ]
  },
  {
   "cell_type": "code",
   "execution_count": 4,
   "metadata": {},
   "outputs": [
    {
     "name": "stdout",
     "output_type": "stream",
     "text": [
      "<class 'pandas.core.frame.DataFrame'>\n",
      "RangeIndex: 2507640 entries, 0 to 2507639\n",
      "Columns: 152 entries, id to length_of_cr\n",
      "dtypes: datetime64[ns](2), float64(113), int64(4), object(33)\n",
      "memory usage: 2.8+ GB\n"
     ]
    }
   ],
   "source": [
    "#conversions\n",
    "df.issue_d = pd.to_datetime(df.issue_d,format='%b-%y')\n",
    "df.earliest_cr_line = pd.to_datetime(df.earliest_cr_line,format='%b-%y')\n",
    "df['length_of_cr'] = df.issue_d - df.earliest_cr_line\n",
    "df.length_of_cr = df.length_of_cr.dt.days.astype(int)/365\n",
    "\n",
    "#cash = 1\n",
    "df.disbursement_method = df.disbursement_method.apply(lambda disbursement_method: 1 if disbursement_method =='Cash' else 0)\n",
    "\n",
    "#good loans = 1\n",
    "df.loan_status = df.loan_status.apply(lambda loan_status: 1 if loan_status != 'Charged Off' else 0)\n",
    "df.term = df.term.apply(lambda months: int(months[1:3]))\n",
    "\n",
    "df.info()"
   ]
  },
  {
   "cell_type": "code",
   "execution_count": 5,
   "metadata": {},
   "outputs": [],
   "source": [
    "#random things of interest\n",
    "\n",
    "df['difference_inv'] = (df.funded_amnt_inv - df.funded_amnt) / df.funded_amnt_inv\n",
    "df['difference_asked'] = (df.loan_amnt - df.funded_amnt) / df.loan_amnt"
   ]
  },
  {
   "cell_type": "code",
   "execution_count": 6,
   "metadata": {},
   "outputs": [
    {
     "name": "stdout",
     "output_type": "stream",
     "text": [
      "0.19864095324687756\n"
     ]
    },
    {
     "data": {
      "text/plain": [
       "(498120, 2009520)"
      ]
     },
     "execution_count": 6,
     "metadata": {},
     "output_type": "execute_result"
    }
   ],
   "source": [
    "df_bad = df.loc[df.loan_status==0]\n",
    "df_pass = df.loc[df.loan_status==1]\n",
    "\n",
    "print(len(df_bad)/len(df))\n",
    "\n",
    "len(df_bad),len(df_pass)"
   ]
  },
  {
   "cell_type": "code",
   "execution_count": 8,
   "metadata": {},
   "outputs": [],
   "source": [
    "df.int_rate = df.int_rate.apply(lambda interest: interest[0:len(interest)-1]).astype('float64')"
   ]
  },
  {
   "cell_type": "code",
   "execution_count": 10,
   "metadata": {},
   "outputs": [
    {
     "data": {
      "text/plain": [
       "0          10.65\n",
       "1          15.27\n",
       "2          15.96\n",
       "3          13.49\n",
       "4          12.69\n",
       "5           7.90\n",
       "6          15.96\n",
       "7          18.64\n",
       "8          21.28\n",
       "9          12.69\n",
       "10         14.65\n",
       "11         12.69\n",
       "12         13.49\n",
       "13          9.91\n",
       "14         10.65\n",
       "15         16.29\n",
       "16         15.27\n",
       "17          6.03\n",
       "18         11.71\n",
       "19          6.03\n",
       "20         15.27\n",
       "21         12.42\n",
       "22         11.71\n",
       "23         11.71\n",
       "24         11.71\n",
       "25          9.91\n",
       "26         14.27\n",
       "27         16.77\n",
       "28         11.71\n",
       "29         11.71\n",
       "           ...  \n",
       "2507610    25.34\n",
       "2507611    11.55\n",
       "2507612    27.27\n",
       "2507613    10.08\n",
       "2507614    12.73\n",
       "2507615    18.94\n",
       "2507616    20.89\n",
       "2507617    11.55\n",
       "2507618    27.27\n",
       "2507619    11.06\n",
       "2507620    24.37\n",
       "2507621    30.75\n",
       "2507622    16.14\n",
       "2507623     7.84\n",
       "2507624    10.08\n",
       "2507625    13.56\n",
       "2507626     7.21\n",
       "2507627    19.92\n",
       "2507628     6.67\n",
       "2507629    19.92\n",
       "2507630    22.35\n",
       "2507631    10.47\n",
       "2507632    17.97\n",
       "2507633    17.97\n",
       "2507634    24.37\n",
       "2507635    19.92\n",
       "2507636    11.06\n",
       "2507637    17.97\n",
       "2507638    13.56\n",
       "2507639     6.67\n",
       "Name: int_rate, Length: 2507640, dtype: float64"
      ]
     },
     "execution_count": 10,
     "metadata": {},
     "output_type": "execute_result"
    }
   ],
   "source": [
    "df.int_rate"
   ]
  },
  {
   "cell_type": "code",
   "execution_count": 61,
   "metadata": {},
   "outputs": [
    {
     "data": {
      "image/png": "[encoded data removed]",
      "text/plain": [
       "<Figure size 432x288 with 1 Axes>"
      ]
     },
     "metadata": {},
     "output_type": "display_data"
    },
    {
     "name": "stdout",
     "output_type": "stream",
     "text": [
      "count    2.507640e+06\n",
      "mean     4.698212e-04\n",
      "std      1.294433e-02\n",
      "min      0.000000e+00\n",
      "25%      0.000000e+00\n",
      "50%      0.000000e+00\n",
      "75%      0.000000e+00\n",
      "max      8.987500e-01\n",
      "Name: difference_asked, dtype: float64\n",
      "count    498120.000000\n",
      "mean          0.000419\n",
      "std           0.012315\n",
      "min           0.000000\n",
      "25%           0.000000\n",
      "50%           0.000000\n",
      "75%           0.000000\n",
      "max           0.845313\n",
      "Name: difference_asked, dtype: float64\n",
      "count    2.009520e+06\n",
      "mean     4.824310e-04\n",
      "std      1.309553e-02\n",
      "min      0.000000e+00\n",
      "25%      0.000000e+00\n",
      "50%      0.000000e+00\n",
      "75%      0.000000e+00\n",
      "max      8.987500e-01\n",
      "Name: difference_asked, dtype: float64\n"
     ]
    }
   ],
   "source": [
    "df_x,df_y = ecdf(df.difference_asked)\n",
    "df_bad_x,df_bad_y = ecdf(df.loc[df.loan_status==0].difference_asked)\n",
    "df_pass_x,df_pass_y = ecdf(df.loc[df.loan_status==1].difference_asked)\n",
    "\n",
    "plt.plot(df_x,df_y,marker='.',linestyle='none',color='black',label='all')\n",
    "plt.plot(df_bad_x,df_bad_y,marker='.',linestyle='none',color='red',label='Charged off')\n",
    "plt.plot(df_pass_x,df_pass_y,marker='.',linestyle='none',color='blue',label='Fully Paid')\n",
    "plt.axis([0, 1, 0, 1])\n",
    "plt.title('% Loan amount - funding')\n",
    "plt.legend(loc='best')\n",
    "plt.show()\n",
    "\n",
    "print(df.difference_asked.describe())\n",
    "print(df.loc[df.loan_status==0].difference_asked.describe())\n",
    "print(df.loc[df.loan_status==1].difference_asked.describe())"
   ]
  },
  {
   "cell_type": "code",
   "execution_count": 66,
   "metadata": {},
   "outputs": [
    {
     "data": {
      "image/png": "[encoded data removed]",
      "text/plain": [
       "<Figure size 432x288 with 1 Axes>"
      ]
     },
     "metadata": {},
     "output_type": "display_data"
    },
    {
     "name": "stdout",
     "output_type": "stream",
     "text": [
      "count    3842.000000\n",
      "mean        0.306648\n",
      "std         0.124407\n",
      "min         0.000909\n",
      "25%         0.242308\n",
      "50%         0.327083\n",
      "75%         0.371000\n",
      "max         0.898750\n",
      "Name: difference_asked, dtype: float64\n",
      "count    684.000000\n",
      "mean       0.305099\n",
      "std        0.132364\n",
      "min        0.005000\n",
      "25%        0.229130\n",
      "50%        0.316609\n",
      "75%        0.363000\n",
      "max        0.845313\n",
      "Name: difference_asked, dtype: float64\n",
      "count    3158.000000\n",
      "mean        0.306984\n",
      "std         0.122635\n",
      "min         0.000909\n",
      "25%         0.243397\n",
      "50%         0.329688\n",
      "75%         0.371503\n",
      "max         0.898750\n",
      "Name: difference_asked, dtype: float64\n"
     ]
    }
   ],
   "source": [
    "percent_diff = df.loc[(df.difference_asked > 0) | (df.difference_asked < 0)]\n",
    "\n",
    "df_x,df_y = ecdf(percent_diff.difference_asked)\n",
    "df_bad_x,df_bad_y = ecdf(percent_diff.loc[percent_diff.loan_status==0].difference_asked)\n",
    "df_pass_x,df_pass_y = ecdf(percent_diff.loc[percent_diff.loan_status==1].difference_asked)\n",
    "\n",
    "plt.plot(df_x,df_y,marker='.',linestyle='none',color='black',label='all')\n",
    "plt.plot(df_bad_x,df_bad_y,marker='.',linestyle='none',color='red',label='Charged off')\n",
    "plt.plot(df_pass_x,df_pass_y,marker='.',linestyle='none',color='blue',label='Fully Paid')\n",
    "plt.axis([0, 1, 0, 1])\n",
    "plt.title('% Loan amount - funding')\n",
    "plt.legend(loc='best')\n",
    "plt.show()\n",
    "\n",
    "print(percent_diff.difference_asked.describe())\n",
    "print(percent_diff.loc[percent_diff.loan_status==0].difference_asked.describe())\n",
    "print(percent_diff.loc[percent_diff.loan_status==1].difference_asked.describe())"
   ]
  },
  {
   "cell_type": "markdown",
   "metadata": {},
   "source": [
    "Everyone basically gets their loan funded but the ones that don't get at least 40% of their loans funded"
   ]
  },
  {
   "cell_type": "code",
   "execution_count": 14,
   "metadata": {},
   "outputs": [
    {
     "data": {
      "image/png": "[encoded data removed]",
      "text/plain": [
       "<Figure size 432x288 with 1 Axes>"
      ]
     },
     "metadata": {},
     "output_type": "display_data"
    },
    {
     "name": "stdout",
     "output_type": "stream",
     "text": [
      "count    2.197920e+05\n",
      "mean             -inf\n",
      "std               NaN\n",
      "min              -inf\n",
      "25%     -9.372747e-03\n",
      "50%     -3.764115e-03\n",
      "75%     -1.890359e-03\n",
      "max     -1.514523e-05\n",
      "Name: difference_inv, dtype: float64\n",
      "count    4.602200e+04\n",
      "mean             -inf\n",
      "std               NaN\n",
      "min              -inf\n",
      "25%     -8.403361e-03\n",
      "50%     -3.344482e-03\n",
      "75%     -1.669449e-03\n",
      "max     -2.471847e-05\n",
      "Name: difference_inv, dtype: float64\n",
      "count    1.737700e+05\n",
      "mean             -inf\n",
      "std               NaN\n",
      "min              -inf\n",
      "25%     -1.010101e-02\n",
      "50%     -3.921569e-03\n",
      "75%     -2.004008e-03\n",
      "max     -1.514523e-05\n",
      "Name: difference_inv, dtype: float64\n"
     ]
    }
   ],
   "source": [
    "percent_diff = df.loc[(df.difference_inv > 0) | (df.difference_inv < 0)]\n",
    "\n",
    "df_x,df_y = ecdf(percent_diff.difference_inv)\n",
    "df_bad_x,df_bad_y = ecdf(percent_diff.loc[percent_diff.loan_status==0].difference_inv)\n",
    "df_pass_x,df_pass_y = ecdf(percent_diff.loc[percent_diff.loan_status==1].difference_inv)\n",
    "\n",
    "plt.plot(df_x,df_y,marker='.',linestyle='none',color='black',label='all')\n",
    "plt.plot(df_bad_x,df_bad_y,marker='.',linestyle='none',color='red',label='Charged off')\n",
    "plt.plot(df_pass_x,df_pass_y,marker='.',linestyle='none',color='blue',label='Fully Paid')\n",
    "plt.axis([-.5, 0, 0, 1])\n",
    "plt.title('% Loan amount - funding')\n",
    "plt.legend(loc='best')\n",
    "plt.show()\n",
    "\n",
    "print(percent_diff.difference_inv.describe())\n",
    "print(percent_diff.loc[percent_diff.loan_status==0].difference_inv.describe())\n",
    "print(percent_diff.loc[percent_diff.loan_status==1].difference_inv.describe())\n"
   ]
  },
  {
   "cell_type": "markdown",
   "metadata": {},
   "source": [
    "There is little difference between the loan amount, the funded, and the proportion funded by investors."
   ]
  },
  {
   "cell_type": "code",
   "execution_count": 15,
   "metadata": {
    "scrolled": false
   },
   "outputs": [
    {
     "name": "stdout",
     "output_type": "stream",
     "text": [
      "id\n",
      "member_id\n",
      "loan_amnt\n",
      "funded_amnt\n",
      "funded_amnt_inv\n",
      "term\n",
      "int_rate\n",
      "installment\n",
      "grade\n",
      "sub_grade\n",
      "emp_title\n",
      "emp_length\n",
      "home_ownership\n",
      "annual_inc\n",
      "verification_status\n",
      "issue_d\n",
      "loan_status\n",
      "pymnt_plan\n",
      "url\n",
      "desc\n",
      "purpose\n",
      "title\n",
      "zip_code\n",
      "addr_state\n",
      "dti\n",
      "delinq_2yrs\n",
      "earliest_cr_line\n",
      "fico_range_low\n",
      "fico_range_high\n",
      "inq_last_6mths\n",
      "mths_since_last_delinq\n",
      "mths_since_last_record\n",
      "open_acc\n",
      "pub_rec\n",
      "revol_bal\n",
      "revol_util\n",
      "total_acc\n",
      "initial_list_status\n",
      "out_prncp\n",
      "out_prncp_inv\n",
      "total_pymnt\n",
      "total_pymnt_inv\n",
      "total_rec_prncp\n",
      "total_rec_int\n",
      "total_rec_late_fee\n",
      "recoveries\n",
      "collection_recovery_fee\n",
      "last_pymnt_d\n",
      "last_pymnt_amnt\n",
      "next_pymnt_d\n",
      "last_credit_pull_d\n",
      "last_fico_range_high\n",
      "last_fico_range_low\n",
      "collections_12_mths_ex_med\n",
      "mths_since_last_major_derog\n",
      "policy_code\n",
      "application_type\n",
      "annual_inc_joint\n",
      "dti_joint\n",
      "verification_status_joint\n",
      "acc_now_delinq\n",
      "tot_coll_amt\n",
      "tot_cur_bal\n",
      "open_acc_6m\n",
      "open_act_il\n",
      "open_il_12m\n",
      "open_il_24m\n",
      "mths_since_rcnt_il\n",
      "total_bal_il\n",
      "il_util\n",
      "open_rv_12m\n",
      "open_rv_24m\n",
      "max_bal_bc\n",
      "all_util\n",
      "total_rev_hi_lim\n",
      "inq_fi\n",
      "total_cu_tl\n",
      "inq_last_12m\n",
      "acc_open_past_24mths\n",
      "avg_cur_bal\n",
      "bc_open_to_buy\n",
      "bc_util\n",
      "chargeoff_within_12_mths\n",
      "delinq_amnt\n",
      "mo_sin_old_il_acct\n",
      "mo_sin_old_rev_tl_op\n",
      "mo_sin_rcnt_rev_tl_op\n",
      "mo_sin_rcnt_tl\n",
      "mort_acc\n",
      "mths_since_recent_bc\n",
      "mths_since_recent_bc_dlq\n",
      "mths_since_recent_inq\n",
      "mths_since_recent_revol_delinq\n",
      "num_accts_ever_120_pd\n",
      "num_actv_bc_tl\n",
      "num_actv_rev_tl\n",
      "num_bc_sats\n",
      "num_bc_tl\n",
      "num_il_tl\n",
      "num_op_rev_tl\n",
      "num_rev_accts\n",
      "num_rev_tl_bal_gt_0\n",
      "num_sats\n",
      "num_tl_120dpd_2m\n",
      "num_tl_30dpd\n",
      "num_tl_90g_dpd_24m\n",
      "num_tl_op_past_12m\n",
      "pct_tl_nvr_dlq\n",
      "percent_bc_gt_75\n",
      "pub_rec_bankruptcies\n",
      "tax_liens\n",
      "tot_hi_cred_lim\n",
      "total_bal_ex_mort\n",
      "total_bc_limit\n",
      "total_il_high_credit_limit\n",
      "revol_bal_joint\n",
      "sec_app_fico_range_low\n",
      "sec_app_fico_range_high\n",
      "sec_app_earliest_cr_line\n",
      "sec_app_inq_last_6mths\n",
      "sec_app_mort_acc\n",
      "sec_app_open_acc\n",
      "sec_app_revol_util\n",
      "sec_app_open_act_il\n",
      "sec_app_num_rev_accts\n",
      "sec_app_chargeoff_within_12_mths\n",
      "sec_app_collections_12_mths_ex_med\n",
      "sec_app_mths_since_last_major_derog\n",
      "hardship_flag\n",
      "hardship_type\n",
      "hardship_reason\n",
      "hardship_status\n",
      "deferral_term\n",
      "hardship_amount\n",
      "hardship_start_date\n",
      "hardship_end_date\n",
      "payment_plan_start_date\n",
      "hardship_length\n",
      "hardship_dpd\n",
      "hardship_loan_status\n",
      "orig_projected_additional_accrued_interest\n",
      "hardship_payoff_balance_amount\n",
      "hardship_last_payment_amount\n",
      "disbursement_method\n",
      "debt_settlement_flag\n",
      "debt_settlement_flag_date\n",
      "settlement_status\n",
      "settlement_date\n",
      "settlement_amount\n",
      "settlement_percentage\n",
      "settlement_term\n",
      "length_of_cr\n",
      "difference_inv\n",
      "difference_asked\n"
     ]
    }
   ],
   "source": [
    "for thing in df.columns:\n",
    "    print(thing)"
   ]
  },
  {
   "cell_type": "code",
   "execution_count": 16,
   "metadata": {},
   "outputs": [
    {
     "name": "stdout",
     "output_type": "stream",
     "text": [
      "   n_samples    percent\n",
      "A     434114   5.989210\n",
      "B     731908  13.260137\n",
      "C     711534  22.216507\n",
      "D     374050  30.109344\n",
      "E     177466  38.392706\n",
      "F      61314  45.046808\n",
      "G      17254  49.913064\n"
     ]
    }
   ],
   "source": [
    "percentage(df,df_pass,'grade')"
   ]
  },
  {
   "cell_type": "code",
   "execution_count": 17,
   "metadata": {},
   "outputs": [
    {
     "name": "stdout",
     "output_type": "stream",
     "text": [
      "   n_samples    percent\n",
      "A     434114   5.989210\n",
      "B     731908  13.260137\n",
      "C     711534  22.216507\n",
      "D     374050  30.109344\n",
      "E     177466  38.392706\n",
      "F      61314  45.046808\n",
      "G      17254  49.913064\n"
     ]
    }
   ],
   "source": [
    "percentage(df,df_bad,'grade')"
   ]
  },
  {
   "cell_type": "code",
   "execution_count": 18,
   "metadata": {},
   "outputs": [
    {
     "name": "stdout",
     "output_type": "stream",
     "text": [
      "   n_samples    percent\n",
      "0       9424  21.901528\n",
      "1    2498216  19.856410\n",
      "0.19864095324687756\n"
     ]
    },
    {
     "data": {
      "text/plain": [
       "Ttest_1sampResult(statistic=-4.782108099623668, pvalue=1.760958547972953e-06)"
      ]
     },
     "execution_count": 18,
     "metadata": {},
     "output_type": "execute_result"
    }
   ],
   "source": [
    "percentage(df,df_bad,'disbursement_method')\n",
    "\n",
    "print(len(df_bad)/len(df))\n",
    "\n",
    "q = df.loc[df.disbursement_method == 0]['loan_status']\n",
    "\n",
    "stats.ttest_1samp(q,len(df_pass)/len(df))"
   ]
  },
  {
   "cell_type": "code",
   "execution_count": 19,
   "metadata": {},
   "outputs": [
    {
     "name": "stdout",
     "output_type": "stream",
     "text": [
      "      n_samples     percent\n",
      "0.0     2195318   19.491481\n",
      "1.0      291904   22.368998\n",
      "2.0       14856   24.771136\n",
      "3.0        3012   22.841965\n",
      "4.0         744   27.688172\n",
      "5.0         266   24.060150\n",
      "6.0          90   33.333333\n",
      "7.0          30   26.666667\n",
      "8.0          18   44.444444\n",
      "9.0           4   50.000000\n",
      "11.0          2  100.000000\n",
      "12.0          2    0.000000\n"
     ]
    }
   ],
   "source": [
    "percentage(df,df_bad,'pub_rec_bankruptcies')"
   ]
  },
  {
   "cell_type": "code",
   "execution_count": 20,
   "metadata": {},
   "outputs": [
    {
     "name": "stdout",
     "output_type": "stream",
     "text": [
      "    n_samples    percent\n",
      "36    1904562  15.911480\n",
      "60     603078  32.346728\n"
     ]
    }
   ],
   "source": [
    "percentage(df,df_bad,'term')"
   ]
  },
  {
   "cell_type": "code",
   "execution_count": 21,
   "metadata": {},
   "outputs": [
    {
     "data": {
      "text/plain": [
       "0.0     2195318\n",
       "1.0      291904\n",
       "2.0       14856\n",
       "3.0        3012\n",
       "4.0         744\n",
       "5.0         266\n",
       "6.0          90\n",
       "7.0          30\n",
       "8.0          18\n",
       "9.0           4\n",
       "11.0          2\n",
       "12.0          2\n",
       "Name: pub_rec_bankruptcies, dtype: int64"
      ]
     },
     "execution_count": 21,
     "metadata": {},
     "output_type": "execute_result"
    }
   ],
   "source": [
    "df.pub_rec_bankruptcies.value_counts().sort_index()"
   ]
  },
  {
   "cell_type": "code",
   "execution_count": 22,
   "metadata": {},
   "outputs": [
    {
     "name": "stdout",
     "output_type": "stream",
     "text": [
      "0.8013590467531224\n",
      "0 0.7749189522976381 Ttest_1sampResult(statistic=-35.3016183361352, pvalue=1.9306831281258704e-272)\n",
      "1 0.7535744322960471 Ttest_1sampResult(statistic=-15.294019158451372, pvalue=1.720678204181511e-52)\n",
      "2 0.7581573896353166 Ttest_1sampResult(statistic=-6.512774762957765, pvalue=8.25370462174509e-11)\n",
      "3 0.7231833910034602 Ttest_1sampResult(statistic=-5.938027864030991, pvalue=3.811556938081145e-09)\n",
      "4 0.7233009708737864 Ttest_1sampResult(statistic=-3.5373286455001787, pvalue=0.00045028370651973285)\n",
      "5 0.6575342465753424 Ttest_1sampResult(statistic=-3.6496399135071913, pvalue=0.0003657339433507724)\n",
      "6 0.6428571428571429 Ttest_1sampResult(statistic=-2.453226270973029, pvalue=0.01735593601309045)\n",
      "7 0.5384615384615384 Ttest_1sampResult(statistic=-2.6367878046950852, pvalue=0.01418037686703649)\n",
      "8 0.5 Ttest_1sampResult(statistic=-1.5946421860964979, pvalue=0.15482181803309875)\n",
      "9 0.5 Ttest_1sampResult(statistic=-1.0439383605938655, pvalue=0.3732299812766604)\n",
      "10 0.5 Ttest_1sampResult(statistic=-1.0439383605938655, pvalue=0.3732299812766604)\n",
      "11 1.0 Ttest_1sampResult(statistic=inf, pvalue=0.0)\n",
      "12 nan Ttest_1sampResult(statistic=nan, pvalue=nan)\n"
     ]
    },
    {
     "name": "stderr",
     "output_type": "stream",
     "text": [
      "C:\\Users\\leero\\Anaconda3\\lib\\site-packages\\numpy\\core\\fromnumeric.py:2957: RuntimeWarning: Mean of empty slice.\n",
      "  out=out, **kwargs)\n",
      "C:\\Users\\leero\\Anaconda3\\lib\\site-packages\\numpy\\core\\_methods.py:80: RuntimeWarning: invalid value encountered in double_scalars\n",
      "  ret = ret.dtype.type(ret / rcount)\n",
      "C:\\Users\\leero\\Anaconda3\\lib\\site-packages\\numpy\\core\\fromnumeric.py:3194: RuntimeWarning: Degrees of freedom <= 0 for slice\n",
      "  **kwargs)\n",
      "C:\\Users\\leero\\Anaconda3\\lib\\site-packages\\numpy\\core\\_methods.py:105: RuntimeWarning: invalid value encountered in true_divide\n",
      "  arrmean, rcount, out=arrmean, casting='unsafe', subok=False)\n",
      "C:\\Users\\leero\\Anaconda3\\lib\\site-packages\\numpy\\core\\_methods.py:127: RuntimeWarning: invalid value encountered in double_scalars\n",
      "  ret = ret.dtype.type(ret / rcount)\n",
      "C:\\Users\\leero\\Anaconda3\\lib\\site-packages\\scipy\\stats\\_distn_infrastructure.py:879: RuntimeWarning: invalid value encountered in greater\n",
      "  return (self.a < x) & (x < self.b)\n",
      "C:\\Users\\leero\\Anaconda3\\lib\\site-packages\\scipy\\stats\\_distn_infrastructure.py:879: RuntimeWarning: invalid value encountered in less\n",
      "  return (self.a < x) & (x < self.b)\n",
      "C:\\Users\\leero\\Anaconda3\\lib\\site-packages\\scipy\\stats\\_distn_infrastructure.py:1821: RuntimeWarning: invalid value encountered in less_equal\n",
      "  cond2 = cond0 & (x <= self.a)\n"
     ]
    }
   ],
   "source": [
    "print(len(df_pass)/len(df))\n",
    "\n",
    "for n in range(13):\n",
    "    q = df.loc[df.pub_rec_bankruptcies > n]['loan_status']\n",
    "    print(n,np.mean(q),stats.ttest_1samp(q,len(df_pass)/len(df)))"
   ]
  },
  {
   "cell_type": "code",
   "execution_count": 23,
   "metadata": {
    "scrolled": true
   },
   "outputs": [
    {
     "name": "stdout",
     "output_type": "stream",
     "text": [
      "                 n_samples    percent\n",
      "Not Verified        749220  14.468647\n",
      "Source Verified     969034  20.935282\n",
      "Verified            789386  23.670042\n"
     ]
    }
   ],
   "source": [
    "percentage(df,df_bad,'verification_status')"
   ]
  },
  {
   "cell_type": "markdown",
   "metadata": {},
   "source": [
    "Somehow it is safer to loan to people whose income wasn't verified."
   ]
  },
  {
   "cell_type": "code",
   "execution_count": 52,
   "metadata": {},
   "outputs": [
    {
     "name": "stdout",
     "output_type": "stream",
     "text": [
      "   n_samples    percent\n",
      "A     235730  11.029568\n",
      "B     473476  20.497765\n",
      "C     526972  29.997419\n",
      "D     295522  38.110191\n",
      "E     154562  44.081987\n",
      "F      55898  49.411428\n",
      "G      16260  52.964330\n"
     ]
    }
   ],
   "source": [
    "percentage(df.loc[df.verification_status!='Not Verified'],df_bad.loc[df_bad.verification_status!='Not Verified'],'grade')"
   ]
  },
  {
   "cell_type": "code",
   "execution_count": 53,
   "metadata": {},
   "outputs": [
    {
     "name": "stdout",
     "output_type": "stream",
     "text": [
      "   n_samples     percent\n",
      "A     198384   13.105896\n",
      "B     258432   37.554173\n",
      "C     184562   85.650351\n",
      "D      78528  143.418908\n",
      "E      22904  297.476423\n",
      "F       5416  509.970458\n",
      "G        994  866.398390\n"
     ]
    }
   ],
   "source": [
    "percentage(df.loc[df.verification_status=='Not Verified'],df_bad.loc[df_bad.verification_status=='Not Verified'],'grade')"
   ]
  },
  {
   "cell_type": "code",
   "execution_count": 25,
   "metadata": {},
   "outputs": [
    {
     "name": "stdout",
     "output_type": "stream",
     "text": [
      "          n_samples    percent\n",
      "ANY             518  19.305019\n",
      "MORTGAGE    1242936  17.133947\n",
      "NONE             96  14.583333\n",
      "OTHER           288  18.750000\n",
      "OWN          266898  20.517201\n",
      "RENT         996904  23.094300\n"
     ]
    }
   ],
   "source": [
    "percentage(df,df_bad,'home_ownership')"
   ]
  },
  {
   "cell_type": "code",
   "execution_count": null,
   "metadata": {},
   "outputs": [],
   "source": []
  },
  {
   "cell_type": "code",
   "execution_count": 27,
   "metadata": {},
   "outputs": [
    {
     "name": "stdout",
     "output_type": "stream",
     "text": [
      "   n_samples    percent\n",
      "A     434114   5.989210\n",
      "B     731908  13.260137\n",
      "C     711534  22.216507\n",
      "D     374050  30.109344\n",
      "E     177466  38.392706\n",
      "F      61314  45.046808\n",
      "G      17254  49.913064\n"
     ]
    }
   ],
   "source": [
    "percentage(df,df_bad,'grade')"
   ]
  },
  {
   "cell_type": "code",
   "execution_count": 28,
   "metadata": {
    "scrolled": false
   },
   "outputs": [
    {
     "name": "stdout",
     "output_type": "stream",
     "text": [
      "    n_samples    percent\n",
      "A1      79660   3.218679\n",
      "A2      68442   4.631659\n",
      "A3      69396   5.481584\n",
      "A4      97030   6.742245\n",
      "A5     119586   8.295285\n",
      "B1     131774  10.266062\n",
      "B2     137888  11.251160\n",
      "B3     153242  12.862009\n",
      "B4     156188  14.705355\n",
      "B5     152816  16.576798\n",
      "C1     159434  18.791475\n",
      "C2     148146  20.579698\n",
      "C3     140024  22.303319\n",
      "C4     138548  24.688916\n",
      "C5     125382  25.676732\n",
      "D1      96310  27.646143\n",
      "D2      83326  29.268176\n",
      "D3      72988  30.172083\n",
      "D4      66020  32.247804\n",
      "D5      55406  33.025304\n",
      "E1      45432  36.084698\n",
      "E2      40602  37.549874\n",
      "E3      34722  38.672888\n",
      "E4      29760  40.080645\n",
      "E5      26950  41.328386\n",
      "F1      18972  42.040902\n",
      "F2      13834  45.294203\n",
      "F3      11694  44.894818\n",
      "F4       9324  47.683398\n",
      "F5       7490  49.158879\n",
      "G1       5526  48.172277\n",
      "G2       4114  49.052018\n",
      "G3       3102  51.321728\n",
      "G4       2410  50.705394\n",
      "G5       2102  53.187441\n"
     ]
    }
   ],
   "source": [
    "percentage(df,df_bad,'sub_grade')"
   ]
  },
  {
   "cell_type": "code",
   "execution_count": 30,
   "metadata": {},
   "outputs": [
    {
     "name": "stdout",
     "output_type": "stream",
     "text": [
      "                 n_samples    percent\n",
      "Not Verified         22572  21.664009\n",
      "Source Verified       7894  23.030149\n",
      "Verified              5834  25.917038\n"
     ]
    }
   ],
   "source": [
    "percentage(df,df_bad,'verification_status_joint')"
   ]
  },
  {
   "cell_type": "code",
   "execution_count": 31,
   "metadata": {},
   "outputs": [
    {
     "data": {
      "image/png": "[encoded data removed]",
      "text/plain": [
       "<Figure size 432x288 with 1 Axes>"
      ]
     },
     "metadata": {},
     "output_type": "display_data"
    },
    {
     "name": "stdout",
     "output_type": "stream",
     "text": [
      "count    2.507640e+06\n",
      "mean     1.602440e+01\n",
      "std      7.998902e+00\n",
      "min     -6.004110e+01\n",
      "25%      1.117534e+01\n",
      "50%      1.475616e+01\n",
      "75%      1.993151e+01\n",
      "max      4.970137e+01\n",
      "Name: length_of_cr, dtype: float64\n",
      "count    498120.000000\n",
      "mean         15.445255\n",
      "std           8.078662\n",
      "min         -58.709589\n",
      "25%          10.838356\n",
      "50%          14.178082\n",
      "75%          19.183562\n",
      "max          49.117808\n",
      "Name: length_of_cr, dtype: float64\n",
      "count    2.009520e+06\n",
      "mean     1.616796e+01\n",
      "std      7.972506e+00\n",
      "min     -6.004110e+01\n",
      "25%      1.126027e+01\n",
      "50%      1.484384e+01\n",
      "75%      2.009863e+01\n",
      "max      4.970137e+01\n",
      "Name: length_of_cr, dtype: float64\n"
     ]
    }
   ],
   "source": [
    "df_x,df_y = ecdf(df.length_of_cr)\n",
    "df_bad_x,df_bad_y = ecdf(df_bad.length_of_cr)\n",
    "df_pass_x,df_pass_y = ecdf(df_pass.length_of_cr)\n",
    "\n",
    "plt.plot(df_x,df_y,marker='.',linestyle='none',color='black',label='all')\n",
    "plt.plot(df_bad_x,df_bad_y,marker='.',linestyle='none',color='red',label='Charged off')\n",
    "plt.plot(df_pass_x,df_pass_y,marker='.',linestyle='none',color='blue',label='Fully Paid')\n",
    "plt.axis([0, 50, 0, 1])\n",
    "plt.title('Length of credit')\n",
    "plt.legend(loc='best')\n",
    "plt.show()\n",
    "\n",
    "print(df.length_of_cr.describe())\n",
    "print(df_bad.length_of_cr.describe())\n",
    "print(df_pass.length_of_cr.describe())\n"
   ]
  },
  {
   "cell_type": "code",
   "execution_count": 32,
   "metadata": {},
   "outputs": [
    {
     "name": "stdout",
     "output_type": "stream",
     "text": [
      "           n_samples    percent\n",
      "1 year        164812  20.469383\n",
      "10+ years     824588  18.725230\n",
      "2 years       226758  19.733813\n",
      "3 years       200576  19.910657\n",
      "4 years       150192  19.701449\n",
      "5 years       157126  19.511729\n",
      "6 years       117608  19.248691\n",
      "7 years       112658  19.442916\n",
      "8 years       115110  19.881852\n",
      "9 years        95802  19.876412\n",
      "< 1 year      199366  20.336467\n"
     ]
    }
   ],
   "source": [
    "percentage(df,df_pass,'emp_length')"
   ]
  },
  {
   "cell_type": "code",
   "execution_count": 33,
   "metadata": {},
   "outputs": [
    {
     "data": {
      "image/png": "[encoded data removed]",
      "text/plain": [
       "<Figure size 432x288 with 1 Axes>"
      ]
     },
     "metadata": {},
     "output_type": "display_data"
    },
    {
     "name": "stdout",
     "output_type": "stream",
     "text": [
      "count    2.507640e+06\n",
      "mean     7.609940e+04\n",
      "std      6.969604e+04\n",
      "min      0.000000e+00\n",
      "25%      4.594575e+04\n",
      "50%      6.500000e+04\n",
      "75%      9.000000e+04\n",
      "max      1.099920e+07\n",
      "Name: annual_inc, dtype: float64\n",
      "count    4.981200e+05\n",
      "mean     7.024296e+04\n",
      "std      6.568454e+04\n",
      "min      0.000000e+00\n",
      "25%      4.300000e+04\n",
      "50%      6.000000e+04\n",
      "75%      8.500000e+04\n",
      "max      9.500000e+06\n",
      "Name: annual_inc, dtype: float64\n",
      "count    2.009520e+06\n",
      "mean     7.755109e+04\n",
      "std      7.058010e+04\n",
      "min      0.000000e+00\n",
      "25%      4.700000e+04\n",
      "50%      6.500000e+04\n",
      "75%      9.270000e+04\n",
      "max      1.099920e+07\n",
      "Name: annual_inc, dtype: float64\n"
     ]
    }
   ],
   "source": [
    "df_x,df_y = ecdf(df.annual_inc)\n",
    "df_bad_x,df_bad_y = ecdf(df_bad.annual_inc)\n",
    "df_pass_x,df_pass_y = ecdf(df_pass.annual_inc)\n",
    "\n",
    "plt.plot(df_x,df_y,marker='.',linestyle='none',color='black',label='all')\n",
    "plt.plot(df_bad_x,df_bad_y,marker='.',linestyle='none',color='red',label='Charged off')\n",
    "plt.plot(df_pass_x,df_pass_y,marker='.',linestyle='none',color='blue',label='Fully Paid')\n",
    "plt.axis([0, 250000, 0, 1])\n",
    "plt.title('Annual Income')\n",
    "plt.legend(loc='best')\n",
    "plt.show()\n",
    "\n",
    "print(df.annual_inc.describe())\n",
    "print(df_bad.annual_inc.describe())\n",
    "print(df_pass.annual_inc.describe())"
   ]
  },
  {
   "cell_type": "code",
   "execution_count": 34,
   "metadata": {},
   "outputs": [
    {
     "data": {
      "image/png": "[encoded data removed]",
      "text/plain": [
       "<Figure size 432x288 with 1 Axes>"
      ]
     },
     "metadata": {},
     "output_type": "display_data"
    },
    {
     "name": "stdout",
     "output_type": "stream",
     "text": [
      "count    2.507172e+06\n",
      "mean     1.822313e+01\n",
      "std      1.051788e+01\n",
      "min     -1.000000e+00\n",
      "25%      1.181000e+01\n",
      "50%      1.761000e+01\n",
      "75%      2.401000e+01\n",
      "max      9.990000e+02\n",
      "Name: dti, dtype: float64\n",
      "count    498034.000000\n",
      "mean         20.132151\n",
      "std          10.537612\n",
      "min           0.000000\n",
      "25%          13.630000\n",
      "50%          19.800000\n",
      "75%          26.310000\n",
      "max         999.000000\n",
      "Name: dti, dtype: float64\n",
      "count    2.009138e+06\n",
      "mean     1.774991e+01\n",
      "std      1.045924e+01\n",
      "min     -1.000000e+00\n",
      "25%      1.143000e+01\n",
      "50%      1.709000e+01\n",
      "75%      2.339000e+01\n",
      "max      9.990000e+02\n",
      "Name: dti, dtype: float64\n"
     ]
    }
   ],
   "source": [
    "df_x,df_y = ecdf(df.dti)\n",
    "df_bad_x,df_bad_y = ecdf(df_bad.dti)\n",
    "df_pass_x,df_pass_y = ecdf(df_pass.dti)\n",
    "\n",
    "plt.plot(df_x,df_y,marker='.',linestyle='none',color='black',label='all')\n",
    "plt.plot(df_bad_x,df_bad_y,marker='.',linestyle='none',color='red',label='Charged off')\n",
    "plt.plot(df_pass_x,df_pass_y,marker='.',linestyle='none',color='blue',label='Fully Paid')\n",
    "plt.axis([0, 40, 0, 1])\n",
    "plt.title('Debt to Income')\n",
    "plt.legend(loc='best')\n",
    "plt.show()\n",
    "\n",
    "print(df.dti.describe())\n",
    "print(df_bad.dti.describe())\n",
    "print(df_pass.dti.describe())"
   ]
  },
  {
   "cell_type": "code",
   "execution_count": 35,
   "metadata": {},
   "outputs": [
    {
     "data": {
      "image/png": "[encoded data removed]",
      "text/plain": [
       "<Figure size 432x288 with 1 Axes>"
      ]
     },
     "metadata": {},
     "output_type": "display_data"
    },
    {
     "name": "stdout",
     "output_type": "stream",
     "text": [
      "count    36552.000000\n",
      "mean        18.686105\n",
      "std          7.573205\n",
      "min          0.000000\n",
      "25%         13.217500\n",
      "50%         18.265000\n",
      "75%         23.832500\n",
      "max         69.490000\n",
      "Name: dti_joint, dtype: float64\n",
      "count    8248.000000\n",
      "mean       20.652650\n",
      "std         7.692684\n",
      "min         0.770000\n",
      "25%        15.340000\n",
      "50%        20.600000\n",
      "75%        25.830000\n",
      "max        69.490000\n",
      "Name: dti_joint, dtype: float64\n",
      "count    28304.000000\n",
      "mean        18.113038\n",
      "std          7.441006\n",
      "min          0.000000\n",
      "25%         12.770000\n",
      "50%         17.590000\n",
      "75%         23.070000\n",
      "max         61.900000\n",
      "Name: dti_joint, dtype: float64\n"
     ]
    }
   ],
   "source": [
    "df_x,df_y = ecdf(df.dti_joint.dropna())\n",
    "df_bad_x,df_bad_y = ecdf(df_bad.dti_joint.dropna())\n",
    "df_pass_x,df_pass_y = ecdf(df_pass.dti_joint.dropna())\n",
    "\n",
    "plt.plot(df_x,df_y,marker='.',linestyle='none',color='black',label='all')\n",
    "plt.plot(df_bad_x,df_bad_y,marker='.',linestyle='none',color='red',label='Charged off')\n",
    "plt.plot(df_pass_x,df_pass_y,marker='.',linestyle='none',color='blue',label='Fully Paid')\n",
    "plt.axis([0, 40, 0, 1])\n",
    "plt.title('Debt to Income for Joint')\n",
    "plt.legend(loc='best')\n",
    "plt.show()\n",
    "\n",
    "print(df.dti_joint.describe())\n",
    "print(df_bad.dti_joint.describe())\n",
    "print(df_pass.dti_joint.describe())"
   ]
  },
  {
   "cell_type": "code",
   "execution_count": 36,
   "metadata": {},
   "outputs": [
    {
     "data": {
      "image/png": "[encoded data removed]",
      "text/plain": [
       "<Figure size 432x288 with 1 Axes>"
      ]
     },
     "metadata": {},
     "output_type": "display_data"
    },
    {
     "name": "stdout",
     "output_type": "stream",
     "text": [
      "count    2.507640e+06\n",
      "mean     1.441101e+04\n",
      "std      8.663254e+03\n",
      "min      5.000000e+02\n",
      "25%      8.000000e+03\n",
      "50%      1.200000e+04\n",
      "75%      2.000000e+04\n",
      "max      4.000000e+04\n",
      "Name: loan_amnt, dtype: float64\n",
      "count    498120.000000\n",
      "mean      15507.632097\n",
      "std        8743.623101\n",
      "min         900.000000\n",
      "25%        9000.000000\n",
      "50%       14250.000000\n",
      "75%       20200.000000\n",
      "max       40000.000000\n",
      "Name: loan_amnt, dtype: float64\n",
      "count    2.009520e+06\n",
      "mean     1.413918e+04\n",
      "std      8.621673e+03\n",
      "min      5.000000e+02\n",
      "25%      7.500000e+03\n",
      "50%      1.200000e+04\n",
      "75%      2.000000e+04\n",
      "max      4.000000e+04\n",
      "Name: loan_amnt, dtype: float64\n"
     ]
    }
   ],
   "source": [
    "df_x,df_y = ecdf(df.loan_amnt)\n",
    "df_bad_x,df_bad_y = ecdf(df_bad.loan_amnt)\n",
    "df_pass_x,df_pass_y = ecdf(df_pass.loan_amnt)\n",
    "\n",
    "plt.plot(df_x,df_y,marker='.',linestyle='none',color='black',label='all')\n",
    "plt.plot(df_bad_x,df_bad_y,marker='.',linestyle='none',color='red',label='Charged off')\n",
    "plt.plot(df_pass_x,df_pass_y,marker='.',linestyle='none',color='blue',label='Fully Paid')\n",
    "plt.axis([0, 40000, 0, 1])\n",
    "plt.title('Loan Amount')\n",
    "plt.legend(loc='best')\n",
    "plt.show()\n",
    "\n",
    "print(df.loan_amnt.describe())\n",
    "print(df_bad.loan_amnt.describe())\n",
    "print(df_pass.loan_amnt.describe())"
   ]
  },
  {
   "cell_type": "code",
   "execution_count": 55,
   "metadata": {},
   "outputs": [
    {
     "data": {
      "image/png": "[encoded data removed]",
      "text/plain": [
       "<Figure size 432x288 with 1 Axes>"
      ]
     },
     "metadata": {},
     "output_type": "display_data"
    },
    {
     "name": "stdout",
     "output_type": "stream",
     "text": [
      "count    426228.000000\n",
      "mean         70.417044\n",
      "std          26.664615\n",
      "min           0.000000\n",
      "25%          53.000000\n",
      "50%          71.000000\n",
      "75%          90.000000\n",
      "max         129.000000\n",
      "Name: mths_since_last_record, dtype: float64\n",
      "count    96542.000000\n",
      "mean        70.763875\n",
      "std         26.407839\n",
      "min          0.000000\n",
      "25%         53.000000\n",
      "50%         72.000000\n",
      "75%         90.000000\n",
      "max        129.000000\n",
      "Name: mths_since_last_record, dtype: float64\n",
      "count    329686.000000\n",
      "mean         70.315482\n",
      "std          26.738528\n",
      "min           0.000000\n",
      "25%          52.000000\n",
      "50%          71.000000\n",
      "75%          90.000000\n",
      "max         123.000000\n",
      "Name: mths_since_last_record, dtype: float64\n"
     ]
    }
   ],
   "source": [
    "df_x,df_y = ecdf(df.mths_since_last_record.dropna())\n",
    "df_bad_x,df_bad_y = ecdf(df_bad.mths_since_last_record.dropna())\n",
    "df_pass_x,df_pass_y = ecdf(df_pass.mths_since_last_record.dropna())\n",
    "\n",
    "plt.plot(df_x,df_y,marker='.',linestyle='none',color='black',label='all')\n",
    "plt.plot(df_bad_x,df_bad_y,marker='.',linestyle='none',color='red',label='Charged off')\n",
    "plt.plot(df_pass_x,df_pass_y,marker='.',linestyle='none',color='blue',label='Fully Paid')\n",
    "plt.axis([0, 120, 0, 1])\n",
    "plt.title('mths_since_last_delinqt')\n",
    "plt.legend(loc='best')\n",
    "plt.show()\n",
    "\n",
    "print(df.mths_since_last_record.describe())\n",
    "print(df_bad.mths_since_last_record.describe())\n",
    "print(df_pass.mths_since_last_record.describe())\n"
   ]
  },
  {
   "cell_type": "code",
   "execution_count": 38,
   "metadata": {},
   "outputs": [
    {
     "data": {
      "image/png": "[encoded data removed]",
      "text/plain": [
       "<Figure size 432x288 with 1 Axes>"
      ]
     },
     "metadata": {},
     "output_type": "display_data"
    },
    {
     "name": "stdout",
     "output_type": "stream",
     "text": [
      "count    2.507640e+06\n",
      "mean     6.998591e+02\n",
      "std      3.161493e+01\n",
      "min      6.290000e+02\n",
      "25%      6.740000e+02\n",
      "50%      6.940000e+02\n",
      "75%      7.140000e+02\n",
      "max      8.500000e+02\n",
      "Name: fico_range_high, dtype: float64\n",
      "count    498120.000000\n",
      "mean        691.429563\n",
      "std          25.552005\n",
      "min         664.000000\n",
      "25%         674.000000\n",
      "50%         684.000000\n",
      "75%         704.000000\n",
      "max         850.000000\n",
      "Name: fico_range_high, dtype: float64\n",
      "count    2.009520e+06\n",
      "mean     7.019486e+02\n",
      "std      3.261042e+01\n",
      "min      6.290000e+02\n",
      "25%      6.790000e+02\n",
      "50%      6.940000e+02\n",
      "75%      7.190000e+02\n",
      "max      8.500000e+02\n",
      "Name: fico_range_high, dtype: float64\n"
     ]
    }
   ],
   "source": [
    "df_x,df_y = ecdf(df.fico_range_high)\n",
    "df_bad_x,df_bad_y = ecdf(df_bad.fico_range_high)\n",
    "df_pass_x,df_pass_y = ecdf(df_pass.fico_range_high)\n",
    "\n",
    "plt.plot(df_x,df_y,marker='.',linestyle='none',color='black',label='all')\n",
    "plt.plot(df_bad_x,df_bad_y,marker='.',linestyle='none',color='red',label='Charged off')\n",
    "plt.plot(df_pass_x,df_pass_y,marker='.',linestyle='none',color='blue',label='Fully Paid')\n",
    "plt.axis([625, 850, 0, 1])\n",
    "plt.title('FICO UPPER RANGE')\n",
    "plt.legend(loc='best')\n",
    "plt.show()\n",
    "\n",
    "print(df.fico_range_high.describe())\n",
    "print(df_bad.fico_range_high.describe())\n",
    "print(df_pass.fico_range_high.describe())"
   ]
  },
  {
   "cell_type": "code",
   "execution_count": 39,
   "metadata": {},
   "outputs": [
    {
     "data": {
      "image/png": "[encoded data removed]",
      "text/plain": [
       "<Figure size 432x288 with 1 Axes>"
      ]
     },
     "metadata": {},
     "output_type": "display_data"
    },
    {
     "name": "stdout",
     "output_type": "stream",
     "text": [
      "count    2.507640e+06\n",
      "mean     6.958590e+02\n",
      "std      3.161433e+01\n",
      "min      6.250000e+02\n",
      "25%      6.700000e+02\n",
      "50%      6.900000e+02\n",
      "75%      7.100000e+02\n",
      "max      8.450000e+02\n",
      "Name: fico_range_low, dtype: float64\n",
      "count    498120.000000\n",
      "mean        687.429515\n",
      "std          25.551707\n",
      "min         660.000000\n",
      "25%         670.000000\n",
      "50%         680.000000\n",
      "75%         700.000000\n",
      "max         845.000000\n",
      "Name: fico_range_low, dtype: float64\n",
      "count    2.009520e+06\n",
      "mean     6.979485e+02\n",
      "std      3.260976e+01\n",
      "min      6.250000e+02\n",
      "25%      6.750000e+02\n",
      "50%      6.900000e+02\n",
      "75%      7.150000e+02\n",
      "max      8.450000e+02\n",
      "Name: fico_range_low, dtype: float64\n"
     ]
    }
   ],
   "source": [
    "df_x,df_y = ecdf(df.fico_range_low)\n",
    "df_bad_x,df_bad_y = ecdf(df_bad.fico_range_low)\n",
    "df_pass_x,df_pass_y = ecdf(df_pass.fico_range_low)\n",
    "\n",
    "plt.plot(df_x,df_y,marker='.',linestyle='none',color='black',label='all')\n",
    "plt.plot(df_bad_x,df_bad_y,marker='.',linestyle='none',color='red',label='Charged off')\n",
    "plt.plot(df_pass_x,df_pass_y,marker='.',linestyle='none',color='blue',label='Fully Paid')\n",
    "plt.axis([625, 850, 0, 1])\n",
    "plt.title('FICO LOWER RANGE')\n",
    "plt.legend(loc='best')\n",
    "plt.show()\n",
    "\n",
    "print(df.fico_range_low.describe())\n",
    "print(df_bad.fico_range_low.describe())\n",
    "print(df_pass.fico_range_low.describe())"
   ]
  },
  {
   "cell_type": "code",
   "execution_count": 40,
   "metadata": {},
   "outputs": [
    {
     "data": {
      "image/png": "[encoded data removed]",
      "text/plain": [
       "<Figure size 432x288 with 1 Axes>"
      ]
     },
     "metadata": {},
     "output_type": "display_data"
    },
    {
     "name": "stdout",
     "output_type": "stream",
     "text": [
      "count    2.386342e+06\n",
      "mean     6.044169e+01\n",
      "std      2.812853e+01\n",
      "min      0.000000e+00\n",
      "25%      3.900000e+01\n",
      "50%      6.380000e+01\n",
      "75%      8.510000e+01\n",
      "max      3.396000e+02\n",
      "Name: bc_util, dtype: float64\n",
      "count    478756.000000\n",
      "mean         64.283428\n",
      "std          27.382505\n",
      "min           0.000000\n",
      "25%          44.600000\n",
      "50%          68.800000\n",
      "75%          88.300000\n",
      "max         255.200000\n",
      "Name: bc_util, dtype: float64\n",
      "count    1.907586e+06\n",
      "mean     5.947751e+01\n",
      "std      2.823074e+01\n",
      "min      0.000000e+00\n",
      "25%      3.780000e+01\n",
      "50%      6.250000e+01\n",
      "75%      8.430000e+01\n",
      "max      3.396000e+02\n",
      "Name: bc_util, dtype: float64\n"
     ]
    }
   ],
   "source": [
    "df_x,df_y = ecdf(df.bc_util)\n",
    "df_bad_x,df_bad_y = ecdf(df_bad.bc_util)\n",
    "df_pass_x,df_pass_y = ecdf(df_pass.bc_util)\n",
    "\n",
    "plt.plot(df_x,df_y,marker='.',linestyle='none',color='black',label='all')\n",
    "plt.plot(df_bad_x,df_bad_y,marker='.',linestyle='none',color='red',label='Charged off')\n",
    "plt.plot(df_pass_x,df_pass_y,marker='.',linestyle='none',color='blue',label='Fully Paid')\n",
    "plt.axis([0, 100, 0, 1])\n",
    "plt.title('Bank Card Utlitization')\n",
    "plt.legend(loc='best')\n",
    "plt.show()\n",
    "\n",
    "print(df.bc_util.describe())\n",
    "print(df_bad.bc_util.describe())\n",
    "print(df_pass.bc_util.describe())"
   ]
  },
  {
   "cell_type": "markdown",
   "metadata": {},
   "source": [
    "# About the graphs and the EDA\n",
    "\n",
    "The graphs show and the whole exploratory data analysis so far has shown obvious things. With factors that are desirable the good loans out performed the bad loans. Although good loans do look very close to the population while, the bad loans do seem to significantly deviate from the norm. "
   ]
  },
  {
   "cell_type": "code",
   "execution_count": 41,
   "metadata": {},
   "outputs": [
    {
     "data": {
      "text/plain": [
       "count    477484.000000\n",
       "mean        237.522505\n",
       "std        1752.307548\n",
       "min           0.000000\n",
       "25%           0.000000\n",
       "50%           0.000000\n",
       "75%           0.000000\n",
       "max      146917.000000\n",
       "Name: tot_coll_amt, dtype: float64"
      ]
     },
     "execution_count": 41,
     "metadata": {},
     "output_type": "execute_result"
    }
   ],
   "source": [
    "df_bad.tot_coll_amt.describe()"
   ]
  },
  {
   "cell_type": "code",
   "execution_count": 42,
   "metadata": {},
   "outputs": [
    {
     "name": "stdout",
     "output_type": "stream",
     "text": [
      "   n_samples  percent\n",
      "0     498120    100.0\n",
      "1    2009520      0.0\n"
     ]
    }
   ],
   "source": [
    "percentage(df,df_bad,'loan_status')"
   ]
  },
  {
   "cell_type": "code",
   "execution_count": null,
   "metadata": {},
   "outputs": [],
   "source": []
  },
  {
   "cell_type": "code",
   "execution_count": null,
   "metadata": {},
   "outputs": [],
   "source": []
  },
  {
   "cell_type": "code",
   "execution_count": null,
   "metadata": {},
   "outputs": [],
   "source": []
  },
  {
   "cell_type": "code",
   "execution_count": null,
   "metadata": {},
   "outputs": [],
   "source": []
  },
  {
   "cell_type": "code",
   "execution_count": 43,
   "metadata": {},
   "outputs": [
    {
     "name": "stdout",
     "output_type": "stream",
     "text": [
      "                    n_samples    percent\n",
      "car                     27082  14.400709\n",
      "credit_card            551450  16.858827\n",
      "debt_consolidation    1461114  21.066255\n",
      "educational               652  17.177914\n",
      "home_improvement       161660  17.622170\n",
      "house                   12736  21.278266\n",
      "major_purchase          54082  18.165009\n",
      "medical                 28352  21.621050\n",
      "moving                  17616  23.206176\n",
      "other                  141124  20.924860\n",
      "renewable_energy         1744  23.279817\n",
      "small_business          28818  29.308071\n",
      "vacation                16622  18.998917\n",
      "wedding                  4588  12.162162\n"
     ]
    }
   ],
   "source": [
    "percentage(df,df_bad,'purpose')"
   ]
  },
  {
   "cell_type": "code",
   "execution_count": 44,
   "metadata": {},
   "outputs": [
    {
     "name": "stdout",
     "output_type": "stream",
     "text": [
      "                    n_samples    percent\n",
      "car                     27082  14.400709\n",
      "credit_card            551450  16.858827\n",
      "debt_consolidation    1461114  21.066255\n",
      "educational               652  17.177914\n",
      "home_improvement       161660  17.622170\n",
      "house                   12736  21.278266\n",
      "major_purchase          54082  18.165009\n",
      "medical                 28352  21.621050\n",
      "moving                  17616  23.206176\n",
      "other                  141124  20.924860\n",
      "renewable_energy         1744  23.279817\n",
      "small_business          28818  29.308071\n",
      "vacation                16622  18.998917\n",
      "wedding                  4588  12.162162\n",
      "0.19864095324687756\n"
     ]
    },
    {
     "data": {
      "text/plain": [
       "Ttest_1sampResult(statistic=1.8170526287938882, pvalue=0.06966870982546704)"
      ]
     },
     "execution_count": 44,
     "metadata": {},
     "output_type": "execute_result"
    }
   ],
   "source": [
    "percentage(df,df_bad,'purpose')\n",
    "\n",
    "print(len(df_bad)/len(df))\n",
    "\n",
    "edu = df.loc[df.purpose == 'educational']['loan_status']\n",
    "\n",
    "stats.ttest_1samp(edu,len(df_pass)/len(df))"
   ]
  },
  {
   "cell_type": "markdown",
   "metadata": {},
   "source": [
    "The first statistically not so important factor! Although this maybe because of its small sample size relative to everything else."
   ]
  },
  {
   "cell_type": "code",
   "execution_count": 45,
   "metadata": {
    "scrolled": false
   },
   "outputs": [
    {
     "name": "stdout",
     "output_type": "stream",
     "text": [
      "id False\n",
      "member_id True\n",
      "loan_amnt False\n",
      "funded_amnt False\n",
      "funded_amnt_inv False\n",
      "term False\n",
      "int_rate False\n",
      "installment False\n",
      "grade False\n",
      "sub_grade False\n",
      "emp_title True\n",
      "emp_length True\n",
      "home_ownership False\n",
      "annual_inc False\n",
      "verification_status False\n",
      "issue_d False\n",
      "loan_status False\n",
      "pymnt_plan False\n",
      "url False\n",
      "desc True\n",
      "purpose False\n",
      "title True\n",
      "zip_code False\n",
      "addr_state False\n",
      "dti True\n",
      "delinq_2yrs False\n",
      "earliest_cr_line False\n",
      "fico_range_low False\n",
      "fico_range_high False\n",
      "inq_last_6mths True\n",
      "mths_since_last_delinq True\n",
      "mths_since_last_record True\n",
      "open_acc False\n",
      "pub_rec False\n",
      "revol_bal False\n",
      "revol_util True\n",
      "total_acc False\n",
      "initial_list_status False\n",
      "out_prncp False\n",
      "out_prncp_inv False\n",
      "total_pymnt False\n",
      "total_pymnt_inv False\n",
      "total_rec_prncp False\n",
      "total_rec_int False\n",
      "total_rec_late_fee False\n",
      "recoveries False\n",
      "collection_recovery_fee False\n",
      "last_pymnt_d True\n",
      "last_pymnt_amnt False\n",
      "next_pymnt_d True\n",
      "last_credit_pull_d True\n",
      "last_fico_range_high False\n",
      "last_fico_range_low False\n",
      "collections_12_mths_ex_med True\n",
      "mths_since_last_major_derog True\n",
      "policy_code False\n",
      "application_type False\n",
      "annual_inc_joint True\n",
      "dti_joint True\n",
      "verification_status_joint True\n",
      "acc_now_delinq False\n",
      "tot_coll_amt True\n",
      "tot_cur_bal True\n",
      "open_acc_6m True\n",
      "open_act_il True\n",
      "open_il_12m True\n",
      "open_il_24m True\n",
      "mths_since_rcnt_il True\n",
      "total_bal_il True\n",
      "il_util True\n",
      "open_rv_12m True\n",
      "open_rv_24m True\n",
      "max_bal_bc True\n",
      "all_util True\n",
      "total_rev_hi_lim True\n",
      "inq_fi True\n",
      "total_cu_tl True\n",
      "inq_last_12m True\n",
      "acc_open_past_24mths True\n",
      "avg_cur_bal True\n",
      "bc_open_to_buy True\n",
      "bc_util True\n",
      "chargeoff_within_12_mths True\n",
      "delinq_amnt False\n",
      "mo_sin_old_il_acct True\n",
      "mo_sin_old_rev_tl_op True\n",
      "mo_sin_rcnt_rev_tl_op True\n",
      "mo_sin_rcnt_tl True\n",
      "mort_acc True\n",
      "mths_since_recent_bc True\n",
      "mths_since_recent_bc_dlq True\n",
      "mths_since_recent_inq True\n",
      "mths_since_recent_revol_delinq True\n",
      "num_accts_ever_120_pd True\n",
      "num_actv_bc_tl True\n",
      "num_actv_rev_tl True\n",
      "num_bc_sats True\n",
      "num_bc_tl True\n",
      "num_il_tl True\n",
      "num_op_rev_tl True\n",
      "num_rev_accts True\n",
      "num_rev_tl_bal_gt_0 True\n",
      "num_sats True\n",
      "num_tl_120dpd_2m True\n",
      "num_tl_30dpd True\n",
      "num_tl_90g_dpd_24m True\n",
      "num_tl_op_past_12m True\n",
      "pct_tl_nvr_dlq True\n",
      "percent_bc_gt_75 True\n",
      "pub_rec_bankruptcies True\n",
      "tax_liens True\n",
      "tot_hi_cred_lim True\n",
      "total_bal_ex_mort True\n",
      "total_bc_limit True\n",
      "total_il_high_credit_limit True\n",
      "revol_bal_joint True\n",
      "sec_app_fico_range_low True\n",
      "sec_app_fico_range_high True\n",
      "sec_app_earliest_cr_line True\n",
      "sec_app_inq_last_6mths True\n",
      "sec_app_mort_acc True\n",
      "sec_app_open_acc True\n",
      "sec_app_revol_util True\n",
      "sec_app_open_act_il True\n",
      "sec_app_num_rev_accts True\n",
      "sec_app_chargeoff_within_12_mths True\n",
      "sec_app_collections_12_mths_ex_med True\n",
      "sec_app_mths_since_last_major_derog True\n",
      "hardship_flag False\n",
      "hardship_type True\n",
      "hardship_reason True\n",
      "hardship_status True\n",
      "deferral_term True\n",
      "hardship_amount True\n",
      "hardship_start_date True\n",
      "hardship_end_date True\n",
      "payment_plan_start_date True\n",
      "hardship_length True\n",
      "hardship_dpd True\n",
      "hardship_loan_status True\n",
      "orig_projected_additional_accrued_interest True\n",
      "hardship_payoff_balance_amount True\n",
      "hardship_last_payment_amount True\n",
      "disbursement_method False\n",
      "debt_settlement_flag False\n",
      "debt_settlement_flag_date True\n",
      "settlement_status True\n",
      "settlement_date True\n",
      "settlement_amount True\n",
      "settlement_percentage True\n",
      "settlement_term True\n",
      "length_of_cr False\n",
      "difference_inv False\n",
      "difference_asked False\n"
     ]
    }
   ],
   "source": [
    "for col in df:\n",
    "    print(col, df[col].isnull().values.any())"
   ]
  },
  {
   "cell_type": "code",
   "execution_count": 46,
   "metadata": {},
   "outputs": [
    {
     "data": {
      "text/plain": [
       "23510"
      ]
     },
     "execution_count": 46,
     "metadata": {},
     "output_type": "execute_result"
    }
   ],
   "source": [
    "len(df.sec_app_fico_range_low.dropna())"
   ]
  },
  {
   "cell_type": "code",
   "execution_count": 47,
   "metadata": {},
   "outputs": [
    {
     "data": {
      "text/plain": [
       "2507640"
      ]
     },
     "execution_count": 47,
     "metadata": {},
     "output_type": "execute_result"
    }
   ],
   "source": [
    "np.sum(df.loan_status.value_counts().values)"
   ]
  },
  {
   "cell_type": "code",
   "execution_count": 48,
   "metadata": {},
   "outputs": [
    {
     "data": {
      "text/plain": [
       "125.0    28464\n",
       "127.0    28340\n",
       "126.0    28270\n",
       "122.0    28240\n",
       "130.0    28232\n",
       "128.0    28200\n",
       "124.0    28126\n",
       "129.0    27900\n",
       "132.0    27886\n",
       "123.0    27856\n",
       "121.0    27776\n",
       "131.0    27502\n",
       "133.0    27384\n",
       "120.0    27202\n",
       "134.0    27124\n",
       "135.0    26666\n",
       "136.0    26498\n",
       "139.0    26244\n",
       "137.0    26190\n",
       "138.0    26082\n",
       "140.0    25770\n",
       "141.0    25380\n",
       "142.0    24732\n",
       "119.0    24506\n",
       "144.0    24218\n",
       "143.0    24162\n",
       "145.0    23506\n",
       "146.0    22870\n",
       "147.0    22528\n",
       "148.0    21860\n",
       "         ...  \n",
       "549.0        2\n",
       "545.0        2\n",
       "538.0        2\n",
       "530.0        2\n",
       "507.0        2\n",
       "492.0        2\n",
       "999.0        2\n",
       "506.0        2\n",
       "453.0        2\n",
       "445.0        2\n",
       "458.0        2\n",
       "460.0        2\n",
       "461.0        2\n",
       "443.0        2\n",
       "467.0        2\n",
       "468.0        2\n",
       "470.0        2\n",
       "472.0        2\n",
       "474.0        2\n",
       "480.0        2\n",
       "485.0        2\n",
       "486.0        2\n",
       "487.0        2\n",
       "494.0        2\n",
       "497.0        2\n",
       "498.0        2\n",
       "499.0        2\n",
       "504.0        2\n",
       "512.0        2\n",
       "511.0        2\n",
       "Name: mo_sin_old_il_acct, Length: 520, dtype: int64"
      ]
     },
     "execution_count": 48,
     "metadata": {},
     "output_type": "execute_result"
    }
   ],
   "source": [
    "df.mo_sin_old_il_acct.value_counts()"
   ]
  },
  {
   "cell_type": "code",
   "execution_count": 49,
   "metadata": {},
   "outputs": [
    {
     "name": "stdout",
     "output_type": "stream",
     "text": [
      "<class 'pandas.core.frame.DataFrame'>\n",
      "Int64Index: 2507640 entries, 0 to 2507639\n",
      "Columns: 120 entries, id to difference_asked\n",
      "dtypes: datetime64[ns](2), float64(96), int64(4), object(18)\n",
      "memory usage: 2.3+ GB\n"
     ]
    }
   ],
   "source": [
    "#dropping not so important stuff, variables that appear in the future, \n",
    "\n",
    "drop_list = ['member_id','url','desc','emp_title','title','addr_state','next_pymnt_d','last_pymnt_amnt',\n",
    "             'hardship_flag','hardship_type','hardship_reason','hardship_status','hardship_amount',\n",
    "             'hardship_start_date','hardship_end_date','payment_plan_start_date','hardship_length',\n",
    "             'hardship_dpd','hardship_loan_status','orig_projected_additional_accrued_interest',\n",
    "             'hardship_payoff_balance_amount','hardship_last_payment_amount','debt_settlement_flag',\n",
    "             'out_prncp_inv','out_prncp','recoveries','last_fico_range_high','last_fico_range_low',\n",
    "             'policy_code','total_pymnt','total_pymnt_inv','total_rec_prncp','total_rec_int','total_rec_late_fee'\n",
    "             ]\n",
    "df.dropna(subset=['id'],inplace=True)\n",
    "df.drop(drop_list,axis=1,inplace=True)\n",
    "df.info()"
   ]
  }
 ],
 "metadata": {
  "kernelspec": {
   "display_name": "Python 3",
   "language": "python",
   "name": "python3"
  },
  "language_info": {
   "codemirror_mode": {
    "name": "ipython",
    "version": 3
   },
   "file_extension": ".py",
   "mimetype": "text/x-python",
   "name": "python",
   "nbconvert_exporter": "python",
   "pygments_lexer": "ipython3",
   "version": "3.6.5"
  }
 },
 "nbformat": 4,
 "nbformat_minor": 2
}
