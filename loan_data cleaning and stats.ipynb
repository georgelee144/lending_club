{
 "cells": [
  {
   "cell_type": "code",
   "execution_count": 1,
   "metadata": {},
   "outputs": [],
   "source": [
    "import pandas as pd,numpy as np\n",
    "from scipy import stats\n",
    "import matplotlib.pyplot as plt"
   ]
  },
  {
   "cell_type": "code",
   "execution_count": 2,
   "metadata": {},
   "outputs": [],
   "source": [
    "def percentage(df,df1,item):\n",
    "    \"\"\"Prints out number of samples and percent of total\"\"\"\n",
    "    \"\"\"df is the base and df1 is specific df we are interested in and item is the column we are trying to look at\"\"\"\n",
    "\n",
    "    all_loans = df[item].value_counts().sort_index()\n",
    "    bad_loans = pd.DataFrame(df1[item].value_counts().sort_index() / all_loans * 100)\n",
    "    n_percent = pd.concat([all_loans,bad_loans],axis=1)\n",
    "    n_percent.columns = ['n_samples', 'percent']\n",
    "    n_percent.fillna(0,inplace=True)\n",
    "    print(n_percent)\n",
    "    \n",
    "def ecdf(data):\n",
    "    \"\"\"Compute ECDF for a one-dimensional array of measurements.\"\"\"\n",
    "    # Number of data points: n\n",
    "    n = len(data)\n",
    "\n",
    "    # x-data for the ECDF: x\n",
    "    x = np.sort(data)\n",
    "\n",
    "    # y-data for the ECDF: y\n",
    "    y = np.arange(1, n+1) / n\n",
    "\n",
    "    return x, y    "
   ]
  },
  {
   "cell_type": "code",
   "execution_count": 3,
   "metadata": {},
   "outputs": [
    {
     "name": "stderr",
     "output_type": "stream",
     "text": [
      "C:\\Users\\leero\\Anaconda3\\lib\\site-packages\\IPython\\core\\interactiveshell.py:2785: DtypeWarning: Columns (19,59,118,129,130,131,134,135,136,139,145,146,147) have mixed types. Specify dtype option on import or set low_memory=False.\n",
      "  interactivity=interactivity, compiler=compiler, result=result)\n"
     ]
    },
    {
     "name": "stdout",
     "output_type": "stream",
     "text": [
      "<class 'pandas.core.frame.DataFrame'>\n",
      "RangeIndex: 2507640 entries, 0 to 2507639\n",
      "Columns: 151 entries, id to settlement_term\n",
      "dtypes: float64(112), int64(1), object(38)\n",
      "memory usage: 2.8+ GB\n"
     ]
    }
   ],
   "source": [
    "df = pd.read_csv('loan_data_core.csv')\n",
    "df.info()"
   ]
  },
  {
   "cell_type": "code",
   "execution_count": 4,
   "metadata": {},
   "outputs": [
    {
     "name": "stdout",
     "output_type": "stream",
     "text": [
      "<class 'pandas.core.frame.DataFrame'>\n",
      "RangeIndex: 2507640 entries, 0 to 2507639\n",
      "Columns: 152 entries, id to length_of_cr\n",
      "dtypes: datetime64[ns](2), float64(113), int64(3), object(34)\n",
      "memory usage: 2.8+ GB\n"
     ]
    }
   ],
   "source": [
    "#conversions\n",
    "df.issue_d = pd.to_datetime(df.issue_d,format='%b-%y')\n",
    "df.earliest_cr_line = pd.to_datetime(df.earliest_cr_line,format='%b-%y')\n",
    "df['length_of_cr'] = df.issue_d - df.earliest_cr_line\n",
    "df.length_of_cr = df.length_of_cr.dt.days.astype(int)/365\n",
    "\n",
    "#good loans = 1\n",
    "df.loan_status = df.loan_status.apply(lambda loan_status: 1 if loan_status != 'Charged Off' else 0)\n",
    "df.term = df.term.apply(lambda months: int(months[1:3]))\n",
    "\n",
    "df.info()"
   ]
  },
  {
   "cell_type": "code",
   "execution_count": 5,
   "metadata": {},
   "outputs": [],
   "source": [
    "#random things of interest\n",
    "\n",
    "df['difference_inv'] = (df.funded_amnt_inv - df.funded_amnt) / df.funded_amnt_inv\n",
    "df['difference_asked'] = (df.loan_amnt - df.funded_amnt) / df.loan_amnt\n",
    "\n",
    "df['diff_fico_high'] = df.fico_range_high - df. sec_app_fico_range_high\n",
    "df['diff_fico_low'] = df.fico_range_low - df. sec_app_fico_range_low"
   ]
  },
  {
   "cell_type": "code",
   "execution_count": 6,
   "metadata": {},
   "outputs": [],
   "source": [
    "df.int_rate = df.int_rate.apply(lambda interest: interest[0:len(interest)-1]).astype('float64')"
   ]
  },
  {
   "cell_type": "code",
   "execution_count": 7,
   "metadata": {},
   "outputs": [
    {
     "name": "stdout",
     "output_type": "stream",
     "text": [
      "0.19864095324687756\n",
      "498120 2009520\n",
      "Passing rates\n",
      "By rows:  0.8013590467531224\n",
      "By loan amount:  0.7862432609493137\n",
      "By interest rate:  0.7646819714537525\n"
     ]
    }
   ],
   "source": [
    "df_bad = df.loc[df.loan_status==0]\n",
    "df_pass = df.loc[df.loan_status==1]\n",
    "\n",
    "#the fail rate\n",
    "print(len(df_bad)/len(df))\n",
    "print(len(df_bad),len(df_pass))\n",
    "\n",
    "print('Passing rates')\n",
    "print('By rows: ',len(df_pass)/len(df))\n",
    "print('By loan amount: ',np.average(df.loan_status,weights=df.loan_amnt))\n",
    "print('By interest rate: ',np.average(df.loan_status,weights=df.int_rate))"
   ]
  },
  {
   "cell_type": "code",
   "execution_count": 8,
   "metadata": {},
   "outputs": [
    {
     "data": {
      "image/png": "[encoded data removed]",
      "text/plain": [
       "<Figure size 432x288 with 1 Axes>"
      ]
     },
     "metadata": {},
     "output_type": "display_data"
    },
    {
     "name": "stdout",
     "output_type": "stream",
     "text": [
      "count    23510.000000\n",
      "mean        41.753977\n",
      "std         44.937476\n",
      "min        -80.000000\n",
      "25%         10.000000\n",
      "50%         30.000000\n",
      "75%         60.000000\n",
      "max        275.000000\n",
      "Name: diff_fico_high, dtype: float64\n",
      "count    5032.000000\n",
      "mean       56.096979\n",
      "std        55.197095\n",
      "min       -60.000000\n",
      "25%        15.000000\n",
      "50%        40.000000\n",
      "75%        85.000000\n",
      "max       275.000000\n",
      "Name: diff_fico_high, dtype: float64\n",
      "count    18478.000000\n",
      "mean        37.848036\n",
      "std         40.846952\n",
      "min        -80.000000\n",
      "25%         10.000000\n",
      "50%         30.000000\n",
      "75%         55.000000\n",
      "max        275.000000\n",
      "Name: diff_fico_high, dtype: float64\n"
     ]
    }
   ],
   "source": [
    "df_x,df_y = ecdf(df.diff_fico_high.dropna())\n",
    "df_bad_x,df_bad_y = ecdf(df.loc[df.loan_status==0].diff_fico_high.dropna())\n",
    "df_pass_x,df_pass_y = ecdf(df.loc[df.loan_status==1].diff_fico_high.dropna())\n",
    "\n",
    "plt.plot(df_x,df_y,marker='.',linestyle='none',color='black',label='all')\n",
    "plt.plot(df_bad_x,df_bad_y,marker='.',linestyle='none',color='red',label='Charged off')\n",
    "plt.plot(df_pass_x,df_pass_y,marker='.',linestyle='none',color='blue',label='Fully Paid')\n",
    "plt.axis([-80, 300, 0, 1])\n",
    "plt.title('FICO diff')\n",
    "plt.legend(loc='best')\n",
    "plt.show()\n",
    "\n",
    "print(df.diff_fico_high.describe())\n",
    "print(df.loc[df.loan_status==0].diff_fico_high.describe())\n",
    "print(df.loc[df.loan_status==1].diff_fico_high.describe())"
   ]
  },
  {
   "cell_type": "markdown",
   "metadata": {},
   "source": [
    "FICO scores can vary widely between partners"
   ]
  },
  {
   "cell_type": "code",
   "execution_count": 9,
   "metadata": {},
   "outputs": [
    {
     "data": {
      "image/png": "[encoded data removed]",
      "text/plain": [
       "<Figure size 432x288 with 1 Axes>"
      ]
     },
     "metadata": {},
     "output_type": "display_data"
    },
    {
     "name": "stdout",
     "output_type": "stream",
     "text": [
      "count    2.507640e+06\n",
      "mean     1.324848e+01\n",
      "std      4.733669e+00\n",
      "min      5.310000e+00\n",
      "25%      9.750000e+00\n",
      "50%      1.279000e+01\n",
      "75%      1.599000e+01\n",
      "max      3.099000e+01\n",
      "Name: int_rate, dtype: float64\n",
      "count    498120.000000\n",
      "mean         15.694675\n",
      "std           4.858772\n",
      "min           5.310000\n",
      "25%          12.290000\n",
      "50%          15.050000\n",
      "75%          18.550000\n",
      "max          30.990000\n",
      "Name: int_rate, dtype: float64\n",
      "count    2.009520e+06\n",
      "mean     1.264211e+01\n",
      "std      4.501023e+00\n",
      "min      5.310000e+00\n",
      "25%      9.170000e+00\n",
      "50%      1.229000e+01\n",
      "75%      1.531000e+01\n",
      "max      3.099000e+01\n",
      "Name: int_rate, dtype: float64\n"
     ]
    }
   ],
   "source": [
    "df_x,df_y = ecdf(df.int_rate)\n",
    "df_bad_x,df_bad_y = ecdf(df.loc[df.loan_status==0].int_rate)\n",
    "df_pass_x,df_pass_y = ecdf(df.loc[df.loan_status==1].int_rate)\n",
    "\n",
    "plt.plot(df_x,df_y,marker='.',linestyle='none',color='black',label='all')\n",
    "plt.plot(df_bad_x,df_bad_y,marker='.',linestyle='none',color='red',label='Charged off')\n",
    "plt.plot(df_pass_x,df_pass_y,marker='.',linestyle='none',color='blue',label='Fully Paid')\n",
    "plt.axis([5, 30, 0, 1])\n",
    "plt.title('Interest Rate')\n",
    "plt.legend(loc='best')\n",
    "plt.show()\n",
    "\n",
    "print(df.int_rate.describe())\n",
    "print(df.loc[df.loan_status==0].int_rate.describe())\n",
    "print(df.loc[df.loan_status==1].int_rate.describe())"
   ]
  },
  {
   "cell_type": "code",
   "execution_count": 10,
   "metadata": {},
   "outputs": [
    {
     "data": {
      "image/png": "[encoded data removed]",
      "text/plain": [
       "<Figure size 432x288 with 1 Axes>"
      ]
     },
     "metadata": {},
     "output_type": "display_data"
    },
    {
     "name": "stdout",
     "output_type": "stream",
     "text": [
      "count    2.507640e+06\n",
      "mean     4.698212e-04\n",
      "std      1.294433e-02\n",
      "min      0.000000e+00\n",
      "25%      0.000000e+00\n",
      "50%      0.000000e+00\n",
      "75%      0.000000e+00\n",
      "max      8.987500e-01\n",
      "Name: difference_asked, dtype: float64\n",
      "count    498120.000000\n",
      "mean          0.000419\n",
      "std           0.012315\n",
      "min           0.000000\n",
      "25%           0.000000\n",
      "50%           0.000000\n",
      "75%           0.000000\n",
      "max           0.845313\n",
      "Name: difference_asked, dtype: float64\n",
      "count    2.009520e+06\n",
      "mean     4.824310e-04\n",
      "std      1.309553e-02\n",
      "min      0.000000e+00\n",
      "25%      0.000000e+00\n",
      "50%      0.000000e+00\n",
      "75%      0.000000e+00\n",
      "max      8.987500e-01\n",
      "Name: difference_asked, dtype: float64\n"
     ]
    }
   ],
   "source": [
    "df_x,df_y = ecdf(df.difference_asked)\n",
    "df_bad_x,df_bad_y = ecdf(df.loc[df.loan_status==0].difference_asked)\n",
    "df_pass_x,df_pass_y = ecdf(df.loc[df.loan_status==1].difference_asked)\n",
    "\n",
    "plt.plot(df_x,df_y,marker='.',linestyle='none',color='black',label='all')\n",
    "plt.plot(df_bad_x,df_bad_y,marker='.',linestyle='none',color='red',label='Charged off')\n",
    "plt.plot(df_pass_x,df_pass_y,marker='.',linestyle='none',color='blue',label='Fully Paid')\n",
    "plt.axis([0, 1, 0, 1])\n",
    "plt.title('% Loan amount - funding')\n",
    "plt.legend(loc='best')\n",
    "plt.show()\n",
    "\n",
    "print(df.difference_asked.describe())\n",
    "print(df.loc[df.loan_status==0].difference_asked.describe())\n",
    "print(df.loc[df.loan_status==1].difference_asked.describe())"
   ]
  },
  {
   "cell_type": "code",
   "execution_count": 11,
   "metadata": {},
   "outputs": [
    {
     "data": {
      "image/png": "[encoded data removed]",
      "text/plain": [
       "<Figure size 432x288 with 1 Axes>"
      ]
     },
     "metadata": {},
     "output_type": "display_data"
    },
    {
     "name": "stdout",
     "output_type": "stream",
     "text": [
      "count    3842.000000\n",
      "mean        0.306648\n",
      "std         0.124407\n",
      "min         0.000909\n",
      "25%         0.242308\n",
      "50%         0.327083\n",
      "75%         0.371000\n",
      "max         0.898750\n",
      "Name: difference_asked, dtype: float64\n",
      "count    684.000000\n",
      "mean       0.305099\n",
      "std        0.132364\n",
      "min        0.005000\n",
      "25%        0.229130\n",
      "50%        0.316609\n",
      "75%        0.363000\n",
      "max        0.845313\n",
      "Name: difference_asked, dtype: float64\n",
      "count    3158.000000\n",
      "mean        0.306984\n",
      "std         0.122635\n",
      "min         0.000909\n",
      "25%         0.243397\n",
      "50%         0.329688\n",
      "75%         0.371503\n",
      "max         0.898750\n",
      "Name: difference_asked, dtype: float64\n"
     ]
    }
   ],
   "source": [
    "percent_diff = df.loc[(df.difference_asked > 0) | (df.difference_asked < 0)]\n",
    "\n",
    "df_x,df_y = ecdf(percent_diff.difference_asked)\n",
    "df_bad_x,df_bad_y = ecdf(percent_diff.loc[percent_diff.loan_status==0].difference_asked)\n",
    "df_pass_x,df_pass_y = ecdf(percent_diff.loc[percent_diff.loan_status==1].difference_asked)\n",
    "\n",
    "plt.plot(df_x,df_y,marker='.',linestyle='none',color='black',label='all')\n",
    "plt.plot(df_bad_x,df_bad_y,marker='.',linestyle='none',color='red',label='Charged off')\n",
    "plt.plot(df_pass_x,df_pass_y,marker='.',linestyle='none',color='blue',label='Fully Paid')\n",
    "plt.axis([0, 1, 0, 1])\n",
    "plt.title('% Loan amount - funding')\n",
    "plt.legend(loc='best')\n",
    "plt.show()\n",
    "\n",
    "print(percent_diff.difference_asked.describe())\n",
    "print(percent_diff.loc[percent_diff.loan_status==0].difference_asked.describe())\n",
    "print(percent_diff.loc[percent_diff.loan_status==1].difference_asked.describe())"
   ]
  },
  {
   "cell_type": "markdown",
   "metadata": {},
   "source": [
    "Everyone basically gets their loan funded but the ones that don't get at least 40% of their loans funded"
   ]
  },
  {
   "cell_type": "code",
   "execution_count": 12,
   "metadata": {},
   "outputs": [
    {
     "data": {
      "image/png": "[encoded data removed]",
      "text/plain": [
       "<Figure size 432x288 with 1 Axes>"
      ]
     },
     "metadata": {},
     "output_type": "display_data"
    },
    {
     "name": "stdout",
     "output_type": "stream",
     "text": [
      "count    2.197920e+05\n",
      "mean             -inf\n",
      "std               NaN\n",
      "min              -inf\n",
      "25%     -9.372747e-03\n",
      "50%     -3.764115e-03\n",
      "75%     -1.890359e-03\n",
      "max     -1.514523e-05\n",
      "Name: difference_inv, dtype: float64\n",
      "count    4.602200e+04\n",
      "mean             -inf\n",
      "std               NaN\n",
      "min              -inf\n",
      "25%     -8.403361e-03\n",
      "50%     -3.344482e-03\n",
      "75%     -1.669449e-03\n",
      "max     -2.471847e-05\n",
      "Name: difference_inv, dtype: float64\n",
      "count    1.737700e+05\n",
      "mean             -inf\n",
      "std               NaN\n",
      "min              -inf\n",
      "25%     -1.010101e-02\n",
      "50%     -3.921569e-03\n",
      "75%     -2.004008e-03\n",
      "max     -1.514523e-05\n",
      "Name: difference_inv, dtype: float64\n"
     ]
    }
   ],
   "source": [
    "percent_diff = df.loc[(df.difference_inv > 0) | (df.difference_inv < 0)]\n",
    "\n",
    "df_x,df_y = ecdf(percent_diff.difference_inv)\n",
    "df_bad_x,df_bad_y = ecdf(percent_diff.loc[percent_diff.loan_status==0].difference_inv)\n",
    "df_pass_x,df_pass_y = ecdf(percent_diff.loc[percent_diff.loan_status==1].difference_inv)\n",
    "\n",
    "plt.plot(df_x,df_y,marker='.',linestyle='none',color='black',label='all')\n",
    "plt.plot(df_bad_x,df_bad_y,marker='.',linestyle='none',color='red',label='Charged off')\n",
    "plt.plot(df_pass_x,df_pass_y,marker='.',linestyle='none',color='blue',label='Fully Paid')\n",
    "plt.axis([-.5, 0, 0, 1])\n",
    "plt.title('% Funding - funding by investors')\n",
    "plt.legend(loc='best')\n",
    "plt.show()\n",
    "\n",
    "print(percent_diff.difference_inv.describe())\n",
    "print(percent_diff.loc[percent_diff.loan_status==0].difference_inv.describe())\n",
    "print(percent_diff.loc[percent_diff.loan_status==1].difference_inv.describe())\n"
   ]
  },
  {
   "cell_type": "markdown",
   "metadata": {},
   "source": [
    "There is little difference between the loan amount, the funded, and the proportion funded by investors."
   ]
  },
  {
   "cell_type": "code",
   "execution_count": 13,
   "metadata": {
    "scrolled": true
   },
   "outputs": [
    {
     "name": "stdout",
     "output_type": "stream",
     "text": [
      "id int64\n",
      "member_id float64\n",
      "loan_amnt float64\n",
      "funded_amnt float64\n",
      "funded_amnt_inv float64\n",
      "term int64\n",
      "int_rate float64\n",
      "installment float64\n",
      "grade object\n",
      "sub_grade object\n",
      "emp_title object\n",
      "emp_length object\n",
      "home_ownership object\n",
      "annual_inc float64\n",
      "verification_status object\n",
      "issue_d datetime64[ns]\n",
      "loan_status int64\n",
      "pymnt_plan object\n",
      "url object\n",
      "desc object\n",
      "purpose object\n",
      "title object\n",
      "zip_code object\n",
      "addr_state object\n",
      "dti float64\n",
      "delinq_2yrs float64\n",
      "earliest_cr_line datetime64[ns]\n",
      "fico_range_low float64\n",
      "fico_range_high float64\n",
      "inq_last_6mths float64\n",
      "mths_since_last_delinq float64\n",
      "mths_since_last_record float64\n",
      "open_acc float64\n",
      "pub_rec float64\n",
      "revol_bal float64\n",
      "revol_util object\n",
      "total_acc float64\n",
      "initial_list_status object\n",
      "out_prncp float64\n",
      "out_prncp_inv float64\n",
      "total_pymnt float64\n",
      "total_pymnt_inv float64\n",
      "total_rec_prncp float64\n",
      "total_rec_int float64\n",
      "total_rec_late_fee float64\n",
      "recoveries float64\n",
      "collection_recovery_fee float64\n",
      "last_pymnt_d object\n",
      "last_pymnt_amnt float64\n",
      "next_pymnt_d float64\n",
      "last_credit_pull_d object\n",
      "last_fico_range_high float64\n",
      "last_fico_range_low float64\n",
      "collections_12_mths_ex_med float64\n",
      "mths_since_last_major_derog float64\n",
      "policy_code float64\n",
      "application_type object\n",
      "annual_inc_joint float64\n",
      "dti_joint float64\n",
      "verification_status_joint object\n",
      "acc_now_delinq float64\n",
      "tot_coll_amt float64\n",
      "tot_cur_bal float64\n",
      "open_acc_6m float64\n",
      "open_act_il float64\n",
      "open_il_12m float64\n",
      "open_il_24m float64\n",
      "mths_since_rcnt_il float64\n",
      "total_bal_il float64\n",
      "il_util float64\n",
      "open_rv_12m float64\n",
      "open_rv_24m float64\n",
      "max_bal_bc float64\n",
      "all_util float64\n",
      "total_rev_hi_lim float64\n",
      "inq_fi float64\n",
      "total_cu_tl float64\n",
      "inq_last_12m float64\n",
      "acc_open_past_24mths float64\n",
      "avg_cur_bal float64\n",
      "bc_open_to_buy float64\n",
      "bc_util float64\n",
      "chargeoff_within_12_mths float64\n",
      "delinq_amnt float64\n",
      "mo_sin_old_il_acct float64\n",
      "mo_sin_old_rev_tl_op float64\n",
      "mo_sin_rcnt_rev_tl_op float64\n",
      "mo_sin_rcnt_tl float64\n",
      "mort_acc float64\n",
      "mths_since_recent_bc float64\n",
      "mths_since_recent_bc_dlq float64\n",
      "mths_since_recent_inq float64\n",
      "mths_since_recent_revol_delinq float64\n",
      "num_accts_ever_120_pd float64\n",
      "num_actv_bc_tl float64\n",
      "num_actv_rev_tl float64\n",
      "num_bc_sats float64\n",
      "num_bc_tl float64\n",
      "num_il_tl float64\n",
      "num_op_rev_tl float64\n",
      "num_rev_accts float64\n",
      "num_rev_tl_bal_gt_0 float64\n",
      "num_sats float64\n",
      "num_tl_120dpd_2m float64\n",
      "num_tl_30dpd float64\n",
      "num_tl_90g_dpd_24m float64\n",
      "num_tl_op_past_12m float64\n",
      "pct_tl_nvr_dlq float64\n",
      "percent_bc_gt_75 float64\n",
      "pub_rec_bankruptcies float64\n",
      "tax_liens float64\n",
      "tot_hi_cred_lim float64\n",
      "total_bal_ex_mort float64\n",
      "total_bc_limit float64\n",
      "total_il_high_credit_limit float64\n",
      "revol_bal_joint float64\n",
      "sec_app_fico_range_low float64\n",
      "sec_app_fico_range_high float64\n",
      "sec_app_earliest_cr_line object\n",
      "sec_app_inq_last_6mths float64\n",
      "sec_app_mort_acc float64\n",
      "sec_app_open_acc float64\n",
      "sec_app_revol_util float64\n",
      "sec_app_open_act_il float64\n",
      "sec_app_num_rev_accts float64\n",
      "sec_app_chargeoff_within_12_mths float64\n",
      "sec_app_collections_12_mths_ex_med float64\n",
      "sec_app_mths_since_last_major_derog float64\n",
      "hardship_flag object\n",
      "hardship_type object\n",
      "hardship_reason object\n",
      "hardship_status object\n",
      "deferral_term float64\n",
      "hardship_amount float64\n",
      "hardship_start_date object\n",
      "hardship_end_date object\n",
      "payment_plan_start_date object\n",
      "hardship_length float64\n",
      "hardship_dpd float64\n",
      "hardship_loan_status object\n",
      "orig_projected_additional_accrued_interest float64\n",
      "hardship_payoff_balance_amount float64\n",
      "hardship_last_payment_amount float64\n",
      "disbursement_method object\n",
      "debt_settlement_flag object\n",
      "debt_settlement_flag_date object\n",
      "settlement_status object\n",
      "settlement_date object\n",
      "settlement_amount float64\n",
      "settlement_percentage float64\n",
      "settlement_term float64\n",
      "length_of_cr float64\n",
      "difference_inv float64\n",
      "difference_asked float64\n",
      "diff_fico_high float64\n",
      "diff_fico_low float64\n"
     ]
    }
   ],
   "source": [
    "for thing in df.columns:\n",
    "    print(thing,df[thing].dtypes)"
   ]
  },
  {
   "cell_type": "code",
   "execution_count": 14,
   "metadata": {},
   "outputs": [
    {
     "name": "stdout",
     "output_type": "stream",
     "text": [
      "   n_samples    percent\n",
      "A     434114   5.989210\n",
      "B     731908  13.260137\n",
      "C     711534  22.216507\n",
      "D     374050  30.109344\n",
      "E     177466  38.392706\n",
      "F      61314  45.046808\n",
      "G      17254  49.913064\n"
     ]
    }
   ],
   "source": [
    "percentage(df,df_bad,'grade')"
   ]
  },
  {
   "cell_type": "code",
   "execution_count": 15,
   "metadata": {},
   "outputs": [
    {
     "name": "stdout",
     "output_type": "stream",
     "text": [
      "           n_samples    percent\n",
      "Cash         2498216  19.856410\n",
      "DirectPay       9424  21.901528\n",
      "0.19864095324687756\n"
     ]
    },
    {
     "data": {
      "text/plain": [
       "Ttest_1sampResult(statistic=0.30452202511554294, pvalue=0.7607302407799575)"
      ]
     },
     "execution_count": 15,
     "metadata": {},
     "output_type": "execute_result"
    }
   ],
   "source": [
    "percentage(df,df_bad,'disbursement_method')\n",
    "\n",
    "print(len(df_bad)/len(df))\n",
    "\n",
    "q = df.loc[df.disbursement_method == 'Cash']['loan_status']\n",
    "\n",
    "stats.ttest_1samp(q,len(df_pass)/len(df))"
   ]
  },
  {
   "cell_type": "code",
   "execution_count": 16,
   "metadata": {},
   "outputs": [
    {
     "name": "stdout",
     "output_type": "stream",
     "text": [
      "      n_samples     percent\n",
      "0.0     2195318   19.491481\n",
      "1.0      291904   22.368998\n",
      "2.0       14856   24.771136\n",
      "3.0        3012   22.841965\n",
      "4.0         744   27.688172\n",
      "5.0         266   24.060150\n",
      "6.0          90   33.333333\n",
      "7.0          30   26.666667\n",
      "8.0          18   44.444444\n",
      "9.0           4   50.000000\n",
      "11.0          2  100.000000\n",
      "12.0          2    0.000000\n"
     ]
    }
   ],
   "source": [
    "percentage(df,df_bad,'pub_rec_bankruptcies')"
   ]
  },
  {
   "cell_type": "code",
   "execution_count": 17,
   "metadata": {},
   "outputs": [
    {
     "name": "stdout",
     "output_type": "stream",
     "text": [
      "    n_samples    percent\n",
      "36    1904562  15.911480\n",
      "60     603078  32.346728\n"
     ]
    }
   ],
   "source": [
    "percentage(df,df_bad,'term')"
   ]
  },
  {
   "cell_type": "code",
   "execution_count": 18,
   "metadata": {},
   "outputs": [
    {
     "data": {
      "text/plain": [
       "0.0     2195318\n",
       "1.0      291904\n",
       "2.0       14856\n",
       "3.0        3012\n",
       "4.0         744\n",
       "5.0         266\n",
       "6.0          90\n",
       "7.0          30\n",
       "8.0          18\n",
       "9.0           4\n",
       "11.0          2\n",
       "12.0          2\n",
       "Name: pub_rec_bankruptcies, dtype: int64"
      ]
     },
     "execution_count": 18,
     "metadata": {},
     "output_type": "execute_result"
    }
   ],
   "source": [
    "df.pub_rec_bankruptcies.value_counts().sort_index()"
   ]
  },
  {
   "cell_type": "code",
   "execution_count": 19,
   "metadata": {},
   "outputs": [
    {
     "name": "stdout",
     "output_type": "stream",
     "text": [
      "0.8013590467531224\n",
      "0 0.7749189522976381 Ttest_1sampResult(statistic=-35.3016183361352, pvalue=1.9306831281258704e-272)\n",
      "1 0.7535744322960471 Ttest_1sampResult(statistic=-15.294019158451372, pvalue=1.720678204181511e-52)\n",
      "2 0.7581573896353166 Ttest_1sampResult(statistic=-6.512774762957765, pvalue=8.25370462174509e-11)\n",
      "3 0.7231833910034602 Ttest_1sampResult(statistic=-5.938027864030991, pvalue=3.811556938081145e-09)\n",
      "4 0.7233009708737864 Ttest_1sampResult(statistic=-3.5373286455001787, pvalue=0.00045028370651973285)\n",
      "5 0.6575342465753424 Ttest_1sampResult(statistic=-3.6496399135071913, pvalue=0.0003657339433507724)\n",
      "6 0.6428571428571429 Ttest_1sampResult(statistic=-2.453226270973029, pvalue=0.01735593601309045)\n",
      "7 0.5384615384615384 Ttest_1sampResult(statistic=-2.6367878046950852, pvalue=0.01418037686703649)\n",
      "8 0.5 Ttest_1sampResult(statistic=-1.5946421860964979, pvalue=0.15482181803309875)\n",
      "9 0.5 Ttest_1sampResult(statistic=-1.0439383605938655, pvalue=0.3732299812766604)\n",
      "10 0.5 Ttest_1sampResult(statistic=-1.0439383605938655, pvalue=0.3732299812766604)\n",
      "11 1.0 Ttest_1sampResult(statistic=inf, pvalue=0.0)\n",
      "12 nan Ttest_1sampResult(statistic=nan, pvalue=nan)\n"
     ]
    },
    {
     "name": "stderr",
     "output_type": "stream",
     "text": [
      "C:\\Users\\leero\\Anaconda3\\lib\\site-packages\\numpy\\core\\fromnumeric.py:2957: RuntimeWarning: Mean of empty slice.\n",
      "  out=out, **kwargs)\n",
      "C:\\Users\\leero\\Anaconda3\\lib\\site-packages\\numpy\\core\\_methods.py:80: RuntimeWarning: invalid value encountered in double_scalars\n",
      "  ret = ret.dtype.type(ret / rcount)\n",
      "C:\\Users\\leero\\Anaconda3\\lib\\site-packages\\numpy\\core\\fromnumeric.py:3194: RuntimeWarning: Degrees of freedom <= 0 for slice\n",
      "  **kwargs)\n",
      "C:\\Users\\leero\\Anaconda3\\lib\\site-packages\\numpy\\core\\_methods.py:105: RuntimeWarning: invalid value encountered in true_divide\n",
      "  arrmean, rcount, out=arrmean, casting='unsafe', subok=False)\n",
      "C:\\Users\\leero\\Anaconda3\\lib\\site-packages\\numpy\\core\\_methods.py:127: RuntimeWarning: invalid value encountered in double_scalars\n",
      "  ret = ret.dtype.type(ret / rcount)\n",
      "C:\\Users\\leero\\Anaconda3\\lib\\site-packages\\scipy\\stats\\_distn_infrastructure.py:879: RuntimeWarning: invalid value encountered in greater\n",
      "  return (self.a < x) & (x < self.b)\n",
      "C:\\Users\\leero\\Anaconda3\\lib\\site-packages\\scipy\\stats\\_distn_infrastructure.py:879: RuntimeWarning: invalid value encountered in less\n",
      "  return (self.a < x) & (x < self.b)\n",
      "C:\\Users\\leero\\Anaconda3\\lib\\site-packages\\scipy\\stats\\_distn_infrastructure.py:1821: RuntimeWarning: invalid value encountered in less_equal\n",
      "  cond2 = cond0 & (x <= self.a)\n"
     ]
    }
   ],
   "source": [
    "print(len(df_pass)/len(df))\n",
    "\n",
    "for n in range(13):\n",
    "    q = df.loc[df.pub_rec_bankruptcies > n]['loan_status']\n",
    "    print(n,np.mean(q),stats.ttest_1samp(q,len(df_pass)/len(df)))"
   ]
  },
  {
   "cell_type": "code",
   "execution_count": 20,
   "metadata": {
    "scrolled": true
   },
   "outputs": [
    {
     "name": "stdout",
     "output_type": "stream",
     "text": [
      "                 n_samples    percent\n",
      "Not Verified        749220  14.468647\n",
      "Source Verified     969034  20.935282\n",
      "Verified            789386  23.670042\n"
     ]
    }
   ],
   "source": [
    "percentage(df,df_bad,'verification_status')"
   ]
  },
  {
   "cell_type": "markdown",
   "metadata": {},
   "source": [
    "Somehow it is safer to loan to people whose income wasn't verified."
   ]
  },
  {
   "cell_type": "code",
   "execution_count": 21,
   "metadata": {},
   "outputs": [
    {
     "name": "stdout",
     "output_type": "stream",
     "text": [
      "   n_samples    percent\n",
      "A     235730   6.510839\n",
      "B     473476  13.971564\n",
      "C     526972  23.120014\n",
      "D     295522  31.153687\n",
      "E     154562  39.232153\n",
      "F      55898  45.654585\n",
      "G      16260  50.172202\n"
     ]
    }
   ],
   "source": [
    "percentage(df.loc[df.verification_status!='Not Verified'],df_bad.loc[df_bad.verification_status!='Not Verified'],'grade')"
   ]
  },
  {
   "cell_type": "code",
   "execution_count": 23,
   "metadata": {},
   "outputs": [
    {
     "name": "stdout",
     "output_type": "stream",
     "text": [
      "   n_samples    percent\n",
      "A     198384   5.369385\n",
      "B     258432  11.956724\n",
      "C     184562  19.636762\n",
      "D      78528  26.179197\n",
      "E      22904  32.727908\n",
      "F       5416  38.774003\n",
      "G        994  45.674044\n"
     ]
    }
   ],
   "source": [
    "percentage(df.loc[df.verification_status=='Not Verified'],df_bad.loc[(df_bad.verification_status=='Not Verified')],'grade')"
   ]
  },
  {
   "cell_type": "markdown",
   "metadata": {},
   "source": [
    "WOW IT IS!"
   ]
  },
  {
   "cell_type": "code",
   "execution_count": 26,
   "metadata": {},
   "outputs": [
    {
     "name": "stdout",
     "output_type": "stream",
     "text": [
      "          n_samples    percent\n",
      "ANY             518  19.305019\n",
      "MORTGAGE    1242936  17.133947\n",
      "NONE             96  14.583333\n",
      "OTHER           288  18.750000\n",
      "OWN          266898  20.517201\n",
      "RENT         996904  23.094300\n",
      "ANY Ttest_1sampResult(statistic=0.3220755484142699, pvalue=0.7475256499097085)\n",
      "MORTGAGE Ttest_1sampResult(statistic=80.77804781573754, pvalue=0.0)\n",
      "NONE Ttest_1sampResult(statistic=1.4583396560222688, pvalue=0.14804517570683082)\n",
      "OTHER Ttest_1sampResult(statistic=0.48356067954584586, pvalue=0.6290664068190173)\n",
      "OWN Ttest_1sampResult(statistic=-8.355258414165064, pvalue=6.55968199052472e-17)\n",
      "RENT Ttest_1sampResult(statistic=-76.52878537793073, pvalue=0.0)\n"
     ]
    }
   ],
   "source": [
    "percentage(df,df_bad,'home_ownership')\n",
    "\n",
    "for thing in df.home_ownership.value_counts().sort_index().index.tolist():\n",
    "    print(thing,stats.ttest_1samp(df.loc[df.home_ownership==thing]['loan_status'],len(df_pass)/len(df)))"
   ]
  },
  {
   "cell_type": "markdown",
   "metadata": {},
   "source": [
    "Will delete these low sample items, I am not even sure what kind of mortgage is \"Any\", \"None\", or \"Other\""
   ]
  },
  {
   "cell_type": "code",
   "execution_count": 27,
   "metadata": {},
   "outputs": [
    {
     "name": "stdout",
     "output_type": "stream",
     "text": [
      "   n_samples    percent\n",
      "A     434114   5.989210\n",
      "B     731908  13.260137\n",
      "C     711534  22.216507\n",
      "D     374050  30.109344\n",
      "E     177466  38.392706\n",
      "F      61314  45.046808\n",
      "G      17254  49.913064\n"
     ]
    }
   ],
   "source": [
    "percentage(df,df_bad,'grade')"
   ]
  },
  {
   "cell_type": "code",
   "execution_count": 28,
   "metadata": {
    "scrolled": false
   },
   "outputs": [
    {
     "name": "stdout",
     "output_type": "stream",
     "text": [
      "    n_samples    percent\n",
      "A1      79660   3.218679\n",
      "A2      68442   4.631659\n",
      "A3      69396   5.481584\n",
      "A4      97030   6.742245\n",
      "A5     119586   8.295285\n",
      "B1     131774  10.266062\n",
      "B2     137888  11.251160\n",
      "B3     153242  12.862009\n",
      "B4     156188  14.705355\n",
      "B5     152816  16.576798\n",
      "C1     159434  18.791475\n",
      "C2     148146  20.579698\n",
      "C3     140024  22.303319\n",
      "C4     138548  24.688916\n",
      "C5     125382  25.676732\n",
      "D1      96310  27.646143\n",
      "D2      83326  29.268176\n",
      "D3      72988  30.172083\n",
      "D4      66020  32.247804\n",
      "D5      55406  33.025304\n",
      "E1      45432  36.084698\n",
      "E2      40602  37.549874\n",
      "E3      34722  38.672888\n",
      "E4      29760  40.080645\n",
      "E5      26950  41.328386\n",
      "F1      18972  42.040902\n",
      "F2      13834  45.294203\n",
      "F3      11694  44.894818\n",
      "F4       9324  47.683398\n",
      "F5       7490  49.158879\n",
      "G1       5526  48.172277\n",
      "G2       4114  49.052018\n",
      "G3       3102  51.321728\n",
      "G4       2410  50.705394\n",
      "G5       2102  53.187441\n"
     ]
    }
   ],
   "source": [
    "percentage(df,df_bad,'sub_grade')"
   ]
  },
  {
   "cell_type": "code",
   "execution_count": 29,
   "metadata": {},
   "outputs": [
    {
     "name": "stdout",
     "output_type": "stream",
     "text": [
      "                 n_samples    percent\n",
      "Not Verified         22572  21.664009\n",
      "Source Verified       7894  23.030149\n",
      "Verified              5834  25.917038\n"
     ]
    }
   ],
   "source": [
    "percentage(df,df_bad,'verification_status_joint')"
   ]
  },
  {
   "cell_type": "code",
   "execution_count": 30,
   "metadata": {},
   "outputs": [
    {
     "data": {
      "image/png": "[encoded data removed]",
      "text/plain": [
       "<Figure size 432x288 with 1 Axes>"
      ]
     },
     "metadata": {},
     "output_type": "display_data"
    },
    {
     "name": "stdout",
     "output_type": "stream",
     "text": [
      "count    2.507640e+06\n",
      "mean     1.602440e+01\n",
      "std      7.998902e+00\n",
      "min     -6.004110e+01\n",
      "25%      1.117534e+01\n",
      "50%      1.475616e+01\n",
      "75%      1.993151e+01\n",
      "max      4.970137e+01\n",
      "Name: length_of_cr, dtype: float64\n",
      "count    498120.000000\n",
      "mean         15.445255\n",
      "std           8.078662\n",
      "min         -58.709589\n",
      "25%          10.838356\n",
      "50%          14.178082\n",
      "75%          19.183562\n",
      "max          49.117808\n",
      "Name: length_of_cr, dtype: float64\n",
      "count    2.009520e+06\n",
      "mean     1.616796e+01\n",
      "std      7.972506e+00\n",
      "min     -6.004110e+01\n",
      "25%      1.126027e+01\n",
      "50%      1.484384e+01\n",
      "75%      2.009863e+01\n",
      "max      4.970137e+01\n",
      "Name: length_of_cr, dtype: float64\n"
     ]
    }
   ],
   "source": [
    "df_x,df_y = ecdf(df.length_of_cr)\n",
    "df_bad_x,df_bad_y = ecdf(df_bad.length_of_cr)\n",
    "df_pass_x,df_pass_y = ecdf(df_pass.length_of_cr)\n",
    "\n",
    "plt.plot(df_x,df_y,marker='.',linestyle='none',color='black',label='all')\n",
    "plt.plot(df_bad_x,df_bad_y,marker='.',linestyle='none',color='red',label='Charged off')\n",
    "plt.plot(df_pass_x,df_pass_y,marker='.',linestyle='none',color='blue',label='Fully Paid')\n",
    "plt.axis([0, 50, 0, 1])\n",
    "plt.title('Length of credit')\n",
    "plt.legend(loc='best')\n",
    "plt.show()\n",
    "\n",
    "print(df.length_of_cr.describe())\n",
    "print(df_bad.length_of_cr.describe())\n",
    "print(df_pass.length_of_cr.describe())\n"
   ]
  },
  {
   "cell_type": "code",
   "execution_count": 31,
   "metadata": {},
   "outputs": [
    {
     "name": "stdout",
     "output_type": "stream",
     "text": [
      "           n_samples    percent\n",
      "1 year        164812  79.530617\n",
      "10+ years     824588  81.274770\n",
      "2 years       226758  80.266187\n",
      "3 years       200576  80.089343\n",
      "4 years       150192  80.298551\n",
      "5 years       157126  80.488271\n",
      "6 years       117608  80.751309\n",
      "7 years       112658  80.557084\n",
      "8 years       115110  80.118148\n",
      "9 years        95802  80.123588\n",
      "< 1 year      199366  79.663533\n",
      "1 year Ttest_1sampResult(statistic=-6.0902565475575265, pvalue=1.129779246201112e-09)\n",
      "10+ years Ttest_1sampResult(statistic=26.50935345715457, pvalue=8.785825766331608e-155)\n",
      "2 years Ttest_1sampResult(statistic=1.5588113605122256, pvalue=0.11904243012481995)\n",
      "3 years Ttest_1sampResult(statistic=-0.5222034035708175, pvalue=0.6015292932104181)\n",
      "4 years Ttest_1sampResult(statistic=1.5847609925570736, pvalue=0.11302275354962361)\n",
      "5 years Ttest_1sampResult(statistic=3.524538988044876, pvalue=0.00042434091868409)\n",
      "6 years Ttest_1sampResult(statistic=5.353059299322614, pvalue=8.664095798806202e-08)\n",
      "7 years Ttest_1sampResult(statistic=3.572019737081133, pvalue=0.00035438629093594574)\n",
      "8 years Ttest_1sampResult(statistic=-0.15094748548424036, pvalue=0.8800174061137945)\n",
      "9 years Ttest_1sampResult(statistic=-0.09552588565545302, pvalue=0.9238973302905269)\n",
      "< 1 year Ttest_1sampResult(statistic=-5.2401100357288755, pvalue=1.6064357196733764e-07)\n"
     ]
    }
   ],
   "source": [
    "percentage(df,df_pass,'emp_length')\n",
    "\n",
    "for thing in df.emp_length.value_counts().sort_index().index.tolist():\n",
    "    print(thing,stats.ttest_1samp(df.loc[df.emp_length==thing]['loan_status'],len(df_pass)/len(df)))"
   ]
  },
  {
   "cell_type": "code",
   "execution_count": 32,
   "metadata": {},
   "outputs": [
    {
     "name": "stdout",
     "output_type": "stream",
     "text": [
      "1 year 10+ years Ttest_1sampResult(statistic=-17.54923472544548, pvalue=6.966809172544858e-69)\n",
      "1 year 2 years Ttest_1sampResult(statistic=-7.4011233815056165, pvalue=1.356754216406228e-13)\n",
      "1 year 3 years Ttest_1sampResult(statistic=-5.621761500254535, pvalue=1.893245908475725e-08)\n",
      "1 year 4 years Ttest_1sampResult(statistic=-7.726765172313763, pvalue=1.1093173113161582e-14)\n",
      "1 year 5 years Ttest_1sampResult(statistic=-9.635674155260396, pvalue=5.727945444501161e-22)\n",
      "1 year 6 years Ttest_1sampResult(statistic=-12.282305679276645, pvalue=1.1674927004854931e-34)\n",
      "1 year 7 years Ttest_1sampResult(statistic=-10.328060563078918, pvalue=5.35464019163651e-25)\n",
      "1 year 8 years Ttest_1sampResult(statistic=-5.911591888229744, pvalue=3.3948090458438276e-09)\n",
      "1 year 9 years Ttest_1sampResult(statistic=-5.966331588972595, pvalue=2.4313966658974166e-09)\n",
      "1 year < 1 year Ttest_1sampResult(statistic=-1.3373746516674976, pvalue=0.18110221996501655)\n",
      "10+ years 1 year Ttest_1sampResult(statistic=40.59863445216469, pvalue=0.0)\n",
      "10+ years 2 years Ttest_1sampResult(statistic=23.476776581892906, pvalue=7.726415560426093e-122)\n",
      "10+ years 3 years Ttest_1sampResult(statistic=27.59317616883814, pvalue=1.6023401005121585e-167)\n",
      "10+ years 4 years Ttest_1sampResult(statistic=22.723432505401693, pvalue=2.850535144571857e-114)\n",
      "10+ years 5 years Ttest_1sampResult(statistic=18.307336919835553, pvalue=7.4841311883270265e-75)\n",
      "10+ years 6 years Ttest_1sampResult(statistic=12.184584135788802, pvalue=3.7811594631106267e-34)\n",
      "10+ years 7 years Ttest_1sampResult(statistic=16.70556093869185, pvalue=1.2227278405072417e-62)\n",
      "10+ years 8 years Ttest_1sampResult(statistic=26.922678670877534, pvalue=1.3982374517428178e-159)\n",
      "10+ years 9 years Ttest_1sampResult(statistic=26.796043114669626, pvalue=4.202593908671798e-158)\n",
      "10+ years < 1 year Ttest_1sampResult(statistic=37.50473403667169, pvalue=1.4051521359867244e-307)\n",
      "2 years 1 year Ttest_1sampResult(statistic=8.801012359811123, pvalue=1.3651022479192918e-18)\n",
      "2 years 10+ years Ttest_1sampResult(statistic=-12.06758065808451, pvalue=1.6042889934629568e-33)\n",
      "2 years 3 years Ttest_1sampResult(statistic=2.115920124855664, pvalue=0.03435268837567823)\n",
      "2 years 4 years Ttest_1sampResult(statistic=-0.3872354611646133, pvalue=0.6985822632497662)\n",
      "2 years 5 years Ttest_1sampResult(statistic=-2.6572059354644337, pvalue=0.007879681561497858)\n",
      "2 years 6 years Ttest_1sampResult(statistic=-5.8044358293666, pvalue=6.466870078104309e-09)\n",
      "2 years 7 years Ttest_1sampResult(statistic=-3.4805540974749944, pvalue=0.000500471770730026)\n",
      "2 years 8 years Ttest_1sampResult(statistic=1.7712696312302278, pvalue=0.07651721792701537)\n",
      "2 years 9 years Ttest_1sampResult(statistic=1.7061761639311874, pvalue=0.08797665461131378)\n",
      "2 years < 1 year Ttest_1sampResult(statistic=7.210679347874588, pvalue=5.584591837401098e-13)\n",
      "3 years 1 year Ttest_1sampResult(statistic=6.266241247151724, pvalue=3.706144356198851e-10)\n",
      "3 years 10+ years Ttest_1sampResult(statistic=-13.294840895439144, pvalue=2.5795518950941146e-40)\n",
      "3 years 2 years Ttest_1sampResult(statistic=-1.983348246523831, pvalue=0.04732990513174261)\n",
      "3 years 4 years Ttest_1sampResult(statistic=-2.3463216706482757, pvalue=0.018960704492568575)\n",
      "3 years 5 years Ttest_1sampResult(statistic=-4.474068321845956, pvalue=7.678730117386949e-06)\n",
      "3 years 6 years Ttest_1sampResult(statistic=-7.424110158564174, pvalue=1.1398683021928597e-13)\n",
      "3 years 7 years Ttest_1sampResult(statistic=-5.245830031666481, pvalue=1.55737722999996e-07)\n",
      "3 years 8 years Ttest_1sampResult(statistic=-0.3230565956464025, pvalue=0.7466527176291334)\n",
      "3 years 9 years Ttest_1sampResult(statistic=-0.3840716655023664, pvalue=0.7009257387320302)\n",
      "3 years < 1 year Ttest_1sampResult(statistic=4.775549725500617, pvalue=1.7934323837754929e-06)\n",
      "4 years 1 year Ttest_1sampResult(statistic=7.482439052562483, pvalue=7.335084479057204e-14)\n",
      "4 years 10+ years Ttest_1sampResult(statistic=-9.511875686387722, pvalue=1.898800012302349e-21)\n",
      "4 years 2 years Ttest_1sampResult(statistic=0.3153447527330028, pvalue=0.7525003473780317)\n",
      "4 years 3 years Ttest_1sampResult(statistic=2.0384418744910464, pvalue=0.04150750992037611)\n",
      "4 years 5 years Ttest_1sampResult(statistic=-1.848547846771188, pvalue=0.064525093594903)\n",
      "4 years 6 years Ttest_1sampResult(statistic=-4.4114908936234976, pvalue=1.0273254336422176e-05)\n",
      "4 years 7 years Ttest_1sampResult(statistic=-2.5190404761949705, pvalue=0.011768542245696364)\n",
      "4 years 8 years Ttest_1sampResult(statistic=1.7577761411288342, pvalue=0.07878764332875737)\n",
      "4 years 9 years Ttest_1sampResult(statistic=1.7047673508485872, pvalue=0.08823989110643286)\n",
      "4 years < 1 year Ttest_1sampResult(statistic=6.187353192130217, pvalue=6.133993006753169e-10)\n",
      "5 years 1 year Ttest_1sampResult(statistic=9.578930606799714, pvalue=9.940560649397067e-22)\n",
      "5 years 10+ years Ttest_1sampResult(statistic=-7.866958381228156, pvalue=3.656595755528459e-15)\n",
      "5 years 2 years Ttest_1sampResult(statistic=2.2213917214585597, pvalue=0.026325860717246755)\n",
      "5 years 3 years Ttest_1sampResult(statistic=3.9902751135545524, pvalue=6.602659982877542e-05)\n",
      "5 years 4 years Ttest_1sampResult(statistic=1.8976676035023383, pvalue=0.05774171399507122)\n",
      "5 years 6 years Ttest_1sampResult(statistic=-2.631045768238218, pvalue=0.008513087871513812)\n",
      "5 years 7 years Ttest_1sampResult(statistic=-0.6883090115665828, pvalue=0.49125922422873813)\n",
      "5 years 8 years Ttest_1sampResult(statistic=3.702151508561048, pvalue=0.00021385190514075581)\n",
      "5 years 9 years Ttest_1sampResult(statistic=3.647734164594876, pvalue=0.00026464863885219524)\n",
      "5 years < 1 year Ttest_1sampResult(statistic=8.249431624455836, pvalue=1.603608398113941e-16)\n",
      "6 years 1 year Ttest_1sampResult(statistic=10.618118370020264, pvalue=2.5229779435070877e-26)\n",
      "6 years 10+ years Ttest_1sampResult(statistic=-4.553288081168506, pvalue=5.28667228301498e-06)\n",
      "6 years 2 years Ttest_1sampResult(statistic=4.219807972279086, pvalue=2.446935090736366e-05)\n",
      "6 years 3 years Ttest_1sampResult(statistic=5.758075751276314, pvalue=8.528905460704348e-09)\n",
      "6 years 4 years Ttest_1sampResult(statistic=3.938288917851032, pvalue=8.211201634463687e-05)\n",
      "6 years 5 years Ttest_1sampResult(statistic=2.2880269826900057, pvalue=0.022137715753832766)\n",
      "6 years 7 years Ttest_1sampResult(statistic=1.689455262690022, pvalue=0.09113486884847623)\n",
      "6 years 8 years Ttest_1sampResult(statistic=5.50751584443878, pvalue=3.6469143564224075e-08)\n",
      "6 years 9 years Ttest_1sampResult(statistic=5.4601930829634835, pvalue=4.765759956580413e-08)\n",
      "6 years < 1 year Ttest_1sampResult(statistic=9.461950894036518, pvalue=3.075582477903738e-21)\n",
      "7 years 1 year Ttest_1sampResult(statistic=8.705460668300448, pvalue=3.2044966107780937e-18)\n",
      "7 years 10+ years Ttest_1sampResult(statistic=-6.086684645726859, pvalue=1.1564305890529122e-09)\n",
      "7 years 2 years Ttest_1sampResult(statistic=2.4670978986955663, pvalue=0.013622787041533422)\n",
      "7 years 3 years Ttest_1sampResult(statistic=3.9669114190847785, pvalue=7.285503833446826e-05)\n",
      "7 years 4 years Ttest_1sampResult(statistic=2.1926163748391514, pvalue=0.028337068001370518)\n",
      "7 years 5 years Ttest_1sampResult(statistic=0.5836083748460413, pvalue=0.5594849927313159)\n",
      "7 years 6 years Ttest_1sampResult(statistic=-1.6472215563970218, pvalue=0.09951530355720856)\n",
      "7 years 8 years Ttest_1sampResult(statistic=3.7226151131533314, pvalue=0.000197265863147732)\n",
      "7 years 9 years Ttest_1sampResult(statistic=3.6764753457787127, pvalue=0.0002365884511863718)\n",
      "7 years < 1 year Ttest_1sampResult(statistic=7.57819554841015, pvalue=3.530562982836156e-14)\n",
      "8 years 1 year Ttest_1sampResult(statistic=4.9944960245338965, pvalue=5.907567333065707e-07)\n",
      "8 years 10+ years Ttest_1sampResult(statistic=-9.832235036580807, pvalue=8.349410690875264e-23)\n",
      "8 years 2 years Ttest_1sampResult(statistic=-1.2584527589593413, pvalue=0.20823061419674987)\n",
      "8 years 3 years Ttest_1sampResult(statistic=0.24486749895801366, pvalue=0.8065594642496174)\n",
      "8 years 4 years Ttest_1sampResult(statistic=-1.5335760523740407, pvalue=0.1251367317737449)\n",
      "8 years 5 years Ttest_1sampResult(statistic=-3.1463460992216112, pvalue=0.0016536635147317454)\n",
      "8 years 6 years Ttest_1sampResult(statistic=-5.382391968934654, pvalue=7.364570944957508e-08)\n",
      "8 years 7 years Ttest_1sampResult(statistic=-3.73131901796727, pvalue=0.00019057129592365372)\n"
     ]
    },
    {
     "name": "stdout",
     "output_type": "stream",
     "text": [
      "8 years 9 years Ttest_1sampResult(statistic=-0.04624764748877448, pvalue=0.9631129461010315)\n",
      "8 years < 1 year Ttest_1sampResult(statistic=3.8645952283769525, pvalue=0.00011133455321026116)\n",
      "9 years 1 year Ttest_1sampResult(statistic=4.599066367733433, pvalue=4.249303599595475e-06)\n",
      "9 years 10+ years Ttest_1sampResult(statistic=-8.928524917073833, pvalue=4.391236282967955e-19)\n",
      "9 years 2 years Ttest_1sampResult(statistic=-1.1059899335690255, pvalue=0.2687336537618484)\n",
      "9 years 3 years Ttest_1sampResult(statistic=0.2656072131959807, pvalue=0.7905423012907054)\n",
      "9 years 4 years Ttest_1sampResult(statistic=-1.3570065231937618, pvalue=0.1747823349902747)\n",
      "9 years 5 years Ttest_1sampResult(statistic=-2.828463308927971, pvalue=0.004678176982406865)\n",
      "9 years 6 years Ttest_1sampResult(statistic=-4.868583581891587, pvalue=1.1257957809525225e-06)\n",
      "9 years 7 years Ttest_1sampResult(statistic=-3.362180048299185, pvalue=0.000773599216788433)\n",
      "9 years 8 years Ttest_1sampResult(statistic=0.04219536123864575, pvalue=0.9663430483987271)\n",
      "9 years < 1 year Ttest_1sampResult(statistic=3.5681691254629353, pvalue=0.0003596598621083484)\n",
      "< 1 year 1 year Ttest_1sampResult(statistic=1.4744718020012868, pvalue=0.14035618350156837)\n",
      "< 1 year 10+ years Ttest_1sampResult(statistic=-17.873772698601446, pvalue=2.1470212948536576e-71)\n",
      "< 1 year 2 years Ttest_1sampResult(statistic=-6.685356646635712, pvalue=2.3096623677693927e-11)\n",
      "< 1 year 3 years Ttest_1sampResult(statistic=-4.723588554060129, pvalue=2.3187644371897703e-06)\n",
      "< 1 year 4 years Ttest_1sampResult(statistic=-7.044380677412086, pvalue=1.8688729021627004e-12)\n",
      "< 1 year 5 years Ttest_1sampResult(statistic=-9.148976023549654, pvalue=5.799490080978957e-20)\n",
      "< 1 year 6 years Ttest_1sampResult(statistic=-12.066919434234153, pvalue=1.622489125994985e-33)\n",
      "< 1 year 7 years Ttest_1sampResult(statistic=-9.912340450372358, pvalue=3.7249556950187035e-23)\n",
      "< 1 year 8 years Ttest_1sampResult(statistic=-5.043130078119751, pvalue=4.583780874595872e-07)\n",
      "< 1 year 9 years Ttest_1sampResult(statistic=-5.103481263253018, pvalue=3.3376678214042915e-07)\n"
     ]
    }
   ],
   "source": [
    "import itertools\n",
    "for emp_len1, emp_len2 in itertools.permutations(df.emp_length.value_counts().sort_index().index.tolist(),2):\n",
    "    print(emp_len1,emp_len2,stats.ttest_1samp(df.loc[df.emp_length==emp_len1]['loan_status'],np.mean(df.loc[df.emp_length==emp_len2]['loan_status'])))"
   ]
  },
  {
   "cell_type": "code",
   "execution_count": 33,
   "metadata": {},
   "outputs": [
    {
     "name": "stdout",
     "output_type": "stream",
     "text": [
      "Ttest_1sampResult(statistic=1.4744718020012868, pvalue=0.14035618350156837)\n"
     ]
    },
    {
     "data": {
      "text/plain": [
       "Ttest_1sampResult(statistic=-1.3373746516674976, pvalue=0.18110221996501655)"
      ]
     },
     "execution_count": 33,
     "metadata": {},
     "output_type": "execute_result"
    }
   ],
   "source": [
    "print(stats.ttest_1samp(df.loc[df.emp_length=='< 1 year']['loan_status'],np.mean(df.loc[df.emp_length=='1 year']['loan_status'])))\n",
    "stats.ttest_1samp(df.loc[df.emp_length=='1 year']['loan_status'],np.mean(df.loc[df.emp_length=='< 1 year']['loan_status']))"
   ]
  },
  {
   "cell_type": "code",
   "execution_count": 34,
   "metadata": {},
   "outputs": [
    {
     "data": {
      "image/png": "[encoded data removed]",
      "text/plain": [
       "<Figure size 432x288 with 1 Axes>"
      ]
     },
     "metadata": {},
     "output_type": "display_data"
    },
    {
     "name": "stdout",
     "output_type": "stream",
     "text": [
      "count    2.507640e+06\n",
      "mean     7.609940e+04\n",
      "std      6.969604e+04\n",
      "min      0.000000e+00\n",
      "25%      4.594575e+04\n",
      "50%      6.500000e+04\n",
      "75%      9.000000e+04\n",
      "max      1.099920e+07\n",
      "Name: annual_inc, dtype: float64\n",
      "count    4.981200e+05\n",
      "mean     7.024296e+04\n",
      "std      6.568454e+04\n",
      "min      0.000000e+00\n",
      "25%      4.300000e+04\n",
      "50%      6.000000e+04\n",
      "75%      8.500000e+04\n",
      "max      9.500000e+06\n",
      "Name: annual_inc, dtype: float64\n",
      "count    2.009520e+06\n",
      "mean     7.755109e+04\n",
      "std      7.058010e+04\n",
      "min      0.000000e+00\n",
      "25%      4.700000e+04\n",
      "50%      6.500000e+04\n",
      "75%      9.270000e+04\n",
      "max      1.099920e+07\n",
      "Name: annual_inc, dtype: float64\n"
     ]
    }
   ],
   "source": [
    "df_x,df_y = ecdf(df.annual_inc)\n",
    "df_bad_x,df_bad_y = ecdf(df_bad.annual_inc)\n",
    "df_pass_x,df_pass_y = ecdf(df_pass.annual_inc)\n",
    "\n",
    "plt.plot(df_x,df_y,marker='.',linestyle='none',color='black',label='all')\n",
    "plt.plot(df_bad_x,df_bad_y,marker='.',linestyle='none',color='red',label='Charged off')\n",
    "plt.plot(df_pass_x,df_pass_y,marker='.',linestyle='none',color='blue',label='Fully Paid')\n",
    "plt.axis([0, 250000, 0, 1])\n",
    "plt.title('Annual Income')\n",
    "plt.legend(loc='best')\n",
    "plt.show()\n",
    "\n",
    "print(df.annual_inc.describe())\n",
    "print(df_bad.annual_inc.describe())\n",
    "print(df_pass.annual_inc.describe())"
   ]
  },
  {
   "cell_type": "code",
   "execution_count": 35,
   "metadata": {},
   "outputs": [
    {
     "data": {
      "image/png": "[encoded data removed]",
      "text/plain": [
       "<Figure size 432x288 with 1 Axes>"
      ]
     },
     "metadata": {},
     "output_type": "display_data"
    },
    {
     "name": "stdout",
     "output_type": "stream",
     "text": [
      "count    2.507172e+06\n",
      "mean     1.822313e+01\n",
      "std      1.051788e+01\n",
      "min     -1.000000e+00\n",
      "25%      1.181000e+01\n",
      "50%      1.761000e+01\n",
      "75%      2.401000e+01\n",
      "max      9.990000e+02\n",
      "Name: dti, dtype: float64\n",
      "count    498034.000000\n",
      "mean         20.132151\n",
      "std          10.537612\n",
      "min           0.000000\n",
      "25%          13.630000\n",
      "50%          19.800000\n",
      "75%          26.310000\n",
      "max         999.000000\n",
      "Name: dti, dtype: float64\n",
      "count    2.009138e+06\n",
      "mean     1.774991e+01\n",
      "std      1.045924e+01\n",
      "min     -1.000000e+00\n",
      "25%      1.143000e+01\n",
      "50%      1.709000e+01\n",
      "75%      2.339000e+01\n",
      "max      9.990000e+02\n",
      "Name: dti, dtype: float64\n"
     ]
    }
   ],
   "source": [
    "df_x,df_y = ecdf(df.dti)\n",
    "df_bad_x,df_bad_y = ecdf(df_bad.dti)\n",
    "df_pass_x,df_pass_y = ecdf(df_pass.dti)\n",
    "\n",
    "plt.plot(df_x,df_y,marker='.',linestyle='none',color='black',label='all')\n",
    "plt.plot(df_bad_x,df_bad_y,marker='.',linestyle='none',color='red',label='Charged off')\n",
    "plt.plot(df_pass_x,df_pass_y,marker='.',linestyle='none',color='blue',label='Fully Paid')\n",
    "plt.axis([0, 40, 0, 1])\n",
    "plt.title('Debt to Income')\n",
    "plt.legend(loc='best')\n",
    "plt.show()\n",
    "\n",
    "print(df.dti.describe())\n",
    "print(df_bad.dti.describe())\n",
    "print(df_pass.dti.describe())"
   ]
  },
  {
   "cell_type": "code",
   "execution_count": 36,
   "metadata": {},
   "outputs": [
    {
     "data": {
      "image/png": "[encoded data removed]",
      "text/plain": [
       "<Figure size 432x288 with 1 Axes>"
      ]
     },
     "metadata": {},
     "output_type": "display_data"
    },
    {
     "name": "stdout",
     "output_type": "stream",
     "text": [
      "count    36552.000000\n",
      "mean        18.686105\n",
      "std          7.573205\n",
      "min          0.000000\n",
      "25%         13.217500\n",
      "50%         18.265000\n",
      "75%         23.832500\n",
      "max         69.490000\n",
      "Name: dti_joint, dtype: float64\n",
      "count    8248.000000\n",
      "mean       20.652650\n",
      "std         7.692684\n",
      "min         0.770000\n",
      "25%        15.340000\n",
      "50%        20.600000\n",
      "75%        25.830000\n",
      "max        69.490000\n",
      "Name: dti_joint, dtype: float64\n",
      "count    28304.000000\n",
      "mean        18.113038\n",
      "std          7.441006\n",
      "min          0.000000\n",
      "25%         12.770000\n",
      "50%         17.590000\n",
      "75%         23.070000\n",
      "max         61.900000\n",
      "Name: dti_joint, dtype: float64\n"
     ]
    }
   ],
   "source": [
    "df_x,df_y = ecdf(df.dti_joint.dropna())\n",
    "df_bad_x,df_bad_y = ecdf(df_bad.dti_joint.dropna())\n",
    "df_pass_x,df_pass_y = ecdf(df_pass.dti_joint.dropna())\n",
    "\n",
    "plt.plot(df_x,df_y,marker='.',linestyle='none',color='black',label='all')\n",
    "plt.plot(df_bad_x,df_bad_y,marker='.',linestyle='none',color='red',label='Charged off')\n",
    "plt.plot(df_pass_x,df_pass_y,marker='.',linestyle='none',color='blue',label='Fully Paid')\n",
    "plt.axis([0, 40, 0, 1])\n",
    "plt.title('Debt to Income for Joint')\n",
    "plt.legend(loc='best')\n",
    "plt.show()\n",
    "\n",
    "print(df.dti_joint.describe())\n",
    "print(df_bad.dti_joint.describe())\n",
    "print(df_pass.dti_joint.describe())"
   ]
  },
  {
   "cell_type": "code",
   "execution_count": 37,
   "metadata": {},
   "outputs": [
    {
     "data": {
      "image/png": "[encoded data removed]",
      "text/plain": [
       "<Figure size 432x288 with 1 Axes>"
      ]
     },
     "metadata": {},
     "output_type": "display_data"
    },
    {
     "name": "stdout",
     "output_type": "stream",
     "text": [
      "count    2.507640e+06\n",
      "mean     1.441101e+04\n",
      "std      8.663254e+03\n",
      "min      5.000000e+02\n",
      "25%      8.000000e+03\n",
      "50%      1.200000e+04\n",
      "75%      2.000000e+04\n",
      "max      4.000000e+04\n",
      "Name: loan_amnt, dtype: float64\n",
      "count    498120.000000\n",
      "mean      15507.632097\n",
      "std        8743.623101\n",
      "min         900.000000\n",
      "25%        9000.000000\n",
      "50%       14250.000000\n",
      "75%       20200.000000\n",
      "max       40000.000000\n",
      "Name: loan_amnt, dtype: float64\n",
      "count    2.009520e+06\n",
      "mean     1.413918e+04\n",
      "std      8.621673e+03\n",
      "min      5.000000e+02\n",
      "25%      7.500000e+03\n",
      "50%      1.200000e+04\n",
      "75%      2.000000e+04\n",
      "max      4.000000e+04\n",
      "Name: loan_amnt, dtype: float64\n"
     ]
    }
   ],
   "source": [
    "df_x,df_y = ecdf(df.loan_amnt)\n",
    "df_bad_x,df_bad_y = ecdf(df_bad.loan_amnt)\n",
    "df_pass_x,df_pass_y = ecdf(df_pass.loan_amnt)\n",
    "\n",
    "plt.plot(df_x,df_y,marker='.',linestyle='none',color='black',label='all')\n",
    "plt.plot(df_bad_x,df_bad_y,marker='.',linestyle='none',color='red',label='Charged off')\n",
    "plt.plot(df_pass_x,df_pass_y,marker='.',linestyle='none',color='blue',label='Fully Paid')\n",
    "plt.axis([0, 40000, 0, 1])\n",
    "plt.title('Loan Amount')\n",
    "plt.legend(loc='best')\n",
    "plt.show()\n",
    "\n",
    "print(df.loan_amnt.describe())\n",
    "print(df_bad.loan_amnt.describe())\n",
    "print(df_pass.loan_amnt.describe())"
   ]
  },
  {
   "cell_type": "code",
   "execution_count": 38,
   "metadata": {},
   "outputs": [
    {
     "data": {
      "image/png": "[encoded data removed]",
      "text/plain": [
       "<Figure size 432x288 with 1 Axes>"
      ]
     },
     "metadata": {},
     "output_type": "display_data"
    },
    {
     "name": "stdout",
     "output_type": "stream",
     "text": [
      "count    426228.000000\n",
      "mean         70.417044\n",
      "std          26.664615\n",
      "min           0.000000\n",
      "25%          53.000000\n",
      "50%          71.000000\n",
      "75%          90.000000\n",
      "max         129.000000\n",
      "Name: mths_since_last_record, dtype: float64\n",
      "count    96542.000000\n",
      "mean        70.763875\n",
      "std         26.407839\n",
      "min          0.000000\n",
      "25%         53.000000\n",
      "50%         72.000000\n",
      "75%         90.000000\n",
      "max        129.000000\n",
      "Name: mths_since_last_record, dtype: float64\n",
      "count    329686.000000\n",
      "mean         70.315482\n",
      "std          26.738528\n",
      "min           0.000000\n",
      "25%          52.000000\n",
      "50%          71.000000\n",
      "75%          90.000000\n",
      "max         123.000000\n",
      "Name: mths_since_last_record, dtype: float64\n"
     ]
    }
   ],
   "source": [
    "df_x,df_y = ecdf(df.mths_since_last_record.dropna())\n",
    "df_bad_x,df_bad_y = ecdf(df_bad.mths_since_last_record.dropna())\n",
    "df_pass_x,df_pass_y = ecdf(df_pass.mths_since_last_record.dropna())\n",
    "\n",
    "plt.plot(df_x,df_y,marker='.',linestyle='none',color='black',label='all')\n",
    "plt.plot(df_bad_x,df_bad_y,marker='.',linestyle='none',color='red',label='Charged off')\n",
    "plt.plot(df_pass_x,df_pass_y,marker='.',linestyle='none',color='blue',label='Fully Paid')\n",
    "plt.axis([0, 120, 0, 1])\n",
    "plt.title('mths_since_last_delinqt')\n",
    "plt.legend(loc='best')\n",
    "plt.show()\n",
    "\n",
    "print(df.mths_since_last_record.describe())\n",
    "print(df_bad.mths_since_last_record.describe())\n",
    "print(df_pass.mths_since_last_record.describe())\n"
   ]
  },
  {
   "cell_type": "code",
   "execution_count": 39,
   "metadata": {},
   "outputs": [
    {
     "data": {
      "image/png": "[encoded data removed]",
      "text/plain": [
       "<Figure size 432x288 with 1 Axes>"
      ]
     },
     "metadata": {},
     "output_type": "display_data"
    },
    {
     "name": "stdout",
     "output_type": "stream",
     "text": [
      "count    2.507640e+06\n",
      "mean     6.998591e+02\n",
      "std      3.161493e+01\n",
      "min      6.290000e+02\n",
      "25%      6.740000e+02\n",
      "50%      6.940000e+02\n",
      "75%      7.140000e+02\n",
      "max      8.500000e+02\n",
      "Name: fico_range_high, dtype: float64\n",
      "count    498120.000000\n",
      "mean        691.429563\n",
      "std          25.552005\n",
      "min         664.000000\n",
      "25%         674.000000\n",
      "50%         684.000000\n",
      "75%         704.000000\n",
      "max         850.000000\n",
      "Name: fico_range_high, dtype: float64\n",
      "count    2.009520e+06\n",
      "mean     7.019486e+02\n",
      "std      3.261042e+01\n",
      "min      6.290000e+02\n",
      "25%      6.790000e+02\n",
      "50%      6.940000e+02\n",
      "75%      7.190000e+02\n",
      "max      8.500000e+02\n",
      "Name: fico_range_high, dtype: float64\n"
     ]
    }
   ],
   "source": [
    "df_x,df_y = ecdf(df.fico_range_high)\n",
    "df_bad_x,df_bad_y = ecdf(df_bad.fico_range_high)\n",
    "df_pass_x,df_pass_y = ecdf(df_pass.fico_range_high)\n",
    "\n",
    "plt.plot(df_x,df_y,marker='.',linestyle='none',color='black',label='all')\n",
    "plt.plot(df_bad_x,df_bad_y,marker='.',linestyle='none',color='red',label='Charged off')\n",
    "plt.plot(df_pass_x,df_pass_y,marker='.',linestyle='none',color='blue',label='Fully Paid')\n",
    "plt.axis([625, 850, 0, 1])\n",
    "plt.title('FICO UPPER RANGE')\n",
    "plt.legend(loc='best')\n",
    "plt.show()\n",
    "\n",
    "print(df.fico_range_high.describe())\n",
    "print(df_bad.fico_range_high.describe())\n",
    "print(df_pass.fico_range_high.describe())"
   ]
  },
  {
   "cell_type": "code",
   "execution_count": 40,
   "metadata": {},
   "outputs": [
    {
     "data": {
      "image/png": "[encoded data removed]",
      "text/plain": [
       "<Figure size 432x288 with 1 Axes>"
      ]
     },
     "metadata": {},
     "output_type": "display_data"
    },
    {
     "name": "stdout",
     "output_type": "stream",
     "text": [
      "count    2.507640e+06\n",
      "mean     6.958590e+02\n",
      "std      3.161433e+01\n",
      "min      6.250000e+02\n",
      "25%      6.700000e+02\n",
      "50%      6.900000e+02\n",
      "75%      7.100000e+02\n",
      "max      8.450000e+02\n",
      "Name: fico_range_low, dtype: float64\n",
      "count    498120.000000\n",
      "mean        687.429515\n",
      "std          25.551707\n",
      "min         660.000000\n",
      "25%         670.000000\n",
      "50%         680.000000\n",
      "75%         700.000000\n",
      "max         845.000000\n",
      "Name: fico_range_low, dtype: float64\n",
      "count    2.009520e+06\n",
      "mean     6.979485e+02\n",
      "std      3.260976e+01\n",
      "min      6.250000e+02\n",
      "25%      6.750000e+02\n",
      "50%      6.900000e+02\n",
      "75%      7.150000e+02\n",
      "max      8.450000e+02\n",
      "Name: fico_range_low, dtype: float64\n"
     ]
    }
   ],
   "source": [
    "df_x,df_y = ecdf(df.fico_range_low)\n",
    "df_bad_x,df_bad_y = ecdf(df_bad.fico_range_low)\n",
    "df_pass_x,df_pass_y = ecdf(df_pass.fico_range_low)\n",
    "\n",
    "plt.plot(df_x,df_y,marker='.',linestyle='none',color='black',label='all')\n",
    "plt.plot(df_bad_x,df_bad_y,marker='.',linestyle='none',color='red',label='Charged off')\n",
    "plt.plot(df_pass_x,df_pass_y,marker='.',linestyle='none',color='blue',label='Fully Paid')\n",
    "plt.axis([625, 850, 0, 1])\n",
    "plt.title('FICO LOWER RANGE')\n",
    "plt.legend(loc='best')\n",
    "plt.show()\n",
    "\n",
    "print(df.fico_range_low.describe())\n",
    "print(df_bad.fico_range_low.describe())\n",
    "print(df_pass.fico_range_low.describe())"
   ]
  },
  {
   "cell_type": "code",
   "execution_count": 41,
   "metadata": {},
   "outputs": [
    {
     "data": {
      "image/png": "[encoded data removed]",
      "text/plain": [
       "<Figure size 432x288 with 1 Axes>"
      ]
     },
     "metadata": {},
     "output_type": "display_data"
    },
    {
     "name": "stdout",
     "output_type": "stream",
     "text": [
      "count    2.386342e+06\n",
      "mean     6.044169e+01\n",
      "std      2.812853e+01\n",
      "min      0.000000e+00\n",
      "25%      3.900000e+01\n",
      "50%      6.380000e+01\n",
      "75%      8.510000e+01\n",
      "max      3.396000e+02\n",
      "Name: bc_util, dtype: float64\n",
      "count    478756.000000\n",
      "mean         64.283428\n",
      "std          27.382505\n",
      "min           0.000000\n",
      "25%          44.600000\n",
      "50%          68.800000\n",
      "75%          88.300000\n",
      "max         255.200000\n",
      "Name: bc_util, dtype: float64\n",
      "count    1.907586e+06\n",
      "mean     5.947751e+01\n",
      "std      2.823074e+01\n",
      "min      0.000000e+00\n",
      "25%      3.780000e+01\n",
      "50%      6.250000e+01\n",
      "75%      8.430000e+01\n",
      "max      3.396000e+02\n",
      "Name: bc_util, dtype: float64\n"
     ]
    }
   ],
   "source": [
    "df_x,df_y = ecdf(df.bc_util)\n",
    "df_bad_x,df_bad_y = ecdf(df_bad.bc_util)\n",
    "df_pass_x,df_pass_y = ecdf(df_pass.bc_util)\n",
    "\n",
    "plt.plot(df_x,df_y,marker='.',linestyle='none',color='black',label='all')\n",
    "plt.plot(df_bad_x,df_bad_y,marker='.',linestyle='none',color='red',label='Charged off')\n",
    "plt.plot(df_pass_x,df_pass_y,marker='.',linestyle='none',color='blue',label='Fully Paid')\n",
    "plt.axis([0, 100, 0, 1])\n",
    "plt.title('Bank Card Utlitization')\n",
    "plt.legend(loc='best')\n",
    "plt.show()\n",
    "\n",
    "print(df.bc_util.describe())\n",
    "print(df_bad.bc_util.describe())\n",
    "print(df_pass.bc_util.describe())"
   ]
  },
  {
   "cell_type": "markdown",
   "metadata": {},
   "source": [
    "# About the graphs and the EDA\n",
    "\n",
    "The graphs show and the whole exploratory data analysis so far has shown obvious things. With factors that are desirable the good loans out performed the bad loans. Although good loans do look very close to the population while, the bad loans do seem to significantly deviate from the norm. "
   ]
  },
  {
   "cell_type": "code",
   "execution_count": 42,
   "metadata": {},
   "outputs": [
    {
     "data": {
      "text/plain": [
       "count    477484.000000\n",
       "mean        237.522505\n",
       "std        1752.307548\n",
       "min           0.000000\n",
       "25%           0.000000\n",
       "50%           0.000000\n",
       "75%           0.000000\n",
       "max      146917.000000\n",
       "Name: tot_coll_amt, dtype: float64"
      ]
     },
     "execution_count": 42,
     "metadata": {},
     "output_type": "execute_result"
    }
   ],
   "source": [
    "df_bad.tot_coll_amt.describe()"
   ]
  },
  {
   "cell_type": "code",
   "execution_count": 43,
   "metadata": {},
   "outputs": [
    {
     "name": "stdout",
     "output_type": "stream",
     "text": [
      "      n_samples    percent\n",
      "0.0     2487386  19.852970\n",
      "1.0       18312  21.472259\n",
      "2.0        1434  17.852162\n",
      "3.0         236  23.728814\n",
      "4.0          88  34.090909\n",
      "5.0          34  17.647059\n",
      "6.0          14  28.571429\n",
      "7.0          12  16.666667\n",
      "8.0           4  50.000000\n",
      "9.0           6   0.000000\n",
      "10.0          2   0.000000\n"
     ]
    }
   ],
   "source": [
    "percentage(df,df_bad,'chargeoff_within_12_mths')\n",
    " "
   ]
  },
  {
   "cell_type": "code",
   "execution_count": 44,
   "metadata": {
    "scrolled": true
   },
   "outputs": [
    {
     "name": "stdout",
     "output_type": "stream",
     "text": [
      "     n_samples    percent\n",
      "1.0    2507640  19.864095\n"
     ]
    }
   ],
   "source": [
    "percentage(df,df_bad,'policy_code')"
   ]
  },
  {
   "cell_type": "code",
   "execution_count": 45,
   "metadata": {},
   "outputs": [
    {
     "name": "stdout",
     "output_type": "stream",
     "text": [
      "                    n_samples    percent\n",
      "car                     27082  14.400709\n",
      "credit_card            551450  16.858827\n",
      "debt_consolidation    1461114  21.066255\n",
      "educational               652  17.177914\n",
      "home_improvement       161660  17.622170\n",
      "house                   12736  21.278266\n",
      "major_purchase          54082  18.165009\n",
      "medical                 28352  21.621050\n",
      "moving                  17616  23.206176\n",
      "other                  141124  20.924860\n",
      "renewable_energy         1744  23.279817\n",
      "small_business          28818  29.308071\n",
      "vacation                16622  18.998917\n",
      "wedding                  4588  12.162162\n",
      "0.19864095324687756\n",
      "car Ttest_1sampResult(statistic=25.607503613543102, pvalue=6.33407905942162e-143)\n",
      "credit_card Ttest_1sampResult(statistic=59.609327438524716, pvalue=0.0)\n",
      "debt_consolidation Ttest_1sampResult(statistic=-35.635184341815275, pvalue=5.26852813749487e-278)\n",
      "educational Ttest_1sampResult(statistic=1.8170526287938882, pvalue=0.06966870982546704)\n",
      "home_improvement Ttest_1sampResult(statistic=23.6584464245554, pvalue=1.56946382278302e-123)\n",
      "house Ttest_1sampResult(statistic=-3.89929379513224, pvalue=9.696872537849487e-05)\n",
      "major_purchase Ttest_1sampResult(statistic=10.248269910051109, pvalue=1.2689763250715617e-24)\n",
      "medical Ttest_1sampResult(statistic=-7.186320076286296, pvalue=6.820439703300912e-13)\n",
      "moving Ttest_1sampResult(statistic=-10.507353419522378, pvalue=9.522256860442466e-26)\n",
      "other Ttest_1sampResult(statistic=-9.796407608465552, pvalue=1.1861931233825614e-22)\n",
      "renewable_energy Ttest_1sampResult(statistic=-3.3743219301948657, pvalue=0.0007562013466782113)\n",
      "small_business Ttest_1sampResult(statistic=-35.22092224658666, pvalue=4.233367184051197e-266)\n",
      "vacation Ttest_1sampResult(statistic=2.8433107028412183, pvalue=0.004470196833812209)\n",
      "wedding Ttest_1sampResult(statistic=15.959449330362997, pvalue=7.614718332854579e-56)\n"
     ]
    }
   ],
   "source": [
    "percentage(df,df_bad,'purpose')\n",
    "\n",
    "print(len(df_bad)/len(df))\n",
    "\n",
    "for thing in df.purpose.value_counts().sort_index().index.tolist():\n",
    "    print(thing,stats.ttest_1samp(df.loc[df.purpose==thing]['loan_status'],len(df_pass)/len(df)))"
   ]
  },
  {
   "cell_type": "markdown",
   "metadata": {},
   "source": [
    "The first statistically not so important factor! Although this maybe because of its small sample size relative to everything else."
   ]
  },
  {
   "cell_type": "code",
   "execution_count": 46,
   "metadata": {
    "scrolled": false
   },
   "outputs": [
    {
     "name": "stdout",
     "output_type": "stream",
     "text": [
      "id int64 False\n",
      "member_id float64 True\n",
      "loan_amnt float64 False\n",
      "funded_amnt float64 False\n",
      "funded_amnt_inv float64 False\n",
      "term int64 False\n",
      "int_rate float64 False\n",
      "installment float64 False\n",
      "grade object False\n",
      "sub_grade object False\n",
      "emp_title object True\n",
      "emp_length object True\n",
      "home_ownership object False\n",
      "annual_inc float64 False\n",
      "verification_status object False\n",
      "issue_d datetime64[ns] False\n",
      "loan_status int64 False\n",
      "pymnt_plan object False\n",
      "url object False\n",
      "desc object True\n",
      "purpose object False\n",
      "title object True\n",
      "zip_code object False\n",
      "addr_state object False\n",
      "dti float64 True\n",
      "delinq_2yrs float64 False\n",
      "earliest_cr_line datetime64[ns] False\n",
      "fico_range_low float64 False\n",
      "fico_range_high float64 False\n",
      "inq_last_6mths float64 True\n",
      "mths_since_last_delinq float64 True\n",
      "mths_since_last_record float64 True\n",
      "open_acc float64 False\n",
      "pub_rec float64 False\n",
      "revol_bal float64 False\n",
      "revol_util object True\n",
      "total_acc float64 False\n",
      "initial_list_status object False\n",
      "out_prncp float64 False\n",
      "out_prncp_inv float64 False\n",
      "total_pymnt float64 False\n",
      "total_pymnt_inv float64 False\n",
      "total_rec_prncp float64 False\n",
      "total_rec_int float64 False\n",
      "total_rec_late_fee float64 False\n",
      "recoveries float64 False\n",
      "collection_recovery_fee float64 False\n",
      "last_pymnt_d object True\n",
      "last_pymnt_amnt float64 False\n",
      "next_pymnt_d float64 True\n",
      "last_credit_pull_d object True\n",
      "last_fico_range_high float64 False\n",
      "last_fico_range_low float64 False\n",
      "collections_12_mths_ex_med float64 True\n",
      "mths_since_last_major_derog float64 True\n",
      "policy_code float64 False\n",
      "application_type object False\n",
      "annual_inc_joint float64 True\n",
      "dti_joint float64 True\n",
      "verification_status_joint object True\n",
      "acc_now_delinq float64 False\n",
      "tot_coll_amt float64 True\n",
      "tot_cur_bal float64 True\n",
      "open_acc_6m float64 True\n",
      "open_act_il float64 True\n",
      "open_il_12m float64 True\n",
      "open_il_24m float64 True\n",
      "mths_since_rcnt_il float64 True\n",
      "total_bal_il float64 True\n",
      "il_util float64 True\n",
      "open_rv_12m float64 True\n",
      "open_rv_24m float64 True\n",
      "max_bal_bc float64 True\n",
      "all_util float64 True\n",
      "total_rev_hi_lim float64 True\n",
      "inq_fi float64 True\n",
      "total_cu_tl float64 True\n",
      "inq_last_12m float64 True\n",
      "acc_open_past_24mths float64 True\n",
      "avg_cur_bal float64 True\n",
      "bc_open_to_buy float64 True\n",
      "bc_util float64 True\n",
      "chargeoff_within_12_mths float64 True\n",
      "delinq_amnt float64 False\n",
      "mo_sin_old_il_acct float64 True\n",
      "mo_sin_old_rev_tl_op float64 True\n",
      "mo_sin_rcnt_rev_tl_op float64 True\n",
      "mo_sin_rcnt_tl float64 True\n",
      "mort_acc float64 True\n",
      "mths_since_recent_bc float64 True\n",
      "mths_since_recent_bc_dlq float64 True\n",
      "mths_since_recent_inq float64 True\n",
      "mths_since_recent_revol_delinq float64 True\n",
      "num_accts_ever_120_pd float64 True\n",
      "num_actv_bc_tl float64 True\n",
      "num_actv_rev_tl float64 True\n",
      "num_bc_sats float64 True\n",
      "num_bc_tl float64 True\n",
      "num_il_tl float64 True\n",
      "num_op_rev_tl float64 True\n",
      "num_rev_accts float64 True\n",
      "num_rev_tl_bal_gt_0 float64 True\n",
      "num_sats float64 True\n",
      "num_tl_120dpd_2m float64 True\n",
      "num_tl_30dpd float64 True\n",
      "num_tl_90g_dpd_24m float64 True\n",
      "num_tl_op_past_12m float64 True\n",
      "pct_tl_nvr_dlq float64 True\n",
      "percent_bc_gt_75 float64 True\n",
      "pub_rec_bankruptcies float64 True\n",
      "tax_liens float64 True\n",
      "tot_hi_cred_lim float64 True\n",
      "total_bal_ex_mort float64 True\n",
      "total_bc_limit float64 True\n",
      "total_il_high_credit_limit float64 True\n",
      "revol_bal_joint float64 True\n",
      "sec_app_fico_range_low float64 True\n",
      "sec_app_fico_range_high float64 True\n",
      "sec_app_earliest_cr_line object True\n",
      "sec_app_inq_last_6mths float64 True\n",
      "sec_app_mort_acc float64 True\n",
      "sec_app_open_acc float64 True\n",
      "sec_app_revol_util float64 True\n",
      "sec_app_open_act_il float64 True\n",
      "sec_app_num_rev_accts float64 True\n",
      "sec_app_chargeoff_within_12_mths float64 True\n",
      "sec_app_collections_12_mths_ex_med float64 True\n",
      "sec_app_mths_since_last_major_derog float64 True\n",
      "hardship_flag object False\n",
      "hardship_type object True\n",
      "hardship_reason object True\n",
      "hardship_status object True\n",
      "deferral_term float64 True\n",
      "hardship_amount float64 True\n",
      "hardship_start_date object True\n",
      "hardship_end_date object True\n",
      "payment_plan_start_date object True\n",
      "hardship_length float64 True\n",
      "hardship_dpd float64 True\n",
      "hardship_loan_status object True\n",
      "orig_projected_additional_accrued_interest float64 True\n",
      "hardship_payoff_balance_amount float64 True\n",
      "hardship_last_payment_amount float64 True\n",
      "disbursement_method object False\n",
      "debt_settlement_flag object False\n",
      "debt_settlement_flag_date object True\n",
      "settlement_status object True\n",
      "settlement_date object True\n",
      "settlement_amount float64 True\n",
      "settlement_percentage float64 True\n",
      "settlement_term float64 True\n",
      "length_of_cr float64 False\n",
      "difference_inv float64 False\n",
      "difference_asked float64 False\n",
      "diff_fico_high float64 True\n",
      "diff_fico_low float64 True\n"
     ]
    }
   ],
   "source": [
    "for col in df:\n",
    "    print(col,df[col].dtypes,df[col].isnull().values.any())"
   ]
  },
  {
   "cell_type": "code",
   "execution_count": 47,
   "metadata": {},
   "outputs": [
    {
     "name": "stdout",
     "output_type": "stream",
     "text": [
      "<class 'pandas.core.frame.DataFrame'>\n",
      "Int64Index: 2506738 entries, 0 to 2507639\n",
      "Columns: 118 entries, id to length_of_cr\n",
      "dtypes: datetime64[ns](2), float64(94), int64(3), object(19)\n",
      "memory usage: 2.2+ GB\n"
     ]
    }
   ],
   "source": [
    "# dropping not so important stuff, variables that appear in the future,things of interest\n",
    "\n",
    "drop_list = ['member_id', 'url', 'desc', 'emp_title', 'title', 'addr_state', 'next_pymnt_d', 'last_pymnt_amnt',\n",
    "             'hardship_flag', 'hardship_type', 'hardship_reason', 'hardship_status', 'hardship_amount',\n",
    "             'hardship_start_date', 'hardship_end_date', 'payment_plan_start_date', 'hardship_length',\n",
    "             'hardship_dpd', 'hardship_loan_status', 'orig_projected_additional_accrued_interest',\n",
    "             'hardship_payoff_balance_amount', 'hardship_last_payment_amount', 'debt_settlement_flag', 'orig_projected_additional_accrued_interest',\n",
    "             'out_prncp_inv', 'out_prncp', 'recoveries', 'last_fico_range_high', 'last_fico_range_low',\n",
    "             'policy_code', 'total_pymnt', 'total_pymnt_inv', 'total_rec_prncp', 'total_rec_int', 'total_rec_late_fee',\n",
    "             'difference_inv', 'difference_asked','diff_fico_high','diff_fico_low'\n",
    "             ]\n",
    "df.dropna(subset=['id'], inplace=True)\n",
    "df.drop((df.loc[(df.home_ownership == 'ANY') | (df.home_ownership == 'NONE') | (df.home_ownership == 'OTHER')]).index, inplace=True)\n",
    "df.drop(drop_list, axis=1, inplace=True)\n",
    "df.info()"
   ]
  }
 ],
 "metadata": {
  "kernelspec": {
   "display_name": "Python 3",
   "language": "python",
   "name": "python3"
  },
  "language_info": {
   "codemirror_mode": {
    "name": "ipython",
    "version": 3
   },
   "file_extension": ".py",
   "mimetype": "text/x-python",
   "name": "python",
   "nbconvert_exporter": "python",
   "pygments_lexer": "ipython3",
   "version": "3.6.5"
  }
 },
 "nbformat": 4,
 "nbformat_minor": 2
}
