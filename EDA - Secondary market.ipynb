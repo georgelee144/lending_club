{
 "cells": [
  {
   "cell_type": "markdown",
   "metadata": {},
   "source": [
    "A look at LC secondary market ran by FolioLending. Please note that this is just a snapshot of the secondary market. Your results may vary. Data was downloaded on May 1, 2019."
   ]
  },
  {
   "cell_type": "code",
   "execution_count": 1,
   "metadata": {},
   "outputs": [],
   "source": [
    "import matplotlib.pyplot as plt\n",
    "import pandas as pd\n",
    "import numpy as np\n",
    "from scipy import stats"
   ]
  },
  {
   "cell_type": "code",
   "execution_count": 2,
   "metadata": {
    "scrolled": true
   },
   "outputs": [
    {
     "name": "stderr",
     "output_type": "stream",
     "text": [
      "C:\\Users\\leero\\Anaconda3\\lib\\site-packages\\IPython\\core\\interactiveshell.py:2785: DtypeWarning: Columns (8) have mixed types. Specify dtype option on import or set low_memory=False.\n",
      "  interactivity=interactivity, compiler=compiler, result=result)\n"
     ]
    }
   ],
   "source": [
    "df = pd.read_csv('SecondaryMarketAllNotes.csv')"
   ]
  },
  {
   "cell_type": "code",
   "execution_count": 3,
   "metadata": {},
   "outputs": [
    {
     "name": "stdout",
     "output_type": "stream",
     "text": [
      "<class 'pandas.core.frame.DataFrame'>\n",
      "RangeIndex: 126461 entries, 0 to 126460\n",
      "Data columns (total 21 columns):\n",
      "LoanId                  126461 non-null int64\n",
      "NoteId                  126461 non-null int64\n",
      "OrderId                 126461 non-null int64\n",
      "OutstandingPrincipal    126461 non-null float64\n",
      "AccruedInterest         126461 non-null float64\n",
      "Status                  126461 non-null object\n",
      "AskPrice                126461 non-null float64\n",
      "Markup/Discount         126461 non-null float64\n",
      "YTM                     126461 non-null object\n",
      "DaysSinceLastPayment    117227 non-null float64\n",
      "CreditScoreTrend        126461 non-null object\n",
      "FICO End Range          126461 non-null object\n",
      "Date/Time Listed        126461 non-null object\n",
      "NeverLate               126461 non-null bool\n",
      "Loan Class              126461 non-null object\n",
      "Loan Maturity           126461 non-null int64\n",
      "Original Note Amount    126461 non-null float64\n",
      "Interest Rate           126461 non-null float64\n",
      "Remaining Payments      126461 non-null int64\n",
      "Principal + Interest    126461 non-null float64\n",
      "Application Type        126461 non-null object\n",
      "dtypes: bool(1), float64(8), int64(5), object(7)\n",
      "memory usage: 19.4+ MB\n"
     ]
    }
   ],
   "source": [
    "df.info()"
   ]
  },
  {
   "cell_type": "code",
   "execution_count": 4,
   "metadata": {},
   "outputs": [
    {
     "data": {
      "text/plain": [
       "0         A2\n",
       "1         D4\n",
       "2         A4\n",
       "3         D5\n",
       "4         D5\n",
       "5         E2\n",
       "6         D5\n",
       "7         D5\n",
       "8         D5\n",
       "9         D3\n",
       "10        D2\n",
       "11        D3\n",
       "12        C5\n",
       "13        C5\n",
       "14        C5\n",
       "15        C5\n",
       "16        C5\n",
       "17        C5\n",
       "18        A5\n",
       "19        B4\n",
       "20        C1\n",
       "21        C1\n",
       "22        C2\n",
       "23        A5\n",
       "24        A5\n",
       "25        A5\n",
       "26        A4\n",
       "27        A4\n",
       "28        B1\n",
       "29        A5\n",
       "          ..\n",
       "126431    C5\n",
       "126432    D5\n",
       "126433    C5\n",
       "126434    E3\n",
       "126435    E2\n",
       "126436    D1\n",
       "126437    C2\n",
       "126438    C1\n",
       "126439    D5\n",
       "126440    D2\n",
       "126441    C1\n",
       "126442    C1\n",
       "126443    C1\n",
       "126444    C1\n",
       "126445    C1\n",
       "126446    C3\n",
       "126447    C4\n",
       "126448    B5\n",
       "126449    C2\n",
       "126450    C1\n",
       "126451    C5\n",
       "126452    C4\n",
       "126453    E1\n",
       "126454    B5\n",
       "126455    C1\n",
       "126456    C1\n",
       "126457    D2\n",
       "126458    B5\n",
       "126459    E3\n",
       "126460    D1\n",
       "Name: Loan Class, Length: 126461, dtype: object"
      ]
     },
     "execution_count": 4,
     "metadata": {},
     "output_type": "execute_result"
    }
   ],
   "source": [
    "df['Loan Class']"
   ]
  },
  {
   "cell_type": "code",
   "execution_count": 5,
   "metadata": {},
   "outputs": [],
   "source": [
    "def percentage(feature):\n",
    "    \"\"\"Prints out number of samples, percent of total that failed, t-stat, and p-value\"\"\"\n",
    "\n",
    "    all_loans = df[feature].value_counts().sort_index()\n",
    "    bad_loans = df.loc[df.Status == 0][feature].value_counts().sort_index() / all_loans * 100\n",
    "    very_bad_loans = df.loc[df.Status ==-1][feature].value_counts().sort_index() / all_loans * 100\n",
    "    \n",
    "    n_percent = pd.concat([all_loans, bad_loans,very_bad_loans], axis=1)\n",
    "    n_percent.columns = ['n_samples', 'percent 16-30 late','percent 30+ late']\n",
    "\n",
    "    n_percent.reset_index(inplace=True)\n",
    "    \n",
    "#    n_percent.fillna(0, inplace=True)\n",
    "    \n",
    "    return(n_percent)\n",
    "\n",
    "def object_graph(feature):\n",
    "    \"\"\"Makes a bar graph of a column complete with all it's features, each bar with show the its makeup as a percentage total\n",
    "    and prints out the features with sample size and fail rate\"\"\"\n",
    "\n",
    "    feature_interest = df[[feature, 'Status']].dropna()\n",
    "\n",
    "    x = sorted(list(set(feature_interest[feature])))\n",
    "    y = [np.sum(feature_interest.loc[feature_interest[feature] == i]\n",
    "                ['Status'])/126461*100 for i in x]\n",
    "    plt.bar(x, y)\n",
    "\n",
    "    plt.title(feature.upper())\n",
    "    plt.ylabel('%')\n",
    "    plt.xlabel(feature)\n",
    "    plt.xticks(rotation=90)\n",
    "\n",
    "    plt.show()\n",
    "    print(percentage(feature))"
   ]
  },
  {
   "cell_type": "code",
   "execution_count": 6,
   "metadata": {},
   "outputs": [],
   "source": [
    "df['Status'] = df['Status'].apply(lambda status: 0 if '30' in status else -1 if '120' in status else 1)"
   ]
  },
  {
   "cell_type": "code",
   "execution_count": 7,
   "metadata": {},
   "outputs": [],
   "source": [
    "def ecdf(data):\n",
    "    \"\"\"Compute ECDF for a one-dimensional array of measurements.\"\"\"\n",
    "    # Number of data points: n\n",
    "    n = len(data)\n",
    "\n",
    "    # x-data for the ECDF: x\n",
    "    x = np.sort(data)\n",
    "\n",
    "    # y-data for the ECDF: y\n",
    "    y = np.arange(1, n+1) / n\n",
    "\n",
    "    return x, y\n",
    "\n",
    "def numeric_graph(feature):\n",
    "    \"\"\"Makes a graph of a numeric column by turn the data into a ECDF\"\"\"\n",
    "\n",
    "    feature_interest = df[[feature, 'Status']].dropna()\n",
    "\n",
    "    # good loans\n",
    "    good_x, good_y = ecdf(\n",
    "        feature_interest.loc[feature_interest.Status == 1][feature])\n",
    "    plt.plot(good_x, good_y, marker='.', linestyle='none',\n",
    "             color='green', label='Current')\n",
    "\n",
    "    # population\n",
    "    pop_x, pop_y = ecdf(feature_interest[feature])\n",
    "    plt.plot(pop_x, pop_y, marker='.', linestyle='none',\n",
    "             color='black', label='All loans')\n",
    "\n",
    "    # bad loans\n",
    "    bad_x, bad_y = ecdf(\n",
    "        feature_interest.loc[feature_interest.Status == 0][feature])\n",
    "    plt.plot(bad_x, bad_y, marker='.', linestyle='none',\n",
    "             color='red', label='Late 16-30')\n",
    "    \n",
    "    very_bad_x, very_bad_y = ecdf(\n",
    "        feature_interest.loc[feature_interest.Status == -1][feature])\n",
    "    plt.plot(very_bad_x, very_bad_y, marker='.', linestyle='none',\n",
    "             color='blue', label='Late 30+')\n",
    "    \n",
    "    plt.title(feature.upper())\n",
    "    plt.axis([np.percentile(pop_x, 2.5), np.percentile(pop_x, 97.5), 0, 1])\n",
    "    plt.xlabel('Amounts')\n",
    "    plt.ylabel('% cumulative')\n",
    "    plt.legend(loc='best')\n",
    "\n",
    "    plt.show()\n",
    "\n",
    "    df_description = pd.concat([feature_interest[feature].describe(),\n",
    "                                feature_interest.loc[feature_interest.Status == 1][feature].describe(),\n",
    "                                feature_interest.loc[feature_interest.Status == 0][feature].describe(),\n",
    "                                feature_interest.loc[feature_interest.Status == -1][feature].describe()],\n",
    "                                axis=1)\n",
    "    df_description.columns = ['All loans', 'Current', 'Late 16-30', 'Late 30+']\n",
    "    print(df_description)"
   ]
  },
  {
   "cell_type": "code",
   "execution_count": 8,
   "metadata": {},
   "outputs": [
    {
     "data": {
      "image/png": "[encoded data removed]",
      "text/plain": [
       "<Figure size 432x288 with 1 Axes>"
      ]
     },
     "metadata": {},
     "output_type": "display_data"
    },
    {
     "name": "stdout",
     "output_type": "stream",
     "text": [
      "           All loans        Current   Late 16-30     Late 30+\n",
      "count  126461.000000  115616.000000  1866.000000  8979.000000\n",
      "mean        0.796134       2.300448    -7.154411   -16.921551\n",
      "std         9.491068       3.708379    15.064838    26.236657\n",
      "min       -92.000000     -52.910000   -69.600000   -92.000000\n",
      "25%         0.000000       0.410000    -8.027500   -25.300000\n",
      "50%         1.680000       1.810000    -0.660000    -2.720000\n",
      "75%         3.310000       3.380000     0.940000     0.100000\n",
      "max        39.610000      39.610000    20.190000    27.480000\n"
     ]
    }
   ],
   "source": [
    "numeric_graph('Markup/Discount')"
   ]
  },
  {
   "cell_type": "code",
   "execution_count": 9,
   "metadata": {},
   "outputs": [
    {
     "data": {
      "image/png": "[encoded data removed]",
      "text/plain": [
       "<Figure size 432x288 with 1 Axes>"
      ]
     },
     "metadata": {},
     "output_type": "display_data"
    },
    {
     "name": "stdout",
     "output_type": "stream",
     "text": [
      "           All loans        Current   Late 16-30     Late 30+\n",
      "count  126461.000000  115616.000000  1866.000000  8979.000000\n",
      "mean       14.797601      14.443295    18.239979    18.644347\n",
      "std         5.797342       5.636040     6.286235     6.104107\n",
      "min         5.310000       5.310000     5.310000     5.310000\n",
      "25%        10.470000      10.410000    12.790000    13.990000\n",
      "50%        13.900000      13.580000    17.970000    18.060000\n",
      "75%        18.060000      17.970000    22.990000    23.130000\n",
      "max        30.990000      30.990000    30.990000    30.990000\n"
     ]
    }
   ],
   "source": [
    "numeric_graph('Interest Rate')"
   ]
  },
  {
   "cell_type": "code",
   "execution_count": 10,
   "metadata": {},
   "outputs": [
    {
     "data": {
      "image/png": "[encoded data removed]",
      "text/plain": [
       "<Figure size 432x288 with 1 Axes>"
      ]
     },
     "metadata": {},
     "output_type": "display_data"
    },
    {
     "name": "stdout",
     "output_type": "stream",
     "text": [
      "   index  n_samples  percent 16-30 late  percent 30+ late\n",
      "0     A1       3904            0.102459          1.408811\n",
      "1     A2       2821            0.141794          2.481390\n",
      "2     A3       3092            0.452781          1.778784\n",
      "3     A4       4306            0.789596          1.300511\n",
      "4     A5       4072            0.810413          1.669941\n",
      "5     B1       6441            0.512343          3.539823\n",
      "6     B2       6003            0.599700          2.648676\n",
      "7     B3       5544            1.605339          2.507215\n",
      "8     B4       6808            0.705053          2.849589\n",
      "9     B5       5882            1.343081          6.205372\n",
      "10    C1       8283            1.436678          4.696366\n",
      "11    C2       6937            1.196483          5.852674\n",
      "12    C3       6792            0.853946          5.638987\n",
      "13    C4       7038            1.136687          5.939187\n",
      "14    C5       6373            1.192531          6.464773\n",
      "15    D1       5453            1.723822          9.957821\n",
      "16    D2       5664            1.694915          9.021893\n",
      "17    D3       4380            1.187215         10.684932\n",
      "18    D4       3452            1.680185         12.949015\n",
      "19    D5       2949            2.611055         11.936250\n",
      "20    E1       3396            3.032980         12.131920\n",
      "21    E2       3113            3.019595         16.190170\n",
      "22    E3       2596            3.813559         13.443760\n",
      "23    E4       2182            2.199817         13.473877\n",
      "24    E5       2962            4.591492         15.563808\n",
      "25    F1       1368            0.877193         12.134503\n",
      "26    F2       1091            4.949588         19.706691\n",
      "27    F3        965            3.834197         18.860104\n",
      "28    F4        541            5.914972         32.902033\n",
      "29    F5        658            1.823708         17.477204\n",
      "30    G1        390            3.333333         25.384615\n",
      "31    G2        259                 NaN         29.729730\n",
      "32    G3        296           16.554054         26.689189\n",
      "33    G4        191            4.712042         26.178010\n",
      "34    G5        259            0.386100         30.888031\n"
     ]
    }
   ],
   "source": [
    "object_graph('Loan Class')"
   ]
  }
 ],
 "metadata": {
  "kernelspec": {
   "display_name": "Python 3",
   "language": "python",
   "name": "python3"
  },
  "language_info": {
   "codemirror_mode": {
    "name": "ipython",
    "version": 3
   },
   "file_extension": ".py",
   "mimetype": "text/x-python",
   "name": "python",
   "nbconvert_exporter": "python",
   "pygments_lexer": "ipython3",
   "version": "3.6.5"
  }
 },
 "nbformat": 4,
 "nbformat_minor": 2
}
