{
 "cells": [
  {
   "cell_type": "code",
   "execution_count": 1,
   "metadata": {},
   "outputs": [],
   "source": [
    "import pandas as pd\n",
    "import numpy as np"
   ]
  },
  {
   "cell_type": "code",
   "execution_count": 2,
   "metadata": {},
   "outputs": [
    {
     "name": "stderr",
     "output_type": "stream",
     "text": [
      "C:\\Users\\leero\\Anaconda3\\lib\\site-packages\\IPython\\core\\interactiveshell.py:2785: DtypeWarning: Columns (30) have mixed types. Specify dtype option on import or set low_memory=False.\n",
      "  interactivity=interactivity, compiler=compiler, result=result)\n"
     ]
    },
    {
     "name": "stdout",
     "output_type": "stream",
     "text": [
      "<class 'pandas.core.frame.DataFrame'>\n",
      "RangeIndex: 2506738 entries, 0 to 2506737\n",
      "Data columns (total 100 columns):\n",
      "loan_amnt                              float64\n",
      "term                                   int64\n",
      "int_rate                               float64\n",
      "installment                            float64\n",
      "grade                                  object\n",
      "sub_grade                              object\n",
      "emp_length                             int64\n",
      "home_ownership                         object\n",
      "annual_inc                             float64\n",
      "verification_status                    object\n",
      "loan_status                            int64\n",
      "purpose                                object\n",
      "dti                                    float64\n",
      "delinq_2yrs                            float64\n",
      "fico_range_low                         float64\n",
      "fico_range_high                        float64\n",
      "inq_last_6mths                         float64\n",
      "mths_since_last_delinq                 float64\n",
      "mths_since_last_record                 float64\n",
      "open_acc                               float64\n",
      "pub_rec                                float64\n",
      "revol_bal                              float64\n",
      "revol_util                             float64\n",
      "total_acc                              float64\n",
      "collections_12_mths_ex_med             float64\n",
      "mths_since_last_major_derog            float64\n",
      "application_type                       object\n",
      "annual_inc_joint                       float64\n",
      "dti_joint                              float64\n",
      "verification_status_joint              object\n",
      "acc_now_delinq                         float64\n",
      "tot_coll_amt                           float64\n",
      "tot_cur_bal                            float64\n",
      "open_acc_6m                            float64\n",
      "open_act_il                            float64\n",
      "open_il_12m                            float64\n",
      "open_il_24m                            float64\n",
      "mths_since_rcnt_il                     float64\n",
      "total_bal_il                           float64\n",
      "il_util                                float64\n",
      "open_rv_12m                            float64\n",
      "open_rv_24m                            float64\n",
      "max_bal_bc                             float64\n",
      "all_util                               float64\n",
      "total_rev_hi_lim                       float64\n",
      "inq_fi                                 float64\n",
      "total_cu_tl                            float64\n",
      "inq_last_12m                           float64\n",
      "acc_open_past_24mths                   float64\n",
      "avg_cur_bal                            float64\n",
      "bc_open_to_buy                         float64\n",
      "bc_util                                float64\n",
      "chargeoff_within_12_mths               float64\n",
      "delinq_amnt                            float64\n",
      "mo_sin_old_il_acct                     float64\n",
      "mo_sin_old_rev_tl_op                   float64\n",
      "mo_sin_rcnt_rev_tl_op                  float64\n",
      "mo_sin_rcnt_tl                         float64\n",
      "mort_acc                               float64\n",
      "mths_since_recent_bc                   float64\n",
      "mths_since_recent_bc_dlq               float64\n",
      "mths_since_recent_inq                  float64\n",
      "mths_since_recent_revol_delinq         float64\n",
      "num_accts_ever_120_pd                  float64\n",
      "num_actv_bc_tl                         float64\n",
      "num_actv_rev_tl                        float64\n",
      "num_bc_sats                            float64\n",
      "num_bc_tl                              float64\n",
      "num_il_tl                              float64\n",
      "num_op_rev_tl                          float64\n",
      "num_rev_accts                          float64\n",
      "num_rev_tl_bal_gt_0                    float64\n",
      "num_sats                               float64\n",
      "num_tl_120dpd_2m                       float64\n",
      "num_tl_30dpd                           float64\n",
      "num_tl_90g_dpd_24m                     float64\n",
      "num_tl_op_past_12m                     float64\n",
      "pct_tl_nvr_dlq                         float64\n",
      "percent_bc_gt_75                       float64\n",
      "pub_rec_bankruptcies                   float64\n",
      "tax_liens                              float64\n",
      "tot_hi_cred_lim                        float64\n",
      "total_bal_ex_mort                      float64\n",
      "total_bc_limit                         float64\n",
      "total_il_high_credit_limit             float64\n",
      "revol_bal_joint                        float64\n",
      "sec_app_fico_range_low                 float64\n",
      "sec_app_fico_range_high                float64\n",
      "sec_app_inq_last_6mths                 float64\n",
      "sec_app_mort_acc                       float64\n",
      "sec_app_open_acc                       float64\n",
      "sec_app_revol_util                     float64\n",
      "sec_app_open_act_il                    float64\n",
      "sec_app_num_rev_accts                  float64\n",
      "sec_app_chargeoff_within_12_mths       float64\n",
      "sec_app_collections_12_mths_ex_med     float64\n",
      "sec_app_mths_since_last_major_derog    float64\n",
      "disbursement_method                    object\n",
      "sec_length_of_cr                       float64\n",
      "length_of_cr                           float64\n",
      "dtypes: float64(89), int64(3), object(8)\n",
      "memory usage: 1.9+ GB\n"
     ]
    }
   ],
   "source": [
    "df = pd.read_csv('lending_club_ml.csv')\n",
    "df.drop(['id'], inplace=True, axis=1)\n",
    "df.info()"
   ]
  },
  {
   "cell_type": "code",
   "execution_count": 3,
   "metadata": {},
   "outputs": [
    {
     "name": "stdout",
     "output_type": "stream",
     "text": [
      "grade\n",
      "sub_grade\n",
      "home_ownership\n",
      "verification_status\n",
      "purpose\n",
      "application_type\n",
      "verification_status_joint\n",
      "disbursement_method\n"
     ]
    }
   ],
   "source": [
    "for thing in df:\n",
    "    if df[thing].dtype == 'object':\n",
    "        print(thing)"
   ]
  },
  {
   "cell_type": "code",
   "execution_count": 4,
   "metadata": {},
   "outputs": [
    {
     "name": "stdout",
     "output_type": "stream",
     "text": [
      "<class 'pandas.core.frame.DataFrame'>\n",
      "RangeIndex: 2506738 entries, 0 to 2506737\n",
      "Columns: 147 entries, loan_amnt to verification_status_joint_Verified\n",
      "dtypes: float64(89), int64(3), object(2), uint8(53)\n",
      "memory usage: 1.9+ GB\n"
     ]
    }
   ],
   "source": [
    "# creating columns for features that had more than 2 outcomes\n",
    "# I have decided to use subgrade and not grade as these are suppose to be similar features but, subgrade is more granular\n",
    "\n",
    "df = pd.concat([df, pd.get_dummies(\n",
    "    df.sub_grade, prefix='sub_grade', drop_first=True)], axis=1)\n",
    "df = pd.concat([df, pd.get_dummies(df.home_ownership,\n",
    "                                   prefix='home_ownership', drop_first=True)], axis=1)\n",
    "df = pd.concat([df, pd.get_dummies(df.verification_status,\n",
    "                                   prefix='verification_status', drop_first=True)], axis=1)\n",
    "df = pd.concat(\n",
    "    [df, pd.get_dummies(df.purpose, prefix='purpose', drop_first=True)], axis=1)\n",
    "df = pd.concat([df, pd.get_dummies(df.verification_status_joint,\n",
    "                                   prefix='verification_status_joint', drop_first=True)], axis=1)\n",
    "\n",
    "df.drop(columns=['sub_grade', 'home_ownership', 'verification_status',\n",
    "                 'purpose', 'verification_status_joint', 'grade'], inplace=True)\n",
    "\n",
    "df.info()"
   ]
  },
  {
   "cell_type": "code",
   "execution_count": 5,
   "metadata": {},
   "outputs": [],
   "source": [
    "# conversions for features that only had 2 outcomes\n",
    "\n",
    "df.disbursement_method = df.disbursement_method.apply(\n",
    "    lambda disburstment: 1 if disburstment == 'Cash' else 0)"
   ]
  },
  {
   "cell_type": "markdown",
   "metadata": {},
   "source": [
    "For the time being I have decided to drop grade in favor sub grade"
   ]
  },
  {
   "cell_type": "markdown",
   "metadata": {},
   "source": [
    "I have decided to drop the split the data into two different sets: individual and the joint. I believe that these are fundamentally 2 different kinds of loans. In our EDA we saw that joint applicants had wide ranges in their FICO scores and in addition joint applicants are subjected to a second group of variables."
   ]
  },
  {
   "attachments": {
    "image.png": {
     "image/png": "[encoded data removed]"
    }
   },
   "cell_type": "markdown",
   "metadata": {},
   "source": [
    "![image.png](attachment:image.png)"
   ]
  },
  {
   "cell_type": "markdown",
   "metadata": {},
   "source": [
    "All Loans\n",
    "\n",
    "count    23510.000000\n",
    "\n",
    "mean        41.753977\n",
    "\n",
    "std         44.937476\n",
    "\n",
    "min        -80.000000\n",
    "\n",
    "25%         10.000000\n",
    "\n",
    "50%         30.000000\n",
    "\n",
    "75%         60.000000\n",
    "\n",
    "max        275.000000\n",
    "\n",
    "Name: diff_fico_high, dtype: float64"
   ]
  },
  {
   "cell_type": "markdown",
   "metadata": {},
   "source": [
    "Bad Loans (21%)\n",
    "\n",
    "count    5032.000000\n",
    "\n",
    "mean       56.096979\n",
    "\n",
    "std        55.197095\n",
    "\n",
    "min       -60.000000\n",
    "\n",
    "25%        15.000000\n",
    "\n",
    "50%        40.000000\n",
    "\n",
    "75%        85.000000\n",
    "\n",
    "max       275.000000\n",
    "\n",
    "Name: diff_fico_high, dtype: float64\n"
   ]
  },
  {
   "cell_type": "markdown",
   "metadata": {},
   "source": [
    "Passing Loans (78.59%)\n",
    "\n",
    "count    18478.000000\n",
    "\n",
    "mean        37.848036\n",
    "\n",
    "std         40.846952\n",
    "\n",
    "min        -80.000000\n",
    "\n",
    "25%         10.000000\n",
    "\n",
    "50%         30.000000\n",
    "\n",
    "75%         55.000000\n",
    "\n",
    "max        275.000000\n",
    "\n",
    "Name: diff_fico_high, dtype: float64"
   ]
  },
  {
   "cell_type": "code",
   "execution_count": 6,
   "metadata": {},
   "outputs": [
    {
     "name": "stderr",
     "output_type": "stream",
     "text": [
      "C:\\Users\\leero\\Anaconda3\\lib\\site-packages\\pandas\\core\\frame.py:3694: SettingWithCopyWarning: \n",
      "A value is trying to be set on a copy of a slice from a DataFrame\n",
      "\n",
      "See the caveats in the documentation: http://pandas.pydata.org/pandas-docs/stable/indexing.html#indexing-view-versus-copy\n",
      "  errors=errors)\n"
     ]
    }
   ],
   "source": [
    "df_i = df.loc[df.application_type == 'Individual']\n",
    "df_j = df.loc[df.application_type != 'Individual']\n",
    "\n",
    "df_i.drop(columns=['application_type'], inplace=True)\n",
    "df_j.drop(columns=['application_type'], inplace=True)"
   ]
  },
  {
   "cell_type": "code",
   "execution_count": 7,
   "metadata": {
    "scrolled": true
   },
   "outputs": [
    {
     "name": "stdout",
     "output_type": "stream",
     "text": [
      "loan_amnt\n",
      "term\n",
      "int_rate\n",
      "installment\n",
      "emp_length\n",
      "annual_inc\n",
      "loan_status\n",
      "dti\n",
      "delinq_2yrs\n",
      "fico_range_low\n",
      "fico_range_high\n",
      "inq_last_6mths\n",
      "mths_since_last_delinq\n",
      "mths_since_last_record\n",
      "open_acc\n",
      "pub_rec\n",
      "revol_bal\n",
      "revol_util\n",
      "total_acc\n",
      "collections_12_mths_ex_med\n",
      "mths_since_last_major_derog\n",
      "annual_inc_joint\n",
      "dti_joint\n",
      "acc_now_delinq\n",
      "tot_coll_amt\n",
      "tot_cur_bal\n",
      "open_acc_6m\n",
      "open_act_il\n",
      "open_il_12m\n",
      "open_il_24m\n",
      "mths_since_rcnt_il\n",
      "total_bal_il\n",
      "il_util\n",
      "open_rv_12m\n",
      "open_rv_24m\n",
      "max_bal_bc\n",
      "all_util\n",
      "total_rev_hi_lim\n",
      "inq_fi\n",
      "total_cu_tl\n",
      "inq_last_12m\n",
      "acc_open_past_24mths\n",
      "avg_cur_bal\n",
      "bc_open_to_buy\n",
      "bc_util\n",
      "chargeoff_within_12_mths\n",
      "delinq_amnt\n",
      "mo_sin_old_il_acct\n",
      "mo_sin_old_rev_tl_op\n",
      "mo_sin_rcnt_rev_tl_op\n",
      "mo_sin_rcnt_tl\n",
      "mort_acc\n",
      "mths_since_recent_bc\n",
      "mths_since_recent_bc_dlq\n",
      "mths_since_recent_inq\n",
      "mths_since_recent_revol_delinq\n",
      "num_accts_ever_120_pd\n",
      "num_actv_bc_tl\n",
      "num_actv_rev_tl\n",
      "num_bc_sats\n",
      "num_bc_tl\n",
      "num_il_tl\n",
      "num_op_rev_tl\n",
      "num_rev_accts\n",
      "num_rev_tl_bal_gt_0\n",
      "num_sats\n",
      "num_tl_120dpd_2m\n",
      "num_tl_30dpd\n",
      "num_tl_90g_dpd_24m\n",
      "num_tl_op_past_12m\n",
      "pct_tl_nvr_dlq\n",
      "percent_bc_gt_75\n",
      "pub_rec_bankruptcies\n",
      "tax_liens\n",
      "tot_hi_cred_lim\n",
      "total_bal_ex_mort\n",
      "total_bc_limit\n",
      "total_il_high_credit_limit\n",
      "revol_bal_joint\n",
      "sec_app_fico_range_low\n",
      "sec_app_fico_range_high\n",
      "sec_app_inq_last_6mths\n",
      "sec_app_mort_acc\n",
      "sec_app_open_acc\n",
      "sec_app_revol_util\n",
      "sec_app_open_act_il\n",
      "sec_app_num_rev_accts\n",
      "sec_app_chargeoff_within_12_mths\n",
      "sec_app_collections_12_mths_ex_med\n",
      "sec_app_mths_since_last_major_derog\n",
      "disbursement_method\n",
      "sec_length_of_cr\n",
      "length_of_cr\n",
      "sub_grade_A2\n",
      "sub_grade_A3\n",
      "sub_grade_A4\n",
      "sub_grade_A5\n",
      "sub_grade_B1\n",
      "sub_grade_B2\n",
      "sub_grade_B3\n",
      "sub_grade_B4\n",
      "sub_grade_B5\n",
      "sub_grade_C1\n",
      "sub_grade_C2\n",
      "sub_grade_C3\n",
      "sub_grade_C4\n",
      "sub_grade_C5\n",
      "sub_grade_D1\n",
      "sub_grade_D2\n",
      "sub_grade_D3\n",
      "sub_grade_D4\n",
      "sub_grade_D5\n",
      "sub_grade_E1\n",
      "sub_grade_E2\n",
      "sub_grade_E3\n",
      "sub_grade_E4\n",
      "sub_grade_E5\n",
      "sub_grade_F1\n",
      "sub_grade_F2\n",
      "sub_grade_F3\n",
      "sub_grade_F4\n",
      "sub_grade_F5\n",
      "sub_grade_G1\n",
      "sub_grade_G2\n",
      "sub_grade_G3\n",
      "sub_grade_G4\n",
      "sub_grade_G5\n",
      "home_ownership_OWN\n",
      "home_ownership_RENT\n",
      "verification_status_Source Verified\n",
      "verification_status_Verified\n",
      "purpose_credit_card\n",
      "purpose_debt_consolidation\n",
      "purpose_educational\n",
      "purpose_home_improvement\n",
      "purpose_house\n",
      "purpose_major_purchase\n",
      "purpose_medical\n",
      "purpose_moving\n",
      "purpose_other\n",
      "purpose_renewable_energy\n",
      "purpose_small_business\n",
      "purpose_vacation\n",
      "purpose_wedding\n",
      "verification_status_joint_Source Verified\n",
      "verification_status_joint_Verified\n"
     ]
    }
   ],
   "source": [
    "for thing in df_i:\n",
    "    print(thing)"
   ]
  },
  {
   "cell_type": "code",
   "execution_count": 8,
   "metadata": {
    "scrolled": false
   },
   "outputs": [
    {
     "name": "stdout",
     "output_type": "stream",
     "text": [
      "inq_last_6mths\n",
      "mths_since_last_delinq\n",
      "mths_since_last_record\n",
      "collections_12_mths_ex_med\n",
      "mths_since_last_major_derog\n",
      "annual_inc_joint\n",
      "dti_joint\n",
      "tot_coll_amt\n",
      "tot_cur_bal\n",
      "open_acc_6m\n",
      "open_act_il\n",
      "open_il_12m\n",
      "open_il_24m\n",
      "mths_since_rcnt_il\n",
      "total_bal_il\n",
      "il_util\n",
      "open_rv_12m\n",
      "open_rv_24m\n",
      "max_bal_bc\n",
      "all_util\n",
      "total_rev_hi_lim\n",
      "inq_fi\n",
      "total_cu_tl\n",
      "inq_last_12m\n",
      "acc_open_past_24mths\n",
      "avg_cur_bal\n",
      "bc_open_to_buy\n",
      "bc_util\n",
      "chargeoff_within_12_mths\n",
      "mo_sin_old_il_acct\n",
      "mo_sin_old_rev_tl_op\n",
      "mo_sin_rcnt_rev_tl_op\n",
      "mo_sin_rcnt_tl\n",
      "mort_acc\n",
      "mths_since_recent_bc\n",
      "mths_since_recent_bc_dlq\n",
      "mths_since_recent_inq\n",
      "mths_since_recent_revol_delinq\n",
      "num_accts_ever_120_pd\n",
      "num_actv_bc_tl\n",
      "num_actv_rev_tl\n",
      "num_bc_sats\n",
      "num_bc_tl\n",
      "num_il_tl\n",
      "num_op_rev_tl\n",
      "num_rev_accts\n",
      "num_rev_tl_bal_gt_0\n",
      "num_sats\n",
      "num_tl_120dpd_2m\n",
      "num_tl_30dpd\n",
      "num_tl_90g_dpd_24m\n",
      "num_tl_op_past_12m\n",
      "pct_tl_nvr_dlq\n",
      "percent_bc_gt_75\n",
      "pub_rec_bankruptcies\n",
      "tax_liens\n",
      "tot_hi_cred_lim\n",
      "total_bal_ex_mort\n",
      "total_bc_limit\n",
      "total_il_high_credit_limit\n",
      "revol_bal_joint\n",
      "sec_app_fico_range_low\n",
      "sec_app_fico_range_high\n",
      "sec_app_inq_last_6mths\n",
      "sec_app_mort_acc\n",
      "sec_app_open_acc\n",
      "sec_app_revol_util\n",
      "sec_app_open_act_il\n",
      "sec_app_num_rev_accts\n",
      "sec_app_chargeoff_within_12_mths\n",
      "sec_app_collections_12_mths_ex_med\n",
      "sec_app_mths_since_last_major_derog\n"
     ]
    }
   ],
   "source": [
    "for thing in df_i:\n",
    "    if df_i[thing].isnull().values.any():\n",
    "        print(thing)"
   ]
  },
  {
   "cell_type": "markdown",
   "metadata": {},
   "source": [
    "I will drop all features associated with a secondary borrower and fill all the nans with the averages of their respective features."
   ]
  },
  {
   "cell_type": "code",
   "execution_count": 9,
   "metadata": {},
   "outputs": [
    {
     "name": "stderr",
     "output_type": "stream",
     "text": [
      "C:\\Users\\leero\\Anaconda3\\lib\\site-packages\\pandas\\core\\generic.py:5430: SettingWithCopyWarning: \n",
      "A value is trying to be set on a copy of a slice from a DataFrame\n",
      "\n",
      "See the caveats in the documentation: http://pandas.pydata.org/pandas-docs/stable/indexing.html#indexing-view-versus-copy\n",
      "  self._update_inplace(new_data)\n"
     ]
    }
   ],
   "source": [
    "for thing in df_i:\n",
    "    if df_i[thing].isnull().values.any():\n",
    "        df_i[thing].fillna(np.mean(df_i[thing]), inplace=True)"
   ]
  },
  {
   "cell_type": "code",
   "execution_count": 10,
   "metadata": {
    "scrolled": true
   },
   "outputs": [
    {
     "name": "stderr",
     "output_type": "stream",
     "text": [
      "C:\\Users\\leero\\Anaconda3\\lib\\site-packages\\pandas\\core\\frame.py:3694: SettingWithCopyWarning: \n",
      "A value is trying to be set on a copy of a slice from a DataFrame\n",
      "\n",
      "See the caveats in the documentation: http://pandas.pydata.org/pandas-docs/stable/indexing.html#indexing-view-versus-copy\n",
      "  errors=errors)\n"
     ]
    }
   ],
   "source": [
    "# Dropping all joint and secondary linked features\n",
    "\n",
    "df_i.drop(columns=['sec_app_fico_range_low', 'sec_app_fico_range_high', 'sec_app_inq_last_6mths', 'sec_app_mort_acc',\n",
    "                   'sec_app_open_acc', 'sec_app_revol_util', 'sec_app_num_rev_accts', 'sec_app_chargeoff_within_12_mths',\n",
    "                   'sec_app_collections_12_mths_ex_med', 'sec_app_mths_since_last_major_derog', 'dti_joint', 'sec_app_open_act_il',\n",
    "                   'revol_bal_joint', 'annual_inc_joint'], inplace=True)"
   ]
  },
  {
   "cell_type": "code",
   "execution_count": 11,
   "metadata": {},
   "outputs": [
    {
     "name": "stdout",
     "output_type": "stream",
     "text": [
      "<class 'pandas.core.frame.DataFrame'>\n",
      "Int64Index: 2470188 entries, 0 to 2506736\n",
      "Columns: 132 entries, loan_amnt to verification_status_joint_Verified\n",
      "dtypes: float64(75), int64(4), uint8(53)\n",
      "memory usage: 1.6 GB\n"
     ]
    }
   ],
   "source": [
    "df_i.info()"
   ]
  },
  {
   "cell_type": "markdown",
   "metadata": {},
   "source": [
    "ML for regular loans"
   ]
  },
  {
   "cell_type": "code",
   "execution_count": 11,
   "metadata": {},
   "outputs": [],
   "source": [
    "from sklearn.metrics import confusion_matrix\n",
    "from sklearn.metrics import recall_score\n",
    "from sklearn.metrics import precision_score\n",
    "from sklearn.metrics import f1_score\n",
    "from sklearn.metrics import balanced_accuracy_score\n",
    "from sklearn.metrics import average_precision_score\n",
    "from sklearn.metrics import roc_auc_score\n",
    "from sklearn.metrics import accuracy_score\n",
    "\n",
    "def scoring(clf, x, y):\n",
    "    \n",
    "    print('Loan passing rate:',np.mean(y))\n",
    "#    print('Loan passing rate:',np.average(y,x['loan_amnt']))\n",
    "    \n",
    "    print('score: ', '{:>10}'.format(str(clf.score(x, y))))\n",
    "    \n",
    "    #score adjusted for loan amount\n",
    "    print('balanced_accuracy_score: ', '{:>10}'.format(\n",
    "        balanced_accuracy_score(y, clf.predict(x), sample_weight=x['loan_amnt'])))\n",
    "\n",
    "    print(confusion_matrix(y, clf.predict(x)))\n",
    "    print('F1 score: ', '{:>10}'.format(\n",
    "        str(f1_score(y, clf.predict(x)))))\n",
    "    print('precision_score: ', '{:>10}'.format(\n",
    "        str(precision_score(y, clf.predict(x)))))\n",
    "    \n",
    "    #score adjusted for loan amount\n",
    "    print('average_precision_score: ', '{:>10}'.format(average_precision_score(\n",
    "        y, clf.predict(x), average='weighted', sample_weight=x['loan_amnt'])))\n",
    "    print('recall_score: ', '{:>10}'.format(\n",
    "        str(recall_score(y, clf.predict(x)))))\n",
    "    clf.predict_proba(x)\n",
    "    \n",
    "    #score adjusted for loan amount\n",
    "    print('roc: ', '{:>10}'.format(\n",
    "        str(roc_auc_score(y, clf.predict_proba(x)[:, 1], average='weighted', sample_weight=x['loan_amnt']))))"
   ]
  },
  {
   "cell_type": "code",
   "execution_count": 12,
   "metadata": {},
   "outputs": [],
   "source": [
    "from sklearn.linear_model import LogisticRegression\n",
    "from sklearn.model_selection import train_test_split\n",
    "from sklearn.ensemble import GradientBoostingClassifier\n",
    "from sklearn.ensemble import RandomForestClassifier\n",
    "from sklearn.tree import DecisionTreeClassifier\n",
    "\n",
    "\n",
    "def ML(dataframe):\n",
    "    X = dataframe.drop(['loan_status'], axis=1)\n",
    "    y = dataframe.loan_status\n",
    "\n",
    "    X_train, X_test, y_train, y_test = train_test_split(\n",
    "        X, y, test_size=0.3, random_state=42)\n",
    "\n",
    "    gbm = GradientBoostingClassifier()\n",
    "    gbm.fit(X_train, y_train)\n",
    "    print('\\n')\n",
    "    print('GRADIENT BOOSTING')\n",
    "    scoring(gbm, X_test, y_test)\n",
    "\n",
    "    dtc = DecisionTreeClassifier()\n",
    "    dtc.fit(X_train, y_train)\n",
    "    print('\\n')\n",
    "    print('DECISION TREE')\n",
    "    scoring(dtc, X_test, y_test)    \n",
    "    \n",
    "    rf = RandomForestClassifier()\n",
    "    rf.fit(X_train, y_train)\n",
    "    print('\\n')\n",
    "    print('RANDOM FOREST')\n",
    "    scoring(rf, X_test, y_test)"
   ]
  },
  {
   "cell_type": "code",
   "execution_count": 14,
   "metadata": {},
   "outputs": [
    {
     "name": "stdout",
     "output_type": "stream",
     "text": [
      "\n",
      "\n",
      "GRADIENT BOOSTING\n",
      "Loan passing rate: 0.8018762389397847\n",
      "score:  0.8062753607347343\n",
      "balanced_accuracy_score:  0.5385905627895482\n",
      "[[ 11834 134987]\n",
      " [  8574 585662]]\n",
      "F1 score:  0.890818588697871\n",
      "precision_score:  0.812686897504888\n",
      "average_precision_score:  0.7998449742142856\n",
      "recall_score:  0.9855713891450535\n",
      "roc:  0.7287816303900644\n"
     ]
    },
    {
     "name": "stderr",
     "output_type": "stream",
     "text": [
      "C:\\Users\\leero\\Anaconda3\\lib\\site-packages\\sklearn\\ensemble\\forest.py:246: FutureWarning: The default value of n_estimators will change from 10 in version 0.20 to 100 in 0.22.\n",
      "  \"10 in version 0.20 to 100 in 0.22.\", FutureWarning)\n"
     ]
    },
    {
     "name": "stdout",
     "output_type": "stream",
     "text": [
      "\n",
      "\n",
      "RANDOM FOREST\n",
      "Loan passing rate: 0.8018762389397847\n",
      "score:  0.9283347974582252\n",
      "balanced_accuracy_score:  0.8592436174282925\n",
      "[[108149  38672]\n",
      " [ 14436 579800]]\n",
      "F1 score:  0.9562071001428208\n",
      "precision_score:  0.9374717044587305\n",
      "average_precision_score:  0.9298384999346954\n",
      "recall_score:  0.9757066216116156\n",
      "roc:  0.9366606511798172\n"
     ]
    }
   ],
   "source": [
    "ML(df_i)"
   ]
  },
  {
   "cell_type": "markdown",
   "metadata": {},
   "source": [
    "ML for joint loans"
   ]
  },
  {
   "cell_type": "code",
   "execution_count": 15,
   "metadata": {},
   "outputs": [
    {
     "name": "stdout",
     "output_type": "stream",
     "text": [
      "<class 'pandas.core.frame.DataFrame'>\n",
      "Int64Index: 36550 entries, 448539 to 2506737\n",
      "Columns: 146 entries, loan_amnt to verification_status_joint_Verified\n",
      "dtypes: float64(89), int64(4), uint8(53)\n",
      "memory usage: 28.1 MB\n"
     ]
    }
   ],
   "source": [
    "df_j.info()"
   ]
  },
  {
   "cell_type": "code",
   "execution_count": 16,
   "metadata": {},
   "outputs": [
    {
     "name": "stderr",
     "output_type": "stream",
     "text": [
      "C:\\Users\\leero\\Anaconda3\\lib\\site-packages\\pandas\\core\\generic.py:5430: SettingWithCopyWarning: \n",
      "A value is trying to be set on a copy of a slice from a DataFrame\n",
      "\n",
      "See the caveats in the documentation: http://pandas.pydata.org/pandas-docs/stable/indexing.html#indexing-view-versus-copy\n",
      "  self._update_inplace(new_data)\n"
     ]
    }
   ],
   "source": [
    "for thing in df_j:\n",
    "    if df_j[thing].isnull().values.any():\n",
    "        df_j[thing].fillna(np.mean(df_j[thing]), inplace=True)"
   ]
  },
  {
   "cell_type": "code",
   "execution_count": 17,
   "metadata": {},
   "outputs": [],
   "source": [
    "Xj = df_j.drop(['loan_status'], axis=1)\n",
    "yj = df_j.loan_status\n",
    "\n",
    "Xj_train, Xj_test, yj_train, yj_test = train_test_split(\n",
    "    Xj, yj, test_size=0.3, random_state=42)"
   ]
  },
  {
   "cell_type": "code",
   "execution_count": 18,
   "metadata": {
    "scrolled": false
   },
   "outputs": [
    {
     "name": "stdout",
     "output_type": "stream",
     "text": [
      "\n",
      "\n",
      "GRADIENT BOOSTING\n",
      "Loan passing rate: 0.7680802553579571\n",
      "score:  0.7836753305973552\n",
      "balanced_accuracy_score:  0.5607837806709302\n",
      "[[ 417 2126]\n",
      " [ 246 8176]]\n",
      "F1 score:  0.8733176671651357\n",
      "precision_score:  0.7936323044069112\n",
      "average_precision_score:  0.7860172587107791\n",
      "recall_score:  0.9707907860365709\n",
      "roc:  0.745654959071334\n"
     ]
    },
    {
     "name": "stderr",
     "output_type": "stream",
     "text": [
      "C:\\Users\\leero\\Anaconda3\\lib\\site-packages\\sklearn\\ensemble\\forest.py:246: FutureWarning: The default value of n_estimators will change from 10 in version 0.20 to 100 in 0.22.\n",
      "  \"10 in version 0.20 to 100 in 0.22.\", FutureWarning)\n"
     ]
    },
    {
     "name": "stdout",
     "output_type": "stream",
     "text": [
      "\n",
      "\n",
      "RANDOM FOREST\n",
      "Loan passing rate: 0.7680802553579571\n",
      "score:  0.9144550843593251\n",
      "balanced_accuracy_score:  0.8447167063397092\n",
      "[[1864  679]\n",
      " [ 259 8163]]\n",
      "F1 score:  0.9456672845227062\n",
      "precision_score:  0.9232074191359421\n",
      "average_precision_score:  0.9131492936231532\n",
      "recall_score:  0.96924720968891\n",
      "roc:  0.9288723137110362\n"
     ]
    }
   ],
   "source": [
    "ML(df_j)"
   ]
  },
  {
   "cell_type": "markdown",
   "metadata": {},
   "source": [
    "So the scores were pretty similar for both class of loans. Although it was slightly lower for joint loans. Unfortunately logistic regression seems to be a horrible classifier. Not only does it have the lowest score it also predicted that 6 loans were bad and out of that 3 were actually good! \n",
    "\n",
    "ALL TOGETHER NOW, ML for the whole data set"
   ]
  },
  {
   "cell_type": "code",
   "execution_count": 19,
   "metadata": {},
   "outputs": [
    {
     "name": "stdout",
     "output_type": "stream",
     "text": [
      "<class 'pandas.core.frame.DataFrame'>\n",
      "RangeIndex: 2506738 entries, 0 to 2506737\n",
      "Columns: 147 entries, loan_amnt to verification_status_joint_Verified\n",
      "dtypes: float64(89), int64(4), object(1), uint8(53)\n",
      "memory usage: 1.9+ GB\n"
     ]
    }
   ],
   "source": [
    "df.info()"
   ]
  },
  {
   "cell_type": "code",
   "execution_count": 20,
   "metadata": {},
   "outputs": [],
   "source": [
    "df.application_type = df.application_type.apply(\n",
    "    lambda app_type: 1 if app_type == 'Individual' else 0)"
   ]
  },
  {
   "cell_type": "code",
   "execution_count": 21,
   "metadata": {},
   "outputs": [
    {
     "name": "stderr",
     "output_type": "stream",
     "text": [
      "C:\\Users\\leero\\Anaconda3\\lib\\site-packages\\ipykernel_launcher.py:8: SettingWithCopyWarning: \n",
      "A value is trying to be set on a copy of a slice from a DataFrame.\n",
      "Try using .loc[row_indexer,col_indexer] = value instead\n",
      "\n",
      "See the caveats in the documentation: http://pandas.pydata.org/pandas-docs/stable/indexing.html#indexing-view-versus-copy\n",
      "  \n",
      "C:\\Users\\leero\\Anaconda3\\lib\\site-packages\\ipykernel_launcher.py:12: SettingWithCopyWarning: \n",
      "A value is trying to be set on a copy of a slice from a DataFrame.\n",
      "Try using .loc[row_indexer,col_indexer] = value instead\n",
      "\n",
      "See the caveats in the documentation: http://pandas.pydata.org/pandas-docs/stable/indexing.html#indexing-view-versus-copy\n",
      "  if sys.path[0] == '':\n"
     ]
    }
   ],
   "source": [
    "sec_list = ['sec_app_fico_range_low', 'sec_app_fico_range_high', 'sec_app_inq_last_6mths', 'sec_app_mort_acc',\n",
    "            'sec_app_open_acc', 'sec_app_revol_util', 'sec_app_num_rev_accts', 'sec_app_chargeoff_within_12_mths',\n",
    "            'sec_app_collections_12_mths_ex_med', 'sec_app_mths_since_last_major_derog', 'sec_app_open_act_il']\n",
    "joint_list = ['dti_joint', 'revol_bal_joint', 'annual_inc_joint']\n",
    "\n",
    "for secondary in sec_list:\n",
    "    df.loc[df.application_type ==\n",
    "           1][secondary] = df.loc[df.application_type == 1][secondary[8:]]\n",
    "\n",
    "for joint in joint_list:\n",
    "    df.loc[df.application_type ==\n",
    "           1][joint] = df.loc[df.application_type == 1][joint[:len(joint)-6]]"
   ]
  },
  {
   "cell_type": "code",
   "execution_count": 22,
   "metadata": {},
   "outputs": [],
   "source": [
    "for thing in df:\n",
    "    if df[thing].isnull().values.any():\n",
    "        df[thing].fillna(np.mean(df[thing]), inplace=True)"
   ]
  },
  {
   "cell_type": "code",
   "execution_count": 23,
   "metadata": {},
   "outputs": [
    {
     "name": "stdout",
     "output_type": "stream",
     "text": [
      "\n",
      "\n",
      "GRADIENT BOOSTING\n",
      "Loan passing rate: 0.8009672589365736\n",
      "score:  0.8049046437471244\n",
      "balanced_accuracy_score:  0.5357708792945135\n",
      "[[ 11431 138246]\n",
      " [  8470 593875]]\n",
      "F1 score:  0.8900563970906715\n",
      "precision_score:  0.8111705578722643\n",
      "average_precision_score:  0.7978289768315372\n",
      "recall_score:  0.9859382911786435\n",
      "roc:  0.7280044097447846\n"
     ]
    },
    {
     "name": "stderr",
     "output_type": "stream",
     "text": [
      "C:\\Users\\leero\\Anaconda3\\lib\\site-packages\\sklearn\\ensemble\\forest.py:246: FutureWarning: The default value of n_estimators will change from 10 in version 0.20 to 100 in 0.22.\n",
      "  \"10 in version 0.20 to 100 in 0.22.\", FutureWarning)\n"
     ]
    },
    {
     "name": "stdout",
     "output_type": "stream",
     "text": [
      "\n",
      "\n",
      "RANDOM FOREST\n",
      "Loan passing rate: 0.8009672589365736\n",
      "score:  0.9287095324338915\n",
      "balanced_accuracy_score:  0.8599965133060247\n",
      "[[110750  38927]\n",
      " [ 14685 587660]]\n",
      "F1 score:  0.9563751289737756\n",
      "precision_score:  0.9378745489453181\n",
      "average_precision_score:  0.9297767591104906\n",
      "recall_score:  0.9756202840564793\n",
      "roc:  0.9374429219746793\n"
     ]
    }
   ],
   "source": [
    "ML(df)"
   ]
  },
  {
   "cell_type": "markdown",
   "metadata": {},
   "source": [
    "Scores from highest to lowest: individual, all, then joint. I wouldn't exactly say this is is a fair comparison since we used different fill nan values, different set of features, and had different sample sizes. Although generally speaking joint loans seem harder to classify. This may have brought down scores for ml_all. \n",
    "\n",
    "We are going to try and see if we can get better scores among each grade of loans."
   ]
  },
  {
   "cell_type": "code",
   "execution_count": 24,
   "metadata": {},
   "outputs": [
    {
     "name": "stderr",
     "output_type": "stream",
     "text": [
      "C:\\Users\\leero\\Anaconda3\\lib\\site-packages\\IPython\\core\\interactiveshell.py:2785: DtypeWarning: Columns (30) have mixed types. Specify dtype option on import or set low_memory=False.\n",
      "  interactivity=interactivity, compiler=compiler, result=result)\n"
     ]
    },
    {
     "name": "stdout",
     "output_type": "stream",
     "text": [
      "<class 'pandas.core.frame.DataFrame'>\n",
      "RangeIndex: 2506738 entries, 0 to 2506737\n",
      "Data columns (total 100 columns):\n",
      "loan_amnt                              float64\n",
      "term                                   int64\n",
      "int_rate                               float64\n",
      "installment                            float64\n",
      "grade                                  object\n",
      "sub_grade                              object\n",
      "emp_length                             int64\n",
      "home_ownership                         object\n",
      "annual_inc                             float64\n",
      "verification_status                    object\n",
      "loan_status                            int64\n",
      "purpose                                object\n",
      "dti                                    float64\n",
      "delinq_2yrs                            float64\n",
      "fico_range_low                         float64\n",
      "fico_range_high                        float64\n",
      "inq_last_6mths                         float64\n",
      "mths_since_last_delinq                 float64\n",
      "mths_since_last_record                 float64\n",
      "open_acc                               float64\n",
      "pub_rec                                float64\n",
      "revol_bal                              float64\n",
      "revol_util                             float64\n",
      "total_acc                              float64\n",
      "collections_12_mths_ex_med             float64\n",
      "mths_since_last_major_derog            float64\n",
      "application_type                       object\n",
      "annual_inc_joint                       float64\n",
      "dti_joint                              float64\n",
      "verification_status_joint              object\n",
      "acc_now_delinq                         float64\n",
      "tot_coll_amt                           float64\n",
      "tot_cur_bal                            float64\n",
      "open_acc_6m                            float64\n",
      "open_act_il                            float64\n",
      "open_il_12m                            float64\n",
      "open_il_24m                            float64\n",
      "mths_since_rcnt_il                     float64\n",
      "total_bal_il                           float64\n",
      "il_util                                float64\n",
      "open_rv_12m                            float64\n",
      "open_rv_24m                            float64\n",
      "max_bal_bc                             float64\n",
      "all_util                               float64\n",
      "total_rev_hi_lim                       float64\n",
      "inq_fi                                 float64\n",
      "total_cu_tl                            float64\n",
      "inq_last_12m                           float64\n",
      "acc_open_past_24mths                   float64\n",
      "avg_cur_bal                            float64\n",
      "bc_open_to_buy                         float64\n",
      "bc_util                                float64\n",
      "chargeoff_within_12_mths               float64\n",
      "delinq_amnt                            float64\n",
      "mo_sin_old_il_acct                     float64\n",
      "mo_sin_old_rev_tl_op                   float64\n",
      "mo_sin_rcnt_rev_tl_op                  float64\n",
      "mo_sin_rcnt_tl                         float64\n",
      "mort_acc                               float64\n",
      "mths_since_recent_bc                   float64\n",
      "mths_since_recent_bc_dlq               float64\n",
      "mths_since_recent_inq                  float64\n",
      "mths_since_recent_revol_delinq         float64\n",
      "num_accts_ever_120_pd                  float64\n",
      "num_actv_bc_tl                         float64\n",
      "num_actv_rev_tl                        float64\n",
      "num_bc_sats                            float64\n",
      "num_bc_tl                              float64\n",
      "num_il_tl                              float64\n",
      "num_op_rev_tl                          float64\n",
      "num_rev_accts                          float64\n",
      "num_rev_tl_bal_gt_0                    float64\n",
      "num_sats                               float64\n",
      "num_tl_120dpd_2m                       float64\n",
      "num_tl_30dpd                           float64\n",
      "num_tl_90g_dpd_24m                     float64\n",
      "num_tl_op_past_12m                     float64\n",
      "pct_tl_nvr_dlq                         float64\n",
      "percent_bc_gt_75                       float64\n",
      "pub_rec_bankruptcies                   float64\n",
      "tax_liens                              float64\n",
      "tot_hi_cred_lim                        float64\n",
      "total_bal_ex_mort                      float64\n",
      "total_bc_limit                         float64\n",
      "total_il_high_credit_limit             float64\n",
      "revol_bal_joint                        float64\n",
      "sec_app_fico_range_low                 float64\n",
      "sec_app_fico_range_high                float64\n",
      "sec_app_inq_last_6mths                 float64\n",
      "sec_app_mort_acc                       float64\n",
      "sec_app_open_acc                       float64\n",
      "sec_app_revol_util                     float64\n",
      "sec_app_open_act_il                    float64\n",
      "sec_app_num_rev_accts                  float64\n",
      "sec_app_chargeoff_within_12_mths       float64\n",
      "sec_app_collections_12_mths_ex_med     float64\n",
      "sec_app_mths_since_last_major_derog    float64\n",
      "disbursement_method                    object\n",
      "sec_length_of_cr                       float64\n",
      "length_of_cr                           float64\n",
      "dtypes: float64(89), int64(3), object(8)\n",
      "memory usage: 1.9+ GB\n"
     ]
    }
   ],
   "source": [
    "df = pd.read_csv('lending_club_ml.csv')\n",
    "df.drop(['id'], inplace=True, axis=1)\n",
    "df.info()"
   ]
  },
  {
   "cell_type": "code",
   "execution_count": 25,
   "metadata": {},
   "outputs": [],
   "source": [
    "df.disbursement_method = df.disbursement_method.apply(\n",
    "    lambda disburstment: 1 if disburstment == 'Cash' else 0)\n",
    "df.application_type = df.application_type.apply(\n",
    "    lambda app_type: 1 if app_type == 'Individual' else 0)"
   ]
  },
  {
   "cell_type": "code",
   "execution_count": 26,
   "metadata": {},
   "outputs": [
    {
     "name": "stderr",
     "output_type": "stream",
     "text": [
      "C:\\Users\\leero\\Anaconda3\\lib\\site-packages\\ipykernel_launcher.py:8: SettingWithCopyWarning: \n",
      "A value is trying to be set on a copy of a slice from a DataFrame.\n",
      "Try using .loc[row_indexer,col_indexer] = value instead\n",
      "\n",
      "See the caveats in the documentation: http://pandas.pydata.org/pandas-docs/stable/indexing.html#indexing-view-versus-copy\n",
      "  \n",
      "C:\\Users\\leero\\Anaconda3\\lib\\site-packages\\ipykernel_launcher.py:12: SettingWithCopyWarning: \n",
      "A value is trying to be set on a copy of a slice from a DataFrame.\n",
      "Try using .loc[row_indexer,col_indexer] = value instead\n",
      "\n",
      "See the caveats in the documentation: http://pandas.pydata.org/pandas-docs/stable/indexing.html#indexing-view-versus-copy\n",
      "  if sys.path[0] == '':\n"
     ]
    }
   ],
   "source": [
    "sec_list = ['sec_app_fico_range_low', 'sec_app_fico_range_high', 'sec_app_inq_last_6mths', 'sec_app_mort_acc',\n",
    "            'sec_app_open_acc', 'sec_app_revol_util', 'sec_app_num_rev_accts', 'sec_app_chargeoff_within_12_mths',\n",
    "            'sec_app_collections_12_mths_ex_med', 'sec_app_mths_since_last_major_derog', 'sec_app_open_act_il']\n",
    "joint_list = ['dti_joint', 'revol_bal_joint', 'annual_inc_joint']\n",
    "\n",
    "for secondary in sec_list:\n",
    "    df.loc[df.application_type ==\n",
    "             1][secondary] = df.loc[df.application_type == 1][secondary[8:]]\n",
    "\n",
    "for joint in joint_list:\n",
    "    df.loc[df.application_type ==\n",
    "             1][joint] = df.loc[df.application_type == 1][joint[:len(joint)-6]]"
   ]
  },
  {
   "cell_type": "code",
   "execution_count": 27,
   "metadata": {},
   "outputs": [],
   "source": [
    "df = pd.concat([df, pd.get_dummies(\n",
    "    df.sub_grade, prefix='sub_grade', drop_first=True)], axis=1)\n",
    "df = pd.concat([df, pd.get_dummies(df.home_ownership,\n",
    "                                   prefix='home_ownership', drop_first=True)], axis=1)\n",
    "df = pd.concat([df, pd.get_dummies(df.verification_status,\n",
    "                                   prefix='verification_status', drop_first=True)], axis=1)\n",
    "df = pd.concat([df, pd.get_dummies(df.purpose, prefix='purpose', drop_first=True)], axis=1)\n",
    "df = pd.concat([df, pd.get_dummies(df.verification_status_joint,\n",
    "                                   prefix='verification_status_joint', drop_first=True)], axis=1)\n",
    "\n",
    "df.drop(columns=['sub_grade', 'home_ownership', 'verification_status',\n",
    "                 'purpose', 'verification_status_joint'], inplace=True)"
   ]
  },
  {
   "cell_type": "code",
   "execution_count": 28,
   "metadata": {},
   "outputs": [],
   "source": [
    "def grade_df(dataframe_grade):\n",
    "    for thing in dataframe_grade:\n",
    "        if dataframe_grade[thing].isnull().values.any():\n",
    "            dataframe_grade[thing].fillna(np.mean(dataframe_grade[thing]), inplace=True)\n",
    "    \n",
    "    dataframe_grade.drop(columns=['grade'],inplace=True)\n",
    "    \n",
    "    return dataframe_grade"
   ]
  },
  {
   "cell_type": "code",
   "execution_count": 29,
   "metadata": {},
   "outputs": [
    {
     "name": "stderr",
     "output_type": "stream",
     "text": [
      "C:\\Users\\leero\\Anaconda3\\lib\\site-packages\\pandas\\core\\generic.py:5430: SettingWithCopyWarning: \n",
      "A value is trying to be set on a copy of a slice from a DataFrame\n",
      "\n",
      "See the caveats in the documentation: http://pandas.pydata.org/pandas-docs/stable/indexing.html#indexing-view-versus-copy\n",
      "  self._update_inplace(new_data)\n",
      "C:\\Users\\leero\\Anaconda3\\lib\\site-packages\\pandas\\core\\frame.py:3694: SettingWithCopyWarning: \n",
      "A value is trying to be set on a copy of a slice from a DataFrame\n",
      "\n",
      "See the caveats in the documentation: http://pandas.pydata.org/pandas-docs/stable/indexing.html#indexing-view-versus-copy\n",
      "  errors=errors)\n"
     ]
    },
    {
     "name": "stdout",
     "output_type": "stream",
     "text": [
      "\n",
      "\n",
      "GRADIENT BOOSTING\n",
      "Loan passing rate: 0.9405104807551982\n",
      "score:  0.9405335238226913\n",
      "balanced_accuracy_score:  0.5006022180669367\n",
      "[[    13   7732]\n",
      " [    10 122436]]\n",
      "F1 score:  0.9693524507746998\n",
      "precision_score:  0.9405998402065023\n",
      "average_precision_score:  0.9414604966418046\n",
      "recall_score:  0.9999183313460628\n",
      "roc:  0.6768820339839337\n"
     ]
    },
    {
     "name": "stderr",
     "output_type": "stream",
     "text": [
      "C:\\Users\\leero\\Anaconda3\\lib\\site-packages\\sklearn\\ensemble\\forest.py:246: FutureWarning: The default value of n_estimators will change from 10 in version 0.20 to 100 in 0.22.\n",
      "  \"10 in version 0.20 to 100 in 0.22.\", FutureWarning)\n"
     ]
    },
    {
     "name": "stdout",
     "output_type": "stream",
     "text": [
      "\n",
      "\n",
      "RANDOM FOREST\n",
      "Loan passing rate: 0.9405104807551982\n",
      "score:  0.9788618260862886\n",
      "balanced_accuracy_score:  0.8244226427589971\n",
      "[[  5077   2668]\n",
      " [    84 122362]]\n",
      "F1 score:  0.9888797297515719\n",
      "precision_score:  0.9786611213308806\n",
      "average_precision_score:  0.978607688360896\n",
      "recall_score:  0.9993139833069271\n",
      "roc:  0.8978230783212322\n"
     ]
    }
   ],
   "source": [
    "df_a = grade_df(df.loc[df.grade == 'A'])\n",
    "ML(df_a)"
   ]
  },
  {
   "cell_type": "code",
   "execution_count": 30,
   "metadata": {
    "scrolled": false
   },
   "outputs": [
    {
     "name": "stderr",
     "output_type": "stream",
     "text": [
      "C:\\Users\\leero\\Anaconda3\\lib\\site-packages\\pandas\\core\\generic.py:5430: SettingWithCopyWarning: \n",
      "A value is trying to be set on a copy of a slice from a DataFrame\n",
      "\n",
      "See the caveats in the documentation: http://pandas.pydata.org/pandas-docs/stable/indexing.html#indexing-view-versus-copy\n",
      "  self._update_inplace(new_data)\n",
      "C:\\Users\\leero\\Anaconda3\\lib\\site-packages\\pandas\\core\\frame.py:3694: SettingWithCopyWarning: \n",
      "A value is trying to be set on a copy of a slice from a DataFrame\n",
      "\n",
      "See the caveats in the documentation: http://pandas.pydata.org/pandas-docs/stable/indexing.html#indexing-view-versus-copy\n",
      "  errors=errors)\n"
     ]
    },
    {
     "name": "stdout",
     "output_type": "stream",
     "text": [
      "\n",
      "\n",
      "GRADIENT BOOSTING\n",
      "Loan passing rate: 0.8673473571985074\n",
      "score:  0.8673701380061326\n",
      "balanced_accuracy_score:  0.5002613865509615\n",
      "[[    21  29094]\n",
      " [    16 190352]]\n",
      "F1 score:  0.9289677756250395\n",
      "precision_score:  0.8674206866381706\n",
      "average_precision_score:  0.8651264801534112\n",
      "recall_score:  0.9999159522608841\n",
      "roc:  0.6477998626699679\n"
     ]
    },
    {
     "name": "stderr",
     "output_type": "stream",
     "text": [
      "C:\\Users\\leero\\Anaconda3\\lib\\site-packages\\sklearn\\ensemble\\forest.py:246: FutureWarning: The default value of n_estimators will change from 10 in version 0.20 to 100 in 0.22.\n",
      "  \"10 in version 0.20 to 100 in 0.22.\", FutureWarning)\n"
     ]
    },
    {
     "name": "stdout",
     "output_type": "stream",
     "text": [
      "\n",
      "\n",
      "RANDOM FOREST\n",
      "Loan passing rate: 0.8673473571985074\n",
      "score:  0.9510531567365126\n",
      "balanced_accuracy_score:  0.8333525338380567\n",
      "[[ 19550   9565]\n",
      " [  1178 189190]]\n",
      "F1 score:  0.9723917630158073\n",
      "precision_score:  0.9518754245176222\n",
      "average_precision_score:  0.9506354932217147\n",
      "recall_score:  0.993811985207598\n",
      "roc:  0.9116751331947567\n"
     ]
    }
   ],
   "source": [
    "df_b = grade_df(df.loc[df.grade == 'B'])\n",
    "\n",
    "ML(df_b)"
   ]
  },
  {
   "cell_type": "code",
   "execution_count": 31,
   "metadata": {},
   "outputs": [
    {
     "name": "stderr",
     "output_type": "stream",
     "text": [
      "C:\\Users\\leero\\Anaconda3\\lib\\site-packages\\pandas\\core\\generic.py:5430: SettingWithCopyWarning: \n",
      "A value is trying to be set on a copy of a slice from a DataFrame\n",
      "\n",
      "See the caveats in the documentation: http://pandas.pydata.org/pandas-docs/stable/indexing.html#indexing-view-versus-copy\n",
      "  self._update_inplace(new_data)\n",
      "C:\\Users\\leero\\Anaconda3\\lib\\site-packages\\pandas\\core\\frame.py:3694: SettingWithCopyWarning: \n",
      "A value is trying to be set on a copy of a slice from a DataFrame\n",
      "\n",
      "See the caveats in the documentation: http://pandas.pydata.org/pandas-docs/stable/indexing.html#indexing-view-versus-copy\n",
      "  errors=errors)\n"
     ]
    },
    {
     "name": "stdout",
     "output_type": "stream",
     "text": [
      "\n",
      "\n",
      "GRADIENT BOOSTING\n",
      "Loan passing rate: 0.7772935382135309\n",
      "score:  0.7777715295253359\n",
      "balanced_accuracy_score:  0.5019134234359683\n",
      "[[   203  47321]\n",
      " [   101 165768]]\n",
      "F1 score:  0.8748621219238015\n",
      "precision_score:  0.7779284712021738\n",
      "average_precision_score:  0.7703780937644878\n",
      "recall_score:  0.9993910857363341\n",
      "roc:  0.640479672178083\n"
     ]
    },
    {
     "name": "stderr",
     "output_type": "stream",
     "text": [
      "C:\\Users\\leero\\Anaconda3\\lib\\site-packages\\sklearn\\ensemble\\forest.py:246: FutureWarning: The default value of n_estimators will change from 10 in version 0.20 to 100 in 0.22.\n",
      "  \"10 in version 0.20 to 100 in 0.22.\", FutureWarning)\n"
     ]
    },
    {
     "name": "stdout",
     "output_type": "stream",
     "text": [
      "\n",
      "\n",
      "RANDOM FOREST\n",
      "Loan passing rate: 0.7772935382135309\n",
      "score:  0.9168904322072421\n",
      "balanced_accuracy_score:  0.847550215507977\n",
      "[[ 34225  13299]\n",
      " [  4436 161433]]\n",
      "F1 score:  0.9479302761882672\n",
      "precision_score:  0.9238891559645629\n",
      "average_precision_score:  0.9172325559312757\n",
      "recall_score:  0.9732560032314658\n",
      "roc:  0.924580798533717\n"
     ]
    }
   ],
   "source": [
    "df_c = grade_df(df.loc[df.grade == 'C'])\n",
    "\n",
    "ML(df_c)"
   ]
  },
  {
   "cell_type": "code",
   "execution_count": 32,
   "metadata": {},
   "outputs": [
    {
     "name": "stderr",
     "output_type": "stream",
     "text": [
      "C:\\Users\\leero\\Anaconda3\\lib\\site-packages\\pandas\\core\\generic.py:5430: SettingWithCopyWarning: \n",
      "A value is trying to be set on a copy of a slice from a DataFrame\n",
      "\n",
      "See the caveats in the documentation: http://pandas.pydata.org/pandas-docs/stable/indexing.html#indexing-view-versus-copy\n",
      "  self._update_inplace(new_data)\n",
      "C:\\Users\\leero\\Anaconda3\\lib\\site-packages\\pandas\\core\\frame.py:3694: SettingWithCopyWarning: \n",
      "A value is trying to be set on a copy of a slice from a DataFrame\n",
      "\n",
      "See the caveats in the documentation: http://pandas.pydata.org/pandas-docs/stable/indexing.html#indexing-view-versus-copy\n",
      "  errors=errors)\n"
     ]
    },
    {
     "name": "stdout",
     "output_type": "stream",
     "text": [
      "\n",
      "\n",
      "GRADIENT BOOSTING\n",
      "Loan passing rate: 0.6985549107182656\n",
      "score:  0.7040196838811479\n",
      "balanced_accuracy_score:  0.5198508815674399\n",
      "[[ 1862 31952]\n",
      " [ 1249 77110]]\n",
      "F1 score:  0.8228533622166139\n",
      "precision_score:  0.7070290293594469\n",
      "average_precision_score:  0.6930057348284491\n",
      "recall_score:  0.9840605418650059\n",
      "roc:  0.6418442835618936\n"
     ]
    },
    {
     "name": "stderr",
     "output_type": "stream",
     "text": [
      "C:\\Users\\leero\\Anaconda3\\lib\\site-packages\\sklearn\\ensemble\\forest.py:246: FutureWarning: The default value of n_estimators will change from 10 in version 0.20 to 100 in 0.22.\n",
      "  \"10 in version 0.20 to 100 in 0.22.\", FutureWarning)\n"
     ]
    },
    {
     "name": "stdout",
     "output_type": "stream",
     "text": [
      "\n",
      "\n",
      "RANDOM FOREST\n",
      "Loan passing rate: 0.6985549107182656\n",
      "score:  0.8888056840772735\n",
      "balanced_accuracy_score:  0.8526563985702642\n",
      "[[25738  8076]\n",
      " [ 4397 73962]]\n",
      "F1 score:  0.9222367001876594\n",
      "precision_score:  0.90155781467125\n",
      "average_precision_score:  0.884048895462644\n",
      "recall_score:  0.943886471241338\n",
      "roc:  0.9302353580105257\n"
     ]
    }
   ],
   "source": [
    "df_d = grade_df(df.loc[df.grade == 'D'])\n",
    "\n",
    "ML(df_d)"
   ]
  },
  {
   "cell_type": "code",
   "execution_count": 33,
   "metadata": {},
   "outputs": [
    {
     "name": "stderr",
     "output_type": "stream",
     "text": [
      "C:\\Users\\leero\\Anaconda3\\lib\\site-packages\\pandas\\core\\generic.py:5430: SettingWithCopyWarning: \n",
      "A value is trying to be set on a copy of a slice from a DataFrame\n",
      "\n",
      "See the caveats in the documentation: http://pandas.pydata.org/pandas-docs/stable/indexing.html#indexing-view-versus-copy\n",
      "  self._update_inplace(new_data)\n",
      "C:\\Users\\leero\\Anaconda3\\lib\\site-packages\\pandas\\core\\frame.py:3694: SettingWithCopyWarning: \n",
      "A value is trying to be set on a copy of a slice from a DataFrame\n",
      "\n",
      "See the caveats in the documentation: http://pandas.pydata.org/pandas-docs/stable/indexing.html#indexing-view-versus-copy\n",
      "  errors=errors)\n"
     ]
    },
    {
     "name": "stdout",
     "output_type": "stream",
     "text": [
      "\n",
      "\n",
      "GRADIENT BOOSTING\n",
      "Loan passing rate: 0.6156433188035473\n",
      "score:  0.6433563805801894\n",
      "balanced_accuracy_score:  0.5605930249050125\n",
      "[[ 4500 15957]\n",
      " [ 3025 29742]]\n",
      "F1 score:  0.7580863048963883\n",
      "precision_score:  0.6508238692312742\n",
      "average_precision_score:  0.6349311264520161\n",
      "recall_score:  0.9076815088351085\n",
      "roc:  0.6438244119618596\n"
     ]
    },
    {
     "name": "stderr",
     "output_type": "stream",
     "text": [
      "C:\\Users\\leero\\Anaconda3\\lib\\site-packages\\sklearn\\ensemble\\forest.py:246: FutureWarning: The default value of n_estimators will change from 10 in version 0.20 to 100 in 0.22.\n",
      "  \"10 in version 0.20 to 100 in 0.22.\", FutureWarning)\n"
     ]
    },
    {
     "name": "stdout",
     "output_type": "stream",
     "text": [
      "\n",
      "\n",
      "RANDOM FOREST\n",
      "Loan passing rate: 0.6156433188035473\n",
      "score:  0.8641590260033067\n",
      "balanced_accuracy_score:  0.8537752078158646\n",
      "[[16699  3758]\n",
      " [ 3472 29295]]\n",
      "F1 score:  0.8901549680948039\n",
      "precision_score:  0.8863038150848637\n",
      "average_precision_score:  0.8509668538054272\n",
      "recall_score:  0.8940397350993378\n",
      "roc:  0.930754515514484\n"
     ]
    }
   ],
   "source": [
    "df_e = grade_df(df.loc[df.grade == 'E'])\n",
    "\n",
    "ML(df_e)"
   ]
  },
  {
   "cell_type": "code",
   "execution_count": 34,
   "metadata": {},
   "outputs": [
    {
     "name": "stderr",
     "output_type": "stream",
     "text": [
      "C:\\Users\\leero\\Anaconda3\\lib\\site-packages\\pandas\\core\\generic.py:5430: SettingWithCopyWarning: \n",
      "A value is trying to be set on a copy of a slice from a DataFrame\n",
      "\n",
      "See the caveats in the documentation: http://pandas.pydata.org/pandas-docs/stable/indexing.html#indexing-view-versus-copy\n",
      "  self._update_inplace(new_data)\n",
      "C:\\Users\\leero\\Anaconda3\\lib\\site-packages\\pandas\\core\\frame.py:3694: SettingWithCopyWarning: \n",
      "A value is trying to be set on a copy of a slice from a DataFrame\n",
      "\n",
      "See the caveats in the documentation: http://pandas.pydata.org/pandas-docs/stable/indexing.html#indexing-view-versus-copy\n",
      "  errors=errors)\n"
     ]
    },
    {
     "name": "stdout",
     "output_type": "stream",
     "text": [
      "\n",
      "\n",
      "GRADIENT BOOSTING\n",
      "Loan passing rate: 0.549331012727075\n",
      "score:  0.6156314587185903\n",
      "balanced_accuracy_score:  0.5952898993433103\n",
      "[[3635 4651]\n",
      " [2416 7684]]\n",
      "F1 score:  0.6850011143302875\n",
      "precision_score:  0.6229428455614107\n",
      "average_precision_score:  0.5915407230734055\n",
      "recall_score:  0.7607920792079208\n",
      "roc:  0.6512012744321308\n"
     ]
    },
    {
     "name": "stderr",
     "output_type": "stream",
     "text": [
      "C:\\Users\\leero\\Anaconda3\\lib\\site-packages\\sklearn\\ensemble\\forest.py:246: FutureWarning: The default value of n_estimators will change from 10 in version 0.20 to 100 in 0.22.\n",
      "  \"10 in version 0.20 to 100 in 0.22.\", FutureWarning)\n"
     ]
    },
    {
     "name": "stdout",
     "output_type": "stream",
     "text": [
      "\n",
      "\n",
      "RANDOM FOREST\n",
      "Loan passing rate: 0.549331012727075\n",
      "score:  0.8630479712824976\n",
      "balanced_accuracy_score:  0.8600308832011903\n",
      "[[7276 1010]\n",
      " [1508 8592]]\n",
      "F1 score:  0.8721957161709472\n",
      "precision_score:  0.8948135805040617\n",
      "average_precision_score:  0.8338427639321693\n",
      "recall_score:  0.8506930693069307\n",
      "roc:  0.9357859887790684\n"
     ]
    }
   ],
   "source": [
    "df_f = grade_df(df.loc[df.grade == 'F'])\n",
    "\n",
    "ML(df_f)"
   ]
  },
  {
   "cell_type": "code",
   "execution_count": 35,
   "metadata": {},
   "outputs": [
    {
     "name": "stderr",
     "output_type": "stream",
     "text": [
      "C:\\Users\\leero\\Anaconda3\\lib\\site-packages\\pandas\\core\\generic.py:5430: SettingWithCopyWarning: \n",
      "A value is trying to be set on a copy of a slice from a DataFrame\n",
      "\n",
      "See the caveats in the documentation: http://pandas.pydata.org/pandas-docs/stable/indexing.html#indexing-view-versus-copy\n",
      "  self._update_inplace(new_data)\n",
      "C:\\Users\\leero\\Anaconda3\\lib\\site-packages\\pandas\\core\\frame.py:3694: SettingWithCopyWarning: \n",
      "A value is trying to be set on a copy of a slice from a DataFrame\n",
      "\n",
      "See the caveats in the documentation: http://pandas.pydata.org/pandas-docs/stable/indexing.html#indexing-view-versus-copy\n",
      "  errors=errors)\n"
     ]
    },
    {
     "name": "stdout",
     "output_type": "stream",
     "text": [
      "\n",
      "\n",
      "GRADIENT BOOSTING\n",
      "Loan passing rate: 0.49284885968303055\n",
      "score:  0.6231155778894473\n",
      "balanced_accuracy_score:  0.6278337777218\n",
      "[[1637  987]\n",
      " [ 963 1587]]\n",
      "F1 score:  0.6194379391100703\n",
      "precision_score:  0.6165501165501166\n",
      "average_precision_score:  0.5751170641941389\n",
      "recall_score:  0.6223529411764706\n",
      "roc:  0.679622435591048\n"
     ]
    },
    {
     "name": "stderr",
     "output_type": "stream",
     "text": [
      "C:\\Users\\leero\\Anaconda3\\lib\\site-packages\\sklearn\\ensemble\\forest.py:246: FutureWarning: The default value of n_estimators will change from 10 in version 0.20 to 100 in 0.22.\n",
      "  \"10 in version 0.20 to 100 in 0.22.\", FutureWarning)\n"
     ]
    },
    {
     "name": "stdout",
     "output_type": "stream",
     "text": [
      "\n",
      "\n",
      "RANDOM FOREST\n",
      "Loan passing rate: 0.49284885968303055\n",
      "score:  0.8419018167761886\n",
      "balanced_accuracy_score:  0.8422274272905619\n",
      "[[2300  324]\n",
      " [ 494 2056]]\n",
      "F1 score:  0.8340770791075052\n",
      "precision_score:  0.8638655462184874\n",
      "average_precision_score:  0.7927106947296002\n",
      "recall_score:  0.8062745098039216\n",
      "roc:  0.9220783994513891\n"
     ]
    }
   ],
   "source": [
    "df_g = grade_df(df.loc[df.grade == 'G'])\n",
    "\n",
    "ML(df_g)"
   ]
  },
  {
   "cell_type": "markdown",
   "metadata": {},
   "source": [
    "Interestingly the scores are hurt as we look at the lower grades. However the scores are still higher than the loan passing rate"
   ]
  },
  {
   "cell_type": "markdown",
   "metadata": {},
   "source": [
    "Going to run these "
   ]
  },
  {
   "cell_type": "code",
   "execution_count": 13,
   "metadata": {},
   "outputs": [
    {
     "name": "stdout",
     "output_type": "stream",
     "text": [
      "Loan passing rate: 0.8018762389397847\n",
      "score:  0.44620859124196927\n",
      "balanced_accuracy_score:  0.591571043555728\n",
      "[[119184  27637]\n",
      " [382754 211482]]\n",
      "F1 score:  0.5075436038662995\n",
      "precision_score:  0.8844215641584315\n",
      "average_precision_score:  0.8207192214814045\n",
      "recall_score:  0.3558889060911826\n",
      "roc:  0.659946435989192\n"
     ]
    }
   ],
   "source": [
    "from sklearn.naive_bayes import GaussianNB\n",
    "#var_smoothing : float, optional (default=1e-9)\n",
    "gaussian_nb = GaussianNB()\n",
    "\n",
    "X = df_i.drop(['loan_status'], axis=1)\n",
    "y = df_i.loan_status\n",
    "\n",
    "X_train, X_test, y_train, y_test = train_test_split(X, y, test_size=0.3, random_state=42)\n",
    "\n",
    "gaussian_nb.fit(X_train, y_train)\n",
    "\n",
    "scoring(gaussian_nb, X_test, y_test)\n"
   ]
  },
  {
   "cell_type": "code",
   "execution_count": 37,
   "metadata": {
    "scrolled": true
   },
   "outputs": [
    {
     "name": "stdout",
     "output_type": "stream",
     "text": [
      "Loan passing rate: 0.8018762389397847\n",
      "score:  0.7939713139475101\n",
      "balanced_accuracy_score:  0.5458201603019825\n",
      "[[ 18890 127931]\n",
      " [ 24748 569488]]\n",
      "F1 score:  0.8817958355752891\n",
      "precision_score:  0.816565077808319\n",
      "average_precision_score:  0.80237121366482\n",
      "recall_score:  0.9583532468581506\n",
      "roc:  0.6910071057041772\n"
     ]
    }
   ],
   "source": [
    "from sklearn.naive_bayes import BernoulliNB\n",
    "#alpha : float, optional (default=1.0)\n",
    "bernoulli_nb = BernoulliNB()\n",
    "\n",
    "X = df_i.drop(['loan_status'], axis=1)\n",
    "y = df_i.loan_status\n",
    "\n",
    "X_train, X_test, y_train, y_test = train_test_split(X, y, test_size=0.3, random_state=42)\n",
    "\n",
    "bernoulli_nb.fit(X_train, y_train)\n",
    "\n",
    "scoring(bernoulli_nb, X_test, y_test)"
   ]
  },
  {
   "cell_type": "code",
   "execution_count": 14,
   "metadata": {},
   "outputs": [],
   "source": [
    "from sklearn.model_selection import GridSearchCV\n",
    "\n",
    "def hypertune(clf,param,x,y):\n",
    "    clf_cv = GridSearchCV(clf,parameters, cv=5)\n",
    "    clf.fit(x,y)"
   ]
  },
  {
   "cell_type": "code",
   "execution_count": 15,
   "metadata": {
    "scrolled": false
   },
   "outputs": [
    {
     "name": "stderr",
     "output_type": "stream",
     "text": [
      "C:\\Users\\leero\\Anaconda3\\lib\\site-packages\\sklearn\\model_selection\\_validation.py:542: FutureWarning: From version 0.22, errors during fit will result in a cross validation score of NaN by default. Use error_score='raise' if you want an exception raised or error_score=np.nan to adopt the behavior from version 0.22.\n",
      "  FutureWarning)\n"
     ]
    },
    {
     "ename": "ValueError",
     "evalue": "operands could not be broadcast together with shapes (2,131) (5,) (2,131) ",
     "output_type": "error",
     "traceback": [
      "\u001b[1;31m---------------------------------------------------------------------------\u001b[0m",
      "\u001b[1;31mValueError\u001b[0m                                Traceback (most recent call last)",
      "\u001b[1;32m<ipython-input-15-497be7b1905d>\u001b[0m in \u001b[0;36m<module>\u001b[1;34m()\u001b[0m\n\u001b[0;32m      5\u001b[0m \u001b[0mgrid_gaussian_nb\u001b[0m \u001b[1;33m=\u001b[0m \u001b[0mGridSearchCV\u001b[0m\u001b[1;33m(\u001b[0m\u001b[0mgaussian_nb\u001b[0m\u001b[1;33m,\u001b[0m\u001b[0mparameters\u001b[0m\u001b[1;33m,\u001b[0m \u001b[0mcv\u001b[0m\u001b[1;33m=\u001b[0m\u001b[1;36m5\u001b[0m\u001b[1;33m)\u001b[0m\u001b[1;33m\u001b[0m\u001b[0m\n\u001b[0;32m      6\u001b[0m \u001b[1;33m\u001b[0m\u001b[0m\n\u001b[1;32m----> 7\u001b[1;33m \u001b[0mgrid_gaussian_nb\u001b[0m\u001b[1;33m.\u001b[0m\u001b[0mfit\u001b[0m\u001b[1;33m(\u001b[0m\u001b[0mdf_i\u001b[0m\u001b[1;33m.\u001b[0m\u001b[0mdrop\u001b[0m\u001b[1;33m(\u001b[0m\u001b[0mcolumns\u001b[0m\u001b[1;33m=\u001b[0m\u001b[1;33m[\u001b[0m\u001b[1;34m'loan_status'\u001b[0m\u001b[1;33m]\u001b[0m\u001b[1;33m)\u001b[0m\u001b[1;33m,\u001b[0m\u001b[0mdf_i\u001b[0m\u001b[1;33m[\u001b[0m\u001b[1;34m'loan_status'\u001b[0m\u001b[1;33m]\u001b[0m\u001b[1;33m)\u001b[0m\u001b[1;33m\u001b[0m\u001b[0m\n\u001b[0m\u001b[0;32m      8\u001b[0m \u001b[1;33m\u001b[0m\u001b[0m\n\u001b[0;32m      9\u001b[0m \u001b[0msorted\u001b[0m\u001b[1;33m(\u001b[0m\u001b[0mgrid_gaussian_nb\u001b[0m\u001b[1;33m.\u001b[0m\u001b[0mcv_results_\u001b[0m\u001b[1;33m.\u001b[0m\u001b[0mkeys\u001b[0m\u001b[1;33m(\u001b[0m\u001b[1;33m)\u001b[0m\u001b[1;33m)\u001b[0m\u001b[1;33m\u001b[0m\u001b[0m\n",
      "\u001b[1;32m~\\Anaconda3\\lib\\site-packages\\sklearn\\model_selection\\_search.py\u001b[0m in \u001b[0;36mfit\u001b[1;34m(self, X, y, groups, **fit_params)\u001b[0m\n\u001b[0;32m    720\u001b[0m                 \u001b[1;32mreturn\u001b[0m \u001b[0mresults_container\u001b[0m\u001b[1;33m[\u001b[0m\u001b[1;36m0\u001b[0m\u001b[1;33m]\u001b[0m\u001b[1;33m\u001b[0m\u001b[0m\n\u001b[0;32m    721\u001b[0m \u001b[1;33m\u001b[0m\u001b[0m\n\u001b[1;32m--> 722\u001b[1;33m             \u001b[0mself\u001b[0m\u001b[1;33m.\u001b[0m\u001b[0m_run_search\u001b[0m\u001b[1;33m(\u001b[0m\u001b[0mevaluate_candidates\u001b[0m\u001b[1;33m)\u001b[0m\u001b[1;33m\u001b[0m\u001b[0m\n\u001b[0m\u001b[0;32m    723\u001b[0m \u001b[1;33m\u001b[0m\u001b[0m\n\u001b[0;32m    724\u001b[0m         \u001b[0mresults\u001b[0m \u001b[1;33m=\u001b[0m \u001b[0mresults_container\u001b[0m\u001b[1;33m[\u001b[0m\u001b[1;36m0\u001b[0m\u001b[1;33m]\u001b[0m\u001b[1;33m\u001b[0m\u001b[0m\n",
      "\u001b[1;32m~\\Anaconda3\\lib\\site-packages\\sklearn\\model_selection\\_search.py\u001b[0m in \u001b[0;36m_run_search\u001b[1;34m(self, evaluate_candidates)\u001b[0m\n\u001b[0;32m   1189\u001b[0m     \u001b[1;32mdef\u001b[0m \u001b[0m_run_search\u001b[0m\u001b[1;33m(\u001b[0m\u001b[0mself\u001b[0m\u001b[1;33m,\u001b[0m \u001b[0mevaluate_candidates\u001b[0m\u001b[1;33m)\u001b[0m\u001b[1;33m:\u001b[0m\u001b[1;33m\u001b[0m\u001b[0m\n\u001b[0;32m   1190\u001b[0m         \u001b[1;34m\"\"\"Search all candidates in param_grid\"\"\"\u001b[0m\u001b[1;33m\u001b[0m\u001b[0m\n\u001b[1;32m-> 1191\u001b[1;33m         \u001b[0mevaluate_candidates\u001b[0m\u001b[1;33m(\u001b[0m\u001b[0mParameterGrid\u001b[0m\u001b[1;33m(\u001b[0m\u001b[0mself\u001b[0m\u001b[1;33m.\u001b[0m\u001b[0mparam_grid\u001b[0m\u001b[1;33m)\u001b[0m\u001b[1;33m)\u001b[0m\u001b[1;33m\u001b[0m\u001b[0m\n\u001b[0m\u001b[0;32m   1192\u001b[0m \u001b[1;33m\u001b[0m\u001b[0m\n\u001b[0;32m   1193\u001b[0m \u001b[1;33m\u001b[0m\u001b[0m\n",
      "\u001b[1;32m~\\Anaconda3\\lib\\site-packages\\sklearn\\model_selection\\_search.py\u001b[0m in \u001b[0;36mevaluate_candidates\u001b[1;34m(candidate_params)\u001b[0m\n\u001b[0;32m    709\u001b[0m                                \u001b[1;32mfor\u001b[0m \u001b[0mparameters\u001b[0m\u001b[1;33m,\u001b[0m \u001b[1;33m(\u001b[0m\u001b[0mtrain\u001b[0m\u001b[1;33m,\u001b[0m \u001b[0mtest\u001b[0m\u001b[1;33m)\u001b[0m\u001b[1;33m\u001b[0m\u001b[0m\n\u001b[0;32m    710\u001b[0m                                in product(candidate_params,\n\u001b[1;32m--> 711\u001b[1;33m                                           cv.split(X, y, groups)))\n\u001b[0m\u001b[0;32m    712\u001b[0m \u001b[1;33m\u001b[0m\u001b[0m\n\u001b[0;32m    713\u001b[0m                 \u001b[0mall_candidate_params\u001b[0m\u001b[1;33m.\u001b[0m\u001b[0mextend\u001b[0m\u001b[1;33m(\u001b[0m\u001b[0mcandidate_params\u001b[0m\u001b[1;33m)\u001b[0m\u001b[1;33m\u001b[0m\u001b[0m\n",
      "\u001b[1;32m~\\Anaconda3\\lib\\site-packages\\sklearn\\externals\\joblib\\parallel.py\u001b[0m in \u001b[0;36m__call__\u001b[1;34m(self, iterable)\u001b[0m\n\u001b[0;32m    915\u001b[0m             \u001b[1;31m# remaining jobs.\u001b[0m\u001b[1;33m\u001b[0m\u001b[1;33m\u001b[0m\u001b[0m\n\u001b[0;32m    916\u001b[0m             \u001b[0mself\u001b[0m\u001b[1;33m.\u001b[0m\u001b[0m_iterating\u001b[0m \u001b[1;33m=\u001b[0m \u001b[1;32mFalse\u001b[0m\u001b[1;33m\u001b[0m\u001b[0m\n\u001b[1;32m--> 917\u001b[1;33m             \u001b[1;32mif\u001b[0m \u001b[0mself\u001b[0m\u001b[1;33m.\u001b[0m\u001b[0mdispatch_one_batch\u001b[0m\u001b[1;33m(\u001b[0m\u001b[0miterator\u001b[0m\u001b[1;33m)\u001b[0m\u001b[1;33m:\u001b[0m\u001b[1;33m\u001b[0m\u001b[0m\n\u001b[0m\u001b[0;32m    918\u001b[0m                 \u001b[0mself\u001b[0m\u001b[1;33m.\u001b[0m\u001b[0m_iterating\u001b[0m \u001b[1;33m=\u001b[0m \u001b[0mself\u001b[0m\u001b[1;33m.\u001b[0m\u001b[0m_original_iterator\u001b[0m \u001b[1;32mis\u001b[0m \u001b[1;32mnot\u001b[0m \u001b[1;32mNone\u001b[0m\u001b[1;33m\u001b[0m\u001b[0m\n\u001b[0;32m    919\u001b[0m \u001b[1;33m\u001b[0m\u001b[0m\n",
      "\u001b[1;32m~\\Anaconda3\\lib\\site-packages\\sklearn\\externals\\joblib\\parallel.py\u001b[0m in \u001b[0;36mdispatch_one_batch\u001b[1;34m(self, iterator)\u001b[0m\n\u001b[0;32m    757\u001b[0m                 \u001b[1;32mreturn\u001b[0m \u001b[1;32mFalse\u001b[0m\u001b[1;33m\u001b[0m\u001b[0m\n\u001b[0;32m    758\u001b[0m             \u001b[1;32melse\u001b[0m\u001b[1;33m:\u001b[0m\u001b[1;33m\u001b[0m\u001b[0m\n\u001b[1;32m--> 759\u001b[1;33m                 \u001b[0mself\u001b[0m\u001b[1;33m.\u001b[0m\u001b[0m_dispatch\u001b[0m\u001b[1;33m(\u001b[0m\u001b[0mtasks\u001b[0m\u001b[1;33m)\u001b[0m\u001b[1;33m\u001b[0m\u001b[0m\n\u001b[0m\u001b[0;32m    760\u001b[0m                 \u001b[1;32mreturn\u001b[0m \u001b[1;32mTrue\u001b[0m\u001b[1;33m\u001b[0m\u001b[0m\n\u001b[0;32m    761\u001b[0m \u001b[1;33m\u001b[0m\u001b[0m\n",
      "\u001b[1;32m~\\Anaconda3\\lib\\site-packages\\sklearn\\externals\\joblib\\parallel.py\u001b[0m in \u001b[0;36m_dispatch\u001b[1;34m(self, batch)\u001b[0m\n\u001b[0;32m    714\u001b[0m         \u001b[1;32mwith\u001b[0m \u001b[0mself\u001b[0m\u001b[1;33m.\u001b[0m\u001b[0m_lock\u001b[0m\u001b[1;33m:\u001b[0m\u001b[1;33m\u001b[0m\u001b[0m\n\u001b[0;32m    715\u001b[0m             \u001b[0mjob_idx\u001b[0m \u001b[1;33m=\u001b[0m \u001b[0mlen\u001b[0m\u001b[1;33m(\u001b[0m\u001b[0mself\u001b[0m\u001b[1;33m.\u001b[0m\u001b[0m_jobs\u001b[0m\u001b[1;33m)\u001b[0m\u001b[1;33m\u001b[0m\u001b[0m\n\u001b[1;32m--> 716\u001b[1;33m             \u001b[0mjob\u001b[0m \u001b[1;33m=\u001b[0m \u001b[0mself\u001b[0m\u001b[1;33m.\u001b[0m\u001b[0m_backend\u001b[0m\u001b[1;33m.\u001b[0m\u001b[0mapply_async\u001b[0m\u001b[1;33m(\u001b[0m\u001b[0mbatch\u001b[0m\u001b[1;33m,\u001b[0m \u001b[0mcallback\u001b[0m\u001b[1;33m=\u001b[0m\u001b[0mcb\u001b[0m\u001b[1;33m)\u001b[0m\u001b[1;33m\u001b[0m\u001b[0m\n\u001b[0m\u001b[0;32m    717\u001b[0m             \u001b[1;31m# A job can complete so quickly than its callback is\u001b[0m\u001b[1;33m\u001b[0m\u001b[1;33m\u001b[0m\u001b[0m\n\u001b[0;32m    718\u001b[0m             \u001b[1;31m# called before we get here, causing self._jobs to\u001b[0m\u001b[1;33m\u001b[0m\u001b[1;33m\u001b[0m\u001b[0m\n",
      "\u001b[1;32m~\\Anaconda3\\lib\\site-packages\\sklearn\\externals\\joblib\\_parallel_backends.py\u001b[0m in \u001b[0;36mapply_async\u001b[1;34m(self, func, callback)\u001b[0m\n\u001b[0;32m    180\u001b[0m     \u001b[1;32mdef\u001b[0m \u001b[0mapply_async\u001b[0m\u001b[1;33m(\u001b[0m\u001b[0mself\u001b[0m\u001b[1;33m,\u001b[0m \u001b[0mfunc\u001b[0m\u001b[1;33m,\u001b[0m \u001b[0mcallback\u001b[0m\u001b[1;33m=\u001b[0m\u001b[1;32mNone\u001b[0m\u001b[1;33m)\u001b[0m\u001b[1;33m:\u001b[0m\u001b[1;33m\u001b[0m\u001b[0m\n\u001b[0;32m    181\u001b[0m         \u001b[1;34m\"\"\"Schedule a func to be run\"\"\"\u001b[0m\u001b[1;33m\u001b[0m\u001b[0m\n\u001b[1;32m--> 182\u001b[1;33m         \u001b[0mresult\u001b[0m \u001b[1;33m=\u001b[0m \u001b[0mImmediateResult\u001b[0m\u001b[1;33m(\u001b[0m\u001b[0mfunc\u001b[0m\u001b[1;33m)\u001b[0m\u001b[1;33m\u001b[0m\u001b[0m\n\u001b[0m\u001b[0;32m    183\u001b[0m         \u001b[1;32mif\u001b[0m \u001b[0mcallback\u001b[0m\u001b[1;33m:\u001b[0m\u001b[1;33m\u001b[0m\u001b[0m\n\u001b[0;32m    184\u001b[0m             \u001b[0mcallback\u001b[0m\u001b[1;33m(\u001b[0m\u001b[0mresult\u001b[0m\u001b[1;33m)\u001b[0m\u001b[1;33m\u001b[0m\u001b[0m\n",
      "\u001b[1;32m~\\Anaconda3\\lib\\site-packages\\sklearn\\externals\\joblib\\_parallel_backends.py\u001b[0m in \u001b[0;36m__init__\u001b[1;34m(self, batch)\u001b[0m\n\u001b[0;32m    547\u001b[0m         \u001b[1;31m# Don't delay the application, to avoid keeping the input\u001b[0m\u001b[1;33m\u001b[0m\u001b[1;33m\u001b[0m\u001b[0m\n\u001b[0;32m    548\u001b[0m         \u001b[1;31m# arguments in memory\u001b[0m\u001b[1;33m\u001b[0m\u001b[1;33m\u001b[0m\u001b[0m\n\u001b[1;32m--> 549\u001b[1;33m         \u001b[0mself\u001b[0m\u001b[1;33m.\u001b[0m\u001b[0mresults\u001b[0m \u001b[1;33m=\u001b[0m \u001b[0mbatch\u001b[0m\u001b[1;33m(\u001b[0m\u001b[1;33m)\u001b[0m\u001b[1;33m\u001b[0m\u001b[0m\n\u001b[0m\u001b[0;32m    550\u001b[0m \u001b[1;33m\u001b[0m\u001b[0m\n\u001b[0;32m    551\u001b[0m     \u001b[1;32mdef\u001b[0m \u001b[0mget\u001b[0m\u001b[1;33m(\u001b[0m\u001b[0mself\u001b[0m\u001b[1;33m)\u001b[0m\u001b[1;33m:\u001b[0m\u001b[1;33m\u001b[0m\u001b[0m\n",
      "\u001b[1;32m~\\Anaconda3\\lib\\site-packages\\sklearn\\externals\\joblib\\parallel.py\u001b[0m in \u001b[0;36m__call__\u001b[1;34m(self)\u001b[0m\n\u001b[0;32m    223\u001b[0m         \u001b[1;32mwith\u001b[0m \u001b[0mparallel_backend\u001b[0m\u001b[1;33m(\u001b[0m\u001b[0mself\u001b[0m\u001b[1;33m.\u001b[0m\u001b[0m_backend\u001b[0m\u001b[1;33m,\u001b[0m \u001b[0mn_jobs\u001b[0m\u001b[1;33m=\u001b[0m\u001b[0mself\u001b[0m\u001b[1;33m.\u001b[0m\u001b[0m_n_jobs\u001b[0m\u001b[1;33m)\u001b[0m\u001b[1;33m:\u001b[0m\u001b[1;33m\u001b[0m\u001b[0m\n\u001b[0;32m    224\u001b[0m             return [func(*args, **kwargs)\n\u001b[1;32m--> 225\u001b[1;33m                     for func, args, kwargs in self.items]\n\u001b[0m\u001b[0;32m    226\u001b[0m \u001b[1;33m\u001b[0m\u001b[0m\n\u001b[0;32m    227\u001b[0m     \u001b[1;32mdef\u001b[0m \u001b[0m__len__\u001b[0m\u001b[1;33m(\u001b[0m\u001b[0mself\u001b[0m\u001b[1;33m)\u001b[0m\u001b[1;33m:\u001b[0m\u001b[1;33m\u001b[0m\u001b[0m\n",
      "\u001b[1;32m~\\Anaconda3\\lib\\site-packages\\sklearn\\externals\\joblib\\parallel.py\u001b[0m in \u001b[0;36m<listcomp>\u001b[1;34m(.0)\u001b[0m\n\u001b[0;32m    223\u001b[0m         \u001b[1;32mwith\u001b[0m \u001b[0mparallel_backend\u001b[0m\u001b[1;33m(\u001b[0m\u001b[0mself\u001b[0m\u001b[1;33m.\u001b[0m\u001b[0m_backend\u001b[0m\u001b[1;33m,\u001b[0m \u001b[0mn_jobs\u001b[0m\u001b[1;33m=\u001b[0m\u001b[0mself\u001b[0m\u001b[1;33m.\u001b[0m\u001b[0m_n_jobs\u001b[0m\u001b[1;33m)\u001b[0m\u001b[1;33m:\u001b[0m\u001b[1;33m\u001b[0m\u001b[0m\n\u001b[0;32m    224\u001b[0m             return [func(*args, **kwargs)\n\u001b[1;32m--> 225\u001b[1;33m                     for func, args, kwargs in self.items]\n\u001b[0m\u001b[0;32m    226\u001b[0m \u001b[1;33m\u001b[0m\u001b[0m\n\u001b[0;32m    227\u001b[0m     \u001b[1;32mdef\u001b[0m \u001b[0m__len__\u001b[0m\u001b[1;33m(\u001b[0m\u001b[0mself\u001b[0m\u001b[1;33m)\u001b[0m\u001b[1;33m:\u001b[0m\u001b[1;33m\u001b[0m\u001b[0m\n",
      "\u001b[1;32m~\\Anaconda3\\lib\\site-packages\\sklearn\\model_selection\\_validation.py\u001b[0m in \u001b[0;36m_fit_and_score\u001b[1;34m(estimator, X, y, scorer, train, test, verbose, parameters, fit_params, return_train_score, return_parameters, return_n_test_samples, return_times, return_estimator, error_score)\u001b[0m\n\u001b[0;32m    526\u001b[0m             \u001b[0mestimator\u001b[0m\u001b[1;33m.\u001b[0m\u001b[0mfit\u001b[0m\u001b[1;33m(\u001b[0m\u001b[0mX_train\u001b[0m\u001b[1;33m,\u001b[0m \u001b[1;33m**\u001b[0m\u001b[0mfit_params\u001b[0m\u001b[1;33m)\u001b[0m\u001b[1;33m\u001b[0m\u001b[0m\n\u001b[0;32m    527\u001b[0m         \u001b[1;32melse\u001b[0m\u001b[1;33m:\u001b[0m\u001b[1;33m\u001b[0m\u001b[0m\n\u001b[1;32m--> 528\u001b[1;33m             \u001b[0mestimator\u001b[0m\u001b[1;33m.\u001b[0m\u001b[0mfit\u001b[0m\u001b[1;33m(\u001b[0m\u001b[0mX_train\u001b[0m\u001b[1;33m,\u001b[0m \u001b[0my_train\u001b[0m\u001b[1;33m,\u001b[0m \u001b[1;33m**\u001b[0m\u001b[0mfit_params\u001b[0m\u001b[1;33m)\u001b[0m\u001b[1;33m\u001b[0m\u001b[0m\n\u001b[0m\u001b[0;32m    529\u001b[0m \u001b[1;33m\u001b[0m\u001b[0m\n\u001b[0;32m    530\u001b[0m     \u001b[1;32mexcept\u001b[0m \u001b[0mException\u001b[0m \u001b[1;32mas\u001b[0m \u001b[0me\u001b[0m\u001b[1;33m:\u001b[0m\u001b[1;33m\u001b[0m\u001b[0m\n",
      "\u001b[1;32m~\\Anaconda3\\lib\\site-packages\\sklearn\\naive_bayes.py\u001b[0m in \u001b[0;36mfit\u001b[1;34m(self, X, y, sample_weight)\u001b[0m\n\u001b[0;32m    190\u001b[0m         \u001b[0mX\u001b[0m\u001b[1;33m,\u001b[0m \u001b[0my\u001b[0m \u001b[1;33m=\u001b[0m \u001b[0mcheck_X_y\u001b[0m\u001b[1;33m(\u001b[0m\u001b[0mX\u001b[0m\u001b[1;33m,\u001b[0m \u001b[0my\u001b[0m\u001b[1;33m)\u001b[0m\u001b[1;33m\u001b[0m\u001b[0m\n\u001b[0;32m    191\u001b[0m         return self._partial_fit(X, y, np.unique(y), _refit=True,\n\u001b[1;32m--> 192\u001b[1;33m                                  sample_weight=sample_weight)\n\u001b[0m\u001b[0;32m    193\u001b[0m \u001b[1;33m\u001b[0m\u001b[0m\n\u001b[0;32m    194\u001b[0m     \u001b[1;33m@\u001b[0m\u001b[0mstaticmethod\u001b[0m\u001b[1;33m\u001b[0m\u001b[0m\n",
      "\u001b[1;32m~\\Anaconda3\\lib\\site-packages\\sklearn\\naive_bayes.py\u001b[0m in \u001b[0;36m_partial_fit\u001b[1;34m(self, X, y, classes, _refit, sample_weight)\u001b[0m\n\u001b[0;32m    418\u001b[0m             \u001b[0mself\u001b[0m\u001b[1;33m.\u001b[0m\u001b[0mclass_count_\u001b[0m\u001b[1;33m[\u001b[0m\u001b[0mi\u001b[0m\u001b[1;33m]\u001b[0m \u001b[1;33m+=\u001b[0m \u001b[0mN_i\u001b[0m\u001b[1;33m\u001b[0m\u001b[0m\n\u001b[0;32m    419\u001b[0m \u001b[1;33m\u001b[0m\u001b[0m\n\u001b[1;32m--> 420\u001b[1;33m         \u001b[0mself\u001b[0m\u001b[1;33m.\u001b[0m\u001b[0msigma_\u001b[0m\u001b[1;33m[\u001b[0m\u001b[1;33m:\u001b[0m\u001b[1;33m,\u001b[0m \u001b[1;33m:\u001b[0m\u001b[1;33m]\u001b[0m \u001b[1;33m+=\u001b[0m \u001b[0mself\u001b[0m\u001b[1;33m.\u001b[0m\u001b[0mepsilon_\u001b[0m\u001b[1;33m\u001b[0m\u001b[0m\n\u001b[0m\u001b[0;32m    421\u001b[0m \u001b[1;33m\u001b[0m\u001b[0m\n\u001b[0;32m    422\u001b[0m         \u001b[1;31m# Update if only no priors is provided\u001b[0m\u001b[1;33m\u001b[0m\u001b[1;33m\u001b[0m\u001b[0m\n",
      "\u001b[1;31mValueError\u001b[0m: operands could not be broadcast together with shapes (2,131) (5,) (2,131) "
     ]
    }
   ],
   "source": [
    "from sklearn.model_selection import GridSearchCV\n",
    "\n",
    "parameters = {'var_smoothing':[np.logspace(np.log10(.000000001),np.log10(10000),5)]}\n",
    "\n",
    "grid_gaussian_nb = GridSearchCV(gaussian_nb,parameters, cv=5)\n",
    "\n",
    "grid_gaussian_nb.fit(df_i.drop(columns=['loan_status']),df_i['loan_status'])\n",
    "\n",
    "sorted(grid_gaussian_nb.cv_results_.keys())"
   ]
  },
  {
   "cell_type": "code",
   "execution_count": 16,
   "metadata": {},
   "outputs": [
    {
     "ename": "NotFittedError",
     "evalue": "This GridSearchCV instance is not fitted yet. Call 'fit' with appropriate arguments before using this method.",
     "output_type": "error",
     "traceback": [
      "\u001b[1;31m---------------------------------------------------------------------------\u001b[0m",
      "\u001b[1;31mNotFittedError\u001b[0m                            Traceback (most recent call last)",
      "\u001b[1;32m<ipython-input-16-11ca41bb743f>\u001b[0m in \u001b[0;36m<module>\u001b[1;34m()\u001b[0m\n\u001b[1;32m----> 1\u001b[1;33m \u001b[0mgrid_gaussian_nb\u001b[0m\u001b[1;33m.\u001b[0m\u001b[0mscore\u001b[0m\u001b[1;33m(\u001b[0m\u001b[0mdf_i\u001b[0m\u001b[1;33m.\u001b[0m\u001b[0mdrop\u001b[0m\u001b[1;33m(\u001b[0m\u001b[0mcolumns\u001b[0m\u001b[1;33m=\u001b[0m\u001b[1;33m[\u001b[0m\u001b[1;34m'loan_status'\u001b[0m\u001b[1;33m]\u001b[0m\u001b[1;33m)\u001b[0m\u001b[1;33m,\u001b[0m\u001b[0mdf_i\u001b[0m\u001b[1;33m[\u001b[0m\u001b[1;34m'loan_status'\u001b[0m\u001b[1;33m]\u001b[0m\u001b[1;33m)\u001b[0m\u001b[1;33m\u001b[0m\u001b[0m\n\u001b[0m",
      "\u001b[1;32m~\\Anaconda3\\lib\\site-packages\\sklearn\\model_selection\\_search.py\u001b[0m in \u001b[0;36mscore\u001b[1;34m(self, X, y)\u001b[0m\n\u001b[0;32m    454\u001b[0m         \u001b[0mscore\u001b[0m \u001b[1;33m:\u001b[0m \u001b[0mfloat\u001b[0m\u001b[1;33m\u001b[0m\u001b[0m\n\u001b[0;32m    455\u001b[0m         \"\"\"\n\u001b[1;32m--> 456\u001b[1;33m         \u001b[0mself\u001b[0m\u001b[1;33m.\u001b[0m\u001b[0m_check_is_fitted\u001b[0m\u001b[1;33m(\u001b[0m\u001b[1;34m'score'\u001b[0m\u001b[1;33m)\u001b[0m\u001b[1;33m\u001b[0m\u001b[0m\n\u001b[0m\u001b[0;32m    457\u001b[0m         \u001b[1;32mif\u001b[0m \u001b[0mself\u001b[0m\u001b[1;33m.\u001b[0m\u001b[0mscorer_\u001b[0m \u001b[1;32mis\u001b[0m \u001b[1;32mNone\u001b[0m\u001b[1;33m:\u001b[0m\u001b[1;33m\u001b[0m\u001b[0m\n\u001b[0;32m    458\u001b[0m             raise ValueError(\"No score function explicitly defined, \"\n",
      "\u001b[1;32m~\\Anaconda3\\lib\\site-packages\\sklearn\\model_selection\\_search.py\u001b[0m in \u001b[0;36m_check_is_fitted\u001b[1;34m(self, method_name)\u001b[0m\n\u001b[0;32m    472\u001b[0m                                  % (type(self).__name__, method_name))\n\u001b[0;32m    473\u001b[0m         \u001b[1;32melse\u001b[0m\u001b[1;33m:\u001b[0m\u001b[1;33m\u001b[0m\u001b[0m\n\u001b[1;32m--> 474\u001b[1;33m             \u001b[0mcheck_is_fitted\u001b[0m\u001b[1;33m(\u001b[0m\u001b[0mself\u001b[0m\u001b[1;33m,\u001b[0m \u001b[1;34m'best_estimator_'\u001b[0m\u001b[1;33m)\u001b[0m\u001b[1;33m\u001b[0m\u001b[0m\n\u001b[0m\u001b[0;32m    475\u001b[0m \u001b[1;33m\u001b[0m\u001b[0m\n\u001b[0;32m    476\u001b[0m     \u001b[1;33m@\u001b[0m\u001b[0mif_delegate_has_method\u001b[0m\u001b[1;33m(\u001b[0m\u001b[0mdelegate\u001b[0m\u001b[1;33m=\u001b[0m\u001b[1;33m(\u001b[0m\u001b[1;34m'best_estimator_'\u001b[0m\u001b[1;33m,\u001b[0m \u001b[1;34m'estimator'\u001b[0m\u001b[1;33m)\u001b[0m\u001b[1;33m)\u001b[0m\u001b[1;33m\u001b[0m\u001b[0m\n",
      "\u001b[1;32m~\\Anaconda3\\lib\\site-packages\\sklearn\\utils\\validation.py\u001b[0m in \u001b[0;36mcheck_is_fitted\u001b[1;34m(estimator, attributes, msg, all_or_any)\u001b[0m\n\u001b[0;32m    949\u001b[0m \u001b[1;33m\u001b[0m\u001b[0m\n\u001b[0;32m    950\u001b[0m     \u001b[1;32mif\u001b[0m \u001b[1;32mnot\u001b[0m \u001b[0mall_or_any\u001b[0m\u001b[1;33m(\u001b[0m\u001b[1;33m[\u001b[0m\u001b[0mhasattr\u001b[0m\u001b[1;33m(\u001b[0m\u001b[0mestimator\u001b[0m\u001b[1;33m,\u001b[0m \u001b[0mattr\u001b[0m\u001b[1;33m)\u001b[0m \u001b[1;32mfor\u001b[0m \u001b[0mattr\u001b[0m \u001b[1;32min\u001b[0m \u001b[0mattributes\u001b[0m\u001b[1;33m]\u001b[0m\u001b[1;33m)\u001b[0m\u001b[1;33m:\u001b[0m\u001b[1;33m\u001b[0m\u001b[0m\n\u001b[1;32m--> 951\u001b[1;33m         \u001b[1;32mraise\u001b[0m \u001b[0mNotFittedError\u001b[0m\u001b[1;33m(\u001b[0m\u001b[0mmsg\u001b[0m \u001b[1;33m%\u001b[0m \u001b[1;33m{\u001b[0m\u001b[1;34m'name'\u001b[0m\u001b[1;33m:\u001b[0m \u001b[0mtype\u001b[0m\u001b[1;33m(\u001b[0m\u001b[0mestimator\u001b[0m\u001b[1;33m)\u001b[0m\u001b[1;33m.\u001b[0m\u001b[0m__name__\u001b[0m\u001b[1;33m}\u001b[0m\u001b[1;33m)\u001b[0m\u001b[1;33m\u001b[0m\u001b[0m\n\u001b[0m\u001b[0;32m    952\u001b[0m \u001b[1;33m\u001b[0m\u001b[0m\n\u001b[0;32m    953\u001b[0m \u001b[1;33m\u001b[0m\u001b[0m\n",
      "\u001b[1;31mNotFittedError\u001b[0m: This GridSearchCV instance is not fitted yet. Call 'fit' with appropriate arguments before using this method."
     ]
    }
   ],
   "source": [
    "grid_gaussian_nb.score(df_i.drop(columns=['loan_status']),df_i['loan_status'])"
   ]
  },
  {
   "cell_type": "code",
   "execution_count": null,
   "metadata": {},
   "outputs": [],
   "source": [
    "grid_gaussian_nb.cv_results_"
   ]
  }
 ],
 "metadata": {
  "kernelspec": {
   "display_name": "Python 3",
   "language": "python",
   "name": "python3"
  },
  "language_info": {
   "codemirror_mode": {
    "name": "ipython",
    "version": 3
   },
   "file_extension": ".py",
   "mimetype": "text/x-python",
   "name": "python",
   "nbconvert_exporter": "python",
   "pygments_lexer": "ipython3",
   "version": "3.6.5"
  }
 },
 "nbformat": 4,
 "nbformat_minor": 2
}
