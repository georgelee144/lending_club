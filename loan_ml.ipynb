{
 "cells": [
  {
   "cell_type": "code",
   "execution_count": 1,
   "metadata": {},
   "outputs": [],
   "source": [
    "import pandas as pd"
   ]
  },
  {
   "cell_type": "code",
   "execution_count": 2,
   "metadata": {},
   "outputs": [
    {
     "name": "stderr",
     "output_type": "stream",
     "text": [
      "C:\\Users\\leero\\Anaconda3\\lib\\site-packages\\IPython\\core\\interactiveshell.py:2785: DtypeWarning: Columns (34) have mixed types. Specify dtype option on import or set low_memory=False.\n",
      "  interactivity=interactivity, compiler=compiler, result=result)\n"
     ]
    },
    {
     "name": "stdout",
     "output_type": "stream",
     "text": [
      "<class 'pandas.core.frame.DataFrame'>\n",
      "RangeIndex: 2506738 entries, 0 to 2506737\n",
      "Columns: 104 entries, loan_amnt to length_of_cr\n",
      "dtypes: float64(92), int64(3), object(9)\n",
      "memory usage: 1.9+ GB\n"
     ]
    }
   ],
   "source": [
    "df = pd.read_csv('lending_club_ml.csv')\n",
    "df.drop(['id'], inplace=True, axis=1)\n",
    "df.info()"
   ]
  },
  {
   "cell_type": "code",
   "execution_count": 3,
   "metadata": {},
   "outputs": [
    {
     "name": "stdout",
     "output_type": "stream",
     "text": [
      "grade\n",
      "sub_grade\n",
      "home_ownership\n",
      "verification_status\n",
      "purpose\n",
      "initial_list_status\n",
      "application_type\n",
      "verification_status_joint\n",
      "disbursement_method\n"
     ]
    }
   ],
   "source": [
    "for thing in df:\n",
    "    if df[thing].dtype == 'object':\n",
    "        print(thing)"
   ]
  },
  {
   "cell_type": "code",
   "execution_count": 4,
   "metadata": {},
   "outputs": [
    {
     "name": "stdout",
     "output_type": "stream",
     "text": [
      "<class 'pandas.core.frame.DataFrame'>\n",
      "RangeIndex: 2506738 entries, 0 to 2506737\n",
      "Columns: 151 entries, loan_amnt to verification_status_joint_Verified\n",
      "dtypes: float64(92), int64(3), object(3), uint8(53)\n",
      "memory usage: 2.0+ GB\n"
     ]
    }
   ],
   "source": [
    "# creating columns for features that had more than 2 outcomes\n",
    "# I have decided to use subgrade and not grade as these are suppose to be similar features but, subgrade is more granular\n",
    "\n",
    "df = pd.concat([df, pd.get_dummies(\n",
    "    df.sub_grade, prefix='sub_grade', drop_first=True)], axis=1)\n",
    "df = pd.concat([df, pd.get_dummies(df.home_ownership,\n",
    "                                   prefix='home_ownership', drop_first=True)], axis=1)\n",
    "df = pd.concat([df, pd.get_dummies(df.verification_status,\n",
    "                                   prefix='verification_status', drop_first=True)], axis=1)\n",
    "df = pd.concat(\n",
    "    [df, pd.get_dummies(df.purpose, prefix='purpose', drop_first=True)], axis=1)\n",
    "df = pd.concat([df, pd.get_dummies(df.verification_status_joint,\n",
    "                                   prefix='verification_status_joint', drop_first=True)], axis=1)\n",
    "\n",
    "df.drop(columns=['sub_grade', 'home_ownership', 'verification_status',\n",
    "                 'purpose', 'verification_status_joint', 'grade'], inplace=True)\n",
    "\n",
    "df.info()"
   ]
  },
  {
   "cell_type": "code",
   "execution_count": 5,
   "metadata": {},
   "outputs": [],
   "source": [
    "# conversions for features that only had 2 outcomes\n",
    "\n",
    "df.initial_list_status = df.initial_list_status.apply(\n",
    "    lambda status: 1 if status == 'f' else 0)\n",
    "df.disbursement_method = df.disbursement_method.apply(\n",
    "    lambda disburstment: 1 if disburstment == 'Cash' else 0)"
   ]
  },
  {
   "cell_type": "markdown",
   "metadata": {},
   "source": [
    "For the time being I have decided to drop grade in favor sub grade"
   ]
  },
  {
   "cell_type": "markdown",
   "metadata": {},
   "source": [
    "I have decided to drop the split the data into two different sets: individual and the joint. I believe that these are fundamentally 2 different kinds of loans. In our EDA we saw that joint applicants had wide ranges in their FICO scores and in addition joint applicants are subjected to a second group of variables."
   ]
  },
  {
   "attachments": {
    "image.png": {
     "image/png": "[encoded data removed]"
    }
   },
   "cell_type": "markdown",
   "metadata": {},
   "source": [
    "![image.png](attachment:image.png)"
   ]
  },
  {
   "cell_type": "markdown",
   "metadata": {},
   "source": [
    "All Loans\n",
    "\n",
    "count    23510.000000\n",
    "\n",
    "mean        41.753977\n",
    "\n",
    "std         44.937476\n",
    "\n",
    "min        -80.000000\n",
    "\n",
    "25%         10.000000\n",
    "\n",
    "50%         30.000000\n",
    "\n",
    "75%         60.000000\n",
    "\n",
    "max        275.000000\n",
    "\n",
    "Name: diff_fico_high, dtype: float64"
   ]
  },
  {
   "cell_type": "markdown",
   "metadata": {},
   "source": [
    "Bad Loans (21%)\n",
    "\n",
    "count    5032.000000\n",
    "\n",
    "mean       56.096979\n",
    "\n",
    "std        55.197095\n",
    "\n",
    "min       -60.000000\n",
    "\n",
    "25%        15.000000\n",
    "\n",
    "50%        40.000000\n",
    "\n",
    "75%        85.000000\n",
    "\n",
    "max       275.000000\n",
    "\n",
    "Name: diff_fico_high, dtype: float64\n"
   ]
  },
  {
   "cell_type": "markdown",
   "metadata": {},
   "source": [
    "Passing Loans (78.59%)\n",
    "\n",
    "count    18478.000000\n",
    "\n",
    "mean        37.848036\n",
    "\n",
    "std         40.846952\n",
    "\n",
    "min        -80.000000\n",
    "\n",
    "25%         10.000000\n",
    "\n",
    "50%         30.000000\n",
    "\n",
    "75%         55.000000\n",
    "\n",
    "max        275.000000\n",
    "\n",
    "Name: diff_fico_high, dtype: float64"
   ]
  },
  {
   "cell_type": "code",
   "execution_count": 6,
   "metadata": {},
   "outputs": [
    {
     "name": "stderr",
     "output_type": "stream",
     "text": [
      "C:\\Users\\leero\\Anaconda3\\lib\\site-packages\\pandas\\core\\frame.py:3694: SettingWithCopyWarning: \n",
      "A value is trying to be set on a copy of a slice from a DataFrame\n",
      "\n",
      "See the caveats in the documentation: http://pandas.pydata.org/pandas-docs/stable/indexing.html#indexing-view-versus-copy\n",
      "  errors=errors)\n"
     ]
    }
   ],
   "source": [
    "df_i = df.loc[df.application_type == 'Individual']\n",
    "df_j = df.loc[df.application_type != 'Individual']\n",
    "\n",
    "df_i.drop(columns=['application_type'], inplace=True)\n",
    "df_j.drop(columns=['application_type'], inplace=True)"
   ]
  },
  {
   "cell_type": "code",
   "execution_count": 7,
   "metadata": {},
   "outputs": [
    {
     "data": {
      "text/plain": [
       "98270395.91558258"
      ]
     },
     "execution_count": 7,
     "metadata": {},
     "output_type": "execute_result"
    }
   ],
   "source": [
    "import numpy as np\n",
    "np.sum(df.collection_recovery_fee)"
   ]
  },
  {
   "cell_type": "code",
   "execution_count": 8,
   "metadata": {
    "scrolled": true
   },
   "outputs": [
    {
     "name": "stdout",
     "output_type": "stream",
     "text": [
      "loan_amnt\n",
      "funded_amnt\n",
      "funded_amnt_inv\n",
      "term\n",
      "int_rate\n",
      "installment\n",
      "emp_length\n",
      "annual_inc\n",
      "loan_status\n",
      "dti\n",
      "delinq_2yrs\n",
      "fico_range_low\n",
      "fico_range_high\n",
      "inq_last_6mths\n",
      "mths_since_last_delinq\n",
      "mths_since_last_record\n",
      "open_acc\n",
      "pub_rec\n",
      "revol_bal\n",
      "revol_util\n",
      "total_acc\n",
      "initial_list_status\n",
      "collection_recovery_fee\n",
      "collections_12_mths_ex_med\n",
      "mths_since_last_major_derog\n",
      "annual_inc_joint\n",
      "dti_joint\n",
      "acc_now_delinq\n",
      "tot_coll_amt\n",
      "tot_cur_bal\n",
      "open_acc_6m\n",
      "open_act_il\n",
      "open_il_12m\n",
      "open_il_24m\n",
      "mths_since_rcnt_il\n",
      "total_bal_il\n",
      "il_util\n",
      "open_rv_12m\n",
      "open_rv_24m\n",
      "max_bal_bc\n",
      "all_util\n",
      "total_rev_hi_lim\n",
      "inq_fi\n",
      "total_cu_tl\n",
      "inq_last_12m\n",
      "acc_open_past_24mths\n",
      "avg_cur_bal\n",
      "bc_open_to_buy\n",
      "bc_util\n",
      "chargeoff_within_12_mths\n",
      "delinq_amnt\n",
      "mo_sin_old_il_acct\n",
      "mo_sin_old_rev_tl_op\n",
      "mo_sin_rcnt_rev_tl_op\n",
      "mo_sin_rcnt_tl\n",
      "mort_acc\n",
      "mths_since_recent_bc\n",
      "mths_since_recent_bc_dlq\n",
      "mths_since_recent_inq\n",
      "mths_since_recent_revol_delinq\n",
      "num_accts_ever_120_pd\n",
      "num_actv_bc_tl\n",
      "num_actv_rev_tl\n",
      "num_bc_sats\n",
      "num_bc_tl\n",
      "num_il_tl\n",
      "num_op_rev_tl\n",
      "num_rev_accts\n",
      "num_rev_tl_bal_gt_0\n",
      "num_sats\n",
      "num_tl_120dpd_2m\n",
      "num_tl_30dpd\n",
      "num_tl_90g_dpd_24m\n",
      "num_tl_op_past_12m\n",
      "pct_tl_nvr_dlq\n",
      "percent_bc_gt_75\n",
      "pub_rec_bankruptcies\n",
      "tax_liens\n",
      "tot_hi_cred_lim\n",
      "total_bal_ex_mort\n",
      "total_bc_limit\n",
      "total_il_high_credit_limit\n",
      "revol_bal_joint\n",
      "sec_app_fico_range_low\n",
      "sec_app_fico_range_high\n",
      "sec_app_inq_last_6mths\n",
      "sec_app_mort_acc\n",
      "sec_app_open_acc\n",
      "sec_app_revol_util\n",
      "sec_app_open_act_il\n",
      "sec_app_num_rev_accts\n",
      "sec_app_chargeoff_within_12_mths\n",
      "sec_app_collections_12_mths_ex_med\n",
      "sec_app_mths_since_last_major_derog\n",
      "disbursement_method\n",
      "sec_length_of_cr\n",
      "length_of_cr\n",
      "sub_grade_A2\n",
      "sub_grade_A3\n",
      "sub_grade_A4\n",
      "sub_grade_A5\n",
      "sub_grade_B1\n",
      "sub_grade_B2\n",
      "sub_grade_B3\n",
      "sub_grade_B4\n",
      "sub_grade_B5\n",
      "sub_grade_C1\n",
      "sub_grade_C2\n",
      "sub_grade_C3\n",
      "sub_grade_C4\n",
      "sub_grade_C5\n",
      "sub_grade_D1\n",
      "sub_grade_D2\n",
      "sub_grade_D3\n",
      "sub_grade_D4\n",
      "sub_grade_D5\n",
      "sub_grade_E1\n",
      "sub_grade_E2\n",
      "sub_grade_E3\n",
      "sub_grade_E4\n",
      "sub_grade_E5\n",
      "sub_grade_F1\n",
      "sub_grade_F2\n",
      "sub_grade_F3\n",
      "sub_grade_F4\n",
      "sub_grade_F5\n",
      "sub_grade_G1\n",
      "sub_grade_G2\n",
      "sub_grade_G3\n",
      "sub_grade_G4\n",
      "sub_grade_G5\n",
      "home_ownership_OWN\n",
      "home_ownership_RENT\n",
      "verification_status_Source Verified\n",
      "verification_status_Verified\n",
      "purpose_credit_card\n",
      "purpose_debt_consolidation\n",
      "purpose_educational\n",
      "purpose_home_improvement\n",
      "purpose_house\n",
      "purpose_major_purchase\n",
      "purpose_medical\n",
      "purpose_moving\n",
      "purpose_other\n",
      "purpose_renewable_energy\n",
      "purpose_small_business\n",
      "purpose_vacation\n",
      "purpose_wedding\n",
      "verification_status_joint_Source Verified\n",
      "verification_status_joint_Verified\n"
     ]
    }
   ],
   "source": [
    "for thing in df_i:\n",
    "    print(thing)"
   ]
  },
  {
   "cell_type": "code",
   "execution_count": 16,
   "metadata": {},
   "outputs": [
    {
     "data": {
      "text/plain": [
       "954754.0"
      ]
     },
     "execution_count": 16,
     "metadata": {},
     "output_type": "execute_result"
    }
   ],
   "source": [
    "np.sum(df.open_acc_6m)"
   ]
  },
  {
   "cell_type": "code",
   "execution_count": 13,
   "metadata": {},
   "outputs": [
    {
     "name": "stdout",
     "output_type": "stream",
     "text": [
      "inq_last_6mths\n",
      "mths_since_last_delinq\n",
      "mths_since_last_record\n",
      "collections_12_mths_ex_med\n",
      "mths_since_last_major_derog\n",
      "annual_inc_joint\n",
      "tot_coll_amt\n",
      "tot_cur_bal\n",
      "open_acc_6m\n",
      "open_act_il\n",
      "open_il_12m\n",
      "open_il_24m\n",
      "mths_since_rcnt_il\n",
      "total_bal_il\n",
      "il_util\n",
      "open_rv_12m\n",
      "open_rv_24m\n",
      "max_bal_bc\n",
      "all_util\n",
      "total_rev_hi_lim\n",
      "inq_fi\n",
      "total_cu_tl\n",
      "inq_last_12m\n",
      "acc_open_past_24mths\n",
      "avg_cur_bal\n",
      "bc_open_to_buy\n",
      "bc_util\n",
      "chargeoff_within_12_mths\n",
      "mo_sin_old_il_acct\n",
      "mo_sin_old_rev_tl_op\n",
      "mo_sin_rcnt_rev_tl_op\n",
      "mo_sin_rcnt_tl\n",
      "mort_acc\n",
      "mths_since_recent_bc\n",
      "mths_since_recent_bc_dlq\n",
      "mths_since_recent_inq\n",
      "mths_since_recent_revol_delinq\n",
      "num_accts_ever_120_pd\n",
      "num_actv_bc_tl\n",
      "num_actv_rev_tl\n",
      "num_bc_sats\n",
      "num_bc_tl\n",
      "num_il_tl\n",
      "num_op_rev_tl\n",
      "num_rev_accts\n",
      "num_rev_tl_bal_gt_0\n",
      "num_sats\n",
      "num_tl_120dpd_2m\n",
      "num_tl_30dpd\n",
      "num_tl_90g_dpd_24m\n",
      "num_tl_op_past_12m\n",
      "pct_tl_nvr_dlq\n",
      "percent_bc_gt_75\n",
      "pub_rec_bankruptcies\n",
      "tax_liens\n",
      "tot_hi_cred_lim\n",
      "total_bal_ex_mort\n",
      "total_bc_limit\n",
      "total_il_high_credit_limit\n",
      "revol_bal_joint\n"
     ]
    }
   ],
   "source": [
    "for thing in df_i:\n",
    "    if df_i[thing].isnull().values.any():\n",
    "        print(thing)"
   ]
  },
  {
   "cell_type": "code",
   "execution_count": 11,
   "metadata": {},
   "outputs": [
    {
     "name": "stderr",
     "output_type": "stream",
     "text": [
      "C:\\Users\\leero\\Anaconda3\\lib\\site-packages\\pandas\\core\\frame.py:3694: SettingWithCopyWarning: \n",
      "A value is trying to be set on a copy of a slice from a DataFrame\n",
      "\n",
      "See the caveats in the documentation: http://pandas.pydata.org/pandas-docs/stable/indexing.html#indexing-view-versus-copy\n",
      "  errors=errors)\n"
     ]
    }
   ],
   "source": [
    "# Dropping all joint and secondary linked features\n",
    "\n",
    "df_i.drop(columns=['sec_app_fico_range_low', 'sec_app_fico_range_high', 'sec_app_inq_last_6mths', 'sec_app_mort_acc',\n",
    "                   'sec_app_open_acc', 'sec_app_revol_util', 'sec_app_num_rev_accts', 'sec_app_chargeoff_within_12_mths',\n",
    "                   'sec_app_collections_12_mths_ex_med', 'sec_app_mths_since_last_major_derog', 'dti_joint','sec_app_open_act_il'], inplace=True)"
   ]
  },
  {
   "cell_type": "code",
   "execution_count": 12,
   "metadata": {},
   "outputs": [],
   "source": [
    "from sklearn.model_selection import train_test_split\n",
    "\n",
    "X = df_i.drop(['loan_status'],axis=1)\n",
    "y = df_i.loan_status\n",
    "\n",
    "X_train,X_test,y_train,y_test = train_test_split(X,y,test_size=0.3,random_state=42)"
   ]
  }
 ],
 "metadata": {
  "kernelspec": {
   "display_name": "Python 3",
   "language": "python",
   "name": "python3"
  },
  "language_info": {
   "codemirror_mode": {
    "name": "ipython",
    "version": 3
   },
   "file_extension": ".py",
   "mimetype": "text/x-python",
   "name": "python",
   "nbconvert_exporter": "python",
   "pygments_lexer": "ipython3",
   "version": "3.6.5"
  }
 },
 "nbformat": 4,
 "nbformat_minor": 2
}
