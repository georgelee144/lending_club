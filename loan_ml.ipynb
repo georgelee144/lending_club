{
 "cells": [
  {
   "cell_type": "code",
   "execution_count": 2,
   "metadata": {},
   "outputs": [],
   "source": [
    "import warnings\n",
    "warnings.filterwarnings('ignore')"
   ]
  },
  {
   "cell_type": "code",
   "execution_count": 1,
   "metadata": {},
   "outputs": [],
   "source": [
    "import pandas as pd\n",
    "import numpy as np"
   ]
  },
  {
   "cell_type": "code",
   "execution_count": null,
   "metadata": {},
   "outputs": [],
   "source": [
    "df = pd.read_csv('lending_club_ml.csv')\n",
    "df.drop(['id'], inplace=True, axis=1)\n",
    "df.info()"
   ]
  },
  {
   "cell_type": "code",
   "execution_count": null,
   "metadata": {},
   "outputs": [],
   "source": [
    "for thing in df:\n",
    "    if df[thing].dtype == 'object':\n",
    "        print(thing)"
   ]
  },
  {
   "cell_type": "code",
   "execution_count": 6,
   "metadata": {},
   "outputs": [
    {
     "name": "stdout",
     "output_type": "stream",
     "text": [
      "<class 'pandas.core.frame.DataFrame'>\n",
      "RangeIndex: 2506738 entries, 0 to 2506737\n",
      "Columns: 148 entries, loan_amnt to verification_status_joint_Verified\n",
      "dtypes: float64(89), int64(3), object(3), uint8(53)\n",
      "memory usage: 1.9+ GB\n"
     ]
    }
   ],
   "source": [
    "# creating columns for features that had more than 2 outcomes\n",
    "# I have decided to use subgrade and not grade as these are suppose to be similar features but, subgrade is more granular\n",
    "\n",
    "df = pd.concat([df, pd.get_dummies(\n",
    "    df.sub_grade, prefix='sub_grade', drop_first=True)], axis=1)\n",
    "df = pd.concat([df, pd.get_dummies(df.home_ownership,\n",
    "                                   prefix='home_ownership', drop_first=True)], axis=1)\n",
    "df = pd.concat([df, pd.get_dummies(df.verification_status,\n",
    "                                   prefix='verification_status', drop_first=True)], axis=1)\n",
    "df = pd.concat(\n",
    "    [df, pd.get_dummies(df.purpose, prefix='purpose', drop_first=True)], axis=1)\n",
    "df = pd.concat([df, pd.get_dummies(df.verification_status_joint,\n",
    "                                   prefix='verification_status_joint', drop_first=True)], axis=1)\n",
    "\n",
    "df.drop(columns=['sub_grade', 'home_ownership', 'verification_status',\n",
    "                 'purpose', 'verification_status_joint'], inplace=True)\n",
    "\n",
    "df.info()"
   ]
  },
  {
   "cell_type": "code",
   "execution_count": 7,
   "metadata": {},
   "outputs": [],
   "source": [
    "# conversions for features that only had 2 outcomes\n",
    "\n",
    "df.disbursement_method = df.disbursement_method.apply(\n",
    "    lambda disburstment: 1 if disburstment == 'Cash' else 0)"
   ]
  },
  {
   "cell_type": "markdown",
   "metadata": {},
   "source": [
    "For the time being I have decided to drop grade in favor sub grade"
   ]
  },
  {
   "cell_type": "markdown",
   "metadata": {},
   "source": [
    "I have decided to drop the split the data into two different sets: individual and the joint. I believe that these are fundamentally 2 different kinds of loans. In our EDA we saw that joint applicants had wide ranges in their FICO scores and in addition joint applicants are subjected to a second group of variables."
   ]
  },
  {
   "attachments": {
    "image.png": {
     "image/png": "[encoded data removed]"
    }
   },
   "cell_type": "markdown",
   "metadata": {},
   "source": [
    "![image.png](attachment:image.png)"
   ]
  },
  {
   "cell_type": "markdown",
   "metadata": {},
   "source": [
    "All Loans\n",
    "\n",
    "count    23510.000000\n",
    "\n",
    "mean        41.753977\n",
    "\n",
    "std         44.937476\n",
    "\n",
    "min        -80.000000\n",
    "\n",
    "25%         10.000000\n",
    "\n",
    "50%         30.000000\n",
    "\n",
    "75%         60.000000\n",
    "\n",
    "max        275.000000\n",
    "\n",
    "Name: diff_fico_high, dtype: float64"
   ]
  },
  {
   "cell_type": "markdown",
   "metadata": {},
   "source": [
    "Bad Loans (21%)\n",
    "\n",
    "count    5032.000000\n",
    "\n",
    "mean       56.096979\n",
    "\n",
    "std        55.197095\n",
    "\n",
    "min       -60.000000\n",
    "\n",
    "25%        15.000000\n",
    "\n",
    "50%        40.000000\n",
    "\n",
    "75%        85.000000\n",
    "\n",
    "max       275.000000\n",
    "\n",
    "Name: diff_fico_high, dtype: float64\n"
   ]
  },
  {
   "cell_type": "markdown",
   "metadata": {},
   "source": [
    "Passing Loans (78.59%)\n",
    "\n",
    "count    18478.000000\n",
    "\n",
    "mean        37.848036\n",
    "\n",
    "std         40.846952\n",
    "\n",
    "min        -80.000000\n",
    "\n",
    "25%         10.000000\n",
    "\n",
    "50%         30.000000\n",
    "\n",
    "75%         55.000000\n",
    "\n",
    "max        275.000000\n",
    "\n",
    "Name: diff_fico_high, dtype: float64"
   ]
  },
  {
   "cell_type": "code",
   "execution_count": 8,
   "metadata": {},
   "outputs": [],
   "source": [
    "df_i = df.loc[df.application_type == 'Individual']\n",
    "df_j = df.loc[df.application_type != 'Individual']\n",
    "\n",
    "df_i.drop(columns=['application_type'], inplace=True)\n",
    "df_j.drop(columns=['application_type'], inplace=True)"
   ]
  },
  {
   "cell_type": "code",
   "execution_count": 9,
   "metadata": {
    "scrolled": false
   },
   "outputs": [
    {
     "name": "stdout",
     "output_type": "stream",
     "text": [
      "inq_last_6mths\n",
      "mths_since_last_delinq\n",
      "mths_since_last_record\n",
      "collections_12_mths_ex_med\n",
      "mths_since_last_major_derog\n",
      "annual_inc_joint\n",
      "dti_joint\n",
      "tot_coll_amt\n",
      "tot_cur_bal\n",
      "open_acc_6m\n",
      "open_act_il\n",
      "open_il_12m\n",
      "open_il_24m\n",
      "mths_since_rcnt_il\n",
      "total_bal_il\n",
      "il_util\n",
      "open_rv_12m\n",
      "open_rv_24m\n",
      "max_bal_bc\n",
      "all_util\n",
      "total_rev_hi_lim\n",
      "inq_fi\n",
      "total_cu_tl\n",
      "inq_last_12m\n",
      "acc_open_past_24mths\n",
      "avg_cur_bal\n",
      "bc_open_to_buy\n",
      "bc_util\n",
      "chargeoff_within_12_mths\n",
      "mo_sin_old_il_acct\n",
      "mo_sin_old_rev_tl_op\n",
      "mo_sin_rcnt_rev_tl_op\n",
      "mo_sin_rcnt_tl\n",
      "mort_acc\n",
      "mths_since_recent_bc\n",
      "mths_since_recent_bc_dlq\n",
      "mths_since_recent_inq\n",
      "mths_since_recent_revol_delinq\n",
      "num_accts_ever_120_pd\n",
      "num_actv_bc_tl\n",
      "num_actv_rev_tl\n",
      "num_bc_sats\n",
      "num_bc_tl\n",
      "num_il_tl\n",
      "num_op_rev_tl\n",
      "num_rev_accts\n",
      "num_rev_tl_bal_gt_0\n",
      "num_sats\n",
      "num_tl_120dpd_2m\n",
      "num_tl_30dpd\n",
      "num_tl_90g_dpd_24m\n",
      "num_tl_op_past_12m\n",
      "pct_tl_nvr_dlq\n",
      "percent_bc_gt_75\n",
      "pub_rec_bankruptcies\n",
      "tax_liens\n",
      "tot_hi_cred_lim\n",
      "total_bal_ex_mort\n",
      "total_bc_limit\n",
      "total_il_high_credit_limit\n",
      "revol_bal_joint\n",
      "sec_app_fico_range_low\n",
      "sec_app_fico_range_high\n",
      "sec_app_inq_last_6mths\n",
      "sec_app_mort_acc\n",
      "sec_app_open_acc\n",
      "sec_app_revol_util\n",
      "sec_app_open_act_il\n",
      "sec_app_num_rev_accts\n",
      "sec_app_chargeoff_within_12_mths\n",
      "sec_app_collections_12_mths_ex_med\n",
      "sec_app_mths_since_last_major_derog\n"
     ]
    }
   ],
   "source": [
    "for thing in df_i:\n",
    "    if df_i[thing].isnull().values.any():\n",
    "        print(thing)"
   ]
  },
  {
   "cell_type": "markdown",
   "metadata": {},
   "source": [
    "I will drop all features associated with a secondary borrower and fill all the nans with the averages of their respective features."
   ]
  },
  {
   "cell_type": "code",
   "execution_count": 10,
   "metadata": {},
   "outputs": [],
   "source": [
    "for thing in df_i:\n",
    "    if df_i[thing].isnull().values.any():\n",
    "        df_i[thing].fillna(np.mean(df_i[thing]), inplace=True)"
   ]
  },
  {
   "cell_type": "code",
   "execution_count": 8,
   "metadata": {
    "scrolled": true
   },
   "outputs": [],
   "source": [
    "# Dropping all joint and secondary linked features\n",
    "\n",
    "df_i.drop(columns=['sec_app_fico_range_low', 'sec_app_fico_range_high', 'sec_app_inq_last_6mths', 'sec_app_mort_acc',\n",
    "                   'sec_app_open_acc', 'sec_app_revol_util', 'sec_app_num_rev_accts', 'sec_app_chargeoff_within_12_mths',\n",
    "                   'sec_app_collections_12_mths_ex_med', 'sec_app_mths_since_last_major_derog', 'dti_joint', 'sec_app_open_act_il',\n",
    "                   'revol_bal_joint', 'annual_inc_joint'], inplace=True)"
   ]
  },
  {
   "cell_type": "code",
   "execution_count": 9,
   "metadata": {},
   "outputs": [
    {
     "name": "stdout",
     "output_type": "stream",
     "text": [
      "<class 'pandas.core.frame.DataFrame'>\n",
      "Int64Index: 2470188 entries, 0 to 2506736\n",
      "Columns: 133 entries, loan_amnt to verification_status_joint_Verified\n",
      "dtypes: float64(75), int64(4), object(1), uint8(53)\n",
      "memory usage: 1.6+ GB\n"
     ]
    }
   ],
   "source": [
    "df_i.info()"
   ]
  },
  {
   "cell_type": "markdown",
   "metadata": {},
   "source": [
    "ML for regular loans"
   ]
  },
  {
   "cell_type": "code",
   "execution_count": 11,
   "metadata": {},
   "outputs": [],
   "source": [
    "from sklearn.metrics import confusion_matrix\n",
    "from sklearn.metrics import recall_score\n",
    "from sklearn.metrics import precision_score\n",
    "from sklearn.metrics import f1_score\n",
    "from sklearn.metrics import balanced_accuracy_score\n",
    "from sklearn.metrics import average_precision_score\n",
    "from sklearn.metrics import roc_auc_score\n",
    "from sklearn.metrics import accuracy_score\n",
    "\n",
    "\n",
    "def scoring(clf, x, y):\n",
    "\n",
    "    print('score: ', clf.score(x, y))\n",
    "\n",
    "    # score adjusted for loan amount\n",
    "    print('balanced_accuracy_score: ', balanced_accuracy_score(\n",
    "        y, clf.predict(x), sample_weight=x['loan_amnt']))\n",
    "\n",
    "    print(confusion_matrix(y, clf.predict(x)))\n",
    "    print('F1 score: ', f1_score(y, clf.predict(x)))\n",
    "    print('precision_score: ', precision_score(y, clf.predict(x)))\n",
    "\n",
    "    # score adjusted for loan amount\n",
    "    print('average_precision_score: ', average_precision_score(\n",
    "        y, clf.predict(x), average='weighted', sample_weight=x['loan_amnt']))\n",
    "    print('recall_score: ', recall_score(y, clf.predict(x)))\n",
    "\n",
    "    # score adjusted for loan amount\n",
    "    print('roc: ', roc_auc_score(y, clf.predict_proba(x)[\n",
    "          :, 1], average='weighted', sample_weight=x['loan_amnt']))"
   ]
  },
  {
   "cell_type": "code",
   "execution_count": 16,
   "metadata": {},
   "outputs": [],
   "source": [
    "from sklearn.model_selection import train_test_split\n",
    "from sklearn.ensemble import RandomForestClassifier\n",
    "\n",
    "\n",
    "def ML(dataframe):\n",
    "    X = dataframe.drop(['loan_status'], axis=1)\n",
    "    y = dataframe.loan_status\n",
    "\n",
    "    X_train, X_test, y_train, y_test = train_test_split(\n",
    "        X, y, test_size=0.3, random_state=42)\n",
    "\n",
    "    print('Loan passing rate:', np.mean(y))\n",
    "    print('Balanced loan passing rate:', np.average(y, weights=X['loan_amnt']))\n",
    "\n",
    "    rf = RandomForestClassifier()\n",
    "    rf.fit(X_train, y_train)\n",
    "    print('\\n')\n",
    "    print('RANDOM FOREST')\n",
    "    scoring(rf, X_test, y_test)"
   ]
  },
  {
   "cell_type": "code",
   "execution_count": 14,
   "metadata": {},
   "outputs": [
    {
     "name": "stdout",
     "output_type": "stream",
     "text": [
      "Loan passing rate: 0.8017543603968604\n",
      "Balanced loan passing rate: 0.7865625084365181\n",
      "\n",
      "\n",
      "DECISION TREE\n",
      "score:  0.9113023694533618\n",
      "balanced_accuracy_score:  0.8665715636303318\n",
      "[[115819  31002]\n",
      " [ 34728 559508]]\n",
      "F1 score:  0.9445197536011938\n",
      "precision_score:  0.9474996189734297\n",
      "average_precision_score:  0.9342896038514932\n",
      "recall_score:  0.9415585726882922\n",
      "roc:  0.8665715636303319\n",
      "\n",
      "\n",
      "RANDOM FOREST\n",
      "score:  0.9280797563480272\n",
      "balanced_accuracy_score:  0.8589818660155971\n",
      "[[108210  38611]\n",
      " [ 14686 579550]]\n",
      "F1 score:  0.9560399770042322\n",
      "precision_score:  0.9375389259432413\n",
      "average_precision_score:  0.929723967239627\n",
      "recall_score:  0.9752859133408276\n",
      "roc:  0.9366621962128227\n"
     ]
    }
   ],
   "source": [
    "ML(df_i.drop(['grade'], axis=1))"
   ]
  },
  {
   "cell_type": "markdown",
   "metadata": {},
   "source": [
    "ML for joint loans"
   ]
  },
  {
   "cell_type": "code",
   "execution_count": 15,
   "metadata": {},
   "outputs": [
    {
     "name": "stdout",
     "output_type": "stream",
     "text": [
      "<class 'pandas.core.frame.DataFrame'>\n",
      "Int64Index: 36550 entries, 448539 to 2506737\n",
      "Columns: 147 entries, loan_amnt to verification_status_joint_Verified\n",
      "dtypes: float64(89), int64(4), object(1), uint8(53)\n",
      "memory usage: 28.3+ MB\n"
     ]
    }
   ],
   "source": [
    "df_j.info()"
   ]
  },
  {
   "cell_type": "code",
   "execution_count": 16,
   "metadata": {},
   "outputs": [],
   "source": [
    "for thing in df_j:\n",
    "    if df_j[thing].isnull().values.any():\n",
    "        df_j[thing].fillna(np.mean(df_j[thing]), inplace=True)"
   ]
  },
  {
   "cell_type": "code",
   "execution_count": 17,
   "metadata": {},
   "outputs": [],
   "source": [
    "Xj = df_j.drop(['loan_status'], axis=1)\n",
    "yj = df_j.loan_status\n",
    "\n",
    "Xj_train, Xj_test, yj_train, yj_test = train_test_split(\n",
    "    Xj, yj, test_size=0.3, random_state=42)"
   ]
  },
  {
   "cell_type": "code",
   "execution_count": 18,
   "metadata": {
    "scrolled": false
   },
   "outputs": [
    {
     "name": "stdout",
     "output_type": "stream",
     "text": [
      "Loan passing rate: 0.7743365253077975\n",
      "Balanced loan passing rate: 0.7699130763185922\n",
      "\n",
      "\n",
      "DECISION TREE\n",
      "score:  0.8991336069311445\n",
      "balanced_accuracy_score:  0.8478415467162204\n",
      "[[1957  586]\n",
      " [ 520 7902]]\n",
      "F1 score:  0.934594914251922\n",
      "precision_score:  0.930961357210179\n",
      "average_precision_score:  0.9157286989613425\n",
      "recall_score:  0.9382569460935645\n",
      "roc:  0.8478415467162206\n",
      "\n",
      "\n",
      "RANDOM FOREST\n",
      "score:  0.9140902872777018\n",
      "balanced_accuracy_score:  0.8449562724990509\n",
      "[[1853  690]\n",
      " [ 252 8170]]\n",
      "F1 score:  0.9454924198588126\n",
      "precision_score:  0.9221218961625283\n",
      "average_precision_score:  0.9132043976345038\n",
      "recall_score:  0.9700783661838043\n",
      "roc:  0.9230906131109354\n"
     ]
    }
   ],
   "source": [
    "ML(df_j.drop(['grade'], axis=1))"
   ]
  },
  {
   "cell_type": "markdown",
   "metadata": {},
   "source": [
    "So the scores were pretty similar for both class of loans. Although it was slightly lower for joint loans. Unfortunately logistic regression seems to be a horrible classifier. (moved to different notebook) Not only does it have the lowest score it also predicted that only 6 loans were bad and out of that 3 were actually true! \n",
    "\n",
    "ALL TOGETHER NOW, ML for the whole data set"
   ]
  },
  {
   "cell_type": "code",
   "execution_count": 19,
   "metadata": {
    "scrolled": false
   },
   "outputs": [
    {
     "name": "stdout",
     "output_type": "stream",
     "text": [
      "<class 'pandas.core.frame.DataFrame'>\n",
      "RangeIndex: 2506738 entries, 0 to 2506737\n",
      "Columns: 148 entries, loan_amnt to verification_status_joint_Verified\n",
      "dtypes: float64(89), int64(4), object(2), uint8(53)\n",
      "memory usage: 1.9+ GB\n"
     ]
    }
   ],
   "source": [
    "df.info()"
   ]
  },
  {
   "cell_type": "markdown",
   "metadata": {},
   "source": [
    "If the loan was an individual loan then it will be filled by its single counter part feature. "
   ]
  },
  {
   "cell_type": "code",
   "execution_count": 12,
   "metadata": {},
   "outputs": [],
   "source": [
    "df.application_type = df.application_type.apply(\n",
    "    lambda app_type: 1 if app_type == 'Individual' else 0)"
   ]
  },
  {
   "cell_type": "code",
   "execution_count": 13,
   "metadata": {},
   "outputs": [],
   "source": [
    "sec_list = ['sec_app_fico_range_low', 'sec_app_fico_range_high', 'sec_app_inq_last_6mths', 'sec_app_mort_acc',\n",
    "            'sec_app_open_acc', 'sec_app_revol_util', 'sec_app_num_rev_accts', 'sec_app_chargeoff_within_12_mths',\n",
    "            'sec_app_collections_12_mths_ex_med', 'sec_app_mths_since_last_major_derog', 'sec_app_open_act_il']\n",
    "joint_list = ['dti_joint', 'revol_bal_joint', 'annual_inc_joint']\n",
    "\n",
    "for secondary in sec_list:\n",
    "    df.loc[df.application_type ==\n",
    "           1][secondary] = df.loc[df.application_type == 1][secondary[8:]]\n",
    "\n",
    "for joint in joint_list:\n",
    "    df.loc[df.application_type ==\n",
    "           1][joint] = df.loc[df.application_type == 1][joint[:len(joint)-6]]"
   ]
  },
  {
   "cell_type": "code",
   "execution_count": 14,
   "metadata": {},
   "outputs": [],
   "source": [
    "for thing in df:\n",
    "    if df[thing].isnull().values.any():\n",
    "        df[thing].fillna(np.mean(df[thing]), inplace=True)"
   ]
  },
  {
   "cell_type": "code",
   "execution_count": 23,
   "metadata": {},
   "outputs": [
    {
     "name": "stdout",
     "output_type": "stream",
     "text": [
      "Loan passing rate: 0.8013545891114269\n",
      "Balanced loan passing rate: 0.7862376557561834\n",
      "\n",
      "\n",
      "DECISION TREE\n",
      "score:  0.9112658938169362\n",
      "balanced_accuracy_score:  0.8662769295717845\n",
      "[[118111  31566]\n",
      " [ 35164 567181]]\n",
      "F1 score:  0.9444422242426058\n",
      "precision_score:  0.9472799028638139\n",
      "average_precision_score:  0.9337699906937731\n",
      "recall_score:  0.9416214959865193\n",
      "roc:  0.8662769295717844\n",
      "\n",
      "\n",
      "RANDOM FOREST\n",
      "score:  0.9280140740563441\n",
      "balanced_accuracy_score:  0.8597924058058147\n",
      "[[110686  38991]\n",
      " [ 15144 587201]]\n",
      "F1 score:  0.9559353930732245\n",
      "precision_score:  0.937733155326162\n",
      "average_precision_score:  0.9297009475855507\n",
      "recall_score:  0.9748582622915439\n",
      "roc:  0.9375659620724596\n"
     ]
    }
   ],
   "source": [
    "ML(df.drop(['grade'], axis=1))"
   ]
  },
  {
   "cell_type": "code",
   "execution_count": 21,
   "metadata": {},
   "outputs": [
    {
     "name": "stdout",
     "output_type": "stream",
     "text": [
      "score:  0.9412916111496739\n",
      "balanced_accuracy_score:  0.8597039288899948\n",
      "[[107991  41686]\n",
      " [  2464 599881]]\n",
      "F1 score:  0.9645071355529972\n",
      "precision_score:  0.9350247129294368\n",
      "average_precision_score:  0.9290039395777568\n",
      "recall_score:  0.9959093210701508\n",
      "roc:  0.9652671297449752\n"
     ]
    },
    {
     "data": {
      "text/plain": [
       "{'class_weight': None, 'criterion': 'entropy', 'n_estimators': 101}"
      ]
     },
     "execution_count": 21,
     "metadata": {},
     "output_type": "execute_result"
    }
   ],
   "source": [
    "from sklearn.model_selection import GridSearchCV\n",
    "\n",
    "parameters = {'class_weight': ['balanced', None],\n",
    "              'criterion':['gini','entropy'],\n",
    "              'n_estimators': [101]}\n",
    "\n",
    "rf = RandomForestClassifier()\n",
    "\n",
    "rf_cv = GridSearchCV(rf, parameters, cv=2)\n",
    "\n",
    "X_avg_train, X_avg_test, y_avg_train, y_avg_test = train_test_split(\n",
    "    df.drop(['grade', 'loan_status'], axis=1), df.loan_status, test_size=0.3, random_state=42)\n",
    "\n",
    "rf_cv.fit(X_avg_train, y_avg_train)\n",
    "\n",
    "scoring(rf_cv, X_avg_test, y_avg_test)\n",
    "\n",
    "rf_cv.best_params_"
   ]
  },
  {
   "cell_type": "code",
   "execution_count": 22,
   "metadata": {},
   "outputs": [
    {
     "data": {
      "text/plain": [
       "{'mean_fit_time': array([539.47004259, 579.28215313, 539.25136995, 644.06235492]),\n",
       " 'std_fit_time': array([3.80012167, 4.03264499, 0.56094122, 8.00005352]),\n",
       " 'mean_score_time': array([47.94412315, 43.4956435 , 47.31172156, 51.22243512]),\n",
       " 'std_score_time': array([0.63977158, 0.03485715, 0.12458658, 0.9015063 ]),\n",
       " 'param_class_weight': masked_array(data=['balanced', 'balanced', None, None],\n",
       "              mask=[False, False, False, False],\n",
       "        fill_value='?',\n",
       "             dtype=object),\n",
       " 'param_criterion': masked_array(data=['gini', 'entropy', 'gini', 'entropy'],\n",
       "              mask=[False, False, False, False],\n",
       "        fill_value='?',\n",
       "             dtype=object),\n",
       " 'param_n_estimators': masked_array(data=[101, 101, 101, 101],\n",
       "              mask=[False, False, False, False],\n",
       "        fill_value='?',\n",
       "             dtype=object),\n",
       " 'params': [{'class_weight': 'balanced',\n",
       "   'criterion': 'gini',\n",
       "   'n_estimators': 101},\n",
       "  {'class_weight': 'balanced', 'criterion': 'entropy', 'n_estimators': 101},\n",
       "  {'class_weight': None, 'criterion': 'gini', 'n_estimators': 101},\n",
       "  {'class_weight': None, 'criterion': 'entropy', 'n_estimators': 101}],\n",
       " 'split0_test_score': array([0.87197031, 0.87280007, 0.87313403, 0.87318874]),\n",
       " 'split1_test_score': array([0.87229828, 0.87296847, 0.87327621, 0.87330813]),\n",
       " 'mean_test_score': array([0.87213429, 0.87288427, 0.87320512, 0.87324843]),\n",
       " 'std_test_score': array([1.63983385e-04, 8.41992485e-05, 7.10920800e-05, 5.96942735e-05]),\n",
       " 'rank_test_score': array([4, 3, 2, 1]),\n",
       " 'split0_train_score': array([0.99999088, 0.99999658, 0.9999943 , 0.99999544]),\n",
       " 'split1_train_score': array([0.99999544, 0.9999943 , 0.99999088, 1.        ]),\n",
       " 'mean_train_score': array([0.99999316, 0.99999544, 0.99999259, 0.99999772]),\n",
       " 'std_train_score': array([2.27957896e-06, 1.13978039e-06, 1.70966993e-06, 2.27957377e-06])}"
      ]
     },
     "execution_count": 22,
     "metadata": {},
     "output_type": "execute_result"
    }
   ],
   "source": [
    "rf_cv.cv_results_"
   ]
  },
  {
   "cell_type": "code",
   "execution_count": 18,
   "metadata": {},
   "outputs": [],
   "source": [
    "X_avg_train, X_avg_test, y_avg_train, y_avg_test = train_test_split(\n",
    "    df.drop(['grade', 'loan_status'], axis=1), df.loan_status, test_size=0.3, random_state=42)"
   ]
  },
  {
   "cell_type": "code",
   "execution_count": 20,
   "metadata": {},
   "outputs": [
    {
     "name": "stdout",
     "output_type": "stream",
     "text": [
      "score:  0.9414126182478704\n",
      "balanced_accuracy_score:  0.8609267894145756\n",
      "[[108356  41321]\n",
      " [  2738 599607]]\n",
      "F1 score:  0.9645620873291707\n",
      "precision_score:  0.9355294198412302\n",
      "average_precision_score:  0.9295926701946172\n",
      "recall_score:  0.9954544322605816\n",
      "roc:  0.9644705009867246\n"
     ]
    }
   ],
   "source": [
    "rf_100 = RandomForestClassifier(n_estimators=100)\n",
    "\n",
    "rf_100.fit(X_avg_train, y_avg_train)\n",
    "\n",
    "scoring(rf_100, X_avg_test, y_avg_test)"
   ]
  },
  {
   "cell_type": "code",
   "execution_count": 19,
   "metadata": {},
   "outputs": [
    {
     "name": "stdout",
     "output_type": "stream",
     "text": [
      "score:  0.9414245859828568\n",
      "balanced_accuracy_score:  0.85934906663379\n",
      "[[107789  41888]\n",
      " [  2162 600183]]\n",
      "F1 score:  0.9646018694713023\n",
      "precision_score:  0.9347611089739297\n",
      "average_precision_score:  0.9288199970978425\n",
      "recall_score:  0.9964106948675593\n",
      "roc:  0.9661410413744417\n"
     ]
    }
   ],
   "source": [
    "rf_200 = RandomForestClassifier(n_estimators=200)\n",
    "\n",
    "rf_200.fit(X_avg_train, y_avg_train)\n",
    "\n",
    "scoring(rf_200, X_avg_test, y_avg_test)"
   ]
  },
  {
   "cell_type": "code",
   "execution_count": null,
   "metadata": {},
   "outputs": [],
   "source": [
    "rf_500 = RandomForestClassifier(n_estimators=500)\n",
    "\n",
    "rf_500.fit(X_avg_train, y_avg_train)\n",
    "\n",
    "scoring(rf_500, X_avg_test, y_avg_test)"
   ]
  },
  {
   "cell_type": "code",
   "execution_count": 17,
   "metadata": {},
   "outputs": [
    {
     "name": "stdout",
     "output_type": "stream",
     "text": [
      "score:  0.9416240482326315\n",
      "balanced_accuracy_score:  0.8589446550819144\n",
      "[[107561  42116]\n",
      " [  1784 600561]]\n",
      "F1 score:  0.9647395788990074\n",
      "precision_score:  0.934467858659949\n",
      "average_precision_score:  0.9286076510679641\n",
      "recall_score:  0.9970382422033884\n",
      "roc:  0.9674843087953633\n"
     ]
    }
   ],
   "source": [
    "rf_1000 = RandomForestClassifier(n_estimators=1000)\n",
    "\n",
    "rf_1000.fit(X_avg_train, y_avg_train)\n",
    "\n",
    "scoring(rf_1000, X_avg_test, y_avg_test)"
   ]
  },
  {
   "cell_type": "markdown",
   "metadata": {},
   "source": [
    "Scores from highest to lowest: individual, all, then joint. I wouldn't exactly say this is is a fair comparison since we used different fill nan values, different set of features, and had different sample sizes. Although generally speaking joint loans seem harder to classify. This may have brought down scores for ml_all. \n",
    "\n",
    "We are going to try and see if we can get better scores among each grade of loans."
   ]
  },
  {
   "cell_type": "markdown",
   "metadata": {},
   "source": [
    "ML for different grades"
   ]
  },
  {
   "cell_type": "markdown",
   "metadata": {},
   "source": [
    "Before we do this I want to see the results of the previous classifers on differnt grades. As we saw during our EDA lower grade loans failed at larger rates. We will be use the results from df_ml as the score since we will be lumping together joint and individual loans."
   ]
  },
  {
   "cell_type": "markdown",
   "metadata": {},
   "source": [
    "results of grades"
   ]
  },
  {
   "cell_type": "code",
   "execution_count": 45,
   "metadata": {},
   "outputs": [],
   "source": [
    "def grade_testing2(df_grade):\n",
    "    X_avg_train, X_avg_test, y_avg_train, y_avg_test = train_test_split(\n",
    "        df_grade.drop(['loan_status','grade'], axis=1), df_grade.loan_status, test_size=0.3, random_state=42)\n",
    "\n",
    "    rf_defalut = RandomForestClassifier()\n",
    "    print('Loan passing rate:', np.mean(df_grade.loan_status))\n",
    "    print('Balanced loan passing rate:', np.average(\n",
    "        df_grade.loan_status, weights=df_grade['loan_amnt']))\n",
    "\n",
    "    rf_defalut.fit(X_avg_train, y_avg_train)\n",
    "    print('Random Forest')\n",
    "    scoring(rf_defalut, X_avg_test, y_avg_test)\n",
    "    print('\\n1000 tree forest')\n",
    "    scoring(rf, X_avg_test, y_avg_test)"
   ]
  },
  {
   "cell_type": "code",
   "execution_count": 51,
   "metadata": {
    "scrolled": false
   },
   "outputs": [
    {
     "name": "stdout",
     "output_type": "stream",
     "text": [
      "A\n",
      "Loan passing rate: 0.9401064589718183\n",
      "Balanced loan passing rate: 0.9411077425533958\n",
      "Random Forest\n",
      "score:  0.9787619727938183\n",
      "balanced_accuracy_score:  0.8257767518525029\n",
      "[[  5097   2648]\n",
      " [   117 122329]]\n",
      "F1 score:  0.9888248061012921\n",
      "precision_score:  0.9788121014266625\n",
      "average_precision_score:  0.9787697253112554\n",
      "recall_score:  0.9990444767489343\n",
      "roc:  0.9001954839635423\n",
      "\n",
      "1000 tree forest\n",
      "score:  0.9946232842515996\n",
      "balanced_accuracy_score:  0.9570392949224038\n",
      "[[  7045    700]\n",
      " [     0 122446]]\n",
      "F1 score:  0.9971497442913451\n",
      "precision_score:  0.9943156903188086\n",
      "average_precision_score:  0.99467947023111\n",
      "recall_score:  1.0\n",
      "roc:  0.9937084594435013\n",
      "\n",
      "\n",
      "B\n",
      "Loan passing rate: 0.8674153371750992\n",
      "Balanced loan passing rate: 0.864957609485713\n",
      "Random Forest\n",
      "score:  0.9510486005749876\n",
      "balanced_accuracy_score:  0.833260952499356\n",
      "[[ 19526   9589]\n",
      " [  1155 189213]]\n",
      "F1 score:  0.972392527687129\n",
      "precision_score:  0.9517660788120844\n",
      "average_precision_score:  0.9506081252258668\n",
      "recall_score:  0.9939328038325769\n",
      "roc:  0.9130164630896632\n",
      "\n",
      "1000 tree forest\n",
      "score:  0.9879717335738987\n",
      "balanced_accuracy_score:  0.9544709299630241\n",
      "[[ 26475   2640]\n",
      " [     0 190368]]\n",
      "F1 score:  0.9931138099411544\n",
      "precision_score:  0.9863218104949018\n",
      "average_precision_score:  0.9859954909889801\n"
     ]
    },
    {
     "ename": "KeyboardInterrupt",
     "evalue": "",
     "output_type": "error",
     "traceback": [
      "\u001b[1;31m---------------------------------------------------------------------------\u001b[0m",
      "\u001b[1;31mKeyboardInterrupt\u001b[0m                         Traceback (most recent call last)",
      "\u001b[1;32m<ipython-input-51-61c23f693e3f>\u001b[0m in \u001b[0;36m<module>\u001b[1;34m()\u001b[0m\n\u001b[0;32m      3\u001b[0m \u001b[1;32mfor\u001b[0m \u001b[0mloan_grade\u001b[0m \u001b[1;32min\u001b[0m \u001b[0msorted\u001b[0m\u001b[1;33m(\u001b[0m\u001b[0mgrades\u001b[0m\u001b[1;33m)\u001b[0m\u001b[1;33m:\u001b[0m\u001b[1;33m\u001b[0m\u001b[0m\n\u001b[0;32m      4\u001b[0m     \u001b[0mprint\u001b[0m\u001b[1;33m(\u001b[0m\u001b[0mloan_grade\u001b[0m\u001b[1;33m)\u001b[0m\u001b[1;33m\u001b[0m\u001b[0m\n\u001b[1;32m----> 5\u001b[1;33m     \u001b[0mgrade_testing2\u001b[0m\u001b[1;33m(\u001b[0m\u001b[0mdf\u001b[0m\u001b[1;33m.\u001b[0m\u001b[0mloc\u001b[0m\u001b[1;33m[\u001b[0m\u001b[0mdf\u001b[0m\u001b[1;33m.\u001b[0m\u001b[0mgrade\u001b[0m\u001b[1;33m==\u001b[0m\u001b[0mloan_grade\u001b[0m\u001b[1;33m]\u001b[0m\u001b[1;33m)\u001b[0m\u001b[1;33m\u001b[0m\u001b[0m\n\u001b[0m\u001b[0;32m      6\u001b[0m     \u001b[0mprint\u001b[0m\u001b[1;33m(\u001b[0m\u001b[1;34m'\\n'\u001b[0m\u001b[1;33m)\u001b[0m\u001b[1;33m\u001b[0m\u001b[0m\n",
      "\u001b[1;32m<ipython-input-45-a277ff4d481d>\u001b[0m in \u001b[0;36mgrade_testing2\u001b[1;34m(df_grade)\u001b[0m\n\u001b[0;32m     12\u001b[0m     \u001b[0mscoring\u001b[0m\u001b[1;33m(\u001b[0m\u001b[0mrf_defalut\u001b[0m\u001b[1;33m,\u001b[0m \u001b[0mX_avg_test\u001b[0m\u001b[1;33m,\u001b[0m \u001b[0my_avg_test\u001b[0m\u001b[1;33m)\u001b[0m\u001b[1;33m\u001b[0m\u001b[0m\n\u001b[0;32m     13\u001b[0m     \u001b[0mprint\u001b[0m\u001b[1;33m(\u001b[0m\u001b[1;34m'\\n1000 tree forest'\u001b[0m\u001b[1;33m)\u001b[0m\u001b[1;33m\u001b[0m\u001b[0m\n\u001b[1;32m---> 14\u001b[1;33m     \u001b[0mscoring\u001b[0m\u001b[1;33m(\u001b[0m\u001b[0mrf\u001b[0m\u001b[1;33m,\u001b[0m \u001b[0mX_avg_test\u001b[0m\u001b[1;33m,\u001b[0m \u001b[0my_avg_test\u001b[0m\u001b[1;33m)\u001b[0m\u001b[1;33m\u001b[0m\u001b[0m\n\u001b[0m",
      "\u001b[1;32m<ipython-input-10-62768617b46e>\u001b[0m in \u001b[0;36mscoring\u001b[1;34m(clf, x, y)\u001b[0m\n\u001b[0;32m     21\u001b[0m     \u001b[1;31m#score adjusted for loan amount\u001b[0m\u001b[1;33m\u001b[0m\u001b[1;33m\u001b[0m\u001b[0m\n\u001b[0;32m     22\u001b[0m     \u001b[0mprint\u001b[0m\u001b[1;33m(\u001b[0m\u001b[1;34m'average_precision_score: '\u001b[0m\u001b[1;33m,\u001b[0m \u001b[0maverage_precision_score\u001b[0m\u001b[1;33m(\u001b[0m\u001b[0my\u001b[0m\u001b[1;33m,\u001b[0m \u001b[0mclf\u001b[0m\u001b[1;33m.\u001b[0m\u001b[0mpredict\u001b[0m\u001b[1;33m(\u001b[0m\u001b[0mx\u001b[0m\u001b[1;33m)\u001b[0m\u001b[1;33m,\u001b[0m \u001b[0maverage\u001b[0m\u001b[1;33m=\u001b[0m\u001b[1;34m'weighted'\u001b[0m\u001b[1;33m,\u001b[0m \u001b[0msample_weight\u001b[0m\u001b[1;33m=\u001b[0m\u001b[0mx\u001b[0m\u001b[1;33m[\u001b[0m\u001b[1;34m'loan_amnt'\u001b[0m\u001b[1;33m]\u001b[0m\u001b[1;33m)\u001b[0m\u001b[1;33m)\u001b[0m\u001b[1;33m\u001b[0m\u001b[0m\n\u001b[1;32m---> 23\u001b[1;33m     \u001b[0mprint\u001b[0m\u001b[1;33m(\u001b[0m\u001b[1;34m'recall_score: '\u001b[0m\u001b[1;33m,\u001b[0m\u001b[0mrecall_score\u001b[0m\u001b[1;33m(\u001b[0m\u001b[0my\u001b[0m\u001b[1;33m,\u001b[0m \u001b[0mclf\u001b[0m\u001b[1;33m.\u001b[0m\u001b[0mpredict\u001b[0m\u001b[1;33m(\u001b[0m\u001b[0mx\u001b[0m\u001b[1;33m)\u001b[0m\u001b[1;33m)\u001b[0m\u001b[1;33m)\u001b[0m\u001b[1;33m\u001b[0m\u001b[0m\n\u001b[0m\u001b[0;32m     24\u001b[0m \u001b[1;33m\u001b[0m\u001b[0m\n\u001b[0;32m     25\u001b[0m     \u001b[1;31m#score adjusted for loan amount\u001b[0m\u001b[1;33m\u001b[0m\u001b[1;33m\u001b[0m\u001b[0m\n",
      "\u001b[1;32m~\\Anaconda3\\lib\\site-packages\\sklearn\\ensemble\\forest.py\u001b[0m in \u001b[0;36mpredict\u001b[1;34m(self, X)\u001b[0m\n\u001b[0;32m    541\u001b[0m             \u001b[0mThe\u001b[0m \u001b[0mpredicted\u001b[0m \u001b[0mclasses\u001b[0m\u001b[1;33m.\u001b[0m\u001b[1;33m\u001b[0m\u001b[0m\n\u001b[0;32m    542\u001b[0m         \"\"\"\n\u001b[1;32m--> 543\u001b[1;33m         \u001b[0mproba\u001b[0m \u001b[1;33m=\u001b[0m \u001b[0mself\u001b[0m\u001b[1;33m.\u001b[0m\u001b[0mpredict_proba\u001b[0m\u001b[1;33m(\u001b[0m\u001b[0mX\u001b[0m\u001b[1;33m)\u001b[0m\u001b[1;33m\u001b[0m\u001b[0m\n\u001b[0m\u001b[0;32m    544\u001b[0m \u001b[1;33m\u001b[0m\u001b[0m\n\u001b[0;32m    545\u001b[0m         \u001b[1;32mif\u001b[0m \u001b[0mself\u001b[0m\u001b[1;33m.\u001b[0m\u001b[0mn_outputs_\u001b[0m \u001b[1;33m==\u001b[0m \u001b[1;36m1\u001b[0m\u001b[1;33m:\u001b[0m\u001b[1;33m\u001b[0m\u001b[0m\n",
      "\u001b[1;32m~\\Anaconda3\\lib\\site-packages\\sklearn\\ensemble\\forest.py\u001b[0m in \u001b[0;36mpredict_proba\u001b[1;34m(self, X)\u001b[0m\n\u001b[0;32m    594\u001b[0m             delayed(_accumulate_prediction)(e.predict_proba, X, all_proba,\n\u001b[0;32m    595\u001b[0m                                             lock)\n\u001b[1;32m--> 596\u001b[1;33m             for e in self.estimators_)\n\u001b[0m\u001b[0;32m    597\u001b[0m \u001b[1;33m\u001b[0m\u001b[0m\n\u001b[0;32m    598\u001b[0m         \u001b[1;32mfor\u001b[0m \u001b[0mproba\u001b[0m \u001b[1;32min\u001b[0m \u001b[0mall_proba\u001b[0m\u001b[1;33m:\u001b[0m\u001b[1;33m\u001b[0m\u001b[0m\n",
      "\u001b[1;32m~\\Anaconda3\\lib\\site-packages\\sklearn\\externals\\joblib\\parallel.py\u001b[0m in \u001b[0;36m__call__\u001b[1;34m(self, iterable)\u001b[0m\n\u001b[0;32m    918\u001b[0m                 \u001b[0mself\u001b[0m\u001b[1;33m.\u001b[0m\u001b[0m_iterating\u001b[0m \u001b[1;33m=\u001b[0m \u001b[0mself\u001b[0m\u001b[1;33m.\u001b[0m\u001b[0m_original_iterator\u001b[0m \u001b[1;32mis\u001b[0m \u001b[1;32mnot\u001b[0m \u001b[1;32mNone\u001b[0m\u001b[1;33m\u001b[0m\u001b[0m\n\u001b[0;32m    919\u001b[0m \u001b[1;33m\u001b[0m\u001b[0m\n\u001b[1;32m--> 920\u001b[1;33m             \u001b[1;32mwhile\u001b[0m \u001b[0mself\u001b[0m\u001b[1;33m.\u001b[0m\u001b[0mdispatch_one_batch\u001b[0m\u001b[1;33m(\u001b[0m\u001b[0miterator\u001b[0m\u001b[1;33m)\u001b[0m\u001b[1;33m:\u001b[0m\u001b[1;33m\u001b[0m\u001b[0m\n\u001b[0m\u001b[0;32m    921\u001b[0m                 \u001b[1;32mpass\u001b[0m\u001b[1;33m\u001b[0m\u001b[0m\n\u001b[0;32m    922\u001b[0m \u001b[1;33m\u001b[0m\u001b[0m\n",
      "\u001b[1;32m~\\Anaconda3\\lib\\site-packages\\sklearn\\externals\\joblib\\parallel.py\u001b[0m in \u001b[0;36mdispatch_one_batch\u001b[1;34m(self, iterator)\u001b[0m\n\u001b[0;32m    757\u001b[0m                 \u001b[1;32mreturn\u001b[0m \u001b[1;32mFalse\u001b[0m\u001b[1;33m\u001b[0m\u001b[0m\n\u001b[0;32m    758\u001b[0m             \u001b[1;32melse\u001b[0m\u001b[1;33m:\u001b[0m\u001b[1;33m\u001b[0m\u001b[0m\n\u001b[1;32m--> 759\u001b[1;33m                 \u001b[0mself\u001b[0m\u001b[1;33m.\u001b[0m\u001b[0m_dispatch\u001b[0m\u001b[1;33m(\u001b[0m\u001b[0mtasks\u001b[0m\u001b[1;33m)\u001b[0m\u001b[1;33m\u001b[0m\u001b[0m\n\u001b[0m\u001b[0;32m    760\u001b[0m                 \u001b[1;32mreturn\u001b[0m \u001b[1;32mTrue\u001b[0m\u001b[1;33m\u001b[0m\u001b[0m\n\u001b[0;32m    761\u001b[0m \u001b[1;33m\u001b[0m\u001b[0m\n",
      "\u001b[1;32m~\\Anaconda3\\lib\\site-packages\\sklearn\\externals\\joblib\\parallel.py\u001b[0m in \u001b[0;36m_dispatch\u001b[1;34m(self, batch)\u001b[0m\n\u001b[0;32m    714\u001b[0m         \u001b[1;32mwith\u001b[0m \u001b[0mself\u001b[0m\u001b[1;33m.\u001b[0m\u001b[0m_lock\u001b[0m\u001b[1;33m:\u001b[0m\u001b[1;33m\u001b[0m\u001b[0m\n\u001b[0;32m    715\u001b[0m             \u001b[0mjob_idx\u001b[0m \u001b[1;33m=\u001b[0m \u001b[0mlen\u001b[0m\u001b[1;33m(\u001b[0m\u001b[0mself\u001b[0m\u001b[1;33m.\u001b[0m\u001b[0m_jobs\u001b[0m\u001b[1;33m)\u001b[0m\u001b[1;33m\u001b[0m\u001b[0m\n\u001b[1;32m--> 716\u001b[1;33m             \u001b[0mjob\u001b[0m \u001b[1;33m=\u001b[0m \u001b[0mself\u001b[0m\u001b[1;33m.\u001b[0m\u001b[0m_backend\u001b[0m\u001b[1;33m.\u001b[0m\u001b[0mapply_async\u001b[0m\u001b[1;33m(\u001b[0m\u001b[0mbatch\u001b[0m\u001b[1;33m,\u001b[0m \u001b[0mcallback\u001b[0m\u001b[1;33m=\u001b[0m\u001b[0mcb\u001b[0m\u001b[1;33m)\u001b[0m\u001b[1;33m\u001b[0m\u001b[0m\n\u001b[0m\u001b[0;32m    717\u001b[0m             \u001b[1;31m# A job can complete so quickly than its callback is\u001b[0m\u001b[1;33m\u001b[0m\u001b[1;33m\u001b[0m\u001b[0m\n\u001b[0;32m    718\u001b[0m             \u001b[1;31m# called before we get here, causing self._jobs to\u001b[0m\u001b[1;33m\u001b[0m\u001b[1;33m\u001b[0m\u001b[0m\n",
      "\u001b[1;32m~\\Anaconda3\\lib\\site-packages\\sklearn\\externals\\joblib\\_parallel_backends.py\u001b[0m in \u001b[0;36mapply_async\u001b[1;34m(self, func, callback)\u001b[0m\n\u001b[0;32m    180\u001b[0m     \u001b[1;32mdef\u001b[0m \u001b[0mapply_async\u001b[0m\u001b[1;33m(\u001b[0m\u001b[0mself\u001b[0m\u001b[1;33m,\u001b[0m \u001b[0mfunc\u001b[0m\u001b[1;33m,\u001b[0m \u001b[0mcallback\u001b[0m\u001b[1;33m=\u001b[0m\u001b[1;32mNone\u001b[0m\u001b[1;33m)\u001b[0m\u001b[1;33m:\u001b[0m\u001b[1;33m\u001b[0m\u001b[0m\n\u001b[0;32m    181\u001b[0m         \u001b[1;34m\"\"\"Schedule a func to be run\"\"\"\u001b[0m\u001b[1;33m\u001b[0m\u001b[0m\n\u001b[1;32m--> 182\u001b[1;33m         \u001b[0mresult\u001b[0m \u001b[1;33m=\u001b[0m \u001b[0mImmediateResult\u001b[0m\u001b[1;33m(\u001b[0m\u001b[0mfunc\u001b[0m\u001b[1;33m)\u001b[0m\u001b[1;33m\u001b[0m\u001b[0m\n\u001b[0m\u001b[0;32m    183\u001b[0m         \u001b[1;32mif\u001b[0m \u001b[0mcallback\u001b[0m\u001b[1;33m:\u001b[0m\u001b[1;33m\u001b[0m\u001b[0m\n\u001b[0;32m    184\u001b[0m             \u001b[0mcallback\u001b[0m\u001b[1;33m(\u001b[0m\u001b[0mresult\u001b[0m\u001b[1;33m)\u001b[0m\u001b[1;33m\u001b[0m\u001b[0m\n",
      "\u001b[1;32m~\\Anaconda3\\lib\\site-packages\\sklearn\\externals\\joblib\\_parallel_backends.py\u001b[0m in \u001b[0;36m__init__\u001b[1;34m(self, batch)\u001b[0m\n\u001b[0;32m    547\u001b[0m         \u001b[1;31m# Don't delay the application, to avoid keeping the input\u001b[0m\u001b[1;33m\u001b[0m\u001b[1;33m\u001b[0m\u001b[0m\n\u001b[0;32m    548\u001b[0m         \u001b[1;31m# arguments in memory\u001b[0m\u001b[1;33m\u001b[0m\u001b[1;33m\u001b[0m\u001b[0m\n\u001b[1;32m--> 549\u001b[1;33m         \u001b[0mself\u001b[0m\u001b[1;33m.\u001b[0m\u001b[0mresults\u001b[0m \u001b[1;33m=\u001b[0m \u001b[0mbatch\u001b[0m\u001b[1;33m(\u001b[0m\u001b[1;33m)\u001b[0m\u001b[1;33m\u001b[0m\u001b[0m\n\u001b[0m\u001b[0;32m    550\u001b[0m \u001b[1;33m\u001b[0m\u001b[0m\n\u001b[0;32m    551\u001b[0m     \u001b[1;32mdef\u001b[0m \u001b[0mget\u001b[0m\u001b[1;33m(\u001b[0m\u001b[0mself\u001b[0m\u001b[1;33m)\u001b[0m\u001b[1;33m:\u001b[0m\u001b[1;33m\u001b[0m\u001b[0m\n",
      "\u001b[1;32m~\\Anaconda3\\lib\\site-packages\\sklearn\\externals\\joblib\\parallel.py\u001b[0m in \u001b[0;36m__call__\u001b[1;34m(self)\u001b[0m\n\u001b[0;32m    223\u001b[0m         \u001b[1;32mwith\u001b[0m \u001b[0mparallel_backend\u001b[0m\u001b[1;33m(\u001b[0m\u001b[0mself\u001b[0m\u001b[1;33m.\u001b[0m\u001b[0m_backend\u001b[0m\u001b[1;33m,\u001b[0m \u001b[0mn_jobs\u001b[0m\u001b[1;33m=\u001b[0m\u001b[0mself\u001b[0m\u001b[1;33m.\u001b[0m\u001b[0m_n_jobs\u001b[0m\u001b[1;33m)\u001b[0m\u001b[1;33m:\u001b[0m\u001b[1;33m\u001b[0m\u001b[0m\n\u001b[0;32m    224\u001b[0m             return [func(*args, **kwargs)\n\u001b[1;32m--> 225\u001b[1;33m                     for func, args, kwargs in self.items]\n\u001b[0m\u001b[0;32m    226\u001b[0m \u001b[1;33m\u001b[0m\u001b[0m\n\u001b[0;32m    227\u001b[0m     \u001b[1;32mdef\u001b[0m \u001b[0m__len__\u001b[0m\u001b[1;33m(\u001b[0m\u001b[0mself\u001b[0m\u001b[1;33m)\u001b[0m\u001b[1;33m:\u001b[0m\u001b[1;33m\u001b[0m\u001b[0m\n",
      "\u001b[1;32m~\\Anaconda3\\lib\\site-packages\\sklearn\\externals\\joblib\\parallel.py\u001b[0m in \u001b[0;36m<listcomp>\u001b[1;34m(.0)\u001b[0m\n\u001b[0;32m    223\u001b[0m         \u001b[1;32mwith\u001b[0m \u001b[0mparallel_backend\u001b[0m\u001b[1;33m(\u001b[0m\u001b[0mself\u001b[0m\u001b[1;33m.\u001b[0m\u001b[0m_backend\u001b[0m\u001b[1;33m,\u001b[0m \u001b[0mn_jobs\u001b[0m\u001b[1;33m=\u001b[0m\u001b[0mself\u001b[0m\u001b[1;33m.\u001b[0m\u001b[0m_n_jobs\u001b[0m\u001b[1;33m)\u001b[0m\u001b[1;33m:\u001b[0m\u001b[1;33m\u001b[0m\u001b[0m\n\u001b[0;32m    224\u001b[0m             return [func(*args, **kwargs)\n\u001b[1;32m--> 225\u001b[1;33m                     for func, args, kwargs in self.items]\n\u001b[0m\u001b[0;32m    226\u001b[0m \u001b[1;33m\u001b[0m\u001b[0m\n\u001b[0;32m    227\u001b[0m     \u001b[1;32mdef\u001b[0m \u001b[0m__len__\u001b[0m\u001b[1;33m(\u001b[0m\u001b[0mself\u001b[0m\u001b[1;33m)\u001b[0m\u001b[1;33m:\u001b[0m\u001b[1;33m\u001b[0m\u001b[0m\n",
      "\u001b[1;32m~\\Anaconda3\\lib\\site-packages\\sklearn\\ensemble\\forest.py\u001b[0m in \u001b[0;36m_accumulate_prediction\u001b[1;34m(predict, X, out, lock)\u001b[0m\n\u001b[0;32m    387\u001b[0m     \u001b[0mcomplains\u001b[0m \u001b[0mthat\u001b[0m \u001b[0mit\u001b[0m \u001b[0mcannot\u001b[0m \u001b[0mpickle\u001b[0m \u001b[0mit\u001b[0m \u001b[0mwhen\u001b[0m \u001b[0mplaced\u001b[0m \u001b[0mthere\u001b[0m\u001b[1;33m.\u001b[0m\u001b[1;33m\u001b[0m\u001b[0m\n\u001b[0;32m    388\u001b[0m     \"\"\"\n\u001b[1;32m--> 389\u001b[1;33m     \u001b[0mprediction\u001b[0m \u001b[1;33m=\u001b[0m \u001b[0mpredict\u001b[0m\u001b[1;33m(\u001b[0m\u001b[0mX\u001b[0m\u001b[1;33m,\u001b[0m \u001b[0mcheck_input\u001b[0m\u001b[1;33m=\u001b[0m\u001b[1;32mFalse\u001b[0m\u001b[1;33m)\u001b[0m\u001b[1;33m\u001b[0m\u001b[0m\n\u001b[0m\u001b[0;32m    390\u001b[0m     \u001b[1;32mwith\u001b[0m \u001b[0mlock\u001b[0m\u001b[1;33m:\u001b[0m\u001b[1;33m\u001b[0m\u001b[0m\n\u001b[0;32m    391\u001b[0m         \u001b[1;32mif\u001b[0m \u001b[0mlen\u001b[0m\u001b[1;33m(\u001b[0m\u001b[0mout\u001b[0m\u001b[1;33m)\u001b[0m \u001b[1;33m==\u001b[0m \u001b[1;36m1\u001b[0m\u001b[1;33m:\u001b[0m\u001b[1;33m\u001b[0m\u001b[0m\n",
      "\u001b[1;32m~\\Anaconda3\\lib\\site-packages\\sklearn\\tree\\tree.py\u001b[0m in \u001b[0;36mpredict_proba\u001b[1;34m(self, X, check_input)\u001b[0m\n\u001b[0;32m    831\u001b[0m         \u001b[0mcheck_is_fitted\u001b[0m\u001b[1;33m(\u001b[0m\u001b[0mself\u001b[0m\u001b[1;33m,\u001b[0m \u001b[1;34m'tree_'\u001b[0m\u001b[1;33m)\u001b[0m\u001b[1;33m\u001b[0m\u001b[0m\n\u001b[0;32m    832\u001b[0m         \u001b[0mX\u001b[0m \u001b[1;33m=\u001b[0m \u001b[0mself\u001b[0m\u001b[1;33m.\u001b[0m\u001b[0m_validate_X_predict\u001b[0m\u001b[1;33m(\u001b[0m\u001b[0mX\u001b[0m\u001b[1;33m,\u001b[0m \u001b[0mcheck_input\u001b[0m\u001b[1;33m)\u001b[0m\u001b[1;33m\u001b[0m\u001b[0m\n\u001b[1;32m--> 833\u001b[1;33m         \u001b[0mproba\u001b[0m \u001b[1;33m=\u001b[0m \u001b[0mself\u001b[0m\u001b[1;33m.\u001b[0m\u001b[0mtree_\u001b[0m\u001b[1;33m.\u001b[0m\u001b[0mpredict\u001b[0m\u001b[1;33m(\u001b[0m\u001b[0mX\u001b[0m\u001b[1;33m)\u001b[0m\u001b[1;33m\u001b[0m\u001b[0m\n\u001b[0m\u001b[0;32m    834\u001b[0m \u001b[1;33m\u001b[0m\u001b[0m\n\u001b[0;32m    835\u001b[0m         \u001b[1;32mif\u001b[0m \u001b[0mself\u001b[0m\u001b[1;33m.\u001b[0m\u001b[0mn_outputs_\u001b[0m \u001b[1;33m==\u001b[0m \u001b[1;36m1\u001b[0m\u001b[1;33m:\u001b[0m\u001b[1;33m\u001b[0m\u001b[0m\n",
      "\u001b[1;31mKeyboardInterrupt\u001b[0m: "
     ]
    }
   ],
   "source": [
    "grades = set(df.grade)\n",
    "\n",
    "for loan_grade in sorted(grades):\n",
    "    print(loan_grade)\n",
    "    grade_testing2(df.loc[df.grade==loan_grade])\n",
    "    print('\\n')"
   ]
  },
  {
   "cell_type": "code",
   "execution_count": 19,
   "metadata": {},
   "outputs": [],
   "source": [
    "# will fill nas with average of respective grades\n",
    "def grade_df(dataframe_grade):\n",
    "    for thing in dataframe_grade:\n",
    "        if dataframe_grade[thing].isnull().values.any():\n",
    "            dataframe_grade[thing].fillna(\n",
    "                np.mean(dataframe_grade[thing]), inplace=True)\n",
    "\n",
    "    dataframe_grade.drop(columns=['grade'], inplace=True)\n",
    "\n",
    "    return dataframe_grade"
   ]
  },
  {
   "cell_type": "code",
   "execution_count": null,
   "metadata": {},
   "outputs": [],
   "source": [
    "df1 = pd.read_csv('lending_club_ml.csv')\n",
    "df1.drop(['id'], inplace=True, axis=1)\n",
    "\n",
    "df1 = pd.concat([df, pd.get_dummies(\n",
    "    df1.sub_grade, prefix='sub_grade', drop_first=True)], axis=1)\n",
    "df1 = pd.concat([df1, pd.get_dummies(df.home_ownership,\n",
    "                                   prefix='home_ownership', drop_first=True)], axis=1)\n",
    "df1 = pd.concat([df1, pd.get_dummies(df.verification_status,\n",
    "                                   prefix='verification_status', drop_first=True)], axis=1)\n",
    "df1 = pd.concat(\n",
    "    [df1, pd.get_dummies(df.purpose, prefix='purpose', drop_first=True)], axis=1)\n",
    "df1 = pd.concat([df1, pd.get_dummies(df.verification_status_joint,\n",
    "                                   prefix='verification_status_joint', drop_first=True)], axis=1)\n",
    "\n",
    "df1.drop(columns=['sub_grade', 'home_ownership', 'verification_status',\n",
    "                 'purpose', 'verification_status_joint'], inplace=True)\n",
    "\n",
    "df1.disbursement_method = df1.disbursement_method.apply(\n",
    "    lambda disburstment: 1 if disburstment == 'Cash' else 0)\n",
    "\n",
    "df1.application_type = df1.application_type.apply(\n",
    "    lambda app_type: 1 if app_type == 'Individual' else 0)"
   ]
  },
  {
   "cell_type": "code",
   "execution_count": 34,
   "metadata": {},
   "outputs": [],
   "source": [
    "def grade_testing(df_grade):\n",
    "    X_avg_train, X_avg_test, y_avg_train, y_avg_test = train_test_split(\n",
    "        df_grade.drop(['loan_status'], axis=1), df_grade.loan_status, test_size=0.3, random_state=42)\n",
    "\n",
    "    rf_defalut = RandomForestClassifier()\n",
    "    print('Loan passing rate:', np.mean(df_grade.loan_status))\n",
    "    print('Balanced loan passing rate:', np.average(\n",
    "        df_grade.loan_status, weights=df_grade['loan_amnt']))\n",
    "\n",
    "    rf_defalut.fit(X_avg_train, y_avg_train)\n",
    "    print('Random Forest')\n",
    "    scoring(rf_defalut, X_avg_test, y_avg_test)\n",
    "    print('\\n1000 tree forest')\n",
    "    scoring(rf, X_avg_test, y_avg_test)"
   ]
  },
  {
   "cell_type": "code",
   "execution_count": 35,
   "metadata": {},
   "outputs": [
    {
     "name": "stdout",
     "output_type": "stream",
     "text": [
      "Loan passing rate: 0.9401064589718183\n",
      "Balanced loan passing rate: 0.9411077425533958\n",
      "Random Forest\n",
      "score:  0.9790000844912474\n",
      "balanced_accuracy_score:  0.8289251175210524\n",
      "[[  5127   2618]\n",
      " [   116 122330]]\n",
      "F1 score:  0.9889488023153351\n",
      "precision_score:  0.9790472836700067\n",
      "average_precision_score:  0.979145473799033\n",
      "recall_score:  0.999052643614328\n",
      "roc:  0.895683416425143\n",
      "\n",
      "1000 treee forest\n",
      "score:  0.9946232842515996\n",
      "balanced_accuracy_score:  0.9570392949224038\n",
      "[[  7045    700]\n",
      " [     0 122446]]\n",
      "F1 score:  0.9971497442913451\n",
      "precision_score:  0.9943156903188086\n",
      "average_precision_score:  0.99467947023111\n",
      "recall_score:  1.0\n",
      "roc:  0.9937084594435013\n"
     ]
    }
   ],
   "source": [
    "df_a = grade_df(df.loc[df.grade == 'A'])\n",
    "\n",
    "grade_testing(df_a)"
   ]
  },
  {
   "cell_type": "code",
   "execution_count": 36,
   "metadata": {
    "scrolled": false
   },
   "outputs": [
    {
     "name": "stdout",
     "output_type": "stream",
     "text": [
      "Loan passing rate: 0.8674153371750992\n",
      "Balanced loan passing rate: 0.864957609485713\n",
      "Random Forest\n",
      "score:  0.9509438088599117\n",
      "balanced_accuracy_score:  0.8346131365517285\n",
      "[[ 19570   9545]\n",
      " [  1222 189146]]\n",
      "F1 score:  0.9723255341734801\n",
      "precision_score:  0.9519605820092506\n",
      "average_precision_score:  0.9509938238197307\n",
      "recall_score:  0.9935808539250294\n",
      "roc:  0.912109504125543\n",
      "\n",
      "1000 treee forest\n",
      "score:  0.9879717335738987\n",
      "balanced_accuracy_score:  0.9544709299630241\n",
      "[[ 26475   2640]\n",
      " [     0 190368]]\n",
      "F1 score:  0.9931138099411544\n",
      "precision_score:  0.9863218104949018\n",
      "average_precision_score:  0.9859954909889801\n",
      "recall_score:  1.0\n",
      "roc:  0.9956785008438126\n"
     ]
    }
   ],
   "source": [
    "df_b = grade_df(df.loc[df.grade == 'B'])\n",
    "\n",
    "grade_testing(df_b)"
   ]
  },
  {
   "cell_type": "code",
   "execution_count": 37,
   "metadata": {},
   "outputs": [
    {
     "name": "stdout",
     "output_type": "stream",
     "text": [
      "Loan passing rate: 0.7778149549843387\n",
      "Balanced loan passing rate: 0.7702586439544908\n",
      "Random Forest\n",
      "score:  0.9171059969164874\n",
      "balanced_accuracy_score:  0.8477566779444903\n",
      "[[ 34224  13300]\n",
      " [  4389 161480]]\n",
      "F1 score:  0.9480726495601044\n",
      "precision_score:  0.92390433688065\n",
      "average_precision_score:  0.9173077344992999\n",
      "recall_score:  0.9735393593739637\n",
      "roc:  0.9226681606121767\n",
      "\n",
      "1000 treee forest\n",
      "score:  0.9800087163121565\n",
      "balanced_accuracy_score:  0.9550534691993777\n",
      "[[ 43268   4256]\n",
      " [    10 165859]]\n",
      "F1 score:  0.9873029668079433\n",
      "precision_score:  0.9749816300737736\n",
      "average_precision_score:  0.9738116985017194\n",
      "recall_score:  0.999939711459043\n",
      "roc:  0.9963476205660107\n"
     ]
    }
   ],
   "source": [
    "df_c = grade_df(df.loc[df.grade == 'C'])\n",
    "\n",
    "grade_testing(df_c)"
   ]
  },
  {
   "cell_type": "code",
   "execution_count": 38,
   "metadata": {},
   "outputs": [
    {
     "name": "stdout",
     "output_type": "stream",
     "text": [
      "Loan passing rate: 0.698890107245059\n",
      "Balanced loan passing rate: 0.6850198771226047\n",
      "Random Forest\n",
      "score:  0.8895277829780786\n",
      "balanced_accuracy_score:  0.8548157976502506\n",
      "[[25981  7833]\n",
      " [ 4559 73800]]\n",
      "F1 score:  0.9225461273063653\n",
      "precision_score:  0.9040461578038294\n",
      "average_precision_score:  0.8859177840987382\n",
      "recall_score:  0.9418190635408823\n",
      "roc:  0.929658156315903\n",
      "\n",
      "1000 treee forest\n",
      "score:  0.9731931926577697\n",
      "balanced_accuracy_score:  0.956277017131022\n",
      "[[30946  2868]\n",
      " [  139 78220]]\n",
      "F1 score:  0.9811410688191061\n",
      "precision_score:  0.9646310181531176\n",
      "average_precision_score:  0.9614536862284947\n",
      "recall_score:  0.9982261131459054\n",
      "roc:  0.99693365800266\n"
     ]
    }
   ],
   "source": [
    "df_d = grade_df(df.loc[df.grade == 'D'])\n",
    "\n",
    "grade_testing(df_d)"
   ]
  },
  {
   "cell_type": "code",
   "execution_count": 39,
   "metadata": {},
   "outputs": [
    {
     "name": "stdout",
     "output_type": "stream",
     "text": [
      "Loan passing rate: 0.6160800847744233\n",
      "Balanced loan passing rate: 0.6055125444705772\n",
      "Random Forest\n",
      "score:  0.8626371561701488\n",
      "balanced_accuracy_score:  0.85187424958929\n",
      "[[16597  3860]\n",
      " [ 3451 29316]]\n",
      "F1 score:  0.8891315226786771\n",
      "precision_score:  0.883650831926694\n",
      "average_precision_score:  0.848721170091024\n",
      "recall_score:  0.8946806237983337\n",
      "roc:  0.9274397503108782\n",
      "\n",
      "1000 treee forest\n",
      "score:  0.966556440703442\n",
      "balanced_accuracy_score:  0.9573450506229564\n",
      "[[18894  1563]\n",
      " [  217 32550]]\n",
      "F1 score:  0.9733851674641147\n",
      "precision_score:  0.9541816902647084\n",
      "average_precision_score:  0.9485008958923669\n",
      "recall_score:  0.9933774834437086\n",
      "roc:  0.9966638222447113\n"
     ]
    }
   ],
   "source": [
    "df_e = grade_df(df.loc[df.grade == 'E'])\n",
    "\n",
    "grade_testing(df_e)"
   ]
  },
  {
   "cell_type": "code",
   "execution_count": 40,
   "metadata": {},
   "outputs": [
    {
     "name": "stdout",
     "output_type": "stream",
     "text": [
      "Loan passing rate: 0.5494892797702575\n",
      "Balanced loan passing rate: 0.5378635694609245\n",
      "Random Forest\n",
      "score:  0.8559773740889808\n",
      "balanced_accuracy_score:  0.8526247203235824\n",
      "[[7173 1113]\n",
      " [1535 8565]]\n",
      "F1 score:  0.8661138638891698\n",
      "precision_score:  0.8849969001859889\n",
      "average_precision_score:  0.824509309429642\n",
      "recall_score:  0.848019801980198\n",
      "roc:  0.9299357419437283\n",
      "\n",
      "1000 treee forest\n",
      "score:  0.9643206787773306\n",
      "balanced_accuracy_score:  0.9612482713201711\n",
      "[[7777  509]\n",
      " [ 147 9953]]\n",
      "F1 score:  0.9680964886684175\n",
      "precision_score:  0.9513477346587651\n",
      "average_precision_score:  0.9420286156576873\n",
      "recall_score:  0.9854455445544554\n",
      "roc:  0.9969437345569842\n"
     ]
    }
   ],
   "source": [
    "df_f = grade_df(df.loc[df.grade == 'F'])\n",
    "\n",
    "grade_testing(df_f)"
   ]
  },
  {
   "cell_type": "code",
   "execution_count": 41,
   "metadata": {},
   "outputs": [
    {
     "name": "stdout",
     "output_type": "stream",
     "text": [
      "Loan passing rate: 0.5008118765947576\n",
      "Balanced loan passing rate: 0.5047193490918228\n",
      "Random Forest\n",
      "score:  0.845380749903363\n",
      "balanced_accuracy_score:  0.8476022353012111\n",
      "[[2324  300]\n",
      " [ 500 2050]]\n",
      "F1 score:  0.8367346938775511\n",
      "precision_score:  0.8723404255319149\n",
      "average_precision_score:  0.8010814136096417\n",
      "recall_score:  0.803921568627451\n",
      "roc:  0.9285331541216258\n",
      "\n",
      "1000 treee forest\n",
      "score:  0.9644375724777735\n",
      "balanced_accuracy_score:  0.9665637535515726\n",
      "[[2495  129]\n",
      " [  55 2495]]\n",
      "F1 score:  0.9644375724777735\n",
      "precision_score:  0.9508384146341463\n",
      "average_precision_score:  0.9442605577386393\n",
      "recall_score:  0.9784313725490196\n",
      "roc:  0.9974215712876003\n"
     ]
    }
   ],
   "source": [
    "df_g = grade_df(df.loc[df.grade == 'G'])\n",
    "\n",
    "grade_testing(df_g)"
   ]
  },
  {
   "cell_type": "markdown",
   "metadata": {},
   "source": [
    "Interestingly the scores are hurt as we look at the lower grades. However the scores are still higher than the loan passing rate"
   ]
  }
 ],
 "metadata": {
  "kernelspec": {
   "display_name": "Python 3",
   "language": "python",
   "name": "python3"
  },
  "language_info": {
   "codemirror_mode": {
    "name": "ipython",
    "version": 3
   },
   "file_extension": ".py",
   "mimetype": "text/x-python",
   "name": "python",
   "nbconvert_exporter": "python",
   "pygments_lexer": "ipython3",
   "version": "3.6.5"
  }
 },
 "nbformat": 4,
 "nbformat_minor": 2
}
