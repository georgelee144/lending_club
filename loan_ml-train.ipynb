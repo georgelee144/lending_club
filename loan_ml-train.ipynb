{
 "cells": [
  {
   "cell_type": "code",
   "execution_count": 1,
   "metadata": {},
   "outputs": [],
   "source": [
    "import warnings\n",
    "warnings.filterwarnings('ignore')"
   ]
  },
  {
   "cell_type": "code",
   "execution_count": 2,
   "metadata": {},
   "outputs": [],
   "source": [
    "import pandas as pd\n",
    "import numpy as np"
   ]
  },
  {
   "cell_type": "code",
   "execution_count": 3,
   "metadata": {
    "scrolled": false
   },
   "outputs": [
    {
     "name": "stdout",
     "output_type": "stream",
     "text": [
      "<class 'pandas.core.frame.DataFrame'>\n",
      "RangeIndex: 2506738 entries, 0 to 2506737\n",
      "Data columns (total 100 columns):\n",
      "loan_amnt                              float64\n",
      "term                                   int64\n",
      "int_rate                               float64\n",
      "installment                            float64\n",
      "grade                                  object\n",
      "sub_grade                              object\n",
      "emp_length                             int64\n",
      "home_ownership                         object\n",
      "annual_inc                             float64\n",
      "verification_status                    object\n",
      "loan_status                            int64\n",
      "purpose                                object\n",
      "dti                                    float64\n",
      "delinq_2yrs                            float64\n",
      "fico_range_low                         float64\n",
      "fico_range_high                        float64\n",
      "inq_last_6mths                         float64\n",
      "mths_since_last_delinq                 float64\n",
      "mths_since_last_record                 float64\n",
      "open_acc                               float64\n",
      "pub_rec                                float64\n",
      "revol_bal                              float64\n",
      "revol_util                             float64\n",
      "total_acc                              float64\n",
      "collections_12_mths_ex_med             float64\n",
      "mths_since_last_major_derog            float64\n",
      "application_type                       object\n",
      "annual_inc_joint                       float64\n",
      "dti_joint                              float64\n",
      "verification_status_joint              object\n",
      "acc_now_delinq                         float64\n",
      "tot_coll_amt                           float64\n",
      "tot_cur_bal                            float64\n",
      "open_acc_6m                            float64\n",
      "open_act_il                            float64\n",
      "open_il_12m                            float64\n",
      "open_il_24m                            float64\n",
      "mths_since_rcnt_il                     float64\n",
      "total_bal_il                           float64\n",
      "il_util                                float64\n",
      "open_rv_12m                            float64\n",
      "open_rv_24m                            float64\n",
      "max_bal_bc                             float64\n",
      "all_util                               float64\n",
      "total_rev_hi_lim                       float64\n",
      "inq_fi                                 float64\n",
      "total_cu_tl                            float64\n",
      "inq_last_12m                           float64\n",
      "acc_open_past_24mths                   float64\n",
      "avg_cur_bal                            float64\n",
      "bc_open_to_buy                         float64\n",
      "bc_util                                float64\n",
      "chargeoff_within_12_mths               float64\n",
      "delinq_amnt                            float64\n",
      "mo_sin_old_il_acct                     float64\n",
      "mo_sin_old_rev_tl_op                   float64\n",
      "mo_sin_rcnt_rev_tl_op                  float64\n",
      "mo_sin_rcnt_tl                         float64\n",
      "mort_acc                               float64\n",
      "mths_since_recent_bc                   float64\n",
      "mths_since_recent_bc_dlq               float64\n",
      "mths_since_recent_inq                  float64\n",
      "mths_since_recent_revol_delinq         float64\n",
      "num_accts_ever_120_pd                  float64\n",
      "num_actv_bc_tl                         float64\n",
      "num_actv_rev_tl                        float64\n",
      "num_bc_sats                            float64\n",
      "num_bc_tl                              float64\n",
      "num_il_tl                              float64\n",
      "num_op_rev_tl                          float64\n",
      "num_rev_accts                          float64\n",
      "num_rev_tl_bal_gt_0                    float64\n",
      "num_sats                               float64\n",
      "num_tl_120dpd_2m                       float64\n",
      "num_tl_30dpd                           float64\n",
      "num_tl_90g_dpd_24m                     float64\n",
      "num_tl_op_past_12m                     float64\n",
      "pct_tl_nvr_dlq                         float64\n",
      "percent_bc_gt_75                       float64\n",
      "pub_rec_bankruptcies                   float64\n",
      "tax_liens                              float64\n",
      "tot_hi_cred_lim                        float64\n",
      "total_bal_ex_mort                      float64\n",
      "total_bc_limit                         float64\n",
      "total_il_high_credit_limit             float64\n",
      "revol_bal_joint                        float64\n",
      "sec_app_fico_range_low                 float64\n",
      "sec_app_fico_range_high                float64\n",
      "sec_app_inq_last_6mths                 float64\n",
      "sec_app_mort_acc                       float64\n",
      "sec_app_open_acc                       float64\n",
      "sec_app_revol_util                     float64\n",
      "sec_app_open_act_il                    float64\n",
      "sec_app_num_rev_accts                  float64\n",
      "sec_app_chargeoff_within_12_mths       float64\n",
      "sec_app_collections_12_mths_ex_med     float64\n",
      "sec_app_mths_since_last_major_derog    float64\n",
      "disbursement_method                    object\n",
      "sec_length_of_cr                       float64\n",
      "length_of_cr                           float64\n",
      "dtypes: float64(89), int64(3), object(8)\n",
      "memory usage: 1.9+ GB\n"
     ]
    }
   ],
   "source": [
    "df = pd.read_csv('lending_club_ml.csv')\n",
    "df.drop(['id'], inplace=True, axis=1)\n",
    "df.info()"
   ]
  },
  {
   "cell_type": "code",
   "execution_count": 4,
   "metadata": {},
   "outputs": [
    {
     "name": "stdout",
     "output_type": "stream",
     "text": [
      "grade\n",
      "sub_grade\n",
      "home_ownership\n",
      "verification_status\n",
      "purpose\n",
      "application_type\n",
      "verification_status_joint\n",
      "disbursement_method\n"
     ]
    }
   ],
   "source": [
    "for thing in df:\n",
    "    if df[thing].dtype == 'object':\n",
    "        print(thing)"
   ]
  },
  {
   "cell_type": "code",
   "execution_count": 5,
   "metadata": {},
   "outputs": [
    {
     "name": "stdout",
     "output_type": "stream",
     "text": [
      "<class 'pandas.core.frame.DataFrame'>\n",
      "RangeIndex: 2506738 entries, 0 to 2506737\n",
      "Columns: 148 entries, loan_amnt to verification_status_joint_Verified\n",
      "dtypes: float64(89), int64(3), object(3), uint8(53)\n",
      "memory usage: 1.9+ GB\n"
     ]
    }
   ],
   "source": [
    "# creating columns for features that had more than 2 outcomes\n",
    "# I have decided to use subgrade and not grade as these are suppose to be similar features but, subgrade is more granular\n",
    "\n",
    "df = pd.concat([df, pd.get_dummies(\n",
    "    df.sub_grade, prefix='sub_grade', drop_first=True)], axis=1)\n",
    "df = pd.concat([df, pd.get_dummies(df.home_ownership,\n",
    "                                   prefix='home_ownership', drop_first=True)], axis=1)\n",
    "df = pd.concat([df, pd.get_dummies(df.verification_status,\n",
    "                                   prefix='verification_status', drop_first=True)], axis=1)\n",
    "df = pd.concat(\n",
    "    [df, pd.get_dummies(df.purpose, prefix='purpose', drop_first=True)], axis=1)\n",
    "df = pd.concat([df, pd.get_dummies(df.verification_status_joint,\n",
    "                                   prefix='verification_status_joint', drop_first=True)], axis=1)\n",
    "\n",
    "df.drop(columns=['sub_grade', 'home_ownership', 'verification_status',\n",
    "                 'purpose', 'verification_status_joint'], inplace=True)\n",
    "\n",
    "df.info()"
   ]
  },
  {
   "cell_type": "markdown",
   "metadata": {},
   "source": [
    "For the time being I have decided to drop grade in favor sub grade"
   ]
  },
  {
   "cell_type": "code",
   "execution_count": 6,
   "metadata": {},
   "outputs": [],
   "source": [
    "# conversions for features that only had 2 outcomes\n",
    "\n",
    "df.disbursement_method = df.disbursement_method.apply(\n",
    "    lambda disburstment: 1 if disburstment == 'Cash' else 0)\n",
    "\n",
    "df.application_type = df.application_type.apply(\n",
    "    lambda app_type: 1 if app_type == 'Individual' else 0)"
   ]
  },
  {
   "cell_type": "code",
   "execution_count": 7,
   "metadata": {},
   "outputs": [],
   "source": [
    "# if borrower is an indivudal then their secondary features are filled with their single counterpart\n",
    "\n",
    "sec_list = ['sec_app_fico_range_low', 'sec_app_fico_range_high', 'sec_app_inq_last_6mths', 'sec_app_mort_acc',\n",
    "            'sec_app_open_acc', 'sec_app_revol_util', 'sec_app_open_act_il','sec_app_num_rev_accts', 'sec_app_chargeoff_within_12_mths',\n",
    "            'sec_app_collections_12_mths_ex_med', 'sec_app_mths_since_last_major_derog']\n",
    "joint_list = ['dti_joint', 'revol_bal_joint', 'annual_inc_joint']\n",
    "\n",
    "for secondary in sec_list:\n",
    "    df.loc[df.application_type == 1,secondary] = df.loc[df.application_type == 1][secondary[8:]]\n",
    "\n",
    "\n",
    "for joint in joint_list:\n",
    "    df.loc[df.application_type == 1,joint] = df.loc[df.application_type == 1][joint[:len(joint)-6]]\n"
   ]
  },
  {
   "cell_type": "code",
   "execution_count": 8,
   "metadata": {},
   "outputs": [],
   "source": [
    "#fill all nans with averages of respective feature\n",
    "\n",
    "df_global = df.copy()\n",
    "\n",
    "for thing in df_global:\n",
    "    if df_global[thing].isnull().values.any():\n",
    "        df_global[thing].fillna(np.mean(df_global[thing]), inplace=True)"
   ]
  },
  {
   "cell_type": "code",
   "execution_count": 9,
   "metadata": {},
   "outputs": [],
   "source": [
    "#fill nans with 0\n",
    "\n",
    "df_0 = df.copy()\n",
    "\n",
    "df_0.fillna(0,inplace=True)"
   ]
  },
  {
   "cell_type": "code",
   "execution_count": 10,
   "metadata": {},
   "outputs": [],
   "source": [
    "from sklearn.metrics import confusion_matrix\n",
    "from sklearn.metrics import recall_score\n",
    "from sklearn.metrics import precision_score\n",
    "from sklearn.metrics import f1_score\n",
    "from sklearn.metrics import balanced_accuracy_score\n",
    "from sklearn.metrics import average_precision_score\n",
    "from sklearn.metrics import roc_auc_score\n",
    "from sklearn.metrics import accuracy_score\n",
    "\n",
    "\n",
    "def scoring(clf, x, y):\n",
    "    \n",
    "    #Baseline\n",
    "    print('Loan passing rate:', np.mean(y))\n",
    "    print('Balanced loan passing rate:', np.average(y, weights=x['loan_amnt']))\n",
    "    print('\\n')\n",
    "    \n",
    "    \n",
    "    print('score: ', clf.score(x, y))\n",
    "    # score adjusted for loan amount\n",
    "    print('balanced_accuracy_score: ', balanced_accuracy_score(\n",
    "        y, clf.predict(x), sample_weight=x['loan_amnt']))\n",
    "\n",
    "    print(confusion_matrix(y, clf.predict(x)))\n",
    "    \n",
    "    print('F1 score: ', f1_score(y, clf.predict(x)))\n",
    "    \n",
    "    print('precision_score: ', precision_score(y, clf.predict(x)))\n",
    "\n",
    "    # score adjusted for loan amount\n",
    "    print('average_precision_score: ', average_precision_score(\n",
    "        y, clf.predict(x), average='weighted', sample_weight=x['loan_amnt']))\n",
    "    \n",
    "    print('recall_score: ', recall_score(y, clf.predict(x)))\n",
    "\n",
    "    print('roc: ', roc_auc_score(y, clf.predict_proba(x)[:, 1]))\n",
    "    \n",
    "    # score adjusted for loan amount\n",
    "    print('roc_weighted: ', roc_auc_score(y, clf.predict_proba(x)[\n",
    "          :, 1], average='weighted', sample_weight=x['loan_amnt']))"
   ]
  },
  {
   "cell_type": "code",
   "execution_count": 11,
   "metadata": {},
   "outputs": [
    {
     "name": "stdout",
     "output_type": "stream",
     "text": [
      "Loan passing rate: 0.8009672589365736\n",
      "Balanced loan passing rate: 0.7855872316459166\n",
      "\n",
      "\n",
      "score:  0.9414485214528299\n",
      "balanced_accuracy_score:  0.8602194324067285\n",
      "[[108035  41642]\n",
      " [  2390 599955]]\n",
      "F1 score:  0.9646028512583384\n",
      "precision_score:  0.9350963299391986\n",
      "average_precision_score:  0.929240714442075\n",
      "recall_score:  0.9960321742522973\n",
      "roc:  0.9644819356626336\n",
      "roc_weighted:  0.9653726069638308\n"
     ]
    },
    {
     "data": {
      "text/plain": [
       "{'class_weight': None, 'criterion': 'entropy', 'n_estimators': 101}"
      ]
     },
     "execution_count": 11,
     "metadata": {},
     "output_type": "execute_result"
    }
   ],
   "source": [
    "from sklearn.model_selection import GridSearchCV\n",
    "from sklearn.ensemble import RandomForestClassifier\n",
    "from sklearn.model_selection import train_test_split\n",
    "\n",
    "parameters = {'class_weight': ['balanced', None],\n",
    "              'criterion':['gini','entropy'],\n",
    "              'n_estimators': [31,61,101]}\n",
    "\n",
    "rf = RandomForestClassifier()\n",
    "\n",
    "rf_cv = GridSearchCV(rf, parameters, cv=2)\n",
    "\n",
    "X_train, X_test, y_train, y_test = train_test_split(\n",
    "    df_global.drop(['grade', 'loan_status'], axis=1), df_global.loan_status, test_size=0.3, random_state=42)\n",
    "\n",
    "rf_cv.fit(X_train, y_train)\n",
    "\n",
    "scoring(rf_cv, X_test, y_test)\n",
    "\n",
    "rf_cv.best_params_"
   ]
  },
  {
   "cell_type": "code",
   "execution_count": 12,
   "metadata": {},
   "outputs": [
    {
     "data": {
      "text/plain": [
       "{'mean_fit_time': array([189.24578261, 374.40472686, 629.3536638 , 207.815575  ,\n",
       "        439.85815489, 683.81564224, 213.7911365 , 405.44491613,\n",
       "        666.43385112, 222.0709846 , 430.86518526, 716.66022801]),\n",
       " 'std_fit_time': array([ 7.48860598, 11.66744506,  5.87156498,  4.99168122,  1.91236627,\n",
       "         4.73340809,  1.49103332, 11.91378272, 23.92983139,  0.47105265,\n",
       "         2.51298904, 10.27856016]),\n",
       " 'mean_score_time': array([16.27320445, 30.38423371, 50.24074173, 15.48011637, 31.42988014,\n",
       "        51.29145074, 18.26019275, 34.97027028, 53.47753847, 16.1920408 ,\n",
       "        31.55969954, 52.01865339]),\n",
       " 'std_score_time': array([0.60262287, 1.60464311, 2.36364961, 1.02505994, 0.10805035,\n",
       "        0.39251924, 0.10462439, 0.04020679, 1.66756833, 0.07317483,\n",
       "        0.05757475, 0.65471888]),\n",
       " 'param_class_weight': masked_array(data=['balanced', 'balanced', 'balanced', 'balanced',\n",
       "                    'balanced', 'balanced', None, None, None, None, None,\n",
       "                    None],\n",
       "              mask=[False, False, False, False, False, False, False, False,\n",
       "                    False, False, False, False],\n",
       "        fill_value='?',\n",
       "             dtype=object),\n",
       " 'param_criterion': masked_array(data=['gini', 'gini', 'gini', 'entropy', 'entropy',\n",
       "                    'entropy', 'gini', 'gini', 'gini', 'entropy',\n",
       "                    'entropy', 'entropy'],\n",
       "              mask=[False, False, False, False, False, False, False, False,\n",
       "                    False, False, False, False],\n",
       "        fill_value='?',\n",
       "             dtype=object),\n",
       " 'param_n_estimators': masked_array(data=[31, 61, 101, 31, 61, 101, 31, 61, 101, 31, 61, 101],\n",
       "              mask=[False, False, False, False, False, False, False, False,\n",
       "                    False, False, False, False],\n",
       "        fill_value='?',\n",
       "             dtype=object),\n",
       " 'params': [{'class_weight': 'balanced',\n",
       "   'criterion': 'gini',\n",
       "   'n_estimators': 31},\n",
       "  {'class_weight': 'balanced', 'criterion': 'gini', 'n_estimators': 61},\n",
       "  {'class_weight': 'balanced', 'criterion': 'gini', 'n_estimators': 101},\n",
       "  {'class_weight': 'balanced', 'criterion': 'entropy', 'n_estimators': 31},\n",
       "  {'class_weight': 'balanced', 'criterion': 'entropy', 'n_estimators': 61},\n",
       "  {'class_weight': 'balanced', 'criterion': 'entropy', 'n_estimators': 101},\n",
       "  {'class_weight': None, 'criterion': 'gini', 'n_estimators': 31},\n",
       "  {'class_weight': None, 'criterion': 'gini', 'n_estimators': 61},\n",
       "  {'class_weight': None, 'criterion': 'gini', 'n_estimators': 101},\n",
       "  {'class_weight': None, 'criterion': 'entropy', 'n_estimators': 31},\n",
       "  {'class_weight': None, 'criterion': 'entropy', 'n_estimators': 61},\n",
       "  {'class_weight': None, 'criterion': 'entropy', 'n_estimators': 101}],\n",
       " 'split0_test_score': array([0.87028685, 0.8717036 , 0.8722507 , 0.8711907 , 0.87243876,\n",
       "        0.87286162, 0.87074162, 0.87251627, 0.87308958, 0.8715144 ,\n",
       "        0.87260859, 0.87334717]),\n",
       " 'split1_test_score': array([0.870812  , 0.87216948, 0.87220595, 0.87119724, 0.87266643,\n",
       "        0.87308815, 0.8705829 , 0.87276103, 0.87328077, 0.87139215,\n",
       "        0.87296619, 0.87336626]),\n",
       " 'mean_test_score': array([0.87054942, 0.87193654, 0.87222833, 0.87119397, 0.8725526 ,\n",
       "        0.87297489, 0.87066226, 0.87263865, 0.87318518, 0.87145327,\n",
       "        0.87278739, 0.87335671]),\n",
       " 'std_test_score': array([2.62573031e-04, 2.32940187e-04, 2.23714512e-05, 3.27254550e-06,\n",
       "        1.13833296e-04, 1.13263884e-04, 7.93625153e-05, 1.22381786e-04,\n",
       "        9.55974473e-05, 6.11250444e-05, 1.78801342e-04, 9.54383127e-06]),\n",
       " 'rank_test_score': array([12,  8,  7, 10,  6,  3, 11,  5,  2,  9,  4,  1]),\n",
       " 'split0_train_score': array([0.99914972, 0.9999168 , 0.99999544, 0.99906537, 0.99991452,\n",
       "        0.99999658, 0.99917365, 0.99991794, 0.99999658, 0.99909843,\n",
       "        0.99992135, 0.99999772]),\n",
       " 'split1_train_score': array([0.99906538, 0.99992591, 0.99999316, 0.99912009, 0.99992022,\n",
       "        0.99998974, 0.99919873, 0.99991908, 0.99999202, 0.99913034,\n",
       "        0.99993617, 0.99999202]),\n",
       " 'mean_train_score': array([0.99910755, 0.99992135, 0.9999943 , 0.99909273, 0.99991737,\n",
       "        0.99999316, 0.99918619, 0.99991851, 0.9999943 , 0.99911439,\n",
       "        0.99992876, 0.99999487]),\n",
       " 'std_train_score': array([4.21710494e-05, 4.55923197e-06, 1.13977909e-06, 2.73558881e-05,\n",
       "        2.84955814e-06, 3.41934896e-06, 1.25385690e-05, 5.69985678e-07,\n",
       "        2.27956467e-06, 1.59580076e-05, 7.40868749e-06, 2.84945811e-06])}"
      ]
     },
     "execution_count": 12,
     "metadata": {},
     "output_type": "execute_result"
    }
   ],
   "source": [
    "rf_cv.cv_results_"
   ]
  },
  {
   "cell_type": "code",
   "execution_count": 13,
   "metadata": {},
   "outputs": [
    {
     "name": "stdout",
     "output_type": "stream",
     "text": [
      "Loan passing rate: 0.8009672589365736\n",
      "Balanced loan passing rate: 0.7855872316459166\n",
      "\n",
      "\n",
      "score:  0.9414485214528299\n",
      "balanced_accuracy_score:  0.8602194324067285\n",
      "[[108035  41642]\n",
      " [  2390 599955]]\n",
      "F1 score:  0.9646028512583384\n",
      "precision_score:  0.9350963299391986\n",
      "average_precision_score:  0.929240714442075\n",
      "recall_score:  0.9960321742522973\n",
      "roc:  0.9644819356626336\n",
      "roc_weighted:  0.9653726069638308\n"
     ]
    },
    {
     "data": {
      "text/plain": [
       "{'class_weight': None, 'criterion': 'entropy', 'n_estimators': 101}"
      ]
     },
     "execution_count": 13,
     "metadata": {},
     "output_type": "execute_result"
    }
   ],
   "source": [
    "rf_cv0 = GridSearchCV(rf, parameters, cv=2)\n",
    "\n",
    "X0_train, X0_test, y0_train, y0_test = train_test_split(\n",
    "    df_0.drop(['grade', 'loan_status'], axis=1), df_0.loan_status, test_size=0.3, random_state=42)\n",
    "\n",
    "rf_cv0.fit(X_train, y_train)\n",
    "\n",
    "scoring(rf_cv, X_test, y_test)\n",
    "\n",
    "rf_cv0.best_params_"
   ]
  },
  {
   "cell_type": "code",
   "execution_count": 14,
   "metadata": {},
   "outputs": [
    {
     "data": {
      "text/plain": [
       "{'mean_fit_time': array([175.75168943, 332.5977757 , 547.21123791, 194.0141716 ,\n",
       "        382.2543968 , 630.42463434, 186.12559986, 357.85094774,\n",
       "        590.35645819, 195.38701093, 382.94614875, 635.74373555]),\n",
       " 'std_fit_time': array([1.35364604, 0.05975699, 0.11553311, 0.62529159, 1.92539299,\n",
       "        2.68243897, 2.65633178, 1.99806511, 0.96246409, 0.56529367,\n",
       "        1.53090489, 0.25895047]),\n",
       " 'mean_score_time': array([14.28439736, 27.055457  , 43.97178316, 13.7667625 , 26.23386705,\n",
       "        42.81012058, 14.95983636, 28.60220993, 46.86334479, 13.87848985,\n",
       "        26.46876097, 43.24542487]),\n",
       " 'std_score_time': array([0.19377613, 0.02586639, 0.12389255, 0.03119087, 0.0938369 ,\n",
       "        0.01837039, 0.00763404, 0.02293432, 0.04613268, 0.03397   ,\n",
       "        0.03079176, 0.00545704]),\n",
       " 'param_class_weight': masked_array(data=['balanced', 'balanced', 'balanced', 'balanced',\n",
       "                    'balanced', 'balanced', None, None, None, None, None,\n",
       "                    None],\n",
       "              mask=[False, False, False, False, False, False, False, False,\n",
       "                    False, False, False, False],\n",
       "        fill_value='?',\n",
       "             dtype=object),\n",
       " 'param_criterion': masked_array(data=['gini', 'gini', 'gini', 'entropy', 'entropy',\n",
       "                    'entropy', 'gini', 'gini', 'gini', 'entropy',\n",
       "                    'entropy', 'entropy'],\n",
       "              mask=[False, False, False, False, False, False, False, False,\n",
       "                    False, False, False, False],\n",
       "        fill_value='?',\n",
       "             dtype=object),\n",
       " 'param_n_estimators': masked_array(data=[31, 61, 101, 31, 61, 101, 31, 61, 101, 31, 61, 101],\n",
       "              mask=[False, False, False, False, False, False, False, False,\n",
       "                    False, False, False, False],\n",
       "        fill_value='?',\n",
       "             dtype=object),\n",
       " 'params': [{'class_weight': 'balanced',\n",
       "   'criterion': 'gini',\n",
       "   'n_estimators': 31},\n",
       "  {'class_weight': 'balanced', 'criterion': 'gini', 'n_estimators': 61},\n",
       "  {'class_weight': 'balanced', 'criterion': 'gini', 'n_estimators': 101},\n",
       "  {'class_weight': 'balanced', 'criterion': 'entropy', 'n_estimators': 31},\n",
       "  {'class_weight': 'balanced', 'criterion': 'entropy', 'n_estimators': 61},\n",
       "  {'class_weight': 'balanced', 'criterion': 'entropy', 'n_estimators': 101},\n",
       "  {'class_weight': None, 'criterion': 'gini', 'n_estimators': 31},\n",
       "  {'class_weight': None, 'criterion': 'gini', 'n_estimators': 61},\n",
       "  {'class_weight': None, 'criterion': 'gini', 'n_estimators': 101},\n",
       "  {'class_weight': None, 'criterion': 'entropy', 'n_estimators': 31},\n",
       "  {'class_weight': None, 'criterion': 'entropy', 'n_estimators': 61},\n",
       "  {'class_weight': None, 'criterion': 'entropy', 'n_estimators': 101}],\n",
       " 'split0_test_score': array([0.87041565, 0.87150414, 0.87200109, 0.87090803, 0.87241027,\n",
       "        0.87269179, 0.87111889, 0.87275676, 0.87315227, 0.87123287,\n",
       "        0.87281603, 0.87330956]),\n",
       " 'split1_test_score': array([0.87098524, 0.87187086, 0.87226294, 0.87137961, 0.87247722,\n",
       "        0.87288869, 0.87079034, 0.87281916, 0.87315312, 0.87121206,\n",
       "        0.87282372, 0.87333434]),\n",
       " 'mean_test_score': array([0.87070044, 0.8716875 , 0.87213201, 0.87114382, 0.87244375,\n",
       "        0.87279024, 0.87095462, 0.87278796, 0.87315269, 0.87122247,\n",
       "        0.87281988, 0.87332195]),\n",
       " 'std_test_score': array([2.84799022e-04, 1.83359230e-04, 1.30929600e-04, 2.35788747e-04,\n",
       "        3.34782879e-05, 9.84464611e-05, 1.64276208e-04, 3.11991091e-05,\n",
       "        4.25314059e-07, 1.04048490e-05, 3.84429147e-06, 1.23932556e-05]),\n",
       " 'rank_test_score': array([12,  8,  7, 10,  6,  4, 11,  5,  2,  9,  3,  1]),\n",
       " 'split0_train_score': array([0.99906537, 0.99992363, 0.99999088, 0.99905398, 0.99991452,\n",
       "        0.99999658, 0.99918619, 0.99993161, 0.9999943 , 0.99914858,\n",
       "        0.99990768, 0.9999943 ]),\n",
       " 'split1_train_score': array([0.99915428, 0.99990996, 0.99999544, 0.99911553, 0.99992363,\n",
       "        0.99999202, 0.9991406 , 0.99991908, 0.99999316, 0.99920671,\n",
       "        0.9999168 , 0.99999658]),\n",
       " 'mean_train_score': array([0.99910983, 0.9999168 , 0.99999316, 0.99908475, 0.99991908,\n",
       "        0.9999943 , 0.9991634 , 0.99992534, 0.99999373, 0.99917764,\n",
       "        0.99991224, 0.99999544]),\n",
       " 'std_train_score': array([4.44526524e-05, 6.83861867e-06, 2.27957896e-06, 3.07752539e-05,\n",
       "        4.55923457e-06, 2.27956467e-06, 2.27947581e-05, 6.26873562e-06,\n",
       "        5.69885647e-07, 2.90654697e-05, 4.55924237e-06, 1.13979078e-06])}"
      ]
     },
     "execution_count": 14,
     "metadata": {},
     "output_type": "execute_result"
    }
   ],
   "source": [
    "rf_cv0.cv_results_"
   ]
  },
  {
   "cell_type": "code",
   "execution_count": 15,
   "metadata": {},
   "outputs": [
    {
     "name": "stdout",
     "output_type": "stream",
     "text": [
      "Loan passing rate: 0.8009672589365736\n",
      "Balanced loan passing rate: 0.7855872316459166\n",
      "\n",
      "\n",
      "score:  0.8751446101310866\n",
      "balanced_accuracy_score:  0.7363449960435129\n",
      "[[ 69029  80648]\n",
      " [ 13246 589099]]\n",
      "F1 score:  0.9261893007738434\n",
      "precision_score:  0.8795843803704981\n",
      "average_precision_score:  0.8744520975947128\n",
      "recall_score:  0.9780092803957865\n",
      "roc:  0.8820008884224068\n",
      "roc_weighted:  0.891890237698218\n",
      "Loan passing rate: 0.8009672589365736\n",
      "Balanced loan passing rate: 0.7855872316459166\n",
      "\n",
      "\n",
      "score:  0.9414378834661752\n",
      "balanced_accuracy_score:  0.8603868714360607\n",
      "[[108131  41546]\n",
      " [  2494 599851]]\n",
      "F1 score:  0.9645907270157316\n",
      "precision_score:  0.9352257650098145\n",
      "average_precision_score:  0.9293245702907738\n",
      "recall_score:  0.9958595157260374\n",
      "roc:  0.9644467537663284\n",
      "roc_weighted:  0.9653301573861001\n"
     ]
    }
   ],
   "source": [
    "scoring(rf_cv, X0_test, y0_test)\n",
    "scoring(rf_cv0, X_test, y_test)"
   ]
  },
  {
   "cell_type": "markdown",
   "metadata": {},
   "source": [
    "From the results we can see that the random forest trained on nans=0 out performed the the random forest we trained on \n",
    "filling our nans with the global average even againest each other's data set.\n",
    "\n",
    "We are going to fill our nans with 0s and train a random forest with these criteria: 'class_weight': None, 'criterion': 'entropy', 'n_estimators': a bunch more than 101."
   ]
  }
 ],
 "metadata": {
  "kernelspec": {
   "display_name": "Python 3",
   "language": "python",
   "name": "python3"
  },
  "language_info": {
   "codemirror_mode": {
    "name": "ipython",
    "version": 3
   },
   "file_extension": ".py",
   "mimetype": "text/x-python",
   "name": "python",
   "nbconvert_exporter": "python",
   "pygments_lexer": "ipython3",
   "version": "3.6.5"
  }
 },
 "nbformat": 4,
 "nbformat_minor": 2
}
