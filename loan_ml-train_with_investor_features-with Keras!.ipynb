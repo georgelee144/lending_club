{
 "cells": [
  {
   "cell_type": "markdown",
   "metadata": {},
   "source": [
    "# This notebook is an extension of loan_ml-train_with_investor_features.ipynb just with keras"
   ]
  },
  {
   "cell_type": "code",
   "execution_count": 1,
   "metadata": {},
   "outputs": [],
   "source": [
    "import pandas as pd\n",
    "import numpy as np"
   ]
  },
  {
   "cell_type": "code",
   "execution_count": 2,
   "metadata": {
    "scrolled": false
   },
   "outputs": [
    {
     "name": "stderr",
     "output_type": "stream",
     "text": [
      "C:\\Users\\leero\\Anaconda3\\envs\\tf_gpu\\lib\\site-packages\\IPython\\core\\interactiveshell.py:3049: DtypeWarning: Columns (30) have mixed types. Specify dtype option on import or set low_memory=False.\n",
      "  interactivity=interactivity, compiler=compiler, result=result)\n"
     ]
    }
   ],
   "source": [
    "df = pd.read_csv('lending_club_ml.csv')\n",
    "df.drop(['id'], inplace=True, axis=1)"
   ]
  },
  {
   "cell_type": "code",
   "execution_count": 3,
   "metadata": {},
   "outputs": [],
   "source": [
    "# investor only features\n",
    "df_lc = df[['loan_status', 'loan_amnt', 'purpose', 'sub_grade', 'int_rate', 'term',  'installment',\n",
    "            'home_ownership', 'emp_length',  'annual_inc', 'dti',\n",
    "            'fico_range_low', 'fico_range_high', 'open_acc', 'total_acc', 'revol_bal', 'revol_util', 'inq_last_6mths', 'acc_now_delinq',\n",
    "            'delinq_amnt', 'delinq_2yrs', 'mths_since_last_delinq', 'pub_rec', 'mths_since_last_record', 'mths_since_last_major_derog', 'collections_12_mths_ex_med']]"
   ]
  },
  {
   "cell_type": "code",
   "execution_count": 4,
   "metadata": {},
   "outputs": [],
   "source": [
    "# dummy variables\n",
    "# I have decided to use subgrade and not grade as these are suppose to be similar features but, subgrade is more granular\n",
    "\n",
    "df_lc = pd.concat([df_lc, pd.get_dummies(\n",
    "    df_lc.sub_grade, prefix='sub_grade', drop_first=True)], axis=1)\n",
    "df_lc = pd.concat([df_lc, pd.get_dummies(df_lc.home_ownership,\n",
    "                                         prefix='home_ownership', drop_first=True)], axis=1)\n",
    "df_lc = pd.concat([df_lc, pd.get_dummies(\n",
    "    df_lc.purpose, prefix='purpose', drop_first=True)], axis=1)\n",
    "\n",
    "df_lc.drop(columns=['sub_grade', 'home_ownership', 'purpose'], inplace=True)"
   ]
  },
  {
   "cell_type": "code",
   "execution_count": 5,
   "metadata": {},
   "outputs": [],
   "source": [
    "# fill all nans with 0\n",
    "df_lc.fillna(0, inplace=True)"
   ]
  },
  {
   "cell_type": "code",
   "execution_count": 6,
   "metadata": {},
   "outputs": [],
   "source": [
    "from sklearn.preprocessing import StandardScaler\n",
    "from sklearn.model_selection import train_test_split\n",
    "\n",
    "X = df_lc.drop(['loan_status'], axis=1)\n",
    "y = df_lc.loan_status\n",
    "\n",
    "\n",
    "scaler = StandardScaler()\n",
    "\n",
    "X_normalized = scaler.fit_transform(X)\n",
    "\n",
    "X_train, X_test, y_train, y_test = train_test_split(\n",
    "    X, y, test_size=0.3, random_state=42)\n",
    "\n",
    "Xn_train, Xn_test, yn_train, yn_test = train_test_split(\n",
    "    X_normalized, y, test_size=0.3, random_state=42)"
   ]
  },
  {
   "cell_type": "code",
   "execution_count": 7,
   "metadata": {},
   "outputs": [],
   "source": [
    "from sklearn.metrics import confusion_matrix\n",
    "from sklearn.metrics import classification_report\n",
    "from sklearn.metrics import precision_score\n",
    "\n",
    "def score(x,y,model):\n",
    "    print(np.mean(y))\n",
    "    print(confusion_matrix(y, model.predict_classes(x)))\n",
    "    print(classification_report(y, model.predict_classes(x)))\n",
    "\n",
    "#def precision(y_true, y_pred):\n",
    "#    return tf.keras.backend.precision(y_true, y_pred)\n"
   ]
  },
  {
   "cell_type": "code",
   "execution_count": 8,
   "metadata": {},
   "outputs": [
    {
     "name": "stdout",
     "output_type": "stream",
     "text": [
      "WARNING:tensorflow:From C:\\Users\\leero\\Anaconda3\\envs\\tf_gpu\\lib\\site-packages\\tensorflow\\python\\ops\\resource_variable_ops.py:435: colocate_with (from tensorflow.python.framework.ops) is deprecated and will be removed in a future version.\n",
      "Instructions for updating:\n",
      "Colocations handled automatically by placer.\n"
     ]
    }
   ],
   "source": [
    "import tensorflow as tf\n",
    "from tensorflow import keras\n",
    "\n",
    "x_len = len(X.columns)\n",
    "\n",
    "some_activation = tf.keras.layers.LeakyReLU(alpha=0.3)\n",
    "\n",
    "model = tf.keras.Sequential()\n",
    "\n",
    "model.add(tf.keras.layers.Dense(x_len, activation=some_activation, input_shape=(x_len,)))\n",
    "model.add(tf.keras.layers.Dense(1000, activation=some_activation))\n",
    "model.add(tf.keras.layers.Dense(2000, activation=some_activation))\n",
    "model.add(tf.keras.layers.Dense(2000, activation=some_activation))\n",
    "model.add(tf.keras.layers.Dense(2500, activation=some_activation))\n",
    "model.add(tf.keras.layers.Dense(2, activation='sigmoid'))\n",
    "\n",
    "model.compile(optimizer='sgd', loss='sparse_categorical_crossentropy',metrics=['accuracy','categorical_accuracy'])"
   ]
  },
  {
   "cell_type": "code",
   "execution_count": 9,
   "metadata": {
    "scrolled": false
   },
   "outputs": [
    {
     "name": "stdout",
     "output_type": "stream",
     "text": [
      "Train on 1316037 samples, validate on 438679 samples\n",
      "Epoch 1/5\n",
      "1316037/1316037 [==============================] - 268s 204us/sample - loss: 0.4545 - acc: 0.8026 - categorical_accuracy: 0.0133 - val_loss: 0.4525 - val_acc: 0.8040 - val_categorical_accuracy: 0.0346\n",
      "Epoch 2/5\n",
      "1316037/1316037 [==============================] - 265s 202us/sample - loss: 0.4514 - acc: 0.8036 - categorical_accuracy: 0.0222 - val_loss: 0.4503 - val_acc: 0.8047 - val_categorical_accuracy: 0.0253\n",
      "Epoch 3/5\n",
      "1316037/1316037 [==============================] - 268s 203us/sample - loss: 0.4504 - acc: 0.8042 - categorical_accuracy: 0.0251 - val_loss: 0.4500 - val_acc: 0.8050 - val_categorical_accuracy: 0.0288\n",
      "Epoch 4/5\n",
      "1316037/1316037 [==============================] - 267s 203us/sample - loss: 0.4496 - acc: 0.8045 - categorical_accuracy: 0.0262 - val_loss: 0.4491 - val_acc: 0.8049 - val_categorical_accuracy: 0.0248\n",
      "Epoch 5/5\n",
      "1316037/1316037 [==============================] - 266s 202us/sample - loss: 0.4488 - acc: 0.8047 - categorical_accuracy: 0.0273 - val_loss: 0.4489 - val_acc: 0.8052 - val_categorical_accuracy: 0.0207\n",
      "0.8015205879469954\n"
     ]
    }
   ],
   "source": [
    "model.fit(Xn_train, yn_train, validation_split=0.25, epochs=5)\n",
    "print(np.mean(yn_train))"
   ]
  },
  {
   "cell_type": "code",
   "execution_count": 10,
   "metadata": {
    "scrolled": true
   },
   "outputs": [
    {
     "name": "stdout",
     "output_type": "stream",
     "text": [
      "0.8009672589365736\n",
      "[[  8971 140706]\n",
      " [  6820 595525]]\n",
      "              precision    recall  f1-score   support\n",
      "\n",
      "           0       0.57      0.06      0.11    149677\n",
      "           1       0.81      0.99      0.89    602345\n",
      "\n",
      "    accuracy                           0.80    752022\n",
      "   macro avg       0.69      0.52      0.50    752022\n",
      "weighted avg       0.76      0.80      0.73    752022\n",
      "\n"
     ]
    }
   ],
   "source": [
    "score(Xn_test,yn_test,model)"
   ]
  },
  {
   "cell_type": "code",
   "execution_count": 11,
   "metadata": {
    "scrolled": false
   },
   "outputs": [
    {
     "name": "stdout",
     "output_type": "stream",
     "text": [
      "752022/752022 [==============================] - 49s 65us/sample - loss: 0.4507 - acc: 0.8038 - categorical_accuracy: 0.0210\n"
     ]
    },
    {
     "data": {
      "text/plain": [
       "[0.4506883563272606, 0.8038275, 0.020998055]"
      ]
     },
     "execution_count": 11,
     "metadata": {},
     "output_type": "execute_result"
    }
   ],
   "source": [
    "model.evaluate(Xn_test, yn_test)"
   ]
  }
 ],
 "metadata": {
  "kernelspec": {
   "display_name": "Python 3",
   "language": "python",
   "name": "python3"
  },
  "language_info": {
   "codemirror_mode": {
    "name": "ipython",
    "version": 3
   },
   "file_extension": ".py",
   "mimetype": "text/x-python",
   "name": "python",
   "nbconvert_exporter": "python",
   "pygments_lexer": "ipython3",
   "version": "3.6.8"
  }
 },
 "nbformat": 4,
 "nbformat_minor": 2
}
