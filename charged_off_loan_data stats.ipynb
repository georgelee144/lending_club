{
 "cells": [
  {
   "cell_type": "code",
   "execution_count": 1,
   "metadata": {},
   "outputs": [],
   "source": [
    "import pandas as pd\n",
    "import numpy as np\n",
    "from scipy import stats\n",
    "import matplotlib.pyplot as plt"
   ]
  },
  {
   "cell_type": "code",
   "execution_count": 2,
   "metadata": {},
   "outputs": [],
   "source": [
    "def percentage(df, df1, item):\n",
    "    \"\"\"Prints out number of samples and percent of total\"\"\"\n",
    "    \"\"\"df is the base and df1 is specific df we are interested in and item is the column we are trying to look at\"\"\"\n",
    "\n",
    "    all_loans = df[item].value_counts().sort_index()\n",
    "    bad_loans = pd.DataFrame(\n",
    "        df1[item].value_counts().sort_index() / all_loans * 100)\n",
    "    n_percent = pd.concat([all_loans, bad_loans], axis=1)\n",
    "    n_percent.columns = ['n_samples', 'percent']\n",
    "    n_percent.fillna(0, inplace=True)\n",
    "    print(n_percent)\n",
    "\n",
    "\n",
    "def ecdf(data):\n",
    "    \"\"\"Compute ECDF for a one-dimensional array of measurements.\"\"\"\n",
    "    # Number of data points: n\n",
    "    n = len(data)\n",
    "\n",
    "    # x-data for the ECDF: x\n",
    "    x = np.sort(data)\n",
    "\n",
    "    # y-data for the ECDF: y\n",
    "    y = np.arange(1, n+1) / n\n",
    "\n",
    "    return x, y"
   ]
  },
  {
   "cell_type": "code",
   "execution_count": 3,
   "metadata": {},
   "outputs": [],
   "source": [
    "def numeric_graph(feature):\n",
    "    \n",
    "    \"\"\"Makes a graph of a numeric column by turn the data into a ECDF\"\"\"\n",
    "    \n",
    "    feature_interest = df[[feature,'loan_status']].dropna()\n",
    "    \n",
    "    #good loans\n",
    "#    good_x,good_y = ecdf(feature_interest.loc[feature_interest.loan_status == 1][feature])\n",
    "#    plt.plot(good_x,good_y,marker='.',linestyle='none',color='green',label='Fully Paid')\n",
    "    \n",
    "    #population\n",
    "#    pop_x,pop_y = ecdf(feature_interest[feature])\n",
    "#    plt.plot(pop_x,pop_y,marker='.',linestyle='none',color='black',label='All loans')\n",
    "    \n",
    "    #bad loans\n",
    "    bad_x,bad_y = ecdf(feature_interest.loc[feature_interest.loan_status == 0][feature])\n",
    "    plt.plot(bad_x,bad_y,marker='.',linestyle='none',color='red',label='Charged Off')\n",
    "    \n",
    "    \n",
    "    plt.title(feature.upper())\n",
    "    plt.axis([np.percentile(bad_x,2.5), np.percentile(bad_x,97.5), 0, 1])\n",
    "    plt.xlabel('Amounts')\n",
    "    plt.ylabel('% cumulative')\n",
    "    plt.legend(loc='best')\n",
    "    \n",
    "    plt.show()\n",
    "    \n",
    "    df_description = pd.concat([#feature_interest[feature].describe(),\n",
    "                                #feature_interest.loc[feature_interest.loan_status == 1][feature].describe(),                                \n",
    "                                feature_interest.loc[feature_interest.loan_status == 0][feature].describe()],\n",
    "                               axis=1)\n",
    "#    df_description.columns = ['All loans', 'Fully Paid','Charged Off']\n",
    "    df_description.columns = ['Charged Off']\n",
    "    print(df_description)"
   ]
  },
  {
   "cell_type": "code",
   "execution_count": 4,
   "metadata": {
    "scrolled": true
   },
   "outputs": [
    {
     "name": "stderr",
     "output_type": "stream",
     "text": [
      "C:\\Users\\leero\\Anaconda3\\lib\\site-packages\\IPython\\core\\interactiveshell.py:2785: DtypeWarning: Columns (19,59,118,129,130,131,134,135,136,139,145,146,147) have mixed types. Specify dtype option on import or set low_memory=False.\n",
      "  interactivity=interactivity, compiler=compiler, result=result)\n"
     ]
    },
    {
     "name": "stdout",
     "output_type": "stream",
     "text": [
      "<class 'pandas.core.frame.DataFrame'>\n",
      "RangeIndex: 2507640 entries, 0 to 2507639\n",
      "Columns: 151 entries, id to settlement_term\n",
      "dtypes: float64(112), int64(1), object(38)\n",
      "memory usage: 2.8+ GB\n"
     ]
    }
   ],
   "source": [
    "df = pd.read_csv('loan_data_core.csv')\n",
    "df.info()"
   ]
  },
  {
   "cell_type": "code",
   "execution_count": 5,
   "metadata": {},
   "outputs": [
    {
     "name": "stdout",
     "output_type": "stream",
     "text": [
      "<class 'pandas.core.frame.DataFrame'>\n",
      "RangeIndex: 2507640 entries, 0 to 2507639\n",
      "Columns: 153 entries, id to length_of_cr\n",
      "dtypes: datetime64[ns](3), float64(116), int64(3), object(31)\n",
      "memory usage: 2.9+ GB\n"
     ]
    }
   ],
   "source": [
    "# conversions\n",
    "df.issue_d = pd.to_datetime(df.issue_d, format='%b-%y')\n",
    "df.earliest_cr_line = pd.to_datetime(df.earliest_cr_line, format='%b-%y')\n",
    "df.sec_app_earliest_cr_line = pd.to_datetime(\n",
    "    df.sec_app_earliest_cr_line, format='%b-%y')\n",
    "df['sec_length_of_cr'] = df.issue_d - df.sec_app_earliest_cr_line\n",
    "df.sec_length_of_cr.fillna(0, inplace=True)\n",
    "df.sec_length_of_cr = df.sec_length_of_cr.dt.days.astype(int)/365\n",
    "df['length_of_cr'] = df.issue_d - df.earliest_cr_line\n",
    "df.length_of_cr = df.length_of_cr.dt.days.astype(int)/365\n",
    "\n",
    "df.int_rate = df.int_rate.apply(\n",
    "    lambda interest: interest[0:len(interest)-1]).astype('float64')\n",
    "\n",
    "df.revol_util.fillna('0%', inplace=True)\n",
    "df.revol_util = df.revol_util.astype('str')\n",
    "df.revol_util = df.revol_util.apply(\n",
    "    lambda usage: usage[0:len(usage)-1]).astype('float64')\n",
    "\n",
    "# good loans = 1\n",
    "df.loan_status = df.loan_status.apply(\n",
    "    lambda loan_status: 1 if loan_status != 'Charged Off' else 0)\n",
    "df.term = df.term.apply(lambda months: int(months[1:3]))\n",
    "\n",
    "df.info()"
   ]
  },
  {
   "cell_type": "code",
   "execution_count": 6,
   "metadata": {},
   "outputs": [],
   "source": [
    "import re\n",
    "\n",
    "df.emp_length.fillna('0 years', inplace=True)\n",
    "\n",
    "df.emp_length = df.emp_length.apply(\n",
    "    lambda len_emp: re.findall(r'\\d+', len_emp)[0])\n",
    "\n",
    "# filled nans as 0,interestingly enough unemployed people had a failure rate of 0"
   ]
  },
  {
   "cell_type": "code",
   "execution_count": 7,
   "metadata": {},
   "outputs": [],
   "source": [
    "# random things of interest\n",
    "\n",
    "df['collected'] = df.total_rec_int + df.total_rec_prncp\n",
    "df['total_debt'] = df.term * df.installment\n",
    "df['outstanding'] = df.total_debt - df.collected\n",
    "df['outstanding_percent'] = df.outstanding / df.total_debt\n",
    "df['princple_recovered'] = df.loan_amnt - df.collected\n",
    "df['princple_recovered_percent'] = df.princple_recovered/df.loan_amnt"
   ]
  },
  {
   "cell_type": "code",
   "execution_count": 8,
   "metadata": {},
   "outputs": [
    {
     "name": "stdout",
     "output_type": "stream",
     "text": [
      "0.19864095324687756\n",
      "498120 2009520\n",
      "Passing rates\n",
      "By rows:  0.8013590467531224\n",
      "By loan amount:  0.7862432609493137\n",
      "By interest rate:  12.642111748079147\n"
     ]
    }
   ],
   "source": [
    "df_bad = df.loc[df.loan_status == 0]\n",
    "df_pass = df.loc[df.loan_status == 1]\n",
    "\n",
    "# the fail rate\n",
    "print(len(df_bad)/len(df))\n",
    "print(len(df_bad), len(df_pass))\n",
    "\n",
    "print('Passing rates')\n",
    "print('By rows: ', len(df_pass)/len(df))\n",
    "print('By loan amount: ', np.average(df.loan_status, weights=df.loan_amnt))\n",
    "print('By interest rate: ', np.average(df.int_rate, weights=df.loan_status))"
   ]
  },
  {
   "cell_type": "code",
   "execution_count": 9,
   "metadata": {},
   "outputs": [
    {
     "data": {
      "image/png": "[encoded data removed]",
      "text/plain": [
       "<Figure size 432x288 with 1 Axes>"
      ]
     },
     "metadata": {},
     "output_type": "display_data"
    },
    {
     "name": "stdout",
     "output_type": "stream",
     "text": [
      "         Charged Off\n",
      "count  498120.000000\n",
      "mean        0.643983\n",
      "std         0.221063\n",
      "min        -1.410680\n",
      "25%         0.500216\n",
      "50%         0.682516\n",
      "75%         0.817521\n",
      "max         1.000000\n"
     ]
    }
   ],
   "source": [
    "numeric_graph('outstanding_percent')"
   ]
  },
  {
   "cell_type": "code",
   "execution_count": 10,
   "metadata": {
    "scrolled": false
   },
   "outputs": [
    {
     "data": {
      "image/png": "[encoded data removed]",
      "text/plain": [
       "<Figure size 432x288 with 1 Axes>"
      ]
     },
     "metadata": {},
     "output_type": "display_data"
    },
    {
     "name": "stdout",
     "output_type": "stream",
     "text": [
      "         Charged Off\n",
      "count  498120.000000\n",
      "mean     8390.125583\n",
      "std      7100.089863\n",
      "min    -24683.800000\n",
      "25%      3179.382500\n",
      "50%      6866.645000\n",
      "75%     12084.865000\n",
      "max     40000.000000\n"
     ]
    }
   ],
   "source": [
    "numeric_graph('princple_recovered')"
   ]
  },
  {
   "cell_type": "code",
   "execution_count": 11,
   "metadata": {},
   "outputs": [
    {
     "data": {
      "image/png": "[encoded data removed]",
      "text/plain": [
       "<Figure size 432x288 with 1 Axes>"
      ]
     },
     "metadata": {},
     "output_type": "display_data"
    },
    {
     "name": "stdout",
     "output_type": "stream",
     "text": [
      "         Charged Off\n",
      "count  498120.000000\n",
      "mean        0.530862\n",
      "std         0.282095\n",
      "min        -0.721846\n",
      "25%         0.344073\n",
      "50%         0.572631\n",
      "75%         0.753026\n",
      "max         1.000000\n"
     ]
    }
   ],
   "source": [
    "numeric_graph('princple_recovered_percent')"
   ]
  }
 ],
 "metadata": {
  "kernelspec": {
   "display_name": "Python 3",
   "language": "python",
   "name": "python3"
  },
  "language_info": {
   "codemirror_mode": {
    "name": "ipython",
    "version": 3
   },
   "file_extension": ".py",
   "mimetype": "text/x-python",
   "name": "python",
   "nbconvert_exporter": "python",
   "pygments_lexer": "ipython3",
   "version": "3.6.5"
  }
 },
 "nbformat": 4,
 "nbformat_minor": 2
}
